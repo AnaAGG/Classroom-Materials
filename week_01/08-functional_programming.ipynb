{
 "cells": [
  {
   "cell_type": "markdown",
   "metadata": {},
   "source": [
    "# Functional Programming"
   ]
  },
  {
   "cell_type": "markdown",
   "metadata": {},
   "source": [
    "### Hardware\n",
    "CPU (Central Processing Unit)\n",
    "Machine Code\n",
    "# `LOW LEVEL`\n",
    "\n",
    "### Software\n",
    "Python\n",
    "# `High Level`"
   ]
  },
  {
   "cell_type": "code",
   "execution_count": 2,
   "metadata": {},
   "outputs": [
    {
     "name": "stdout",
     "output_type": "stream",
     "text": [
      "Hello World!\n"
     ]
    }
   ],
   "source": [
    "print(\"Hello World!\")"
   ]
  },
  {
   "cell_type": "markdown",
   "metadata": {},
   "source": [
    "## Functional Programming thinking\n",
    "- Abstraction (High-Level): A function is a black box and we should be able to use it and gather the results without knowledge of it's inner workings.\n",
    "- Modularization: Functions have a single specific objective and are united as LEGO pieces.\n",
    "- Reusability: Functions (modules) may be reused"
   ]
  },
  {
   "cell_type": "markdown",
   "metadata": {},
   "source": [
    "### Rock, Paper, Scissors.\n",
    "\n",
    "- Choose number of round\n",
    "\n",
    "#### A round\n",
    "    - User selects a move\n",
    "        - Check if it is a valid choice\n",
    "    - Select computer move\n",
    "    - Compare to find winner\n",
    "    - Show result\n",
    "\n",
    "    - Add result to counter\n",
    "    \n",
    "#### Rinse and repeat until rounds are over\n",
    "\n",
    "- Show winner"
   ]
  },
  {
   "cell_type": "code",
   "execution_count": 96,
   "metadata": {},
   "outputs": [],
   "source": [
    "from random import choice"
   ]
  },
  {
   "cell_type": "code",
   "execution_count": 6,
   "metadata": {},
   "outputs": [],
   "source": [
    "def prompt_user():\n",
    "    choice = False\n",
    "    while not choice:\n",
    "        move = input(\"Rock, Paper or Scissor: Choose your weapon: \")\n",
    "        if move in [\"rock\", \"paper\", \"scissor\"]:\n",
    "            choice = True\n",
    "        else:\n",
    "            print(\"Invalid choice. Try with either rock, paper or scissor.\")\n",
    "    return move"
   ]
  },
  {
   "cell_type": "code",
   "execution_count": 20,
   "metadata": {},
   "outputs": [],
   "source": [
    "def prompt_user():\n",
    "    move = None\n",
    "    while move not in [\"rock\", \"paper\", \"scissor\"]:\n",
    "        move = input(\"Rock, Paper or Scissor: Choose your weapon: \")\n",
    "    return move"
   ]
  },
  {
   "cell_type": "markdown",
   "metadata": {},
   "source": [
    "# Recursivity\n",
    "- When a function calls itself"
   ]
  },
  {
   "cell_type": "code",
   "execution_count": 49,
   "metadata": {},
   "outputs": [],
   "source": [
    "def prompt_user(message, valid_options=None):\n",
    "    choice = input(message)\n",
    "    if valid_options:\n",
    "        if valid_input(choice, valid_options):\n",
    "            return choice\n",
    "        else:\n",
    "            print(\"Not a valid input. Try again.\")\n",
    "            return prompt_user(message, valid_options)\n",
    "    else:\n",
    "        return choice\n",
    "    \n",
    "def valid_input(choice, valid_options):\n",
    "    if choice in valid_options:\n",
    "        return True\n",
    "    else:\n",
    "        return False"
   ]
  },
  {
   "cell_type": "code",
   "execution_count": 35,
   "metadata": {
    "scrolled": true
   },
   "outputs": [
    {
     "name": "stdout",
     "output_type": "stream",
     "text": [
      "Rock, Paper or Scissor: Choose your weapon: ddfafs\n",
      "choice: ddfafs\n",
      "valid: ['rock', 'paper', 'scissor']\n",
      "Not a valid input. Try again.\n",
      "Rock, Paper or Scissor: Choose your weapon: adfadsf\n",
      "choice: adfadsf\n",
      "valid: ['rock', 'paper', 'scissor']\n",
      "Not a valid input. Try again.\n",
      "Rock, Paper or Scissor: Choose your weapon: adfadf\n",
      "choice: adfadf\n",
      "valid: ['rock', 'paper', 'scissor']\n",
      "Not a valid input. Try again.\n",
      "Rock, Paper or Scissor: Choose your weapon: rock\n",
      "choice: rock\n",
      "valid: ['rock', 'paper', 'scissor']\n"
     ]
    },
    {
     "data": {
      "text/plain": [
       "'rock'"
      ]
     },
     "execution_count": 35,
     "metadata": {},
     "output_type": "execute_result"
    }
   ],
   "source": [
    "prompt_user(\"Rock, Paper or Scissor: Choose your weapon: \", [\"rock\", \"paper\", \"scissor\"])"
   ]
  },
  {
   "cell_type": "code",
   "execution_count": 24,
   "metadata": {},
   "outputs": [
    {
     "name": "stdout",
     "output_type": "stream",
     "text": [
      "Tell me your name: dafadsfasd\n"
     ]
    },
    {
     "data": {
      "text/plain": [
       "'dafadsfasd'"
      ]
     },
     "execution_count": 24,
     "metadata": {},
     "output_type": "execute_result"
    }
   ],
   "source": [
    "prompt_user(\"Tell me your name: \")"
   ]
  },
  {
   "cell_type": "code",
   "execution_count": null,
   "metadata": {},
   "outputs": [],
   "source": [
    "prompt_user(\"Chose your move: \", [\"rock\", \"paper\",\"scissor\", \"lizard\", \"spock\"])"
   ]
  },
  {
   "cell_type": "code",
   "execution_count": 50,
   "metadata": {},
   "outputs": [
    {
     "name": "stdout",
     "output_type": "stream",
     "text": [
      "Choose a number between 0 and 5: dfas\n",
      "Not a valid input. Try again.\n",
      "Choose a number between 0 and 5: adsfadf\n",
      "Not a valid input. Try again.\n",
      "Choose a number between 0 and 5: \n",
      "Not a valid input. Try again.\n",
      "Choose a number between 0 and 5: asdfqdasfa\n",
      "Not a valid input. Try again.\n",
      "Choose a number between 0 and 5: 4\n"
     ]
    },
    {
     "data": {
      "text/plain": [
       "'4'"
      ]
     },
     "execution_count": 50,
     "metadata": {},
     "output_type": "execute_result"
    }
   ],
   "source": [
    "prompt_user(\"Choose a number between 0 and 5: \", list(map(str,range(6))))"
   ]
  },
  {
   "cell_type": "markdown",
   "metadata": {},
   "source": [
    "##### Different verifications\n",
    "### Version 2.0 even better\n",
    "### Version Two Electric Buggaloo"
   ]
  },
  {
   "cell_type": "markdown",
   "metadata": {},
   "source": [
    "### Callback Pattern\n",
    "- When a function is passed as argument to a different function"
   ]
  },
  {
   "cell_type": "code",
   "execution_count": 94,
   "metadata": {},
   "outputs": [],
   "source": [
    "def prompt_user(message, verification_function=None, output_type=str, **kwargs):\n",
    "    choice = input(message)\n",
    "    if verification_function:\n",
    "        if verification_function(choice, **kwargs):\n",
    "            return output_type(choice)\n",
    "        else:\n",
    "            print(\"Not a valid input. Try again.\")\n",
    "            return prompt_user(message, verification_function, output_type, **kwargs)\n",
    "    else:\n",
    "        return output_type(choice)\n",
    "    \n",
    "def valid_input(choice, valid_options):\n",
    "    if choice in valid_options:\n",
    "        return True\n",
    "    else:\n",
    "        return False\n",
    "    \n",
    "def is_positive(x):\n",
    "    return int(x) >= 0"
   ]
  },
  {
   "cell_type": "code",
   "execution_count": 86,
   "metadata": {},
   "outputs": [],
   "source": [
    "def rps_verifier(choice):\n",
    "    return valid_input(choice.lower(),[\"rock\", \"paper\", \"scissor\"])"
   ]
  },
  {
   "cell_type": "code",
   "execution_count": 91,
   "metadata": {},
   "outputs": [
    {
     "name": "stdout",
     "output_type": "stream",
     "text": [
      "Give me a positive number: -6\n",
      "Not a valid input. Try again.\n",
      "Give me a positive number: 5\n"
     ]
    },
    {
     "data": {
      "text/plain": [
       "5"
      ]
     },
     "execution_count": 91,
     "metadata": {},
     "output_type": "execute_result"
    }
   ],
   "source": [
    "prompt_user(\"Give me a positive number: \", is_positive, int)"
   ]
  },
  {
   "cell_type": "code",
   "execution_count": 97,
   "metadata": {},
   "outputs": [
    {
     "name": "stdout",
     "output_type": "stream",
     "text": [
      "Rock, Paper or Scissor: Choose your weapon: rock\n"
     ]
    },
    {
     "data": {
      "text/plain": [
       "'rock'"
      ]
     },
     "execution_count": 97,
     "metadata": {},
     "output_type": "execute_result"
    }
   ],
   "source": [
    "prompt_user(\"Rock, Paper or Scissor: Choose your weapon: \", valid_input, valid_options=[\"rock\", \"paper\", \"scissor\"])"
   ]
  },
  {
   "cell_type": "code",
   "execution_count": 98,
   "metadata": {},
   "outputs": [],
   "source": [
    "def comp_choice(options):\n",
    "    return choice(options)"
   ]
  },
  {
   "cell_type": "code",
   "execution_count": 131,
   "metadata": {},
   "outputs": [
    {
     "data": {
      "text/plain": [
       "'rock'"
      ]
     },
     "execution_count": 131,
     "metadata": {},
     "output_type": "execute_result"
    }
   ],
   "source": [
    "comp_choice([\"rock\", \"paper\", \"scissor\"])"
   ]
  },
  {
   "cell_type": "code",
   "execution_count": 142,
   "metadata": {},
   "outputs": [],
   "source": [
    "rps_winner = [\n",
    "    (\"paper\",\"rock\"),\n",
    "    (\"rock\",\"scissor\"),\n",
    "    (\"scissor\",\"paper\")\n",
    "]\n",
    "def compare(user,comp, winner):\n",
    "    if (user,comp) in winner:\n",
    "        return \"user\"\n",
    "    elif (comp,user) in winner:\n",
    "        return \"comp\"\n",
    "    else:\n",
    "        return \"draw\""
   ]
  },
  {
   "cell_type": "code",
   "execution_count": 145,
   "metadata": {},
   "outputs": [
    {
     "data": {
      "text/plain": [
       "'user'"
      ]
     },
     "execution_count": 145,
     "metadata": {},
     "output_type": "execute_result"
    }
   ],
   "source": [
    "u = \"scissor\"\n",
    "c = \"paper\"\n",
    "compare(u,c,rps_winner)"
   ]
  },
  {
   "cell_type": "code",
   "execution_count": 149,
   "metadata": {},
   "outputs": [],
   "source": [
    "def game_round():\n",
    "    options = [\"rock\", \"paper\", \"scissor\"]\n",
    "    user = prompt_user(\"Rock, Paper or Scissor: Choose your weapon: \", valid_input, valid_options=options)\n",
    "    comp = comp_choice(options)\n",
    "    return user, comp"
   ]
  },
  {
   "cell_type": "code",
   "execution_count": 170,
   "metadata": {},
   "outputs": [],
   "source": [
    "def show_round(user,comp):\n",
    "    print(\"-\"*40)\n",
    "    print(f\"User played: {user}\")\n",
    "    print(f\"Computer played: {comp}\")\n",
    "    winner = compare(user,comp, rps_winner)\n",
    "    print(\"~\"*40)    \n",
    "    print(f\"Round winner is {winner.upper()}\")\n",
    "    print(\"-\"*40)\n",
    "    return winner"
   ]
  },
  {
   "cell_type": "code",
   "execution_count": 171,
   "metadata": {},
   "outputs": [],
   "source": [
    "def is_odd(n):\n",
    "    return int(n)%2"
   ]
  },
  {
   "cell_type": "code",
   "execution_count": 172,
   "metadata": {},
   "outputs": [],
   "source": [
    "def game():\n",
    "    num_rounds = prompt_user(\"How many rounds? \", is_odd, int)\n",
    "    winning = num_rounds//2 +1\n",
    "    user_wins, comp_wins = 0,0\n",
    "    while user_wins < winning and comp_wins < winning:\n",
    "        winner = show_round(*game_round())\n",
    "        if winner == \"user\":\n",
    "            user_wins +=1\n",
    "        elif winner == \"comp\":\n",
    "            comp_wins +=1\n",
    "    if user_wins > comp_wins:\n",
    "        print(\"You won!\")\n",
    "    else:\n",
    "        print(\"Sorry! Too bad...\")"
   ]
  },
  {
   "cell_type": "code",
   "execution_count": 173,
   "metadata": {},
   "outputs": [
    {
     "name": "stdout",
     "output_type": "stream",
     "text": [
      "How many rounds? 3\n",
      "Rock, Paper or Scissor: Choose your weapon: rock\n",
      "----------------------------------------\n",
      "User played: rock\n",
      "Computer played: scissor\n",
      "~~~~~~~~~~~~~~~~~~~~~~~~~~~~~~~~~~~~~~~~\n",
      "Round winner is USER\n",
      "----------------------------------------\n",
      "Rock, Paper or Scissor: Choose your weapon: rock\n",
      "----------------------------------------\n",
      "User played: rock\n",
      "Computer played: paper\n",
      "~~~~~~~~~~~~~~~~~~~~~~~~~~~~~~~~~~~~~~~~\n",
      "Round winner is COMP\n",
      "----------------------------------------\n",
      "Rock, Paper or Scissor: Choose your weapon: rock\n",
      "----------------------------------------\n",
      "User played: rock\n",
      "Computer played: scissor\n",
      "~~~~~~~~~~~~~~~~~~~~~~~~~~~~~~~~~~~~~~~~\n",
      "Round winner is USER\n",
      "----------------------------------------\n",
      "You won!\n"
     ]
    }
   ],
   "source": [
    "game()"
   ]
  },
  {
   "cell_type": "code",
   "execution_count": null,
   "metadata": {},
   "outputs": [],
   "source": []
  }
 ],
 "metadata": {
  "kernelspec": {
   "display_name": "Python 3",
   "language": "python",
   "name": "python3"
  }
 },
 "nbformat": 4,
 "nbformat_minor": 4
}
