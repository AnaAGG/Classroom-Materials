{
 "cells": [
  {
   "cell_type": "markdown",
   "metadata": {},
   "source": [
    "# OOP\n",
    "Object Oriented Programming"
   ]
  },
  {
   "cell_type": "markdown",
   "metadata": {},
   "source": [
    "## Table of Contents\n",
    "- What is OOP?\n",
    "- Difference of Functional and Object-Oriented\n",
    "- Concept of Object\n",
    "- Concept of Class\n",
    "-\n",
    "-\n",
    "-\n",
    "-"
   ]
  },
  {
   "cell_type": "markdown",
   "metadata": {},
   "source": [
    "![FPvsOOP](https://www.globalnerdy.com/wp-content/uploads/2019/12/oop-vs-fp.jpg)"
   ]
  },
  {
   "cell_type": "markdown",
   "metadata": {},
   "source": [
    "_\"Algorithms + Data Structures = Programs\"_\n",
    "                \n",
    "             - Niklaus Wirth (creator of Pascal)"
   ]
  },
  {
   "cell_type": "markdown",
   "metadata": {},
   "source": [
    "### Different visions\n",
    "Object Oriented Programming, such as Procedural or Functional Programming is a diferent method of looking at the construction of a program. Both are able to achieve the same, both tools of the same box. But depending on the situation each will have pros and a cons.\n",
    "\n",
    "```There is no dark or light side of the force for us. \n",
    "We will dominate both and use each whenever we feel like it or it seems more apropriate.``` 😜"
   ]
  },
  {
   "cell_type": "markdown",
   "metadata": {},
   "source": [
    "### What changes?\n",
    "\n",
    "#### On FP, we have a separation between Data and Behavior\n",
    "\n",
    "Based on the definition by Mr. Klaus Wirth, programs have those two parts, data and behaviors, the actions executed with or on that data.\n",
    "\n",
    "In functional (as well as Procedural), data and behaviours are separate.\n",
    "That makes it that data is inmutable (wait a sec...). That is, when we execute a function over some data, it will remain the same, UNLESS we overwrite it (ok...)."
   ]
  },
  {
   "cell_type": "code",
   "execution_count": 575,
   "metadata": {},
   "outputs": [
    {
     "name": "stdout",
     "output_type": "stream",
     "text": [
      "14\n"
     ]
    }
   ],
   "source": [
    "data = 7\n",
    "def behavior(x):\n",
    "    return x*2\n",
    "print(behavior(data))"
   ]
  },
  {
   "cell_type": "code",
   "execution_count": 576,
   "metadata": {},
   "outputs": [
    {
     "name": "stdout",
     "output_type": "stream",
     "text": [
      "7\n"
     ]
    }
   ],
   "source": [
    "## Still the same\n",
    "print(data)"
   ]
  },
  {
   "cell_type": "code",
   "execution_count": 577,
   "metadata": {},
   "outputs": [
    {
     "name": "stdout",
     "output_type": "stream",
     "text": [
      "14\n"
     ]
    }
   ],
   "source": [
    "## Unless overwritten\n",
    "data = behavior(data)\n",
    "print(data)"
   ]
  },
  {
   "cell_type": "markdown",
   "metadata": {},
   "source": [
    "#### On OOP, we have both data and behaviors together.\n",
    "\n",
    "Data and functions are encapsulated into a single entity called an Object. \n",
    "Each object contains it's values and a collection of functions. And different objects may interact with other with calls to different functions. \n",
    "\n",
    "Doing this minimizes type errors, as we will usually call functions that belong to a given object and were written for it. \n",
    "\n",
    "Because of this encapsulation of data and operations, by definition, when using a particular method of an object, it will update it's data with no need for overwriting. Therefore, we say OOP uses mutable data."
   ]
  },
  {
   "cell_type": "code",
   "execution_count": 581,
   "metadata": {},
   "outputs": [],
   "source": [
    "data = [1,2,3]\n",
    "# Using a method, a function coded into the list object.\n",
    "data.append(4)"
   ]
  },
  {
   "cell_type": "code",
   "execution_count": 582,
   "metadata": {},
   "outputs": [
    {
     "data": {
      "text/plain": [
       "[1, 2, 3, 4]"
      ]
     },
     "execution_count": 582,
     "metadata": {},
     "output_type": "execute_result"
    }
   ],
   "source": [
    "## Data changed without overwritting\n",
    "data"
   ]
  },
  {
   "attachments": {},
   "cell_type": "markdown",
   "metadata": {},
   "source": [
    "![FP vs OOP](https://crs4.github.io/python_for_life_scientists/img/object.jpg)"
   ]
  },
  {
   "cell_type": "markdown",
   "metadata": {},
   "source": [
    "### Nomenclature\n",
    "- Object\n",
    "    - also known as Instance\n",
    "    - it is a unique individual entity.\n",
    "- Attributes\n",
    "    - The characteristics of a given object.\n",
    "    - It usually refers to the DATA part.\n",
    "- Methods\n",
    "    - The functions that belong to a particular object.\n",
    "- Class\n",
    "    - Also known as type\n",
    "    - It is the blueprint, the generic form used to create different objects that share the same characteristics.\n",
    "    \n",
    "#### In Python, both attributes and methods are accessed with the syntax object.attribute or object.method()."
   ]
  },
  {
   "cell_type": "markdown",
   "metadata": {},
   "source": [
    "## Analogy time!\n",
    "### Baking a cake\n",
    "---"
   ]
  },
  {
   "cell_type": "markdown",
   "metadata": {},
   "source": [
    "## Functional programming\n",
    "#### Data Structures\n",
    "- Our ingredients are all kept in the cupboard\n",
    "\n",
    "#### Algorithms\n",
    "- Our recipes are in the cookbook\n",
    "\n",
    "\n",
    "We must go back and forth between them and apply the recipe on the ingredients, making sure that we have all the ingredients and in the right form in order for it all to function.\n",
    "\n",
    "---"
   ]
  },
  {
   "cell_type": "markdown",
   "metadata": {},
   "source": [
    "## OOP\n",
    "#### Data Structures & Algorithms\n",
    "- We have a \"pre-build\" cake mix box that contains all the ingredients we need and the recipe printed on the box itself. Therefore everything is packed together on a single, ready to use, object"
   ]
  },
  {
   "cell_type": "markdown",
   "metadata": {},
   "source": [
    "<img src=\"https://images-na.ssl-images-amazon.com/images/I/91wEGGKE6UL._SL1500_.jpg\" width=\"300\">"
   ]
  },
  {
   "cell_type": "markdown",
   "metadata": {},
   "source": [
    "### Python\n",
    "- Our beloved Python is a Multi-paradigm language, meaning we can use it in either a functional or Object Oriented approach. If we look at it closely, we will see aspects of both on our day to day use of it."
   ]
  },
  {
   "cell_type": "markdown",
   "metadata": {},
   "source": [
    "## Creating an Object\n",
    "\n",
    "If we try to conceive a mobile phone, we can write a dictionary with the characteristics of said phone."
   ]
  },
  {
   "cell_type": "code",
   "execution_count": 583,
   "metadata": {},
   "outputs": [],
   "source": [
    "mobile = {\n",
    "    \"manufacturer\": \"Apple\",\n",
    "    \"model\":\"iPhone 10\",\n",
    "    \"screen_size\":7,\n",
    "    \"weight\":200,\n",
    "    \"color\":\"silver\",\n",
    "    \"RAM\":8,\n",
    "    \"memory\":512,\n",
    "    \"camera\":{\"frontal\":{\"resolution\":\"15MP\"},\n",
    "              \"back\":[{\"type\":\"zoom\",\"resolution\":\"25MP\"},\n",
    "                      {\"type\":\"macro\",\"resolution\":\"25MP\"}]},\n",
    "    \"battery\":{\"type\":\"Lithium\",\"maxCharge\":4500,\"charge\":0.56},\n",
    "    \"apps\":[{\"name\":\"Whatsapp\",\"version\":\"2.3.44\"}]\n",
    "}"
   ]
  },
  {
   "cell_type": "markdown",
   "metadata": {},
   "source": [
    "We can also write functions to change and interact with this object."
   ]
  },
  {
   "cell_type": "code",
   "execution_count": 6,
   "metadata": {},
   "outputs": [],
   "source": [
    "def charge_phone(phone):\n",
    "    phone[\"battery\"][\"charge\"]=1\n",
    "    return phone"
   ]
  },
  {
   "cell_type": "code",
   "execution_count": 8,
   "metadata": {},
   "outputs": [
    {
     "data": {
      "text/plain": [
       "0.56"
      ]
     },
     "execution_count": 8,
     "metadata": {},
     "output_type": "execute_result"
    }
   ],
   "source": [
    "mobile[\"battery\"][\"charge\"]"
   ]
  },
  {
   "cell_type": "code",
   "execution_count": 584,
   "metadata": {},
   "outputs": [
    {
     "data": {
      "text/plain": [
       "1"
      ]
     },
     "execution_count": 584,
     "metadata": {},
     "output_type": "execute_result"
    }
   ],
   "source": [
    "charge_phone(mobile)\n",
    "mobile[\"battery\"][\"charge\"]"
   ]
  },
  {
   "cell_type": "code",
   "execution_count": 585,
   "metadata": {},
   "outputs": [],
   "source": [
    "def install(mobile,app):\n",
    "    mobile[\"apps\"].append(app)"
   ]
  },
  {
   "cell_type": "code",
   "execution_count": 587,
   "metadata": {},
   "outputs": [
    {
     "data": {
      "text/plain": [
       "[{'name': 'Whatsapp', 'version': '2.3.44'}]"
      ]
     },
     "execution_count": 587,
     "metadata": {},
     "output_type": "execute_result"
    }
   ],
   "source": [
    "mobile[\"apps\"]"
   ]
  },
  {
   "cell_type": "code",
   "execution_count": 588,
   "metadata": {},
   "outputs": [
    {
     "data": {
      "text/plain": [
       "[{'name': 'Whatsapp', 'version': '2.3.44'},\n",
       " {'name': 'Zoom', 'version': '1.8.8'}]"
      ]
     },
     "execution_count": 588,
     "metadata": {},
     "output_type": "execute_result"
    }
   ],
   "source": [
    "install(mobile,{\"name\":\"Zoom\",\"version\":\"1.8.8\"})\n",
    "mobile[\"apps\"]"
   ]
  },
  {
   "cell_type": "markdown",
   "metadata": {},
   "source": [
    "### But a single object isn't enough.\n",
    "We made a single phone, but that's just a prototype. When a factory mass produces them, they do not begin from scratch everytime, they use some models, forms, casts and bluprints in other to produce many of them."
   ]
  },
  {
   "cell_type": "markdown",
   "metadata": {},
   "source": [
    "### Class\n",
    "- A class is the blueprint for a type of object"
   ]
  },
  {
   "cell_type": "markdown",
   "metadata": {},
   "source": [
    "Let's see some objects of the same class (type) and which characteristics they share."
   ]
  },
  {
   "cell_type": "code",
   "execution_count": 589,
   "metadata": {},
   "outputs": [],
   "source": [
    "# Two puppies!\n",
    "milk = {\"species\":\"dog\",\n",
    "        \"sex\":\"female\",\n",
    "        \"name\":\"Milka\",\n",
    "        \"breed\":\"Beagle\"}\n",
    "\n",
    "kira = {\"species\":\"dog\",\n",
    "        \"sex\":\"female\",\n",
    "        \"name\":\"Kira\",\n",
    "        \"breed\":\"Greyhound\"}\n",
    "\n",
    "# If we were to think of a generic universal dog based on a few examples, we would see some attributes are\n",
    "# shared by all and some (such as name) are specific to each one.\n",
    "# We could then prototype the UNIVERSAL DOG\n",
    "\n",
    "all_dogs = {\"species\":\"dog\",\n",
    "            \"sound\":\"bark\"}"
   ]
  },
  {
   "cell_type": "markdown",
   "metadata": {},
   "source": [
    "## An Object is a SPECIMEN\n",
    "## A Class is a SPECIES"
   ]
  },
  {
   "cell_type": "code",
   "execution_count": 15,
   "metadata": {},
   "outputs": [
    {
     "data": {
      "text/plain": [
       "str"
      ]
     },
     "execution_count": 15,
     "metadata": {},
     "output_type": "execute_result"
    }
   ],
   "source": [
    "type(\"hola\")\n",
    "# str is the class of \"hola\""
   ]
  },
  {
   "cell_type": "code",
   "execution_count": 16,
   "metadata": {},
   "outputs": [
    {
     "data": {
      "text/plain": [
       "str"
      ]
     },
     "execution_count": 16,
     "metadata": {},
     "output_type": "execute_result"
    }
   ],
   "source": [
    "x = \"hola\"\n",
    "type(x)"
   ]
  },
  {
   "cell_type": "code",
   "execution_count": 19,
   "metadata": {},
   "outputs": [
    {
     "data": {
      "text/plain": [
       "['__add__',\n",
       " '__class__',\n",
       " '__contains__',\n",
       " '__delattr__',\n",
       " '__dir__',\n",
       " '__doc__',\n",
       " '__eq__',\n",
       " '__format__',\n",
       " '__ge__',\n",
       " '__getattribute__',\n",
       " '__getitem__',\n",
       " '__getnewargs__',\n",
       " '__gt__',\n",
       " '__hash__',\n",
       " '__init__',\n",
       " '__init_subclass__',\n",
       " '__iter__',\n",
       " '__le__',\n",
       " '__len__',\n",
       " '__lt__',\n",
       " '__mod__',\n",
       " '__mul__',\n",
       " '__ne__',\n",
       " '__new__',\n",
       " '__reduce__',\n",
       " '__reduce_ex__',\n",
       " '__repr__',\n",
       " '__rmod__',\n",
       " '__rmul__',\n",
       " '__setattr__',\n",
       " '__sizeof__',\n",
       " '__str__',\n",
       " '__subclasshook__',\n",
       " 'capitalize',\n",
       " 'casefold',\n",
       " 'center',\n",
       " 'count',\n",
       " 'encode',\n",
       " 'endswith',\n",
       " 'expandtabs',\n",
       " 'find',\n",
       " 'format',\n",
       " 'format_map',\n",
       " 'index',\n",
       " 'isalnum',\n",
       " 'isalpha',\n",
       " 'isascii',\n",
       " 'isdecimal',\n",
       " 'isdigit',\n",
       " 'isidentifier',\n",
       " 'islower',\n",
       " 'isnumeric',\n",
       " 'isprintable',\n",
       " 'isspace',\n",
       " 'istitle',\n",
       " 'isupper',\n",
       " 'join',\n",
       " 'ljust',\n",
       " 'lower',\n",
       " 'lstrip',\n",
       " 'maketrans',\n",
       " 'partition',\n",
       " 'replace',\n",
       " 'rfind',\n",
       " 'rindex',\n",
       " 'rjust',\n",
       " 'rpartition',\n",
       " 'rsplit',\n",
       " 'rstrip',\n",
       " 'split',\n",
       " 'splitlines',\n",
       " 'startswith',\n",
       " 'strip',\n",
       " 'swapcase',\n",
       " 'title',\n",
       " 'translate',\n",
       " 'upper',\n",
       " 'zfill']"
      ]
     },
     "execution_count": 19,
     "metadata": {},
     "output_type": "execute_result"
    }
   ],
   "source": [
    "# The attributes (including methods of a given variable/type)\n",
    "dir(x)"
   ]
  },
  {
   "cell_type": "code",
   "execution_count": 18,
   "metadata": {},
   "outputs": [
    {
     "data": {
      "text/plain": [
       "True"
      ]
     },
     "execution_count": 18,
     "metadata": {},
     "output_type": "execute_result"
    }
   ],
   "source": [
    "x.isalpha()"
   ]
  },
  {
   "cell_type": "code",
   "execution_count": 140,
   "metadata": {},
   "outputs": [],
   "source": [
    "class Dog:\n",
    "    # Constructor Method\n",
    "    # The first parameter in every method has to be self\n",
    "    def __init__(self,breed,sex,name=\"Unnamed\"):\n",
    "        print(\"Woof. A puppie is born\")\n",
    "        self.species = \"dog\"\n",
    "        self.breed = breed\n",
    "        self.sex = sex\n",
    "        self.name = name\n",
    "    def present(self):\n",
    "        return f\"Woof woof. Hello, I'm {self.name}, a {self.species} and I'm a {self.sex}!\"\n",
    "    def baptize(self,new_name):\n",
    "        self.name = new_name"
   ]
  },
  {
   "cell_type": "code",
   "execution_count": 141,
   "metadata": {},
   "outputs": [
    {
     "data": {
      "text/plain": [
       "type"
      ]
     },
     "execution_count": 141,
     "metadata": {},
     "output_type": "execute_result"
    }
   ],
   "source": [
    "type(Dog)"
   ]
  },
  {
   "cell_type": "code",
   "execution_count": 142,
   "metadata": {},
   "outputs": [
    {
     "name": "stdout",
     "output_type": "stream",
     "text": [
      "Woof. A puppie is born\n"
     ]
    }
   ],
   "source": [
    "# When we call a class like a function, we are calling the __init__ function\n",
    "puppie = Dog(\"teckel\",\"male\",\"Toby\")"
   ]
  },
  {
   "cell_type": "code",
   "execution_count": 117,
   "metadata": {},
   "outputs": [
    {
     "data": {
      "text/plain": [
       "<OOP_Jupyter.Dog at 0x1087de8b0>"
      ]
     },
     "execution_count": 117,
     "metadata": {},
     "output_type": "execute_result"
    }
   ],
   "source": [
    "puppie"
   ]
  },
  {
   "cell_type": "code",
   "execution_count": 118,
   "metadata": {},
   "outputs": [
    {
     "data": {
      "text/plain": [
       "OOP_Jupyter.Dog"
      ]
     },
     "execution_count": 118,
     "metadata": {},
     "output_type": "execute_result"
    }
   ],
   "source": [
    "type(puppie)"
   ]
  },
  {
   "cell_type": "code",
   "execution_count": 119,
   "metadata": {},
   "outputs": [
    {
     "data": {
      "text/plain": [
       "'teckel'"
      ]
     },
     "execution_count": 119,
     "metadata": {},
     "output_type": "execute_result"
    }
   ],
   "source": [
    "## We can get attributes\n",
    "puppie.breed"
   ]
  },
  {
   "cell_type": "code",
   "execution_count": 120,
   "metadata": {},
   "outputs": [
    {
     "data": {
      "text/plain": [
       "'male'"
      ]
     },
     "execution_count": 120,
     "metadata": {},
     "output_type": "execute_result"
    }
   ],
   "source": [
    "puppie.sex"
   ]
  },
  {
   "cell_type": "code",
   "execution_count": 121,
   "metadata": {},
   "outputs": [
    {
     "data": {
      "text/plain": [
       "'dog'"
      ]
     },
     "execution_count": 121,
     "metadata": {},
     "output_type": "execute_result"
    }
   ],
   "source": [
    "puppie.species"
   ]
  },
  {
   "cell_type": "code",
   "execution_count": 143,
   "metadata": {},
   "outputs": [],
   "source": [
    "a = puppie.present()"
   ]
  },
  {
   "cell_type": "code",
   "execution_count": 144,
   "metadata": {},
   "outputs": [
    {
     "data": {
      "text/plain": [
       "\"Woof woof. Hello, I'm Toby, a dog and I'm a male!\""
      ]
     },
     "execution_count": 144,
     "metadata": {},
     "output_type": "execute_result"
    }
   ],
   "source": [
    "a"
   ]
  },
  {
   "cell_type": "code",
   "execution_count": 123,
   "metadata": {},
   "outputs": [],
   "source": [
    "puppie.name = \"Bola de Nieve\""
   ]
  },
  {
   "cell_type": "code",
   "execution_count": 124,
   "metadata": {},
   "outputs": [
    {
     "data": {
      "text/plain": [
       "\"Woof woof. Hello, I'm Bola de Nieve, a dog and I'm a male!\""
      ]
     },
     "execution_count": 124,
     "metadata": {},
     "output_type": "execute_result"
    }
   ],
   "source": [
    "puppie.present()"
   ]
  },
  {
   "cell_type": "code",
   "execution_count": 145,
   "metadata": {},
   "outputs": [],
   "source": [
    "a = puppie.baptize(\"Jimmy\")"
   ]
  },
  {
   "cell_type": "code",
   "execution_count": 147,
   "metadata": {},
   "outputs": [
    {
     "name": "stdout",
     "output_type": "stream",
     "text": [
      "None\n"
     ]
    }
   ],
   "source": [
    "print(a)"
   ]
  },
  {
   "cell_type": "code",
   "execution_count": 148,
   "metadata": {},
   "outputs": [
    {
     "data": {
      "text/plain": [
       "\"Woof woof. Hello, I'm Jimmy, a dog and I'm a male!\""
      ]
     },
     "execution_count": 148,
     "metadata": {},
     "output_type": "execute_result"
    }
   ],
   "source": [
    "puppie.present()"
   ]
  },
  {
   "cell_type": "code",
   "execution_count": 127,
   "metadata": {},
   "outputs": [],
   "source": [
    "def iam():\n",
    "    return \"IM A DOG CUTE AS F**K\""
   ]
  },
  {
   "cell_type": "code",
   "execution_count": 128,
   "metadata": {},
   "outputs": [],
   "source": [
    "puppie.present = iam"
   ]
  },
  {
   "cell_type": "code",
   "execution_count": 129,
   "metadata": {},
   "outputs": [
    {
     "data": {
      "text/plain": [
       "'IM A DOG CUTE AS F**K'"
      ]
     },
     "execution_count": 129,
     "metadata": {},
     "output_type": "execute_result"
    }
   ],
   "source": [
    "puppie.present()"
   ]
  },
  {
   "cell_type": "code",
   "execution_count": 130,
   "metadata": {},
   "outputs": [
    {
     "name": "stdout",
     "output_type": "stream",
     "text": [
      "Woof. A puppie is born\n",
      "Woof. A puppie is born\n",
      "Woof. A puppie is born\n"
     ]
    }
   ],
   "source": [
    "canil = []\n",
    "for br,sex,name in [(\"huskie\",\"female\",\"Jenny\"),(\"Galgo\",\"female\",\"Daenerys\"),(\"Chihauhauhauahuaha\",\"male\",\"Satanás\")]:\n",
    "    canil.append(Dog(br,sex,name))"
   ]
  },
  {
   "cell_type": "code",
   "execution_count": 131,
   "metadata": {},
   "outputs": [
    {
     "data": {
      "text/plain": [
       "[<OOP_Jupyter.Dog at 0x1087cda90>,\n",
       " <OOP_Jupyter.Dog at 0x1087cd310>,\n",
       " <OOP_Jupyter.Dog at 0x1087cdd00>]"
      ]
     },
     "execution_count": 131,
     "metadata": {},
     "output_type": "execute_result"
    }
   ],
   "source": [
    "canil"
   ]
  },
  {
   "cell_type": "code",
   "execution_count": 132,
   "metadata": {},
   "outputs": [
    {
     "name": "stdout",
     "output_type": "stream",
     "text": [
      "Woof woof. Hello, I'm Jenny, a dog and I'm a female!\n",
      "Woof woof. Hello, I'm Daenerys, a dog and I'm a female!\n",
      "Woof woof. Hello, I'm Satanás, a dog and I'm a male!\n"
     ]
    }
   ],
   "source": [
    "for dog in canil:\n",
    "    print(dog.present())"
   ]
  },
  {
   "cell_type": "code",
   "execution_count": 149,
   "metadata": {},
   "outputs": [],
   "source": [
    "# Parameters are the variables on the definition of a function\n",
    "def func(num,power):\n",
    "    return num ** power"
   ]
  },
  {
   "cell_type": "code",
   "execution_count": 152,
   "metadata": {},
   "outputs": [
    {
     "data": {
      "text/plain": [
       "8"
      ]
     },
     "execution_count": 152,
     "metadata": {},
     "output_type": "execute_result"
    }
   ],
   "source": [
    "# Arguments are the VALUES upon which we call a function\n",
    "func(2,3)"
   ]
  },
  {
   "cell_type": "code",
   "execution_count": 195,
   "metadata": {},
   "outputs": [],
   "source": [
    "class Dog:\n",
    "    def __init__(self, sex, name, lastname):\n",
    "        self.sex=sex\n",
    "        full_name = f\"{name} {lastname}\"\n",
    "        self.name=full_name\n",
    "    def speak(self):\n",
    "        return \"Woof woof\"\n",
    "    def present(self):\n",
    "        return f\"Hello. I am a {self.sex} Dog named {self.name}\""
   ]
  },
  {
   "cell_type": "code",
   "execution_count": 196,
   "metadata": {},
   "outputs": [],
   "source": [
    "milka = Dog(\"female\",\"Milka\",\"García\")"
   ]
  },
  {
   "cell_type": "code",
   "execution_count": 198,
   "metadata": {},
   "outputs": [
    {
     "data": {
      "text/plain": [
       "'Woof woof'"
      ]
     },
     "execution_count": 198,
     "metadata": {},
     "output_type": "execute_result"
    }
   ],
   "source": [
    "milka.speak()"
   ]
  },
  {
   "cell_type": "code",
   "execution_count": 199,
   "metadata": {},
   "outputs": [],
   "source": [
    "class Cat:\n",
    "    def __init__(self, sex, name, lastname):\n",
    "        self.sex=sex\n",
    "        full_name = f\"{name} {lastname}\"\n",
    "        self.name=full_name\n",
    "    def speak(self):\n",
    "        return \"Meow\"\n",
    "    def present(self):\n",
    "        return f\"Hello. I am a {self.sex} Cat named {self.name}\""
   ]
  },
  {
   "cell_type": "code",
   "execution_count": 200,
   "metadata": {},
   "outputs": [],
   "source": [
    "mia = Cat(\"female\",\"Mia\",\"Farrow\")"
   ]
  },
  {
   "cell_type": "code",
   "execution_count": 201,
   "metadata": {},
   "outputs": [
    {
     "data": {
      "text/plain": [
       "'Mia Farrow'"
      ]
     },
     "execution_count": 201,
     "metadata": {},
     "output_type": "execute_result"
    }
   ],
   "source": [
    "mia.name"
   ]
  },
  {
   "cell_type": "code",
   "execution_count": 202,
   "metadata": {},
   "outputs": [
    {
     "data": {
      "text/plain": [
       "'Meow'"
      ]
     },
     "execution_count": 202,
     "metadata": {},
     "output_type": "execute_result"
    }
   ],
   "source": [
    "mia.speak()"
   ]
  },
  {
   "cell_type": "code",
   "execution_count": 203,
   "metadata": {},
   "outputs": [
    {
     "data": {
      "text/plain": [
       "'Hello. I am a female Cat named Mia Farrow'"
      ]
     },
     "execution_count": 203,
     "metadata": {},
     "output_type": "execute_result"
    }
   ],
   "source": [
    "mia.present()"
   ]
  },
  {
   "cell_type": "markdown",
   "metadata": {},
   "source": [
    "## Inheritance"
   ]
  },
  {
   "cell_type": "code",
   "execution_count": 410,
   "metadata": {},
   "outputs": [],
   "source": [
    "class Pet:\n",
    "    def __init__(self, sex, name, lastname):\n",
    "        self.sex=sex\n",
    "        full_name = f\"{name} {lastname}\"\n",
    "        self.name=full_name\n",
    "        self.species = \"pet\"\n",
    "    def speak(self):\n",
    "        return \"Generic Pet sound\"\n",
    "    def present(self):\n",
    "        return f\"Hello. I am a {self.sex} {self.species} named {self.name}\""
   ]
  },
  {
   "cell_type": "code",
   "execution_count": 411,
   "metadata": {},
   "outputs": [],
   "source": [
    "pet = Pet(\"female\",\"Leia\",\"Organa\")"
   ]
  },
  {
   "cell_type": "code",
   "execution_count": 412,
   "metadata": {},
   "outputs": [
    {
     "data": {
      "text/plain": [
       "'Generic Pet sound'"
      ]
     },
     "execution_count": 412,
     "metadata": {},
     "output_type": "execute_result"
    }
   ],
   "source": [
    "pet.speak()"
   ]
  },
  {
   "cell_type": "code",
   "execution_count": 413,
   "metadata": {},
   "outputs": [
    {
     "data": {
      "text/plain": [
       "'Hello. I am a female pet named Leia Organa'"
      ]
     },
     "execution_count": 413,
     "metadata": {},
     "output_type": "execute_result"
    }
   ],
   "source": [
    "pet.present()"
   ]
  },
  {
   "cell_type": "code",
   "execution_count": 414,
   "metadata": {},
   "outputs": [],
   "source": [
    "class Cat(Pet):\n",
    "    def __init__(self,sex,name,lastname,color):\n",
    "        super().__init__(sex,name,lastname)\n",
    "        self.color = color\n",
    "        self.species = \"cat\"\n",
    "    def speak(self):\n",
    "        return \"Meow\"\n",
    "    def iam(self):\n",
    "        return f\"{super().present()} and I'm a {self.color} cat, btw.\"\n",
    "    def __str__(self):\n",
    "        return \"Cat\"\n",
    "    def __repr__(self):\n",
    "        return \"\"\"\n",
    "    |\\__/,|   (`\\\\\n",
    "  _.|o o  |_   ) )\n",
    "-(((---(((--------\n",
    "        \"\"\"\n",
    "    def __mul__(self,other):\n",
    "        if not isinstance(other,Cat):\n",
    "            return \"Oops. It's not going to work\"\n",
    "        if set([self.sex, other.sex]) == {\"male\",\"female\"}:\n",
    "            return Cat(\"unk\",\"Unnamed\",\"No Lastname\",self.color)"
   ]
  },
  {
   "cell_type": "code",
   "execution_count": 508,
   "metadata": {},
   "outputs": [],
   "source": [
    "class Dog(Pet):\n",
    "    def __init__(self,sex,name,lastname,breed):\n",
    "        super().__init__(sex,name,lastname)\n",
    "        self.color=breed\n",
    "        self.species = \"dog\"\n",
    "    def speak(self):\n",
    "        return \"Woof Woof\"\n",
    "    def present(self):\n",
    "        return \"Hola\"\n",
    "    def iam(self):\n",
    "        return f\"{super().present()} and I'm a {self.color} dog, btw.\"\n",
    "    def __str__(self):\n",
    "        return \"Dog\"\n",
    "    def __repr__(self):\n",
    "        return \"\"\"\n",
    "  __    __\n",
    "o-''))_____\\\\\\\\\n",
    "\"--__/ * * * )\n",
    "c_c__/-c____/\n",
    "        \"\"\"\n",
    "    def __mul__(self,other):\n",
    "        if not isinstance(other,Dog):\n",
    "            return \"Oops. It's not going to work\"\n",
    "        if set([self.sex, other.sex]) == {\"male\",\"female\"}:\n",
    "            print(\"\"\"\n",
    "       /^-^\\\\         /^-----^\\\\\n",
    "      / o o \\\\        V  o o  V\n",
    "     /   Y   \\\\        |  Y  |\n",
    "     V \\ v / V         \\ Q /\n",
    "       / - \\\\           / - \\\\\n",
    "      /    |           |    \\\\\n",
    "(    /     |           |     \\\\     )\n",
    " ===/___) ||           || (___\\\\====\n",
    "            \"\"\")\n",
    "            return Dog(\"unk\",\"Unnamed\",\"No Lastname\",self.color)\n",
    "        \n",
    "    def check_sup(self):\n",
    "        print(super())"
   ]
  },
  {
   "cell_type": "code",
   "execution_count": 478,
   "metadata": {},
   "outputs": [],
   "source": [
    "mia = Cat(\"female\",\"Mia\",\"Farrow\",\"Gray\")"
   ]
  },
  {
   "cell_type": "code",
   "execution_count": 479,
   "metadata": {},
   "outputs": [
    {
     "data": {
      "text/plain": [
       "'Hello. I am a female cat named Mia Farrow'"
      ]
     },
     "execution_count": 479,
     "metadata": {},
     "output_type": "execute_result"
    }
   ],
   "source": [
    "mia.present()"
   ]
  },
  {
   "cell_type": "code",
   "execution_count": 480,
   "metadata": {},
   "outputs": [
    {
     "data": {
      "text/plain": [
       "'Meow'"
      ]
     },
     "execution_count": 480,
     "metadata": {},
     "output_type": "execute_result"
    }
   ],
   "source": [
    "mia.speak()"
   ]
  },
  {
   "cell_type": "code",
   "execution_count": 481,
   "metadata": {},
   "outputs": [
    {
     "data": {
      "text/plain": [
       "'Mia Farrow'"
      ]
     },
     "execution_count": 481,
     "metadata": {},
     "output_type": "execute_result"
    }
   ],
   "source": [
    "mia.name"
   ]
  },
  {
   "cell_type": "code",
   "execution_count": 482,
   "metadata": {},
   "outputs": [
    {
     "data": {
      "text/plain": [
       "'Gray'"
      ]
     },
     "execution_count": 482,
     "metadata": {},
     "output_type": "execute_result"
    }
   ],
   "source": [
    "mia.color"
   ]
  },
  {
   "cell_type": "code",
   "execution_count": 483,
   "metadata": {},
   "outputs": [
    {
     "data": {
      "text/plain": [
       "'Hello. I am a female cat named Mia Farrow'"
      ]
     },
     "execution_count": 483,
     "metadata": {},
     "output_type": "execute_result"
    }
   ],
   "source": [
    "mia.present()"
   ]
  },
  {
   "cell_type": "code",
   "execution_count": 484,
   "metadata": {},
   "outputs": [
    {
     "data": {
      "text/plain": [
       "\"Hello. I am a female cat named Mia Farrow and I'm a Gray cat, btw.\""
      ]
     },
     "execution_count": 484,
     "metadata": {},
     "output_type": "execute_result"
    }
   ],
   "source": [
    "mia.iam()"
   ]
  },
  {
   "cell_type": "code",
   "execution_count": 485,
   "metadata": {},
   "outputs": [],
   "source": [
    "pet = Pet(\"male\",\"Pepe\",\"Lopez\")"
   ]
  },
  {
   "cell_type": "code",
   "execution_count": 486,
   "metadata": {},
   "outputs": [
    {
     "data": {
      "text/plain": [
       "'Hello. I am a male pet named Pepe Lopez'"
      ]
     },
     "execution_count": 486,
     "metadata": {},
     "output_type": "execute_result"
    }
   ],
   "source": [
    "pet.present()"
   ]
  },
  {
   "cell_type": "code",
   "execution_count": 487,
   "metadata": {},
   "outputs": [
    {
     "ename": "AttributeError",
     "evalue": "'Pet' object has no attribute 'iam'",
     "output_type": "error",
     "traceback": [
      "\u001b[0;31m---------------------------------------------------------------------------\u001b[0m",
      "\u001b[0;31mAttributeError\u001b[0m                            Traceback (most recent call last)",
      "\u001b[0;32m<ipython-input-487-427ade0417ab>\u001b[0m in \u001b[0;36m<module>\u001b[0;34m\u001b[0m\n\u001b[0;32m----> 1\u001b[0;31m \u001b[0mpet\u001b[0m\u001b[0;34m.\u001b[0m\u001b[0miam\u001b[0m\u001b[0;34m(\u001b[0m\u001b[0;34m)\u001b[0m\u001b[0;34m\u001b[0m\u001b[0;34m\u001b[0m\u001b[0m\n\u001b[0m",
      "\u001b[0;31mAttributeError\u001b[0m: 'Pet' object has no attribute 'iam'"
     ]
    }
   ],
   "source": [
    "pet.iam()"
   ]
  },
  {
   "cell_type": "code",
   "execution_count": 488,
   "metadata": {},
   "outputs": [
    {
     "data": {
      "text/plain": [
       "OOP_Jupyter.Cat"
      ]
     },
     "execution_count": 488,
     "metadata": {},
     "output_type": "execute_result"
    }
   ],
   "source": [
    "type(mia)"
   ]
  },
  {
   "cell_type": "code",
   "execution_count": 489,
   "metadata": {},
   "outputs": [
    {
     "data": {
      "text/plain": [
       "True"
      ]
     },
     "execution_count": 489,
     "metadata": {},
     "output_type": "execute_result"
    }
   ],
   "source": [
    "isinstance(mia,Cat)"
   ]
  },
  {
   "cell_type": "code",
   "execution_count": 490,
   "metadata": {},
   "outputs": [
    {
     "data": {
      "text/plain": [
       "True"
      ]
     },
     "execution_count": 490,
     "metadata": {},
     "output_type": "execute_result"
    }
   ],
   "source": [
    "isinstance(mia,Pet)"
   ]
  },
  {
   "cell_type": "code",
   "execution_count": 491,
   "metadata": {},
   "outputs": [],
   "source": [
    "class BetterString(str):\n",
    "    def pretty_print(self):\n",
    "        pretty = f'~{\"~\".join(list(self.__str__()))}~'\n",
    "        print(pretty)"
   ]
  },
  {
   "cell_type": "code",
   "execution_count": 492,
   "metadata": {},
   "outputs": [],
   "source": [
    "mess = BetterString(\"Hola Ironhack Datamad 0121\")"
   ]
  },
  {
   "cell_type": "code",
   "execution_count": 493,
   "metadata": {},
   "outputs": [
    {
     "name": "stdout",
     "output_type": "stream",
     "text": [
      "~H~o~l~a~ ~I~r~o~n~h~a~c~k~ ~D~a~t~a~m~a~d~ ~0~1~2~1~\n"
     ]
    }
   ],
   "source": [
    "mess.pretty_print()"
   ]
  },
  {
   "cell_type": "code",
   "execution_count": 494,
   "metadata": {},
   "outputs": [
    {
     "name": "stdout",
     "output_type": "stream",
     "text": [
      "Cat\n"
     ]
    }
   ],
   "source": [
    "print(mia)"
   ]
  },
  {
   "cell_type": "code",
   "execution_count": 495,
   "metadata": {},
   "outputs": [
    {
     "data": {
      "text/plain": [
       "\n",
       "    |\\__/,|   (`\\\n",
       "  _.|o o  |_   ) )\n",
       "-(((---(((--------\n",
       "        "
      ]
     },
     "execution_count": 495,
     "metadata": {},
     "output_type": "execute_result"
    }
   ],
   "source": [
    "mia"
   ]
  },
  {
   "cell_type": "code",
   "execution_count": 496,
   "metadata": {},
   "outputs": [
    {
     "data": {
      "text/plain": [
       "\"Oops. It's not going to work\""
      ]
     },
     "execution_count": 496,
     "metadata": {},
     "output_type": "execute_result"
    }
   ],
   "source": [
    "mia * 3"
   ]
  },
  {
   "cell_type": "code",
   "execution_count": 497,
   "metadata": {},
   "outputs": [],
   "source": [
    "garf = Cat(\"male\",\"Garfield\",\"Barbera\",\"orange\")"
   ]
  },
  {
   "cell_type": "code",
   "execution_count": 498,
   "metadata": {},
   "outputs": [],
   "source": [
    "kitten = mia * garf"
   ]
  },
  {
   "cell_type": "code",
   "execution_count": 499,
   "metadata": {},
   "outputs": [
    {
     "data": {
      "text/plain": [
       "'Hello. I am a unk cat named Unnamed No Lastname'"
      ]
     },
     "execution_count": 499,
     "metadata": {},
     "output_type": "execute_result"
    }
   ],
   "source": [
    "kitten.present()"
   ]
  },
  {
   "cell_type": "code",
   "execution_count": 500,
   "metadata": {},
   "outputs": [
    {
     "data": {
      "text/plain": [
       "8"
      ]
     },
     "execution_count": 500,
     "metadata": {},
     "output_type": "execute_result"
    }
   ],
   "source": [
    "3+5"
   ]
  },
  {
   "cell_type": "code",
   "execution_count": 501,
   "metadata": {},
   "outputs": [
    {
     "data": {
      "text/plain": [
       "8"
      ]
     },
     "execution_count": 501,
     "metadata": {},
     "output_type": "execute_result"
    }
   ],
   "source": [
    "x = 3\n",
    "x.__add__(5)"
   ]
  },
  {
   "cell_type": "code",
   "execution_count": 502,
   "metadata": {},
   "outputs": [],
   "source": [
    "lady = Dog(\"female\",\"Lady\",\"Lady\",\"Spaniel\")"
   ]
  },
  {
   "cell_type": "code",
   "execution_count": 503,
   "metadata": {},
   "outputs": [],
   "source": [
    "tramp = Dog(\"male\", \"Tramp\", \"Tramp\", \"chucho\")"
   ]
  },
  {
   "cell_type": "code",
   "execution_count": 504,
   "metadata": {},
   "outputs": [
    {
     "name": "stdout",
     "output_type": "stream",
     "text": [
      "\n",
      "       /^-^\\         /^-----^\\\n",
      "      / o o \\        V  o o  V\n",
      "     /   Y   \\        |  Y  |\n",
      "     V \\ v / V         \\ Q /\n",
      "       / - \\           / - \\\n",
      "      /    |           |    \\\n",
      "(    /     |           |     \\     )\n",
      " ===/___) ||           || (___\\====\n",
      "            \n"
     ]
    },
    {
     "data": {
      "text/plain": [
       "\n",
       "  __    __\n",
       "o-''))_____\\\\\n",
       "\"--__/ * * * )\n",
       "c_c__/-c____/\n",
       "        "
      ]
     },
     "execution_count": 504,
     "metadata": {},
     "output_type": "execute_result"
    }
   ],
   "source": [
    "lady * tramp"
   ]
  },
  {
   "cell_type": "code",
   "execution_count": 505,
   "metadata": {},
   "outputs": [
    {
     "data": {
      "text/plain": [
       "'Hola'"
      ]
     },
     "execution_count": 505,
     "metadata": {},
     "output_type": "execute_result"
    }
   ],
   "source": [
    "lady.present()"
   ]
  },
  {
   "cell_type": "code",
   "execution_count": 506,
   "metadata": {},
   "outputs": [
    {
     "data": {
      "text/plain": [
       "\"Hello. I am a female dog named Lady Lady and I'm a Spaniel dog, btw.\""
      ]
     },
     "execution_count": 506,
     "metadata": {},
     "output_type": "execute_result"
    }
   ],
   "source": [
    "lady.iam()"
   ]
  },
  {
   "cell_type": "code",
   "execution_count": null,
   "metadata": {},
   "outputs": [],
   "source": []
  },
  {
   "cell_type": "code",
   "execution_count": 562,
   "metadata": {},
   "outputs": [],
   "source": [
    "class BaseA:\n",
    "    def func(self):\n",
    "        return \"A\"\n",
    "\n",
    "class BaseB:\n",
    "    def func(self):\n",
    "        return \"B\"\n",
    "    def b(self):\n",
    "        return \"b\"\n",
    "\n",
    "class Child(BaseA,BaseB):\n",
    "    def check_super(self):\n",
    "        print(BaseB.func(self))"
   ]
  },
  {
   "cell_type": "code",
   "execution_count": 563,
   "metadata": {},
   "outputs": [
    {
     "data": {
      "text/plain": [
       "<OOP_Jupyter.Child at 0x1084f44c0>"
      ]
     },
     "execution_count": 563,
     "metadata": {},
     "output_type": "execute_result"
    }
   ],
   "source": [
    "c = Child()\n",
    "c"
   ]
  },
  {
   "cell_type": "code",
   "execution_count": 564,
   "metadata": {},
   "outputs": [
    {
     "data": {
      "text/plain": [
       "True"
      ]
     },
     "execution_count": 564,
     "metadata": {},
     "output_type": "execute_result"
    }
   ],
   "source": [
    "isinstance(c, Child)"
   ]
  },
  {
   "cell_type": "code",
   "execution_count": 565,
   "metadata": {},
   "outputs": [
    {
     "data": {
      "text/plain": [
       "True"
      ]
     },
     "execution_count": 565,
     "metadata": {},
     "output_type": "execute_result"
    }
   ],
   "source": [
    "isinstance(c, BaseA)"
   ]
  },
  {
   "cell_type": "code",
   "execution_count": 566,
   "metadata": {},
   "outputs": [
    {
     "data": {
      "text/plain": [
       "True"
      ]
     },
     "execution_count": 566,
     "metadata": {},
     "output_type": "execute_result"
    }
   ],
   "source": [
    "isinstance(c, BaseB)"
   ]
  },
  {
   "cell_type": "code",
   "execution_count": 567,
   "metadata": {},
   "outputs": [
    {
     "data": {
      "text/plain": [
       "'A'"
      ]
     },
     "execution_count": 567,
     "metadata": {},
     "output_type": "execute_result"
    }
   ],
   "source": [
    "c.func()"
   ]
  },
  {
   "cell_type": "code",
   "execution_count": 568,
   "metadata": {},
   "outputs": [
    {
     "data": {
      "text/plain": [
       "'b'"
      ]
     },
     "execution_count": 568,
     "metadata": {},
     "output_type": "execute_result"
    }
   ],
   "source": [
    "c.b()"
   ]
  },
  {
   "cell_type": "code",
   "execution_count": 569,
   "metadata": {},
   "outputs": [
    {
     "name": "stdout",
     "output_type": "stream",
     "text": [
      "B\n"
     ]
    }
   ],
   "source": [
    "c.check_super()"
   ]
  },
  {
   "cell_type": "code",
   "execution_count": 570,
   "metadata": {},
   "outputs": [
    {
     "data": {
      "text/plain": [
       "(OOP_Jupyter.Child, OOP_Jupyter.BaseA, OOP_Jupyter.BaseB, object)"
      ]
     },
     "execution_count": 570,
     "metadata": {},
     "output_type": "execute_result"
    }
   ],
   "source": [
    "Child.__mro__"
   ]
  },
  {
   "cell_type": "code",
   "execution_count": null,
   "metadata": {},
   "outputs": [],
   "source": []
  },
  {
   "cell_type": "markdown",
   "metadata": {},
   "source": [
    "### Further Resources\n",
    "- Cory Schafer has a great intro video on [OOP in python](https://www.youtube.com/watch?v=ZDa-Z5JzLYM)"
   ]
  },
  {
   "cell_type": "markdown",
   "metadata": {},
   "source": [
    "### Pillars of OOP\n",
    "- Encapsulation\n",
    "- Abstraction\n",
    "- Inheritance\n",
    "- Polymorphism"
   ]
  },
  {
   "cell_type": "code",
   "execution_count": null,
   "metadata": {},
   "outputs": [],
   "source": []
  },
  {
   "cell_type": "code",
   "execution_count": null,
   "metadata": {},
   "outputs": [],
   "source": []
  },
  {
   "cell_type": "code",
   "execution_count": null,
   "metadata": {},
   "outputs": [],
   "source": []
  },
  {
   "cell_type": "code",
   "execution_count": null,
   "metadata": {},
   "outputs": [],
   "source": []
  },
  {
   "cell_type": "code",
   "execution_count": null,
   "metadata": {},
   "outputs": [],
   "source": []
  },
  {
   "cell_type": "code",
   "execution_count": null,
   "metadata": {},
   "outputs": [],
   "source": []
  },
  {
   "cell_type": "code",
   "execution_count": null,
   "metadata": {},
   "outputs": [],
   "source": []
  },
  {
   "cell_type": "code",
   "execution_count": null,
   "metadata": {},
   "outputs": [],
   "source": []
  },
  {
   "cell_type": "code",
   "execution_count": null,
   "metadata": {},
   "outputs": [],
   "source": []
  },
  {
   "cell_type": "code",
   "execution_count": null,
   "metadata": {},
   "outputs": [],
   "source": []
  },
  {
   "cell_type": "code",
   "execution_count": null,
   "metadata": {},
   "outputs": [],
   "source": []
  },
  {
   "cell_type": "code",
   "execution_count": null,
   "metadata": {},
   "outputs": [],
   "source": []
  },
  {
   "cell_type": "code",
   "execution_count": null,
   "metadata": {},
   "outputs": [],
   "source": []
  },
  {
   "cell_type": "code",
   "execution_count": null,
   "metadata": {},
   "outputs": [],
   "source": []
  },
  {
   "cell_type": "code",
   "execution_count": null,
   "metadata": {},
   "outputs": [],
   "source": []
  },
  {
   "cell_type": "code",
   "execution_count": null,
   "metadata": {},
   "outputs": [],
   "source": []
  },
  {
   "cell_type": "code",
   "execution_count": null,
   "metadata": {},
   "outputs": [],
   "source": []
  },
  {
   "cell_type": "code",
   "execution_count": null,
   "metadata": {},
   "outputs": [],
   "source": []
  },
  {
   "cell_type": "code",
   "execution_count": null,
   "metadata": {},
   "outputs": [],
   "source": []
  },
  {
   "cell_type": "code",
   "execution_count": null,
   "metadata": {},
   "outputs": [],
   "source": []
  },
  {
   "cell_type": "code",
   "execution_count": null,
   "metadata": {},
   "outputs": [],
   "source": []
  },
  {
   "cell_type": "code",
   "execution_count": null,
   "metadata": {},
   "outputs": [],
   "source": []
  },
  {
   "cell_type": "code",
   "execution_count": null,
   "metadata": {},
   "outputs": [],
   "source": []
  },
  {
   "cell_type": "markdown",
   "metadata": {},
   "source": [
    "![Some Differences](https://miro.medium.com/max/1400/1*9OCTlnrfdIvV6dsBv-ECow.jpeg)"
   ]
  },
  {
   "cell_type": "code",
   "execution_count": null,
   "metadata": {},
   "outputs": [],
   "source": []
  }
 ],
 "metadata": {
  "kernelspec": {
   "display_name": "Python 3",
   "language": "python",
   "name": "python3"
  },
  "language_info": {
   "codemirror_mode": {
    "name": "ipython",
    "version": 3
   },
   "file_extension": ".py",
   "mimetype": "text/x-python",
   "name": "python",
   "nbconvert_exporter": "python",
   "pygments_lexer": "ipython3",
   "version": "3.8.6"
  }
 },
 "nbformat": 4,
 "nbformat_minor": 4
}
