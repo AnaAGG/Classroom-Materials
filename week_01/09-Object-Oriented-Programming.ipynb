{
 "cells": [
  {
   "cell_type": "markdown",
   "metadata": {},
   "source": [
    "# OOP\n",
    "Object Oriented Programming"
   ]
  },
  {
   "cell_type": "markdown",
   "metadata": {},
   "source": [
    "## Table of Contents\n",
    "- What is OOP?\n",
    "- Difference of Functional and Object-Oriented\n",
    "- Concept of Object\n",
    "- Concept of Class\n",
    "- Attributes\n",
    "- Methods\n",
    "- Inheritance"
   ]
  },
  {
   "cell_type": "markdown",
   "metadata": {},
   "source": [
    "![FPvsOOP](https://www.globalnerdy.com/wp-content/uploads/2019/12/oop-vs-fp.jpg)"
   ]
  },
  {
   "cell_type": "markdown",
   "metadata": {},
   "source": [
    "_\"Algorithms + Data Structures = Programs\"_\n",
    "                \n",
    "             - Niklaus Wirth (creator of Pascal)"
   ]
  },
  {
   "cell_type": "markdown",
   "metadata": {},
   "source": [
    "### Different visions\n",
    "Object Oriented Programming, such as Procedural or Functional Programming is a diferent method of looking at the construction of a program. Both are able to achieve the same, both tools of the same box. But depending on the situation each will have pros and a cons.\n",
    "\n",
    "```There is no dark or light side of the force for us. \n",
    "We will dominate both and use each whenever we feel like it or it seems more apropriate.``` 😜"
   ]
  },
  {
   "cell_type": "markdown",
   "metadata": {},
   "source": [
    "### What changes?\n",
    "\n",
    "#### On FP, we have a separation between Data and Behavior\n",
    "\n",
    "Based on the definition by Mr. Klaus Wirth, programs have those two parts, data and behaviors, the actions executed with or on that data.\n",
    "\n",
    "In functional (as well as Procedural), data and behaviours are separate.\n",
    "That makes it that data is inmutable (wait a sec...). That is, when we execute a function over some data, it will remain the same, UNLESS we overwrite it (ok...)."
   ]
  },
  {
   "cell_type": "code",
   "execution_count": 1,
   "metadata": {},
   "outputs": [
    {
     "name": "stdout",
     "output_type": "stream",
     "text": [
      "14\n"
     ]
    }
   ],
   "source": [
    "data = 7\n",
    "def behavior(x):\n",
    "    return x*2\n",
    "print(behavior(data))"
   ]
  },
  {
   "cell_type": "code",
   "execution_count": 2,
   "metadata": {},
   "outputs": [
    {
     "name": "stdout",
     "output_type": "stream",
     "text": [
      "7\n"
     ]
    }
   ],
   "source": [
    "## Still the same\n",
    "print(data)"
   ]
  },
  {
   "cell_type": "code",
   "execution_count": 3,
   "metadata": {},
   "outputs": [
    {
     "name": "stdout",
     "output_type": "stream",
     "text": [
      "14\n"
     ]
    }
   ],
   "source": [
    "## Unless overwritten\n",
    "data = behavior(data)\n",
    "print(data)"
   ]
  },
  {
   "cell_type": "markdown",
   "metadata": {},
   "source": [
    "#### On OOP, we have both data and behaviors together.\n",
    "\n",
    "Data and functions are encapsulated into a single entity called an Object. \n",
    "Each object contains it's values and a collection of functions. And different objects may interact with other with calls to different functions. \n",
    "\n",
    "Doing this minimizes type errors, as we will usually call functions that belong to a given object and were written for it. \n",
    "\n",
    "Because of this encapsulation of data and operations, by definition, when using a particular method of an object, it will update it's data with no need for overwriting. Therefore, we say OOP uses mutable data."
   ]
  },
  {
   "cell_type": "code",
   "execution_count": 4,
   "metadata": {},
   "outputs": [],
   "source": [
    "data = [1,2,3]\n",
    "# Using a method, a function coded into the list object.\n",
    "data.append(4)"
   ]
  },
  {
   "cell_type": "code",
   "execution_count": 5,
   "metadata": {},
   "outputs": [
    {
     "data": {
      "text/plain": [
       "[1, 2, 3, 4]"
      ]
     },
     "execution_count": 5,
     "metadata": {},
     "output_type": "execute_result"
    }
   ],
   "source": [
    "## Data changed without overwritting\n",
    "data"
   ]
  },
  {
   "attachments": {},
   "cell_type": "markdown",
   "metadata": {},
   "source": [
    "![FP vs OOP](https://crs4.github.io/python_for_life_scientists/img/object.jpg)"
   ]
  },
  {
   "cell_type": "markdown",
   "metadata": {},
   "source": [
    "### Nomenclature\n",
    "- Object\n",
    "    - also known as Instance\n",
    "    - it is a unique individual entity.\n",
    "- Attributes\n",
    "    - The characteristics of a given object.\n",
    "    - It usually refers to the DATA part.\n",
    "- Methods\n",
    "    - The functions that belong to a particular object.\n",
    "- Class\n",
    "    - Also known as type\n",
    "    - It is the blueprint, the generic form used to create different objects that share the same characteristics.\n",
    "    \n",
    "#### In Python, both attributes and methods are accessed with the syntax object.attribute or object.method()."
   ]
  },
  {
   "cell_type": "markdown",
   "metadata": {},
   "source": [
    "## Analogy time!\n",
    "### Baking a cake\n",
    "---"
   ]
  },
  {
   "cell_type": "markdown",
   "metadata": {},
   "source": [
    "## Functional programming\n",
    "#### Data Structures\n",
    "- Our ingredients are all kept in the cupboard\n",
    "\n",
    "#### Algorithms\n",
    "- Our recipes are in the cookbook\n",
    "\n",
    "\n",
    "We must go back and forth between them and apply the recipe on the ingredients, making sure that we have all the ingredients and in the right form in order for it all to function.\n",
    "\n",
    "---"
   ]
  },
  {
   "cell_type": "markdown",
   "metadata": {},
   "source": [
    "## OOP\n",
    "#### Data Structures & Algorithms\n",
    "- We have a \"pre-build\" cake mix box that contains all the ingredients we need and the recipe printed on the box itself. Therefore everything is packed together on a single, ready to use, object"
   ]
  },
  {
   "cell_type": "markdown",
   "metadata": {},
   "source": [
    "<img src=\"https://images-na.ssl-images-amazon.com/images/I/91wEGGKE6UL._SL1500_.jpg\" width=\"300\">"
   ]
  },
  {
   "cell_type": "markdown",
   "metadata": {},
   "source": [
    "### Python\n",
    "- Our beloved Python is a Multi-paradigm language, meaning we can use it in either a functional or Object Oriented approach. If we look at it closely, we will see aspects of both on our day to day use of it."
   ]
  },
  {
   "cell_type": "markdown",
   "metadata": {},
   "source": [
    "## Creating an Object\n",
    "\n",
    "If we try to conceive a mobile phone, we can write a dictionary with the characteristics of said phone."
   ]
  },
  {
   "cell_type": "code",
   "execution_count": 6,
   "metadata": {},
   "outputs": [],
   "source": [
    "mobile = {\n",
    "    \"manufacturer\": \"Apple\",\n",
    "    \"model\":\"iPhone 10\",\n",
    "    \"screen_size\":7,\n",
    "    \"weight\":200,\n",
    "    \"color\":\"silver\",\n",
    "    \"RAM\":8,\n",
    "    \"memory\":512,\n",
    "    \"camera\":{\"frontal\":{\"resolution\":\"15MP\"},\n",
    "              \"back\":[{\"type\":\"zoom\",\"resolution\":\"25MP\"},\n",
    "                      {\"type\":\"macro\",\"resolution\":\"25MP\"}]},\n",
    "    \"battery\":{\"type\":\"Lithium\",\"maxCharge\":4500,\"charge\":0.56},\n",
    "    \"apps\":[{\"name\":\"Whatsapp\",\"version\":\"2.3.44\"}]\n",
    "}"
   ]
  },
  {
   "cell_type": "markdown",
   "metadata": {},
   "source": [
    "We can also write functions to change and interact with this object."
   ]
  },
  {
   "cell_type": "code",
   "execution_count": 7,
   "metadata": {},
   "outputs": [],
   "source": [
    "def charge_phone(phone):\n",
    "    phone[\"battery\"][\"charge\"]=1\n",
    "    return phone"
   ]
  },
  {
   "cell_type": "code",
   "execution_count": 8,
   "metadata": {},
   "outputs": [
    {
     "data": {
      "text/plain": [
       "0.56"
      ]
     },
     "execution_count": 8,
     "metadata": {},
     "output_type": "execute_result"
    }
   ],
   "source": [
    "mobile[\"battery\"][\"charge\"]"
   ]
  },
  {
   "cell_type": "code",
   "execution_count": 9,
   "metadata": {},
   "outputs": [
    {
     "data": {
      "text/plain": [
       "1"
      ]
     },
     "execution_count": 9,
     "metadata": {},
     "output_type": "execute_result"
    }
   ],
   "source": [
    "charge_phone(mobile)\n",
    "mobile[\"battery\"][\"charge\"]"
   ]
  },
  {
   "cell_type": "code",
   "execution_count": 10,
   "metadata": {},
   "outputs": [],
   "source": [
    "def install(mobile,app):\n",
    "    mobile[\"apps\"].append(app)"
   ]
  },
  {
   "cell_type": "code",
   "execution_count": 11,
   "metadata": {},
   "outputs": [
    {
     "data": {
      "text/plain": [
       "[{'name': 'Whatsapp', 'version': '2.3.44'}]"
      ]
     },
     "execution_count": 11,
     "metadata": {},
     "output_type": "execute_result"
    }
   ],
   "source": [
    "mobile[\"apps\"]"
   ]
  },
  {
   "cell_type": "code",
   "execution_count": 12,
   "metadata": {},
   "outputs": [
    {
     "data": {
      "text/plain": [
       "[{'name': 'Whatsapp', 'version': '2.3.44'},\n",
       " {'name': 'Zoom', 'version': '1.8.8'}]"
      ]
     },
     "execution_count": 12,
     "metadata": {},
     "output_type": "execute_result"
    }
   ],
   "source": [
    "install(mobile,{\"name\":\"Zoom\",\"version\":\"1.8.8\"})\n",
    "mobile[\"apps\"]"
   ]
  },
  {
   "cell_type": "markdown",
   "metadata": {},
   "source": [
    "### But a single object isn't enough.\n",
    "We made a single phone, but that's just a prototype. When a factory mass produces them, they do not begin from scratch everytime, they use some models, forms, casts and bluprints in other to produce many of them."
   ]
  },
  {
   "cell_type": "markdown",
   "metadata": {},
   "source": [
    "### Class\n",
    "- A class is the blueprint for a type of object"
   ]
  },
  {
   "cell_type": "markdown",
   "metadata": {},
   "source": [
    "#### Not all classes have to be user defined, we constantly use classes and create objects. "
   ]
  },
  {
   "cell_type": "code",
   "execution_count": 13,
   "metadata": {},
   "outputs": [
    {
     "data": {
      "text/plain": [
       "str"
      ]
     },
     "execution_count": 13,
     "metadata": {},
     "output_type": "execute_result"
    }
   ],
   "source": [
    "type(\"hola\")\n",
    "# str is the class of \"hola\""
   ]
  },
  {
   "cell_type": "code",
   "execution_count": 14,
   "metadata": {},
   "outputs": [
    {
     "data": {
      "text/plain": [
       "str"
      ]
     },
     "execution_count": 14,
     "metadata": {},
     "output_type": "execute_result"
    }
   ],
   "source": [
    "x = \"hola\"\n",
    "type(x)"
   ]
  },
  {
   "cell_type": "code",
   "execution_count": 15,
   "metadata": {},
   "outputs": [
    {
     "name": "stdout",
     "output_type": "stream",
     "text": [
      "['__add__', '__class__', '__contains__', '__delattr__', '__dir__', '__doc__', '__eq__', '__format__', '__ge__', '__getattribute__', '__getitem__', '__getnewargs__', '__gt__', '__hash__', '__init__', '__init_subclass__', '__iter__', '__le__', '__len__', '__lt__', '__mod__', '__mul__', '__ne__', '__new__', '__reduce__', '__reduce_ex__', '__repr__', '__rmod__', '__rmul__', '__setattr__', '__sizeof__', '__str__', '__subclasshook__', 'capitalize', 'casefold', 'center', 'count', 'encode', 'endswith', 'expandtabs', 'find', 'format', 'format_map', 'index', 'isalnum', 'isalpha', 'isascii', 'isdecimal', 'isdigit', 'isidentifier', 'islower', 'isnumeric', 'isprintable', 'isspace', 'istitle', 'isupper', 'join', 'ljust', 'lower', 'lstrip', 'maketrans', 'partition', 'replace', 'rfind', 'rindex', 'rjust', 'rpartition', 'rsplit', 'rstrip', 'split', 'splitlines', 'startswith', 'strip', 'swapcase', 'title', 'translate', 'upper', 'zfill']\n"
     ]
    }
   ],
   "source": [
    "# The attributes (including methods of a given variable/type)\n",
    "print(dir(x))"
   ]
  },
  {
   "cell_type": "code",
   "execution_count": 16,
   "metadata": {},
   "outputs": [
    {
     "data": {
      "text/plain": [
       "True"
      ]
     },
     "execution_count": 16,
     "metadata": {},
     "output_type": "execute_result"
    }
   ],
   "source": [
    "x.isalpha()"
   ]
  },
  {
   "cell_type": "markdown",
   "metadata": {},
   "source": [
    "Let's see some objects of the same class (type) and which characteristics they share."
   ]
  },
  {
   "cell_type": "code",
   "execution_count": 17,
   "metadata": {},
   "outputs": [],
   "source": [
    "# Two puppies!\n",
    "milk = {\"species\":\"dog\",\n",
    "        \"sex\":\"female\",\n",
    "        \"name\":\"Milka\",\n",
    "        \"breed\":\"Beagle\"}\n",
    "\n",
    "kira = {\"species\":\"dog\",\n",
    "        \"sex\":\"female\",\n",
    "        \"name\":\"Kira\",\n",
    "        \"breed\":\"Greyhound\"}\n",
    "\n",
    "# If we were to think of a generic universal dog based on a few examples, we would see some attributes are\n",
    "# shared by all and some (such as name) are specific to each one.\n",
    "# We could then prototype the UNIVERSAL DOG\n",
    "\n",
    "all_dogs = {\"species\":\"dog\",\n",
    "            \"sound\":\"bark\"}"
   ]
  },
  {
   "cell_type": "markdown",
   "metadata": {},
   "source": [
    "## An Object is a SPECIMEN\n",
    "## A Class is a SPECIES"
   ]
  },
  {
   "cell_type": "code",
   "execution_count": 18,
   "metadata": {},
   "outputs": [],
   "source": [
    "class Dog:\n",
    "    # The first parameter in every method has to be self.\n",
    "    # Self refers to the object itself. Using this keyword, we allow objects to interact with \n",
    "    # it's own data and make it so that the attributes are available to all the methods on a class\n",
    "    # not only locally where they were defined\n",
    "    def __init__(self,breed,sex,name=\"Unnamed\"):\n",
    "        \"\"\"\n",
    "        The constructor of the class Dog. The constructor method, called __init__, is the method that allows us\n",
    "        to create different instances of this class. We almost never call it explicitly. Instead, python calls it\n",
    "        for us when we call the name of a class as if it were a function, e.g.: Dog()\n",
    "        \"\"\"\n",
    "        print(\"Woof. A puppie is born\")\n",
    "        self.species = \"dog\"\n",
    "        self.breed = breed\n",
    "        self.sex = sex\n",
    "        self.name = name\n",
    "    \n",
    "    # All of the same rules applied to functions are applied to methods, they can have parameters or not \n",
    "    # (except self, which is mandatory), default values, etc.\n",
    "    # Methods ARE functions, only they are stored inside an object.\n",
    "    def present(self):\n",
    "        return f\"Woof woof. Hello, I'm {self.name}, a {self.species} and I'm a {self.sex}!\"\n",
    "    \n",
    "    def baptize(self,new_name):\n",
    "        self.name = new_name"
   ]
  },
  {
   "cell_type": "markdown",
   "metadata": {},
   "source": [
    "### Classes (types) in python are of the type type. 🤔"
   ]
  },
  {
   "cell_type": "code",
   "execution_count": 19,
   "metadata": {},
   "outputs": [
    {
     "data": {
      "text/plain": [
       "type"
      ]
     },
     "execution_count": 19,
     "metadata": {},
     "output_type": "execute_result"
    }
   ],
   "source": [
    "type(Dog)"
   ]
  },
  {
   "cell_type": "code",
   "execution_count": 20,
   "metadata": {},
   "outputs": [
    {
     "name": "stdout",
     "output_type": "stream",
     "text": [
      "Woof. A puppie is born\n"
     ]
    }
   ],
   "source": [
    "# When we call a class like a function, we are calling the __init__ function\n",
    "# This is what creates the object and returns it.\n",
    "puppie = Dog(\"teckel\",\"male\",\"Toby\")"
   ]
  },
  {
   "cell_type": "code",
   "execution_count": 22,
   "metadata": {},
   "outputs": [
    {
     "data": {
      "text/plain": [
       "<__main__.Dog at 0x106e896a0>"
      ]
     },
     "execution_count": 22,
     "metadata": {},
     "output_type": "execute_result"
    }
   ],
   "source": [
    "# This is the default representation of any object. It's class name and it's memory address.\n",
    "# __main__ refers to the file it is currently in.\n",
    "puppie"
   ]
  },
  {
   "cell_type": "code",
   "execution_count": 28,
   "metadata": {},
   "outputs": [
    {
     "data": {
      "text/plain": [
       "__main__.Dog"
      ]
     },
     "execution_count": 28,
     "metadata": {},
     "output_type": "execute_result"
    }
   ],
   "source": [
    "# Of course, we can check it's type\n",
    "type(puppie)"
   ]
  },
  {
   "cell_type": "code",
   "execution_count": 29,
   "metadata": {},
   "outputs": [
    {
     "data": {
      "text/plain": [
       "'teckel'"
      ]
     },
     "execution_count": 29,
     "metadata": {},
     "output_type": "execute_result"
    }
   ],
   "source": [
    "# We can get attributes\n",
    "puppie.breed"
   ]
  },
  {
   "cell_type": "code",
   "execution_count": 30,
   "metadata": {},
   "outputs": [
    {
     "data": {
      "text/plain": [
       "'male'"
      ]
     },
     "execution_count": 30,
     "metadata": {},
     "output_type": "execute_result"
    }
   ],
   "source": [
    "puppie.sex"
   ]
  },
  {
   "cell_type": "code",
   "execution_count": 31,
   "metadata": {},
   "outputs": [
    {
     "data": {
      "text/plain": [
       "'dog'"
      ]
     },
     "execution_count": 31,
     "metadata": {},
     "output_type": "execute_result"
    }
   ],
   "source": [
    "puppie.species"
   ]
  },
  {
   "cell_type": "code",
   "execution_count": 34,
   "metadata": {},
   "outputs": [],
   "source": [
    "# Call a method and store it's return value\n",
    "a = puppie.present()"
   ]
  },
  {
   "cell_type": "code",
   "execution_count": 35,
   "metadata": {},
   "outputs": [
    {
     "data": {
      "text/plain": [
       "\"Woof woof. Hello, I'm Toby, a dog and I'm a male!\""
      ]
     },
     "execution_count": 35,
     "metadata": {},
     "output_type": "execute_result"
    }
   ],
   "source": [
    "a"
   ]
  },
  {
   "cell_type": "code",
   "execution_count": 36,
   "metadata": {},
   "outputs": [],
   "source": [
    "# Changing an attribute\n",
    "puppie.name = \"Bola de Nieve\""
   ]
  },
  {
   "cell_type": "code",
   "execution_count": 37,
   "metadata": {},
   "outputs": [
    {
     "data": {
      "text/plain": [
       "\"Woof woof. Hello, I'm Bola de Nieve, a dog and I'm a male!\""
      ]
     },
     "execution_count": 37,
     "metadata": {},
     "output_type": "execute_result"
    }
   ],
   "source": [
    "puppie.present()"
   ]
  },
  {
   "cell_type": "code",
   "execution_count": 41,
   "metadata": {},
   "outputs": [],
   "source": [
    "# Calling on a method that changes the object\n",
    "a = puppie.baptize(\"Jimmy\") "
   ]
  },
  {
   "cell_type": "code",
   "execution_count": 42,
   "metadata": {},
   "outputs": [
    {
     "name": "stdout",
     "output_type": "stream",
     "text": [
      "None\n"
     ]
    }
   ],
   "source": [
    "# Methods can return None.\n",
    "print(a)"
   ]
  },
  {
   "cell_type": "code",
   "execution_count": 43,
   "metadata": {},
   "outputs": [
    {
     "data": {
      "text/plain": [
       "\"Woof woof. Hello, I'm Jimmy, a dog and I'm a male!\""
      ]
     },
     "execution_count": 43,
     "metadata": {},
     "output_type": "execute_result"
    }
   ],
   "source": [
    "puppie.present()"
   ]
  },
  {
   "cell_type": "code",
   "execution_count": 44,
   "metadata": {},
   "outputs": [],
   "source": [
    "def iam():\n",
    "    return \"IM A DOG CUTE AS F**K\""
   ]
  },
  {
   "cell_type": "code",
   "execution_count": 47,
   "metadata": {},
   "outputs": [],
   "source": [
    "# You can even overwrite methods. \n",
    "puppie.present = iam"
   ]
  },
  {
   "cell_type": "code",
   "execution_count": 48,
   "metadata": {},
   "outputs": [
    {
     "data": {
      "text/plain": [
       "'IM A DOG CUTE AS F**K'"
      ]
     },
     "execution_count": 48,
     "metadata": {},
     "output_type": "execute_result"
    }
   ],
   "source": [
    "puppie.present()"
   ]
  },
  {
   "cell_type": "markdown",
   "metadata": {},
   "source": [
    "### Classes are used to create multiple objects with different specific characteristics."
   ]
  },
  {
   "cell_type": "code",
   "execution_count": 50,
   "metadata": {},
   "outputs": [
    {
     "name": "stdout",
     "output_type": "stream",
     "text": [
      "Woof. A puppie is born\n",
      "Woof. A puppie is born\n",
      "Woof. A puppie is born\n"
     ]
    }
   ],
   "source": [
    "k9 = []\n",
    "for br,sex,name in [(\"huskie\",\"female\",\"Jenny\"),(\"Galgo\",\"female\",\"Daenerys\"),(\"Chihauhauhauahuaha\",\"male\",\"Satanás\")]:\n",
    "    k9.append(Dog(br,sex,name))"
   ]
  },
  {
   "cell_type": "code",
   "execution_count": 51,
   "metadata": {},
   "outputs": [
    {
     "data": {
      "text/plain": [
       "[<__main__.Dog at 0x106eb4490>,\n",
       " <__main__.Dog at 0x106eb4400>,\n",
       " <__main__.Dog at 0x106eb4d90>]"
      ]
     },
     "execution_count": 51,
     "metadata": {},
     "output_type": "execute_result"
    }
   ],
   "source": [
    "canil"
   ]
  },
  {
   "cell_type": "code",
   "execution_count": 52,
   "metadata": {},
   "outputs": [
    {
     "name": "stdout",
     "output_type": "stream",
     "text": [
      "Woof woof. Hello, I'm Jenny, a dog and I'm a female!\n",
      "Woof woof. Hello, I'm Daenerys, a dog and I'm a female!\n",
      "Woof woof. Hello, I'm Satanás, a dog and I'm a male!\n"
     ]
    }
   ],
   "source": [
    "for dog in k9:\n",
    "    print(dog.present())"
   ]
  },
  {
   "cell_type": "markdown",
   "metadata": {},
   "source": [
    "#### Is there a difference between parameter and argument?"
   ]
  },
  {
   "cell_type": "code",
   "execution_count": 53,
   "metadata": {},
   "outputs": [],
   "source": [
    "# Parameters are the variables on the definition of a function\n",
    "def func(num,power):\n",
    "    return num ** power"
   ]
  },
  {
   "cell_type": "code",
   "execution_count": 54,
   "metadata": {},
   "outputs": [
    {
     "data": {
      "text/plain": [
       "8"
      ]
     },
     "execution_count": 54,
     "metadata": {},
     "output_type": "execute_result"
    }
   ],
   "source": [
    "# Arguments are the VALUES upon which we call a function\n",
    "func(2,3)"
   ]
  },
  {
   "cell_type": "markdown",
   "metadata": {},
   "source": [
    "# Inheritance\n",
    "- Let's imagine two different classes that do share some elements in common."
   ]
  },
  {
   "cell_type": "code",
   "execution_count": 55,
   "metadata": {},
   "outputs": [],
   "source": [
    "class Dog:\n",
    "    def __init__(self, sex, name, lastname):\n",
    "        self.sex=sex\n",
    "        full_name = f\"{name} {lastname}\"\n",
    "        self.name=full_name\n",
    "    def speak(self):\n",
    "        return \"Woof woof\"\n",
    "    def present(self):\n",
    "        return f\"Hello. I am a {self.sex} Dog named {self.name}\""
   ]
  },
  {
   "cell_type": "code",
   "execution_count": 56,
   "metadata": {},
   "outputs": [],
   "source": [
    "milka = Dog(\"female\",\"Milka\",\"García\")"
   ]
  },
  {
   "cell_type": "code",
   "execution_count": 57,
   "metadata": {},
   "outputs": [
    {
     "data": {
      "text/plain": [
       "'Woof woof'"
      ]
     },
     "execution_count": 57,
     "metadata": {},
     "output_type": "execute_result"
    }
   ],
   "source": [
    "milka.speak()"
   ]
  },
  {
   "cell_type": "code",
   "execution_count": 58,
   "metadata": {},
   "outputs": [],
   "source": [
    "class Cat:\n",
    "    def __init__(self, sex, name, lastname):\n",
    "        self.sex=sex\n",
    "        full_name = f\"{name} {lastname}\"\n",
    "        self.name=full_name\n",
    "    def speak(self):\n",
    "        return \"Meow\"\n",
    "    def present(self):\n",
    "        return f\"Hello. I am a {self.sex} Cat named {self.name}\""
   ]
  },
  {
   "cell_type": "code",
   "execution_count": 59,
   "metadata": {},
   "outputs": [],
   "source": [
    "mia = Cat(\"female\",\"Mia\",\"Farrow\")"
   ]
  },
  {
   "cell_type": "code",
   "execution_count": 60,
   "metadata": {},
   "outputs": [
    {
     "data": {
      "text/plain": [
       "'Mia Farrow'"
      ]
     },
     "execution_count": 60,
     "metadata": {},
     "output_type": "execute_result"
    }
   ],
   "source": [
    "mia.name"
   ]
  },
  {
   "cell_type": "code",
   "execution_count": 61,
   "metadata": {},
   "outputs": [
    {
     "data": {
      "text/plain": [
       "'Meow'"
      ]
     },
     "execution_count": 61,
     "metadata": {},
     "output_type": "execute_result"
    }
   ],
   "source": [
    "mia.speak()"
   ]
  },
  {
   "cell_type": "code",
   "execution_count": 62,
   "metadata": {},
   "outputs": [
    {
     "data": {
      "text/plain": [
       "'Hello. I am a female Cat named Mia Farrow'"
      ]
     },
     "execution_count": 62,
     "metadata": {},
     "output_type": "execute_result"
    }
   ],
   "source": [
    "mia.present()"
   ]
  },
  {
   "cell_type": "markdown",
   "metadata": {},
   "source": [
    "### Parent Class\n",
    "\n",
    "If we were to start with a more generic (universal) class, such as Pet, we can make use of it into the development of the Child classes Cat and Dog. This process is known as `inheritance`. \n",
    "\n",
    "By doing such, we can make it so that we don't have to change a lot of code if we were to make a change of a Base method or attribute. Instead of fixing Cat, Dog, Lizzard, Snake, Bunny, etc. we can change all of them simultaneously by changing only the base Pet class.\n",
    "\n",
    "\n",
    "\n",
    "##### Parent Class\n",
    "- A class from which another one inherits\n",
    "\n",
    "##### Child Class\n",
    "- A class that inherits from another one"
   ]
  },
  {
   "cell_type": "markdown",
   "metadata": {},
   "source": [
    "![Mando](images/mando.jpeg)"
   ]
  },
  {
   "cell_type": "code",
   "execution_count": 64,
   "metadata": {},
   "outputs": [],
   "source": [
    "class Pet:\n",
    "    def __init__(self, sex, name, lastname):\n",
    "        self.sex=sex\n",
    "        full_name = f\"{name} {lastname}\"\n",
    "        self.name=full_name\n",
    "        self.species = \"pet\"\n",
    "        \n",
    "    def speak(self):\n",
    "        return \"Generic Pet sound\"\n",
    "    \n",
    "    def present(self):\n",
    "        return f\"Hello. I am a {self.sex} {self.species} named {self.name}\""
   ]
  },
  {
   "cell_type": "code",
   "execution_count": 65,
   "metadata": {},
   "outputs": [],
   "source": [
    "pet = Pet(\"female\",\"Leia\",\"Organa\")"
   ]
  },
  {
   "cell_type": "code",
   "execution_count": 66,
   "metadata": {},
   "outputs": [
    {
     "data": {
      "text/plain": [
       "'Generic Pet sound'"
      ]
     },
     "execution_count": 66,
     "metadata": {},
     "output_type": "execute_result"
    }
   ],
   "source": [
    "pet.speak()"
   ]
  },
  {
   "cell_type": "code",
   "execution_count": 67,
   "metadata": {},
   "outputs": [
    {
     "data": {
      "text/plain": [
       "'Hello. I am a female pet named Leia Organa'"
      ]
     },
     "execution_count": 67,
     "metadata": {},
     "output_type": "execute_result"
    }
   ],
   "source": [
    "pet.present()"
   ]
  },
  {
   "cell_type": "markdown",
   "metadata": {},
   "source": [
    "## Resolving methods in Class Inheritance\n",
    "\n",
    "#### There are 3 possible scenarios.\n",
    "\n",
    "- Method defined on `Parent`, but not on Child\n",
    "\n",
    "In this case, the child will inherit the method from parent, it will work exactly the same and it does not have to be redefined.\n",
    "\n",
    "- Method defined on `Child`, but not on Parent\n",
    "\n",
    "The method belongs only tpeo the Child. Inheritance is a one way deal.\n",
    "\n",
    "- Method defined on `both`\n",
    "\n",
    "Two things can happen here, but both are a variant of the same fact. The method written on the `Child` class will overwrite the previously defined on Parent.\n",
    "\n",
    "However, if we want to use the original method and just add a bit more to it, we can always refer to the original method (from parent) with `super()`. The `super()` allows us to call any method from the parent class. Just remember to call it on the new one defined and make sure to get all the attributes it needs. 😉"
   ]
  },
  {
   "cell_type": "code",
   "execution_count": 70,
   "metadata": {},
   "outputs": [],
   "source": [
    "class Cat(Pet):\n",
    "\n",
    "    def __init__(self,sex,name,lastname,color):\n",
    "        # Here we make use of the parent class constructor method with `super()`.\n",
    "        # We only have to pass it the required arguments. Color is not a parameter of Pet, only of cat.\n",
    "        super().__init__(sex,name,lastname)\n",
    "        self.color = color\n",
    "        self.species = \"cat\"\n",
    "    \n",
    "    def speak(self):\n",
    "        return \"Meow\"\n",
    "    \n",
    "    def iam(self):\n",
    "        # All methods can be called with `super()`, as long as they exist in the parent Class. And they can be\n",
    "        # called anywhere.\n",
    "        return f\"{super().present()} and I'm a {self.color} cat, btw.\"\n",
    "    \n",
    "    ### There are \"special\" methods that begin and end with '__'.\n",
    "    ### The only thing special about them is that they are automatically connected by python to\n",
    "    ### outside behaviors and operators. Otherwise, they work just the same.\n",
    "    \n",
    "    # __str__, for instance, is what will be called when we do str(object) or print(object)\n",
    "    def __str__(self):\n",
    "        return \"Cat\"\n",
    "    \n",
    "    def __repr__(self):\n",
    "        return \"\"\"\n",
    "    |\\__/,|   (`\\\\\n",
    "  _.|o o  |_   ) )\n",
    "-(((---(((--------\n",
    "        \"\"\"\n",
    "    \n",
    "    def __mul__(self,other):\n",
    "        if not isinstance(other,Cat):\n",
    "            return \"Oops. It's not going to work\"\n",
    "        if set([self.sex, other.sex]) == {\"male\",\"female\"}:\n",
    "            return Cat(\"unk\",\"Unnamed\",\"No Lastname\",self.color)"
   ]
  },
  {
   "cell_type": "markdown",
   "metadata": {},
   "source": [
    "## Dunder methods\n",
    "### __special__ methods. \n",
    "- They are called `dunders` because of the double underscores preceding and trailing.\n",
    "- Also called magic methods\n",
    "- Connect functions you write with outside behaviors and operators.\n",
    "\n",
    "Here's a quick list of some:\n",
    "\n",
    "- `__repr__` : Official representation string (When object is outputed)\n",
    "- `__str__` : Pretty printable representation (Conversion to string and print)\n",
    "- `__len__` : When object is passed to len function\n",
    "#### Comparison operators\n",
    "- `__eq__` : ==\n",
    "- `__ne__` : !=\n",
    "- `__lt__` : <\n",
    "- `__le__` : <=\n",
    "- `__gt__` : >\n",
    "- `__ge__` : >=\n",
    "\n",
    "#### Operators\n",
    "- `__add__` : +\n",
    "- `__mul__` : *\n",
    "- `__truediv__` : /\n",
    "- `__sub__` : - \n",
    "\n",
    "These refer to when the object is left of the operator. For when they are on the right side, there are methods such as `__radd__`.\n",
    "\n",
    "Check the [docs](https://docs.python.org/3/library/operator.html) for more."
   ]
  },
  {
   "cell_type": "code",
   "execution_count": 71,
   "metadata": {},
   "outputs": [],
   "source": [
    "class Dog(Pet):\n",
    "    \n",
    "    def __init__(self,sex,name,lastname,breed):\n",
    "        super().__init__(sex,name,lastname)\n",
    "        self.color=breed\n",
    "        self.species = \"dog\"\n",
    "        \n",
    "    def speak(self):\n",
    "        return \"Woof Woof\"\n",
    "    \n",
    "    def present(self):\n",
    "        return \"Hola\"\n",
    "    \n",
    "    def iam(self):\n",
    "        return f\"{super().present()} and I'm a {self.color} dog, btw.\"\n",
    "    \n",
    "    def __str__(self):\n",
    "        return \"Dog\"\n",
    "    \n",
    "    def __repr__(self):\n",
    "        return \"\"\"\n",
    "  __    __\n",
    "o-''))_____\\\\\\\\\n",
    "\"--__/ * * * )\n",
    "c_c__/-c____/\n",
    "        \"\"\"\n",
    "    \n",
    "    def __mul__(self,other):\n",
    "        if not isinstance(other,Dog):\n",
    "            return \"Oops. It's not going to work\"\n",
    "        if set([self.sex, other.sex]) == {\"male\",\"female\"}:\n",
    "            print(\"\"\"\n",
    "       /^-^\\\\         /^-----^\\\\\n",
    "      / o o \\\\        V  o o  V\n",
    "     /   Y   \\\\        |  Y  |\n",
    "     V \\ v / V         \\ Q /\n",
    "       / - \\\\           / - \\\\\n",
    "      /    |           |    \\\\\n",
    "(    /     |           |     \\\\     )\n",
    " ===/___) ||           || (___\\\\====\n",
    "            \"\"\")\n",
    "            return Dog(\"unk\",\"Unnamed\",\"No Lastname\",self.color)\n",
    "        \n",
    "    def check_sup(self):\n",
    "        print(super())"
   ]
  },
  {
   "cell_type": "code",
   "execution_count": 72,
   "metadata": {},
   "outputs": [],
   "source": [
    "mia = Cat(\"female\",\"Mia\",\"Farrow\",\"Gray\")"
   ]
  },
  {
   "cell_type": "code",
   "execution_count": 73,
   "metadata": {},
   "outputs": [
    {
     "data": {
      "text/plain": [
       "'Hello. I am a female cat named Mia Farrow'"
      ]
     },
     "execution_count": 73,
     "metadata": {},
     "output_type": "execute_result"
    }
   ],
   "source": [
    "mia.present()"
   ]
  },
  {
   "cell_type": "code",
   "execution_count": 74,
   "metadata": {},
   "outputs": [
    {
     "data": {
      "text/plain": [
       "'Meow'"
      ]
     },
     "execution_count": 74,
     "metadata": {},
     "output_type": "execute_result"
    }
   ],
   "source": [
    "mia.speak()"
   ]
  },
  {
   "cell_type": "code",
   "execution_count": 75,
   "metadata": {},
   "outputs": [
    {
     "data": {
      "text/plain": [
       "'Mia Farrow'"
      ]
     },
     "execution_count": 75,
     "metadata": {},
     "output_type": "execute_result"
    }
   ],
   "source": [
    "mia.name"
   ]
  },
  {
   "cell_type": "code",
   "execution_count": 76,
   "metadata": {},
   "outputs": [
    {
     "data": {
      "text/plain": [
       "'Gray'"
      ]
     },
     "execution_count": 76,
     "metadata": {},
     "output_type": "execute_result"
    }
   ],
   "source": [
    "mia.color"
   ]
  },
  {
   "cell_type": "code",
   "execution_count": 77,
   "metadata": {},
   "outputs": [
    {
     "data": {
      "text/plain": [
       "'Hello. I am a female cat named Mia Farrow'"
      ]
     },
     "execution_count": 77,
     "metadata": {},
     "output_type": "execute_result"
    }
   ],
   "source": [
    "mia.present()"
   ]
  },
  {
   "cell_type": "code",
   "execution_count": 78,
   "metadata": {},
   "outputs": [
    {
     "data": {
      "text/plain": [
       "\"Hello. I am a female cat named Mia Farrow and I'm a Gray cat, btw.\""
      ]
     },
     "execution_count": 78,
     "metadata": {},
     "output_type": "execute_result"
    }
   ],
   "source": [
    "mia.iam()"
   ]
  },
  {
   "cell_type": "code",
   "execution_count": 79,
   "metadata": {},
   "outputs": [],
   "source": [
    "pet = Pet(\"male\",\"Pepe\",\"Lopez\")"
   ]
  },
  {
   "cell_type": "code",
   "execution_count": 80,
   "metadata": {},
   "outputs": [
    {
     "data": {
      "text/plain": [
       "'Hello. I am a male pet named Pepe Lopez'"
      ]
     },
     "execution_count": 80,
     "metadata": {},
     "output_type": "execute_result"
    }
   ],
   "source": [
    "pet.present()"
   ]
  },
  {
   "cell_type": "code",
   "execution_count": 81,
   "metadata": {},
   "outputs": [
    {
     "ename": "AttributeError",
     "evalue": "'Pet' object has no attribute 'iam'",
     "output_type": "error",
     "traceback": [
      "\u001b[0;31m---------------------------------------------------------------------------\u001b[0m",
      "\u001b[0;31mAttributeError\u001b[0m                            Traceback (most recent call last)",
      "\u001b[0;32m<ipython-input-81-427ade0417ab>\u001b[0m in \u001b[0;36m<module>\u001b[0;34m\u001b[0m\n\u001b[0;32m----> 1\u001b[0;31m \u001b[0mpet\u001b[0m\u001b[0;34m.\u001b[0m\u001b[0miam\u001b[0m\u001b[0;34m(\u001b[0m\u001b[0;34m)\u001b[0m\u001b[0;34m\u001b[0m\u001b[0;34m\u001b[0m\u001b[0m\n\u001b[0m",
      "\u001b[0;31mAttributeError\u001b[0m: 'Pet' object has no attribute 'iam'"
     ]
    }
   ],
   "source": [
    "pet.iam()"
   ]
  },
  {
   "cell_type": "code",
   "execution_count": 82,
   "metadata": {},
   "outputs": [
    {
     "data": {
      "text/plain": [
       "__main__.Cat"
      ]
     },
     "execution_count": 82,
     "metadata": {},
     "output_type": "execute_result"
    }
   ],
   "source": [
    "type(mia)"
   ]
  },
  {
   "cell_type": "markdown",
   "metadata": {},
   "source": [
    "#### Objects of classes that inherit are instances of both Parent and Child."
   ]
  },
  {
   "cell_type": "code",
   "execution_count": 87,
   "metadata": {},
   "outputs": [
    {
     "data": {
      "text/plain": [
       "True"
      ]
     },
     "execution_count": 87,
     "metadata": {},
     "output_type": "execute_result"
    }
   ],
   "source": [
    "isinstance(mia,Cat)"
   ]
  },
  {
   "cell_type": "code",
   "execution_count": 88,
   "metadata": {},
   "outputs": [
    {
     "data": {
      "text/plain": [
       "True"
      ]
     },
     "execution_count": 88,
     "metadata": {},
     "output_type": "execute_result"
    }
   ],
   "source": [
    "isinstance(mia,Pet)"
   ]
  },
  {
   "cell_type": "markdown",
   "metadata": {},
   "source": [
    "#### You can inherit from python built-in classes"
   ]
  },
  {
   "cell_type": "code",
   "execution_count": 101,
   "metadata": {},
   "outputs": [],
   "source": [
    "class BetterString(str):\n",
    "    def pretty_print(self):\n",
    "        pretty = f'~~~ {\"-\".join(self.__str__().split())} ~~~~'\n",
    "        print(pretty)"
   ]
  },
  {
   "cell_type": "code",
   "execution_count": 102,
   "metadata": {},
   "outputs": [],
   "source": [
    "mess = BetterString(\"Hola Ironhack Datamad 0121\")"
   ]
  },
  {
   "cell_type": "code",
   "execution_count": 103,
   "metadata": {},
   "outputs": [
    {
     "name": "stdout",
     "output_type": "stream",
     "text": [
      "~~~ Hola-Ironhack-Datamad-0121 ~~~~\n"
     ]
    }
   ],
   "source": [
    "mess.pretty_print()"
   ]
  },
  {
   "cell_type": "markdown",
   "metadata": {},
   "source": [
    "### Some dunder methods in action:"
   ]
  },
  {
   "cell_type": "code",
   "execution_count": 106,
   "metadata": {},
   "outputs": [
    {
     "name": "stdout",
     "output_type": "stream",
     "text": [
      "Cat\n"
     ]
    }
   ],
   "source": [
    "print(mia)"
   ]
  },
  {
   "cell_type": "code",
   "execution_count": 107,
   "metadata": {},
   "outputs": [
    {
     "data": {
      "text/plain": [
       "\n",
       "    |\\__/,|   (`\\\n",
       "  _.|o o  |_   ) )\n",
       "-(((---(((--------\n",
       "        "
      ]
     },
     "execution_count": 107,
     "metadata": {},
     "output_type": "execute_result"
    }
   ],
   "source": [
    "mia"
   ]
  },
  {
   "cell_type": "code",
   "execution_count": 108,
   "metadata": {},
   "outputs": [
    {
     "data": {
      "text/plain": [
       "\"Oops. It's not going to work\""
      ]
     },
     "execution_count": 108,
     "metadata": {},
     "output_type": "execute_result"
    }
   ],
   "source": [
    "mia * 3"
   ]
  },
  {
   "cell_type": "code",
   "execution_count": 109,
   "metadata": {},
   "outputs": [],
   "source": [
    "garf = Cat(\"male\",\"Garfield\",\"Barbera\",\"orange\")"
   ]
  },
  {
   "cell_type": "code",
   "execution_count": 110,
   "metadata": {},
   "outputs": [],
   "source": [
    "kitten = mia * garf"
   ]
  },
  {
   "cell_type": "code",
   "execution_count": 111,
   "metadata": {},
   "outputs": [
    {
     "data": {
      "text/plain": [
       "'Hello. I am a unk cat named Unnamed No Lastname'"
      ]
     },
     "execution_count": 111,
     "metadata": {},
     "output_type": "execute_result"
    }
   ],
   "source": [
    "kitten.present()"
   ]
  },
  {
   "cell_type": "code",
   "execution_count": 112,
   "metadata": {},
   "outputs": [
    {
     "data": {
      "text/plain": [
       "8"
      ]
     },
     "execution_count": 112,
     "metadata": {},
     "output_type": "execute_result"
    }
   ],
   "source": [
    "3+5"
   ]
  },
  {
   "cell_type": "code",
   "execution_count": 113,
   "metadata": {},
   "outputs": [
    {
     "data": {
      "text/plain": [
       "8"
      ]
     },
     "execution_count": 113,
     "metadata": {},
     "output_type": "execute_result"
    }
   ],
   "source": [
    "x = 3\n",
    "x.__add__(5)"
   ]
  },
  {
   "cell_type": "code",
   "execution_count": 114,
   "metadata": {},
   "outputs": [],
   "source": [
    "lady = Dog(\"female\",\"Lady\",\"Lady\",\"Spaniel\")"
   ]
  },
  {
   "cell_type": "code",
   "execution_count": 115,
   "metadata": {},
   "outputs": [],
   "source": [
    "tramp = Dog(\"male\", \"Tramp\", \"Tramp\", \"chucho\")"
   ]
  },
  {
   "cell_type": "code",
   "execution_count": 116,
   "metadata": {},
   "outputs": [
    {
     "name": "stdout",
     "output_type": "stream",
     "text": [
      "\n",
      "       /^-^\\         /^-----^\\\n",
      "      / o o \\        V  o o  V\n",
      "     /   Y   \\        |  Y  |\n",
      "     V \\ v / V         \\ Q /\n",
      "       / - \\           / - \\\n",
      "      /    |           |    \\\n",
      "(    /     |           |     \\     )\n",
      " ===/___) ||           || (___\\====\n",
      "            \n"
     ]
    },
    {
     "data": {
      "text/plain": [
       "\n",
       "  __    __\n",
       "o-''))_____\\\\\n",
       "\"--__/ * * * )\n",
       "c_c__/-c____/\n",
       "        "
      ]
     },
     "execution_count": 116,
     "metadata": {},
     "output_type": "execute_result"
    }
   ],
   "source": [
    "lady * tramp"
   ]
  },
  {
   "cell_type": "code",
   "execution_count": 117,
   "metadata": {},
   "outputs": [
    {
     "data": {
      "text/plain": [
       "'Hola'"
      ]
     },
     "execution_count": 117,
     "metadata": {},
     "output_type": "execute_result"
    }
   ],
   "source": [
    "lady.present()"
   ]
  },
  {
   "cell_type": "code",
   "execution_count": 118,
   "metadata": {},
   "outputs": [
    {
     "data": {
      "text/plain": [
       "\"Hello. I am a female dog named Lady Lady and I'm a Spaniel dog, btw.\""
      ]
     },
     "execution_count": 118,
     "metadata": {},
     "output_type": "execute_result"
    }
   ],
   "source": [
    "lady.iam()"
   ]
  },
  {
   "cell_type": "markdown",
   "metadata": {},
   "source": [
    "## There is such a thing as multiple inheritance\n",
    "### but things become more complex..."
   ]
  },
  {
   "cell_type": "code",
   "execution_count": 147,
   "metadata": {},
   "outputs": [],
   "source": [
    "class BaseA:\n",
    "    def func(self):\n",
    "        return \"A\"\n",
    "\n",
    "class BaseB:\n",
    "    def func(self):\n",
    "        return \"B\"\n",
    "    def b(self):\n",
    "        return \"b\"\n",
    "\n",
    "class Child(BaseA,BaseB):\n",
    "    def check_super(self):\n",
    "        print(super().func())\n",
    "    \n",
    "    # super() will refer to the one that takes immediate preference. If we want to bypass that, \n",
    "    # we must explicitly call from the class.\n",
    "    def check_superB(self):\n",
    "        print(BaseB.func(self))"
   ]
  },
  {
   "cell_type": "code",
   "execution_count": 148,
   "metadata": {},
   "outputs": [
    {
     "data": {
      "text/plain": [
       "<__main__.Child at 0x106eb4550>"
      ]
     },
     "execution_count": 148,
     "metadata": {},
     "output_type": "execute_result"
    }
   ],
   "source": [
    "c = Child()\n",
    "c"
   ]
  },
  {
   "cell_type": "code",
   "execution_count": 149,
   "metadata": {},
   "outputs": [
    {
     "data": {
      "text/plain": [
       "True"
      ]
     },
     "execution_count": 149,
     "metadata": {},
     "output_type": "execute_result"
    }
   ],
   "source": [
    "isinstance(c, Child)"
   ]
  },
  {
   "cell_type": "code",
   "execution_count": 150,
   "metadata": {},
   "outputs": [
    {
     "data": {
      "text/plain": [
       "True"
      ]
     },
     "execution_count": 150,
     "metadata": {},
     "output_type": "execute_result"
    }
   ],
   "source": [
    "isinstance(c, BaseA)"
   ]
  },
  {
   "cell_type": "code",
   "execution_count": 151,
   "metadata": {},
   "outputs": [
    {
     "data": {
      "text/plain": [
       "True"
      ]
     },
     "execution_count": 151,
     "metadata": {},
     "output_type": "execute_result"
    }
   ],
   "source": [
    "isinstance(c, BaseB)"
   ]
  },
  {
   "cell_type": "code",
   "execution_count": 152,
   "metadata": {},
   "outputs": [
    {
     "data": {
      "text/plain": [
       "'A'"
      ]
     },
     "execution_count": 152,
     "metadata": {},
     "output_type": "execute_result"
    }
   ],
   "source": [
    "c.func()"
   ]
  },
  {
   "cell_type": "code",
   "execution_count": 153,
   "metadata": {},
   "outputs": [
    {
     "data": {
      "text/plain": [
       "'b'"
      ]
     },
     "execution_count": 153,
     "metadata": {},
     "output_type": "execute_result"
    }
   ],
   "source": [
    "c.b()"
   ]
  },
  {
   "cell_type": "code",
   "execution_count": 154,
   "metadata": {},
   "outputs": [
    {
     "name": "stdout",
     "output_type": "stream",
     "text": [
      "A\n"
     ]
    }
   ],
   "source": [
    "c.check_super()"
   ]
  },
  {
   "cell_type": "code",
   "execution_count": 155,
   "metadata": {},
   "outputs": [
    {
     "name": "stdout",
     "output_type": "stream",
     "text": [
      "B\n"
     ]
    }
   ],
   "source": [
    "c.check_superB()"
   ]
  },
  {
   "cell_type": "markdown",
   "metadata": {},
   "source": [
    "#### The Method Resolution Order is the order in which methods will take precedent when they have the same name."
   ]
  },
  {
   "cell_type": "code",
   "execution_count": 156,
   "metadata": {},
   "outputs": [
    {
     "data": {
      "text/plain": [
       "(__main__.Child, __main__.BaseA, __main__.BaseB, object)"
      ]
     },
     "execution_count": 156,
     "metadata": {},
     "output_type": "execute_result"
    }
   ],
   "source": [
    "Child.__mro__"
   ]
  },
  {
   "cell_type": "markdown",
   "metadata": {},
   "source": [
    "### Further Resources\n",
    "- Cory Schafer has a great intro video on [OOP in python](https://www.youtube.com/watch?v=ZDa-Z5JzLYM)"
   ]
  },
  {
   "cell_type": "markdown",
   "metadata": {},
   "source": [
    "## Pillars of OOP\n",
    "#### Encapsulation\n",
    "- Both data and behaviors on the same box, the object.\n",
    "- a Cat object has it's name and `present` grouped. You can call this method without passing it the data.\n",
    "\n",
    "#### Abstraction\n",
    "- Being able to process data and execute procedures on it without having to know how it works or match data with compatible function.\n",
    "- Name and lastname are converted to `object.name` without us needing to do it explicitely.\n",
    "\n",
    "#### Inheritance\n",
    "- Develop more specific types from base classes.\n",
    "- Changes in Pet will fix both Cat and Dog, we will solve 2 problems with one single stroke.\n",
    "\n",
    "#### Polymorphism\n",
    "- Providing the same interface to different types.\n",
    "- `speak()` or `multiplying` works on both cats and dogs, even though they are completely different data types.\n",
    "- Think of how easy it is to pass from int + int to list + list, even if it doesn't do the same."
   ]
  },
  {
   "cell_type": "markdown",
   "metadata": {},
   "source": [
    "### An infographic.\n",
    "- Some differences between FP and OOP.\n",
    "- Take it with a grain of salt. Sometimes rules and definitions are meant to be broken."
   ]
  },
  {
   "cell_type": "markdown",
   "metadata": {},
   "source": [
    "![Some Differences](https://miro.medium.com/max/1400/1*9OCTlnrfdIvV6dsBv-ECow.jpeg)"
   ]
  },
  {
   "cell_type": "code",
   "execution_count": null,
   "metadata": {},
   "outputs": [],
   "source": []
  }
 ],
 "metadata": {
  "kernelspec": {
   "display_name": "Python 3",
   "language": "python",
   "name": "python3"
  },
  "language_info": {
   "codemirror_mode": {
    "name": "ipython",
    "version": 3
   },
   "file_extension": ".py",
   "mimetype": "text/x-python",
   "name": "python",
   "nbconvert_exporter": "python",
   "pygments_lexer": "ipython3",
   "version": "3.8.6"
  }
 },
 "nbformat": 4,
 "nbformat_minor": 4
}
