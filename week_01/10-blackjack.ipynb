{
 "cells": [
  {
   "cell_type": "markdown",
   "metadata": {},
   "source": [
    "# Sketching a game of Blackjack (Applied OOP)\n",
    "\n",
    "<img src=\"https://www.nydailynews.com/resizer/zwVN_CR8A-dPHjwaoVWpLrsqLEY=/1200x0/top/cloudfront-us-east-1.images.arcpublishing.com/tronc/3DHGXKFDEBBYPIXKJJHREM5IQE.jpg\" width=500>\n",
    "\n",
    "\n",
    "_- Unrelated Jack Black image_"
   ]
  },
  {
   "cell_type": "code",
   "execution_count": 207,
   "metadata": {},
   "outputs": [],
   "source": [
    "import random\n",
    "# We'll need it later"
   ]
  },
  {
   "cell_type": "code",
   "execution_count": 208,
   "metadata": {},
   "outputs": [],
   "source": [
    "# Let's start with the begining.\n",
    "# Cards are the most elemental object we will use.\n",
    "\n",
    "class Card:\n",
    "    # Let's construct our cards with a value and a suit.\n",
    "    def __init__(self,value,suit):\n",
    "        self.value=value\n",
    "        self.suit=suit\n",
    "        # We also define an `actual_value` attribute to make it easier for us in the future to sum\n",
    "        # and calculate points.\n",
    "        vals = {\"J\":10,\"Q\":10,\"K\":10,\"A\":11}\n",
    "        self.actual_value = value if isinstance(value,int) else vals[value]\n",
    "    \n",
    "    def __repr__(self):\n",
    "        \"\"\"\n",
    "        Making our Card objects a little easier on the eyes, having they just show the value and suit.\n",
    "        The `rjust` method of strings makes it so that they all span 3 characters length.\n",
    "        \"\"\"\n",
    "        return f\"{str(self.value).rjust(3,' ')}{self.suit}\"\n",
    "    \n",
    "    # The addition methods are overwritten here to allow us to do things such as `sum(hand_of_cards)`\n",
    "    # on the future and just abstract a little more on having to calculate the values.\n",
    "    def __add__(self,other):\n",
    "        return self.actual_value + other\n",
    "    def __radd__(self,other):\n",
    "        return self.actual_value + other"
   ]
  },
  {
   "cell_type": "code",
   "execution_count": 168,
   "metadata": {},
   "outputs": [],
   "source": [
    "# Why not group card on a deck object?\n",
    "\n",
    "class Deck:\n",
    "    def __init__(self):\n",
    "        # We initiate the `cards` attribute and fill it with all the 52 card of the deck\n",
    "        self.cards = []\n",
    "        for suit in [\"♠\",\"♥\",\"♦\",\"♣\"]:\n",
    "            # For each of the four suits\n",
    "            for value in [\"A\"] + list(range(2,11)) + [\"J\",\"Q\",\"K\"]:\n",
    "                # For each value in ['A',2,3,4,5,6,7,8,9,10,'J','Q','K']\n",
    "                # We create a list of Card objects\n",
    "                self.cards.append(Card(value,suit))\n",
    "                \n",
    "    def shuffle(self):\n",
    "        # We use this nifty little function to shuffle our deck\n",
    "        random.shuffle(self.cards)\n",
    "        \n",
    "    def draw(self):\n",
    "        # We check whether there are further cards to avoid an IndexError from popping an empty list\n",
    "        if self.cards:\n",
    "            \n",
    "            return self.cards.pop(0)\n",
    "        else:\n",
    "            return \"No more cards!\""
   ]
  },
  {
   "cell_type": "code",
   "execution_count": 224,
   "metadata": {},
   "outputs": [],
   "source": [
    "# And some players!\n",
    "class Player:\n",
    "    def __init__(self,name=\"Player\"):\n",
    "        self.name=name\n",
    "        self.hand=[]\n",
    "        \n",
    "    def take_card(self,card):\n",
    "        self.hand.append(card)\n",
    "        \n",
    "    def hit(self):\n",
    "        hit = input(f\"{self.name}, do you want another card? [y|n]\")\n",
    "        if hit.lower() == \"y\":\n",
    "            return True\n",
    "        elif hit.lower() == \"n\":\n",
    "            return False\n",
    "        else:\n",
    "            print(\"Wrong input. Try again...\")\n",
    "            return self.hit()\n",
    "    \n",
    "    def __repr__(self):\n",
    "        return self.name"
   ]
  },
  {
   "cell_type": "markdown",
   "metadata": {},
   "source": [
    "### Checking the classes out:"
   ]
  },
  {
   "cell_type": "code",
   "execution_count": 225,
   "metadata": {},
   "outputs": [],
   "source": [
    "deck = Deck()"
   ]
  },
  {
   "cell_type": "code",
   "execution_count": 226,
   "metadata": {},
   "outputs": [
    {
     "data": {
      "text/plain": [
       "52"
      ]
     },
     "execution_count": 226,
     "metadata": {},
     "output_type": "execute_result"
    }
   ],
   "source": [
    "len(deck.cards)"
   ]
  },
  {
   "cell_type": "code",
   "execution_count": 227,
   "metadata": {},
   "outputs": [
    {
     "data": {
      "text/plain": [
       "[  A♠,   2♠,   3♠,   4♠,   5♠]"
      ]
     },
     "execution_count": 227,
     "metadata": {},
     "output_type": "execute_result"
    }
   ],
   "source": [
    "deck.cards [:5]"
   ]
  },
  {
   "cell_type": "code",
   "execution_count": 228,
   "metadata": {},
   "outputs": [],
   "source": [
    "deck.shuffle()"
   ]
  },
  {
   "cell_type": "code",
   "execution_count": 229,
   "metadata": {},
   "outputs": [
    {
     "data": {
      "text/plain": [
       "[  6♦,   6♥,   2♠,   9♠,  10♣]"
      ]
     },
     "execution_count": 229,
     "metadata": {},
     "output_type": "execute_result"
    }
   ],
   "source": [
    "deck.cards [:5]"
   ]
  },
  {
   "cell_type": "code",
   "execution_count": 230,
   "metadata": {},
   "outputs": [],
   "source": [
    "player = Player()"
   ]
  },
  {
   "cell_type": "code",
   "execution_count": 231,
   "metadata": {},
   "outputs": [
    {
     "name": "stdout",
     "output_type": "stream",
     "text": [
      "Player, do you want another card? [y|n]\n",
      "Wrong input. Try again...\n",
      "Player, do you want another card? [y|n]adf\n",
      "Wrong input. Try again...\n",
      "Player, do you want another card? [y|n]n\n",
      "False\n"
     ]
    }
   ],
   "source": [
    "print(player.hit())"
   ]
  },
  {
   "cell_type": "code",
   "execution_count": 232,
   "metadata": {},
   "outputs": [
    {
     "data": {
      "text/plain": [
       "[]"
      ]
     },
     "execution_count": 232,
     "metadata": {},
     "output_type": "execute_result"
    }
   ],
   "source": [
    "player.hand"
   ]
  },
  {
   "cell_type": "code",
   "execution_count": 233,
   "metadata": {},
   "outputs": [
    {
     "name": "stdout",
     "output_type": "stream",
     "text": [
      "Player, do you want another card? [y|n]y\n"
     ]
    }
   ],
   "source": [
    "if player.hit():\n",
    "    player.take_card(deck.draw())"
   ]
  },
  {
   "cell_type": "code",
   "execution_count": 234,
   "metadata": {},
   "outputs": [
    {
     "data": {
      "text/plain": [
       "[  6♦]"
      ]
     },
     "execution_count": 234,
     "metadata": {},
     "output_type": "execute_result"
    }
   ],
   "source": [
    "player.hand"
   ]
  },
  {
   "cell_type": "code",
   "execution_count": 235,
   "metadata": {},
   "outputs": [
    {
     "data": {
      "text/plain": [
       "[  6♥,   2♠,   9♠,  10♣,   4♣]"
      ]
     },
     "execution_count": 235,
     "metadata": {},
     "output_type": "execute_result"
    }
   ],
   "source": [
    "# Card taken by player no longer available.\n",
    "deck.cards [:5]"
   ]
  },
  {
   "cell_type": "markdown",
   "metadata": {},
   "source": [
    "## First steps of how a game would go"
   ]
  },
  {
   "cell_type": "code",
   "execution_count": 240,
   "metadata": {},
   "outputs": [],
   "source": [
    "# Creating and shuffling the deck\n",
    "deck = Deck()\n",
    "deck.shuffle()"
   ]
  },
  {
   "cell_type": "code",
   "execution_count": 241,
   "metadata": {},
   "outputs": [],
   "source": [
    "# Initial hand for each player\n",
    "player1 = Player(\"Pepe\")\n",
    "player2 = Player(\"Paco\")\n",
    "for _ in range(2):\n",
    "    player1.take_card(deck.draw())\n",
    "    player2.take_card(deck.draw())"
   ]
  },
  {
   "cell_type": "code",
   "execution_count": 242,
   "metadata": {},
   "outputs": [
    {
     "data": {
      "text/plain": [
       "[  2♠,  10♥]"
      ]
     },
     "execution_count": 242,
     "metadata": {},
     "output_type": "execute_result"
    }
   ],
   "source": [
    "player1.hand"
   ]
  },
  {
   "cell_type": "code",
   "execution_count": 243,
   "metadata": {},
   "outputs": [
    {
     "data": {
      "text/plain": [
       "[  2♣,   4♠]"
      ]
     },
     "execution_count": 243,
     "metadata": {},
     "output_type": "execute_result"
    }
   ],
   "source": [
    "player2.hand"
   ]
  },
  {
   "cell_type": "code",
   "execution_count": 244,
   "metadata": {},
   "outputs": [
    {
     "name": "stdout",
     "output_type": "stream",
     "text": [
      "Pepe, do you want another card? [y|n]y\n",
      "[  2♠,  10♥,   9♠]\n",
      "Paco, do you want another card? [y|n]y\n",
      "[  2♣,   4♠,   K♣]\n",
      "Pepe, do you want another card? [y|n]n\n",
      "Paco, do you want another card? [y|n]y\n",
      "[  2♣,   4♠,   K♣,   3♦]\n",
      "Pepe, do you want another card? [y|n]n\n",
      "Paco, do you want another card? [y|n]y\n",
      "[  2♣,   4♠,   K♣,   3♦,   8♥]\n",
      "Paco lost!\n"
     ]
    }
   ],
   "source": [
    "game_on = True\n",
    "while game_on:\n",
    "    for player in [player1,player2]:\n",
    "        if player.hit():\n",
    "            player.take_card(deck.draw())\n",
    "            print(player.hand)\n",
    "        if sum(player.hand) > 21:\n",
    "            print(f\"{player} lost!\")\n",
    "            game_on=False\n",
    "            break"
   ]
  }
 ],
 "metadata": {
  "kernelspec": {
   "display_name": "Python 3",
   "language": "python",
   "name": "python3"
  },
  "language_info": {
   "codemirror_mode": {
    "name": "ipython",
    "version": 3
   },
   "file_extension": ".py",
   "mimetype": "text/x-python",
   "name": "python",
   "nbconvert_exporter": "python",
   "pygments_lexer": "ipython3",
   "version": "3.8.6"
  }
 },
 "nbformat": 4,
 "nbformat_minor": 4
}
