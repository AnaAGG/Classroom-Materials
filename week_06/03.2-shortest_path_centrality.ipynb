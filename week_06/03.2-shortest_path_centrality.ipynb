{
 "cells": [
  {
   "cell_type": "markdown",
   "metadata": {
    "toc": true
   },
   "source": [
    "<h1>Table of Contents<span class=\"tocSkip\"></span></h1>\n",
    "<div class=\"toc\"><ul class=\"toc-item\"><li><span><a href=\"#Finding-Shortest-Paths\" data-toc-modified-id=\"Finding-Shortest-Paths-1\"><span class=\"toc-item-num\">1&nbsp;&nbsp;</span>Finding Shortest Paths</a></span></li><li><span><a href=\"#Limit-data-to-make-some-things-faster\" data-toc-modified-id=\"Limit-data-to-make-some-things-faster-2\"><span class=\"toc-item-num\">2&nbsp;&nbsp;</span>Limit data to make some things faster</a></span><ul class=\"toc-item\"><li><span><a href=\"#Degree-Centrality\" data-toc-modified-id=\"Degree-Centrality-2.1\"><span class=\"toc-item-num\">2.1&nbsp;&nbsp;</span>Degree Centrality</a></span></li><li><span><a href=\"#Closeness-Centrality\" data-toc-modified-id=\"Closeness-Centrality-2.2\"><span class=\"toc-item-num\">2.2&nbsp;&nbsp;</span>Closeness Centrality</a></span></li><li><span><a href=\"#Eigenvector-Centrality\" data-toc-modified-id=\"Eigenvector-Centrality-2.3\"><span class=\"toc-item-num\">2.3&nbsp;&nbsp;</span>Eigenvector Centrality</a></span></li><li><span><a href=\"#Betweenness-centrality\" data-toc-modified-id=\"Betweenness-centrality-2.4\"><span class=\"toc-item-num\">2.4&nbsp;&nbsp;</span>Betweenness centrality</a></span></li></ul></li></ul></div>"
   ]
  },
  {
   "cell_type": "code",
   "execution_count": null,
   "metadata": {},
   "outputs": [],
   "source": [
    "import pandas as pd\n",
    "import networkx as nx\n",
    "from itertools import combinations"
   ]
  },
  {
   "cell_type": "markdown",
   "metadata": {},
   "source": [
    "**Download Data from [Kaggle](https://www.kaggle.com/stefanoleone992/imdb-extensive-dataset)**\n",
    "\n",
    "Extract it into `/baconapi/data`"
   ]
  },
  {
   "cell_type": "markdown",
   "metadata": {},
   "source": [
    "## Finding Shortest Paths"
   ]
  },
  {
   "cell_type": "code",
   "execution_count": null,
   "metadata": {},
   "outputs": [],
   "source": [
    "movies = pd.read_csv(\"baconapi/data/movies.csv\")\n",
    "movies.head(3)"
   ]
  },
  {
   "cell_type": "code",
   "execution_count": null,
   "metadata": {},
   "outputs": [],
   "source": []
  },
  {
   "cell_type": "code",
   "execution_count": null,
   "metadata": {},
   "outputs": [],
   "source": []
  },
  {
   "cell_type": "code",
   "execution_count": null,
   "metadata": {},
   "outputs": [],
   "source": []
  },
  {
   "cell_type": "code",
   "execution_count": null,
   "metadata": {},
   "outputs": [],
   "source": []
  },
  {
   "cell_type": "code",
   "execution_count": null,
   "metadata": {},
   "outputs": [],
   "source": []
  },
  {
   "cell_type": "code",
   "execution_count": null,
   "metadata": {},
   "outputs": [],
   "source": []
  },
  {
   "cell_type": "code",
   "execution_count": null,
   "metadata": {},
   "outputs": [],
   "source": [
    "G = nx.Graph()"
   ]
  },
  {
   "cell_type": "code",
   "execution_count": null,
   "metadata": {},
   "outputs": [],
   "source": [
    "G.add_edges_from()"
   ]
  },
  {
   "cell_type": "code",
   "execution_count": null,
   "metadata": {},
   "outputs": [],
   "source": [
    "nx.draw_networkx(G)"
   ]
  },
  {
   "cell_type": "code",
   "execution_count": null,
   "metadata": {},
   "outputs": [],
   "source": [
    "movies = movies[movies[\"actors\"].apply(lambda x: type(x)==str)]"
   ]
  },
  {
   "cell_type": "code",
   "execution_count": null,
   "metadata": {},
   "outputs": [],
   "source": [
    "G = nx.Graph()\n",
    "for i, row in movies.iterrows():\n",
    "    pairs = list(combinations(map(lambda x:x.strip(),row[\"actors\"].split(\",\")),2))\n",
    "    G.add_edges_from(pairs)\n",
    "    for pair in pairs:\n",
    "        G.edges[pair][\"movie\"] = G.edges[pair].get(\"movie\",[]) + [row[\"original_title\"]]"
   ]
  },
  {
   "cell_type": "code",
   "execution_count": null,
   "metadata": {},
   "outputs": [],
   "source": [
    "actors = G.nodes()"
   ]
  },
  {
   "cell_type": "code",
   "execution_count": null,
   "metadata": {},
   "outputs": [],
   "source": [
    "len(actors)"
   ]
  },
  {
   "cell_type": "code",
   "execution_count": null,
   "metadata": {},
   "outputs": [],
   "source": [
    "connections = G.edges()"
   ]
  },
  {
   "cell_type": "code",
   "execution_count": null,
   "metadata": {},
   "outputs": [],
   "source": [
    "len(connections)"
   ]
  },
  {
   "cell_type": "code",
   "execution_count": null,
   "metadata": {},
   "outputs": [],
   "source": [
    "actors[\"Antonio Banderas\"]"
   ]
  },
  {
   "cell_type": "code",
   "execution_count": null,
   "metadata": {},
   "outputs": [],
   "source": [
    "actors[\"Kevin Bacon\"]"
   ]
  },
  {
   "cell_type": "code",
   "execution_count": null,
   "metadata": {},
   "outputs": [],
   "source": [
    "list(nx.all_shortest_paths(G,\"Antonio Banderas\",\"Kevin Bacon\"))"
   ]
  },
  {
   "cell_type": "code",
   "execution_count": null,
   "metadata": {},
   "outputs": [],
   "source": [
    "['Antonio Banderas', 'Julianne Moore', 'Kevin Bacon']"
   ]
  },
  {
   "cell_type": "code",
   "execution_count": null,
   "metadata": {},
   "outputs": [],
   "source": [
    "G.edges[('Antonio Banderas', 'Julianne Moore')]"
   ]
  },
  {
   "cell_type": "code",
   "execution_count": null,
   "metadata": {},
   "outputs": [],
   "source": [
    "G.edges[('Julianne Moore', 'Kevin Bacon')]"
   ]
  },
  {
   "cell_type": "code",
   "execution_count": null,
   "metadata": {},
   "outputs": [],
   "source": [
    "#from networkx.readwrite import json_graph\n",
    "# This generates an almost 1GB JSON file with all the data on the graph\n",
    "#data = json_graph.adjacency_data(G)"
   ]
  },
  {
   "cell_type": "markdown",
   "metadata": {},
   "source": [
    "## Limit data to make some things faster"
   ]
  },
  {
   "cell_type": "code",
   "execution_count": null,
   "metadata": {},
   "outputs": [],
   "source": [
    "movies.shape"
   ]
  },
  {
   "cell_type": "code",
   "execution_count": null,
   "metadata": {},
   "outputs": [],
   "source": [
    "movies.columns"
   ]
  },
  {
   "cell_type": "code",
   "execution_count": null,
   "metadata": {},
   "outputs": [],
   "source": [
    "select_movies = movies.sort_values(by=\"votes\",ascending=False).iloc[:500]"
   ]
  },
  {
   "cell_type": "code",
   "execution_count": null,
   "metadata": {},
   "outputs": [],
   "source": [
    "select_movies.shape"
   ]
  },
  {
   "cell_type": "code",
   "execution_count": null,
   "metadata": {},
   "outputs": [],
   "source": [
    "G = nx.Graph()\n",
    "for i, row in select_movies.iterrows():\n",
    "    pairs = list(combinations(map(lambda x:x.strip(),row[\"actors\"].split(\",\")),2))\n",
    "    G.add_edges_from(pairs)\n",
    "    for pair in pairs:\n",
    "        G.edges[pair][\"movie\"] = G.edges[pair].get(\"movie\",[]) + [row[\"original_title\"]]"
   ]
  },
  {
   "cell_type": "code",
   "execution_count": null,
   "metadata": {},
   "outputs": [],
   "source": [
    "actors = G.nodes()\n",
    "len(actors)"
   ]
  },
  {
   "cell_type": "markdown",
   "metadata": {},
   "source": [
    "### Degree Centrality\n",
    "\n",
    "Degree centrality\n",
    "Historically first and conceptually simplest is degree centrality, which is defined as the number of links incident upon a node (i.e., the number of ties that a node has) over the total number of edges."
   ]
  },
  {
   "cell_type": "code",
   "execution_count": null,
   "metadata": {},
   "outputs": [],
   "source": [
    "degree = [{k:v} for k,v in nx.degree_centrality(G).items()]\n",
    "sorted(degree,key= lambda x: list(x.values())[0], reverse=True)"
   ]
  },
  {
   "cell_type": "code",
   "execution_count": null,
   "metadata": {},
   "outputs": [],
   "source": [
    "[(i,c) for i,c in enumerate(degree) if \"Kevin Bacon\" in c]"
   ]
  },
  {
   "cell_type": "markdown",
   "metadata": {},
   "source": [
    "### Closeness Centrality\n",
    "In a connected graph, the normalized closeness centrality (or closeness) of a node is the average length of the shortest path between the node and all other nodes in the graph. Thus the more central a node is, the closer it is to all other nodes.\n",
    "\n",
    "$$C(x)= \\frac{1}{\\sum_y d(y,x)}$$"
   ]
  },
  {
   "cell_type": "code",
   "execution_count": null,
   "metadata": {},
   "outputs": [],
   "source": [
    "closeness = [{k:v} for k,v in nx.closeness_centrality(G).items()]\n",
    "sorted(closeness,key= lambda x: list(x.values())[0], reverse=True)"
   ]
  },
  {
   "cell_type": "code",
   "execution_count": null,
   "metadata": {},
   "outputs": [],
   "source": [
    "[(i,c) for i,c in enumerate(closeness) if \"Kevin Bacon\" in c]"
   ]
  },
  {
   "cell_type": "markdown",
   "metadata": {},
   "source": [
    "### Eigenvector Centrality\n",
    "Eigenvector centrality (also called eigencentrality) is a measure of the influence of a node in a network. It assigns relative scores to all nodes in the network based on the concept that connections to high-scoring nodes contribute more to the score of the node in question than equal connections to low-scoring nodes. Google's PageRank and the Katz centrality are variants of the eigenvector centrality.\n",
    "\n",
    "For a given graph $G:=(V,E)$ with $|V|$ number of vertices let $A = (a_{v,t})$ be the [[adjacency matrix]], i.e. $a_{v,t} = 1$ if vertex $v$ is linked to vertex $t$, and $a_{v,t} = 0$ otherwise. The relative centrality score of vertex $v$ can be defined:\n",
    "\n",
    "$$x_v = \\frac{1}{\\lambda} \\sum_{t \\in M(v)}x_t = \\frac{1}{\\lambda} \\sum_{t \\in G} a_{v,t}x_t$$\n",
    "\n",
    "where $M(v)$ is a set of the neighbors of $v$ and $\\lambda$ is a constant. With a small rearrangement this can be rewritten in vector notation as the eigenvector equation\n",
    "\n",
    "$$\\mathbf{Ax} = {\\lambda}\\mathbf{x}$$"
   ]
  },
  {
   "cell_type": "code",
   "execution_count": null,
   "metadata": {},
   "outputs": [],
   "source": [
    "eigenvector = [{k:v} for k,v in nx.eigenvector_centrality(G).items()]\n",
    "sorted(eigenvector,key= lambda x: list(x.values())[0], reverse=True)"
   ]
  },
  {
   "cell_type": "code",
   "execution_count": null,
   "metadata": {},
   "outputs": [],
   "source": [
    "[(i,c) for i,c in enumerate(eigenvector) if \"Kevin Bacon\" in c]"
   ]
  },
  {
   "cell_type": "markdown",
   "metadata": {},
   "source": [
    "### Betweenness centrality\n",
    "\n",
    "Betweenness centrality quantifies the number of times a node acts as a bridge along the shortest path between two other nodes. \n",
    "\n",
    "The betweenness of a vertex <math>v</math> in a graph <math>G:=(V,E)</math> with <math>V</math> vertices is computed as follows:\n",
    "\n",
    "* For each pair of vertices $(s,t)$, compute the shortest paths between them.\n",
    "* For each pair of vertices $(s,t)$, determine the fraction of shortest paths that pass through the vertex in question (here, vertex $v$).\n",
    "* Sum this fraction over all pairs of vertices $(s,t)$."
   ]
  },
  {
   "cell_type": "code",
   "execution_count": null,
   "metadata": {},
   "outputs": [],
   "source": [
    "# Takes forever...\n",
    "betweenness = [{k:v} for k,v in nx.betweenness_centrality(G).items()]\n",
    "sorted(betweenness,key= lambda x: list(x.values())[0], reverse=True)"
   ]
  },
  {
   "cell_type": "code",
   "execution_count": null,
   "metadata": {},
   "outputs": [],
   "source": [
    "[(i,c) for i,c in enumerate(betweenness) if \"Kevin Bacon\" in c]"
   ]
  },
  {
   "cell_type": "code",
   "execution_count": null,
   "metadata": {},
   "outputs": [],
   "source": [
    "florence = nx.florentine_families_graph()"
   ]
  },
  {
   "cell_type": "code",
   "execution_count": null,
   "metadata": {},
   "outputs": [],
   "source": [
    "nx.draw_networkx(florence)"
   ]
  },
  {
   "cell_type": "code",
   "execution_count": null,
   "metadata": {},
   "outputs": [],
   "source": [
    "nx.betweenness_centrality(florence)"
   ]
  }
 ],
 "metadata": {
  "kernelspec": {
   "display_name": "Python 3",
   "language": "python",
   "name": "python3"
  },
  "language_info": {
   "codemirror_mode": {
    "name": "ipython",
    "version": 3
   },
   "file_extension": ".py",
   "mimetype": "text/x-python",
   "name": "python",
   "nbconvert_exporter": "python",
   "pygments_lexer": "ipython3",
   "version": "3.8.6"
  },
  "toc": {
   "base_numbering": 1,
   "nav_menu": {},
   "number_sections": true,
   "sideBar": true,
   "skip_h1_title": false,
   "title_cell": "Table of Contents",
   "title_sidebar": "Contents",
   "toc_cell": true,
   "toc_position": {},
   "toc_section_display": true,
   "toc_window_display": true
  }
 },
 "nbformat": 4,
 "nbformat_minor": 4
}
