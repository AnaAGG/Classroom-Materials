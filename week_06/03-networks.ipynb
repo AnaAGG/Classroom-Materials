{
 "cells": [
  {
   "cell_type": "markdown",
   "metadata": {},
   "source": [
    "# Network Analysis\n",
    "\n",
    "![](https://camo.githubusercontent.com/4dfb413bdf328d539290204d4ff3b396b7c08612/68747470733a2f2f7777772e616e6e616c696e6468666f756e646174696f6e2e6f72672f73697465732f64656661756c742f66696c65732f7374796c65732f6d61696e5f696d6167655f6465736b746f702f7075626c69632f323031392d31302f62672d66656174757265642d7365636f6e642e6a7067)"
   ]
  },
  {
   "cell_type": "markdown",
   "metadata": {
    "toc": true
   },
   "source": [
    "<h1>Table of Contents<span class=\"tocSkip\"></span></h1>\n",
    "<div class=\"toc\"><ul class=\"toc-item\"><li><span><a href=\"#networkx\" data-toc-modified-id=\"networkx-1\"><span class=\"toc-item-num\">1&nbsp;&nbsp;</span>networkx</a></span><ul class=\"toc-item\"><li><span><a href=\"#Installation\" data-toc-modified-id=\"Installation-1.1\"><span class=\"toc-item-num\">1.1&nbsp;&nbsp;</span>Installation</a></span></li></ul></li><li><span><a href=\"#Graph\" data-toc-modified-id=\"Graph-2\"><span class=\"toc-item-num\">2&nbsp;&nbsp;</span>Graph</a></span><ul class=\"toc-item\"><li><span><a href=\"#Examples\" data-toc-modified-id=\"Examples-2.1\"><span class=\"toc-item-num\">2.1&nbsp;&nbsp;</span>Examples</a></span></li></ul></li><li><span><a href=\"#Why-are-Networks-so-important?\" data-toc-modified-id=\"Why-are-Networks-so-important?-3\"><span class=\"toc-item-num\">3&nbsp;&nbsp;</span>Why are Networks so important?</a></span></li><li><span><a href=\"#Representing-Graphs\" data-toc-modified-id=\"Representing-Graphs-4\"><span class=\"toc-item-num\">4&nbsp;&nbsp;</span>Representing Graphs</a></span><ul class=\"toc-item\"><li><span><a href=\"#Edge-list\" data-toc-modified-id=\"Edge-list-4.1\"><span class=\"toc-item-num\">4.1&nbsp;&nbsp;</span>Edge list</a></span></li><li><span><a href=\"#Adjacency-Matrix\" data-toc-modified-id=\"Adjacency-Matrix-4.2\"><span class=\"toc-item-num\">4.2&nbsp;&nbsp;</span>Adjacency Matrix</a></span></li><li><span><a href=\"#Exercises\" data-toc-modified-id=\"Exercises-4.3\"><span class=\"toc-item-num\">4.3&nbsp;&nbsp;</span>Exercises</a></span></li></ul></li><li><span><a href=\"#Constructing-Graphs-in-python\" data-toc-modified-id=\"Constructing-Graphs-in-python-5\"><span class=\"toc-item-num\">5&nbsp;&nbsp;</span>Constructing Graphs in python</a></span><ul class=\"toc-item\"><li><span><a href=\"#Graph-Object\" data-toc-modified-id=\"Graph-Object-5.1\"><span class=\"toc-item-num\">5.1&nbsp;&nbsp;</span>Graph Object</a></span></li><li><span><a href=\"#Add-Nodes\" data-toc-modified-id=\"Add-Nodes-5.2\"><span class=\"toc-item-num\">5.2&nbsp;&nbsp;</span>Add Nodes</a></span></li><li><span><a href=\"#Add-attributes-to-nodes\" data-toc-modified-id=\"Add-attributes-to-nodes-5.3\"><span class=\"toc-item-num\">5.3&nbsp;&nbsp;</span>Add attributes to nodes</a></span></li><li><span><a href=\"#Add-Edges\" data-toc-modified-id=\"Add-Edges-5.4\"><span class=\"toc-item-num\">5.4&nbsp;&nbsp;</span>Add Edges</a></span></li><li><span><a href=\"#Add-attributes-to-nodes\" data-toc-modified-id=\"Add-attributes-to-nodes-5.5\"><span class=\"toc-item-num\">5.5&nbsp;&nbsp;</span>Add attributes to nodes</a></span></li></ul></li><li><span><a href=\"#Plotting-Graph\" data-toc-modified-id=\"Plotting-Graph-6\"><span class=\"toc-item-num\">6&nbsp;&nbsp;</span>Plotting Graph</a></span></li><li><span><a href=\"#Getting-Adjacency-Matrix\" data-toc-modified-id=\"Getting-Adjacency-Matrix-7\"><span class=\"toc-item-num\">7&nbsp;&nbsp;</span>Getting Adjacency Matrix</a></span></li><li><span><a href=\"#Creating-Graph-from-Edge-List-or-Adjacency-Matrix\" data-toc-modified-id=\"Creating-Graph-from-Edge-List-or-Adjacency-Matrix-8\"><span class=\"toc-item-num\">8&nbsp;&nbsp;</span>Creating Graph from Edge List or Adjacency Matrix</a></span></li></ul></div>"
   ]
  },
  {
   "cell_type": "markdown",
   "metadata": {},
   "source": [
    "## networkx\n",
    "\n",
    "Today we will learn about Networks and Network Analysis in python.\n",
    "\n",
    "For that, we will use the `networkx` library.\n",
    "\n",
    "Check out the [docs](https://networkx.org/documentation/stable/)\n",
    "\n",
    "### Installation\n",
    "\n",
    "You can install it with \n",
    "`conda install -c anaconda network` \n",
    "using conda.\n",
    "\n",
    "Or with pip, using\n",
    "`pip3 install networkx`"
   ]
  },
  {
   "cell_type": "code",
   "execution_count": null,
   "metadata": {},
   "outputs": [],
   "source": [
    "import networkx as nx\n",
    "import pandas as pd"
   ]
  },
  {
   "cell_type": "markdown",
   "metadata": {},
   "source": [
    "## Graph\n",
    "\n",
    "In Mathematics, a [graph](https://en.wikipedia.org/wiki/Graph_(discrete_mathematics)) is a set of objects that are somehow related to each other. Each object is referred to as a `node` (or vertix) and the relations as `edges` (or links).\n",
    "\n",
    "![](https://media.geeksforgeeks.org/wp-content/uploads/SIMPLE-GRAPH.jpg)\n",
    "\n",
    "Depending on the real world problem we are trying to model, we have to use a different type of graph. For this decision, we must look at the edges  or the relations of our objects. It can be one of 3 possiblilities:\n",
    "\n",
    "![](images/edges.png)"
   ]
  },
  {
   "cell_type": "markdown",
   "metadata": {},
   "source": [
    "### Examples\n",
    "**Social Network**\n",
    "![](https://miro.medium.com/max/1103/0*KIKnUvzdIkp5zcDJ)\n",
    "\n",
    "**Games**\n",
    "![](https://laughingsquid.com/wp-content/uploads/how-to-play-20110520-080642.jpg)\n",
    "\n",
    "**Ecological network**\n",
    "![](https://i0.wp.com/s-media-cache-ak0.pinimg.com/originals/f5/77/cb/f577cbfdedf192640a6379f8dd6573a1.jpg)\n",
    "\n",
    "**Airplane routes**\n",
    "![](https://paulbogard.net/images/flight-graphs/2020-thumb.png)"
   ]
  },
  {
   "cell_type": "markdown",
   "metadata": {},
   "source": [
    "## Why are Networks so important?\n",
    "- **[Vulnerability due to Interconnectivity](http://networksciencebook.com/chapter/1#vulnerability)**\n",
    ">![](http://networksciencebook.com/images/ch-01/figure-1-1.jpg)\n",
    ">_Northeast blackout of 2003_\n",
    "\n",
    "- **[Social Network recommendations and user profiling](https://www.semanticscholar.org/paper/Leaking-privacy-and-shadow-profiles-in-online-Garc%C3%ADa/63c0824e349611cc8fe2fcd945af12b87a09e237)**\n",
    "\n",
    "- **[Political Polarization and Echo Chambers](https://www.fastcompany.com/1769687/infographic-day-does-twitter-make-our-politics-worse)**\n",
    ">![](https://images.fastcompany.com/upload/Twitter-Polarized-B.jpg)\n",
    ">_Retweet Networks in the 2010 USA elections_\n",
    "\n",
    "- **[Small World Effect](https://en.wikipedia.org/wiki/Small-world_experiment)**\n",
    "> - [Also, the Six Degrees of Kevin Bacon](https://en.wikipedia.org/wiki/Six_Degrees_of_Kevin_Bacon)"
   ]
  },
  {
   "cell_type": "markdown",
   "metadata": {},
   "source": [
    "## Representing Graphs\n",
    "![](https://www.researchgate.net/profile/Stein_Malerud/publication/252675933/figure/fig1/AS:652972975476737@1532692297739/A-simple-undirected-graph-with-nodes-and-edges.png)\n",
    "### Edge list\n",
    "To represent a graph, we may list all the edges."
   ]
  },
  {
   "cell_type": "code",
   "execution_count": null,
   "metadata": {},
   "outputs": [],
   "source": [
    "edge_list = pd.read_csv(\"data/edges.csv\")\n",
    "edge_list"
   ]
  },
  {
   "cell_type": "markdown",
   "metadata": {},
   "source": [
    "### Adjacency Matrix\n",
    "Alternatively, we can write a square matrix, with all the nodes on both rows and columns, marking 1 for a connection and 0 for no connection.\n",
    "\n",
    "Undirected graphs will have symmetrical matrix.\n",
    "\n",
    "On weighted models, the value on the matrix may be the weight."
   ]
  },
  {
   "cell_type": "code",
   "execution_count": null,
   "metadata": {},
   "outputs": [],
   "source": [
    "adjacency_matrix = pd.read_csv(\"data/adjacency.csv\", index_col=0)\n",
    "adjacency_matrix"
   ]
  },
  {
   "cell_type": "markdown",
   "metadata": {},
   "source": [
    "### Exercises\n",
    "Write the adjacency matrix for the following graphs:\n",
    "\n",
    "![](images/exercise.png)"
   ]
  },
  {
   "cell_type": "markdown",
   "metadata": {},
   "source": [
    "## Constructing Graphs in python\n",
    "### Graph Object\n",
    "**nx.Graph**\n",
    "\n",
    ">Simple undirected Graph\n",
    "\n",
    "**nx.DiGraph**\n",
    "\n",
    ">Directed Graph\n",
    "\n",
    "**nx.MultiGraph**\n",
    "\n",
    ">Multiedge (unirected) Graph\n",
    "\n",
    "**nx.MultiDiGraph**\n",
    "\n",
    ">Multiedge Directed Graph"
   ]
  },
  {
   "cell_type": "code",
   "execution_count": null,
   "metadata": {},
   "outputs": [],
   "source": [
    "G = nx.Graph()\n",
    "type(G)"
   ]
  },
  {
   "cell_type": "markdown",
   "metadata": {},
   "source": [
    "### Add Nodes"
   ]
  },
  {
   "cell_type": "code",
   "execution_count": null,
   "metadata": {},
   "outputs": [],
   "source": [
    "G.nodes"
   ]
  },
  {
   "cell_type": "code",
   "execution_count": null,
   "metadata": {},
   "outputs": [],
   "source": [
    "G.add_nodes_from()"
   ]
  },
  {
   "cell_type": "code",
   "execution_count": null,
   "metadata": {},
   "outputs": [],
   "source": [
    "G.nodes"
   ]
  },
  {
   "cell_type": "markdown",
   "metadata": {},
   "source": [
    "### Add attributes to nodes"
   ]
  },
  {
   "cell_type": "code",
   "execution_count": null,
   "metadata": {},
   "outputs": [],
   "source": []
  },
  {
   "cell_type": "code",
   "execution_count": null,
   "metadata": {},
   "outputs": [],
   "source": [
    "G.nodes[]"
   ]
  },
  {
   "cell_type": "code",
   "execution_count": null,
   "metadata": {},
   "outputs": [],
   "source": [
    "G.nodes(data=True)"
   ]
  },
  {
   "cell_type": "markdown",
   "metadata": {},
   "source": [
    "### Add Edges"
   ]
  },
  {
   "cell_type": "code",
   "execution_count": null,
   "metadata": {},
   "outputs": [],
   "source": [
    "G.edges"
   ]
  },
  {
   "cell_type": "code",
   "execution_count": null,
   "metadata": {},
   "outputs": [],
   "source": [
    "G.add_edge()\n",
    "G.add_edge()"
   ]
  },
  {
   "cell_type": "code",
   "execution_count": null,
   "metadata": {},
   "outputs": [],
   "source": [
    "G.edges"
   ]
  },
  {
   "cell_type": "markdown",
   "metadata": {},
   "source": [
    "### Add attributes to nodes\n"
   ]
  },
  {
   "cell_type": "code",
   "execution_count": null,
   "metadata": {},
   "outputs": [],
   "source": [
    "G.edges[]"
   ]
  },
  {
   "cell_type": "code",
   "execution_count": null,
   "metadata": {},
   "outputs": [],
   "source": [
    "G.edges(data=True)"
   ]
  },
  {
   "cell_type": "markdown",
   "metadata": {},
   "source": [
    "**Undirected Edges**"
   ]
  },
  {
   "cell_type": "code",
   "execution_count": null,
   "metadata": {},
   "outputs": [],
   "source": [
    "G.edges[]"
   ]
  },
  {
   "cell_type": "code",
   "execution_count": null,
   "metadata": {},
   "outputs": [],
   "source": [
    "G.edges[]"
   ]
  },
  {
   "cell_type": "markdown",
   "metadata": {},
   "source": [
    "## Plotting Graph"
   ]
  },
  {
   "cell_type": "code",
   "execution_count": null,
   "metadata": {},
   "outputs": [],
   "source": [
    "nx.draw_networkx(G, node_color='r', font_color='k')"
   ]
  },
  {
   "cell_type": "code",
   "execution_count": null,
   "metadata": {},
   "outputs": [],
   "source": [
    "G.add_edge(\"A\",\"C\")\n",
    "nx.draw_networkx(G, node_color='r', font_color='k')"
   ]
  },
  {
   "cell_type": "markdown",
   "metadata": {},
   "source": [
    "## Getting Adjacency Matrix"
   ]
  },
  {
   "cell_type": "code",
   "execution_count": null,
   "metadata": {},
   "outputs": [],
   "source": [
    "matrix = nx.adjacency_matrix(G).todense()\n",
    "matrix"
   ]
  },
  {
   "cell_type": "code",
   "execution_count": null,
   "metadata": {},
   "outputs": [],
   "source": [
    "pd.DataFrame(matrix, columns=G.nodes(), index=G.nodes())"
   ]
  },
  {
   "cell_type": "markdown",
   "metadata": {},
   "source": [
    "## Creating Graph from Edge List or Adjacency Matrix"
   ]
  },
  {
   "cell_type": "code",
   "execution_count": null,
   "metadata": {},
   "outputs": [],
   "source": [
    "edge_list"
   ]
  },
  {
   "cell_type": "code",
   "execution_count": null,
   "metadata": {},
   "outputs": [],
   "source": [
    "G = nx.from_pandas_edgelist(edge_list,  source='Source', target='Target')"
   ]
  },
  {
   "cell_type": "code",
   "execution_count": null,
   "metadata": {},
   "outputs": [],
   "source": [
    "nx.draw_networkx(G, node_color='r', font_color='k')"
   ]
  },
  {
   "cell_type": "code",
   "execution_count": null,
   "metadata": {},
   "outputs": [],
   "source": [
    "adjacency_matrix"
   ]
  },
  {
   "cell_type": "code",
   "execution_count": null,
   "metadata": {},
   "outputs": [],
   "source": [
    "adjacency_matrix.index = adjacency_matrix.index.astype(str)\n",
    "G = nx.from_pandas_adjacency(adjacency_matrix)"
   ]
  },
  {
   "cell_type": "code",
   "execution_count": null,
   "metadata": {},
   "outputs": [],
   "source": [
    "nx.draw_networkx(G, node_color='r', font_color='k')"
   ]
  }
 ],
 "metadata": {
  "kernelspec": {
   "display_name": "Python 3",
   "language": "python",
   "name": "python3"
  },
  "language_info": {
   "codemirror_mode": {
    "name": "ipython",
    "version": 3
   },
   "file_extension": ".py",
   "mimetype": "text/x-python",
   "name": "python",
   "nbconvert_exporter": "python",
   "pygments_lexer": "ipython3",
   "version": "3.8.6"
  },
  "toc": {
   "base_numbering": 1,
   "nav_menu": {},
   "number_sections": true,
   "sideBar": true,
   "skip_h1_title": true,
   "title_cell": "Table of Contents",
   "title_sidebar": "Contents",
   "toc_cell": true,
   "toc_position": {
    "height": "calc(100% - 180px)",
    "left": "10px",
    "top": "150px",
    "width": "231.2px"
   },
   "toc_section_display": true,
   "toc_window_display": true
  }
 },
 "nbformat": 4,
 "nbformat_minor": 4
}
