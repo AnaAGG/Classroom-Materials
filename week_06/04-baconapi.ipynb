{
 "cells": [
  {
   "cell_type": "markdown",
   "metadata": {},
   "source": [
    "# Designing an API"
   ]
  },
  {
   "cell_type": "markdown",
   "metadata": {
    "toc": true
   },
   "source": [
    "<h1>Table of Contents<span class=\"tocSkip\"></span></h1>\n",
    "<div class=\"toc\"><ul class=\"toc-item\"><li><span><a href=\"#Endpoints\" data-toc-modified-id=\"Endpoints-1\"><span class=\"toc-item-num\">1&nbsp;&nbsp;</span>Endpoints</a></span></li><li><span><a href=\"#Prepare-Data\" data-toc-modified-id=\"Prepare-Data-2\"><span class=\"toc-item-num\">2&nbsp;&nbsp;</span>Prepare Data</a></span><ul class=\"toc-item\"><li><span><a href=\"#Create-actors-collection\" data-toc-modified-id=\"Create-actors-collection-2.1\"><span class=\"toc-item-num\">2.1&nbsp;&nbsp;</span>Create actors collection</a></span></li><li><span><a href=\"#Create-movies-collection\" data-toc-modified-id=\"Create-movies-collection-2.2\"><span class=\"toc-item-num\">2.2&nbsp;&nbsp;</span>Create movies collection</a></span></li><li><span><a href=\"#Prepare-network\" data-toc-modified-id=\"Prepare-network-2.3\"><span class=\"toc-item-num\">2.3&nbsp;&nbsp;</span>Prepare network</a></span></li></ul></li><li><span><a href=\"#Write-Endpoints\" data-toc-modified-id=\"Write-Endpoints-3\"><span class=\"toc-item-num\">3&nbsp;&nbsp;</span>Write Endpoints</a></span></li></ul></div>"
   ]
  },
  {
   "cell_type": "markdown",
   "metadata": {},
   "source": [
    "## Endpoints\n",
    "\n",
    "|route|parameters|description|\n",
    "|-----|----------|-----------|\n",
    "|/    |          |The root endpoint, with welcome message|\n",
    "|/search/movie|title|Searches for movies that match the given title|\n",
    "|/search/actor|name |Searches for actors that match the given name |\n",
    "|/bacon|source,target,all=false|Returns a random shortest path between actor source and actor target. If all=true, returns all the shortest paths|"
   ]
  },
  {
   "cell_type": "markdown",
   "metadata": {},
   "source": [
    "## Prepare Data"
   ]
  },
  {
   "cell_type": "markdown",
   "metadata": {},
   "source": [
    "### Create actors collection"
   ]
  },
  {
   "cell_type": "code",
   "execution_count": null,
   "metadata": {},
   "outputs": [],
   "source": []
  },
  {
   "cell_type": "markdown",
   "metadata": {},
   "source": [
    "### Create movies collection"
   ]
  },
  {
   "cell_type": "code",
   "execution_count": null,
   "metadata": {},
   "outputs": [],
   "source": []
  },
  {
   "cell_type": "markdown",
   "metadata": {},
   "source": [
    "### Prepare network\n",
    "**Export edges to collection**"
   ]
  },
  {
   "cell_type": "code",
   "execution_count": null,
   "metadata": {},
   "outputs": [],
   "source": []
  },
  {
   "cell_type": "markdown",
   "metadata": {},
   "source": [
    "## Write Endpoints"
   ]
  },
  {
   "cell_type": "code",
   "execution_count": null,
   "metadata": {},
   "outputs": [],
   "source": []
  }
 ],
 "metadata": {
  "kernelspec": {
   "display_name": "Python 3",
   "language": "python",
   "name": "python3"
  },
  "language_info": {
   "codemirror_mode": {
    "name": "ipython",
    "version": 3
   },
   "file_extension": ".py",
   "mimetype": "text/x-python",
   "name": "python",
   "nbconvert_exporter": "python",
   "pygments_lexer": "ipython3",
   "version": "3.8.6"
  },
  "toc": {
   "base_numbering": 1,
   "nav_menu": {},
   "number_sections": true,
   "sideBar": true,
   "skip_h1_title": true,
   "title_cell": "Table of Contents",
   "title_sidebar": "Contents",
   "toc_cell": true,
   "toc_position": {
    "height": "calc(100% - 180px)",
    "left": "10px",
    "top": "150px",
    "width": "231.2px"
   },
   "toc_section_display": true,
   "toc_window_display": true
  }
 },
 "nbformat": 4,
 "nbformat_minor": 4
}
