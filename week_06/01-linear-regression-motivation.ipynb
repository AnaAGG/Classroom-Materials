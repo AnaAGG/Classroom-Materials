{
 "cells": [
  {
   "cell_type": "markdown",
   "metadata": {
    "toc": true
   },
   "source": [
    "<h1>Table of Contents<span class=\"tocSkip\"></span></h1>\n",
    "<div class=\"toc\"><ul class=\"toc-item\"><li><span><a href=\"#The-problem\" data-toc-modified-id=\"The-problem-1\"><span class=\"toc-item-num\">1&nbsp;&nbsp;</span>The problem</a></span></li><li><span><a href=\"#Data-exporation\" data-toc-modified-id=\"Data-exporation-2\"><span class=\"toc-item-num\">2&nbsp;&nbsp;</span>Data exporation</a></span></li><li><span><a href=\"#The-linear-model\" data-toc-modified-id=\"The-linear-model-3\"><span class=\"toc-item-num\">3&nbsp;&nbsp;</span>The linear model</a></span></li><li><span><a href=\"#The-optimal-linear-model\" data-toc-modified-id=\"The-optimal-linear-model-4\"><span class=\"toc-item-num\">4&nbsp;&nbsp;</span>The optimal linear model</a></span></li></ul></div>"
   ]
  },
  {
   "cell_type": "markdown",
   "metadata": {},
   "source": [
    "# Linear regression motivation"
   ]
  },
  {
   "cell_type": "code",
   "execution_count": 1,
   "metadata": {},
   "outputs": [],
   "source": [
    "import pandas as pd\n",
    "import numpy as np\n",
    "\n",
    "\n",
    "import matplotlib.pyplot as plt\n",
    "import seaborn as sns"
   ]
  },
  {
   "cell_type": "markdown",
   "metadata": {},
   "source": [
    "## The problem"
   ]
  },
  {
   "cell_type": "code",
   "execution_count": 3,
   "metadata": {},
   "outputs": [],
   "source": [
    "data = pd.read_csv(\"../datasets/hours_vs_mark.csv\", index_col=0)"
   ]
  },
  {
   "cell_type": "markdown",
   "metadata": {},
   "source": [
    "We have 100 students, and we know:\n",
    " * how many hours they studied for their exam\n",
    " * what mark they got (0 to 100)"
   ]
  },
  {
   "cell_type": "code",
   "execution_count": 5,
   "metadata": {},
   "outputs": [
    {
     "data": {
      "text/html": [
       "<div>\n",
       "<style scoped>\n",
       "    .dataframe tbody tr th:only-of-type {\n",
       "        vertical-align: middle;\n",
       "    }\n",
       "\n",
       "    .dataframe tbody tr th {\n",
       "        vertical-align: top;\n",
       "    }\n",
       "\n",
       "    .dataframe thead th {\n",
       "        text-align: right;\n",
       "    }\n",
       "</style>\n",
       "<table border=\"1\" class=\"dataframe\">\n",
       "  <thead>\n",
       "    <tr style=\"text-align: right;\">\n",
       "      <th></th>\n",
       "      <th>hours</th>\n",
       "      <th>mark</th>\n",
       "    </tr>\n",
       "  </thead>\n",
       "  <tbody>\n",
       "    <tr>\n",
       "      <th>0</th>\n",
       "      <td>865</td>\n",
       "      <td>95</td>\n",
       "    </tr>\n",
       "    <tr>\n",
       "      <th>1</th>\n",
       "      <td>4</td>\n",
       "      <td>12</td>\n",
       "    </tr>\n",
       "    <tr>\n",
       "      <th>2</th>\n",
       "      <td>305</td>\n",
       "      <td>35</td>\n",
       "    </tr>\n",
       "    <tr>\n",
       "      <th>3</th>\n",
       "      <td>437</td>\n",
       "      <td>56</td>\n",
       "    </tr>\n",
       "    <tr>\n",
       "      <th>4</th>\n",
       "      <td>682</td>\n",
       "      <td>86</td>\n",
       "    </tr>\n",
       "    <tr>\n",
       "      <th>5</th>\n",
       "      <td>560</td>\n",
       "      <td>40</td>\n",
       "    </tr>\n",
       "    <tr>\n",
       "      <th>6</th>\n",
       "      <td>367</td>\n",
       "      <td>26</td>\n",
       "    </tr>\n",
       "    <tr>\n",
       "      <th>7</th>\n",
       "      <td>861</td>\n",
       "      <td>73</td>\n",
       "    </tr>\n",
       "    <tr>\n",
       "      <th>8</th>\n",
       "      <td>59</td>\n",
       "      <td>20</td>\n",
       "    </tr>\n",
       "    <tr>\n",
       "      <th>9</th>\n",
       "      <td>514</td>\n",
       "      <td>85</td>\n",
       "    </tr>\n",
       "  </tbody>\n",
       "</table>\n",
       "</div>"
      ],
      "text/plain": [
       "   hours  mark\n",
       "0    865    95\n",
       "1      4    12\n",
       "2    305    35\n",
       "3    437    56\n",
       "4    682    86\n",
       "5    560    40\n",
       "6    367    26\n",
       "7    861    73\n",
       "8     59    20\n",
       "9    514    85"
      ]
     },
     "execution_count": 5,
     "metadata": {},
     "output_type": "execute_result"
    }
   ],
   "source": [
    "data.head(10)"
   ]
  },
  {
   "cell_type": "code",
   "execution_count": 6,
   "metadata": {},
   "outputs": [
    {
     "data": {
      "text/html": [
       "<div>\n",
       "<style scoped>\n",
       "    .dataframe tbody tr th:only-of-type {\n",
       "        vertical-align: middle;\n",
       "    }\n",
       "\n",
       "    .dataframe tbody tr th {\n",
       "        vertical-align: top;\n",
       "    }\n",
       "\n",
       "    .dataframe thead th {\n",
       "        text-align: right;\n",
       "    }\n",
       "</style>\n",
       "<table border=\"1\" class=\"dataframe\">\n",
       "  <thead>\n",
       "    <tr style=\"text-align: right;\">\n",
       "      <th></th>\n",
       "      <th>hours</th>\n",
       "      <th>mark</th>\n",
       "    </tr>\n",
       "  </thead>\n",
       "  <tbody>\n",
       "    <tr>\n",
       "      <th>71</th>\n",
       "      <td>53</td>\n",
       "      <td>8</td>\n",
       "    </tr>\n",
       "    <tr>\n",
       "      <th>23</th>\n",
       "      <td>796</td>\n",
       "      <td>91</td>\n",
       "    </tr>\n",
       "    <tr>\n",
       "      <th>1</th>\n",
       "      <td>4</td>\n",
       "      <td>12</td>\n",
       "    </tr>\n",
       "    <tr>\n",
       "      <th>70</th>\n",
       "      <td>756</td>\n",
       "      <td>87</td>\n",
       "    </tr>\n",
       "    <tr>\n",
       "      <th>30</th>\n",
       "      <td>45</td>\n",
       "      <td>0</td>\n",
       "    </tr>\n",
       "  </tbody>\n",
       "</table>\n",
       "</div>"
      ],
      "text/plain": [
       "    hours  mark\n",
       "71     53     8\n",
       "23    796    91\n",
       "1       4    12\n",
       "70    756    87\n",
       "30     45     0"
      ]
     },
     "execution_count": 6,
     "metadata": {},
     "output_type": "execute_result"
    }
   ],
   "source": [
    "data.sample(5)"
   ]
  },
  {
   "cell_type": "markdown",
   "metadata": {},
   "source": [
    "We would like to understand the relationship $$mark = f(hours)$$\n",
    "\n",
    "So that we can **predict the expected mark** we will get by studying a given number of hours"
   ]
  },
  {
   "cell_type": "markdown",
   "metadata": {},
   "source": [
    "## Data exporation"
   ]
  },
  {
   "cell_type": "code",
   "execution_count": 7,
   "metadata": {},
   "outputs": [
    {
     "data": {
      "text/plain": [
       "<AxesSubplot:xlabel='hours', ylabel='Count'>"
      ]
     },
     "execution_count": 7,
     "metadata": {},
     "output_type": "execute_result"
    },
    {
     "data": {
      "image/png": "[encoded data removed]",
      "text/plain": [
       "<Figure size 432x288 with 1 Axes>"
      ]
     },
     "metadata": {
      "needs_background": "light"
     },
     "output_type": "display_data"
    }
   ],
   "source": [
    "sns.histplot(data.hours, bins=10)"
   ]
  },
  {
   "cell_type": "code",
   "execution_count": 8,
   "metadata": {},
   "outputs": [
    {
     "data": {
      "text/plain": [
       "<AxesSubplot:xlabel='hours', ylabel='mark'>"
      ]
     },
     "execution_count": 8,
     "metadata": {},
     "output_type": "execute_result"
    },
    {
     "data": {
      "image/png": "[encoded data removed]",
      "text/plain": [
       "<Figure size 432x288 with 1 Axes>"
      ]
     },
     "metadata": {
      "needs_background": "light"
     },
     "output_type": "display_data"
    }
   ],
   "source": [
    "sns.scatterplot(x=data[\"hours\"], y=data[\"mark\"])"
   ]
  },
  {
   "cell_type": "markdown",
   "metadata": {},
   "source": [
    "## The linear model"
   ]
  },
  {
   "cell_type": "markdown",
   "metadata": {},
   "source": [
    "Lets try a linear regression $$Y = m * X + n$$"
   ]
  },
  {
   "cell_type": "markdown",
   "metadata": {},
   "source": [
    "$m$ is the slope  \n",
    "$n$ is the value of $Y$ when $X=0$ "
   ]
  },
  {
   "cell_type": "markdown",
   "metadata": {},
   "source": [
    "$$mark = m * hours + n$$"
   ]
  },
  {
   "cell_type": "markdown",
   "metadata": {},
   "source": [
    "We want to find $m$ and $n$ that *best* model our data"
   ]
  },
  {
   "cell_type": "markdown",
   "metadata": {},
   "source": [
    "Lets guess:"
   ]
  },
  {
   "cell_type": "markdown",
   "metadata": {},
   "source": [
    "$$mark = 0.1 * horas$$"
   ]
  },
  {
   "cell_type": "markdown",
   "metadata": {},
   "source": [
    "$$mark_2 =0.09 * horas + 5$$"
   ]
  },
  {
   "cell_type": "markdown",
   "metadata": {},
   "source": [
    "Which model performs better?"
   ]
  },
  {
   "cell_type": "code",
   "execution_count": 11,
   "metadata": {},
   "outputs": [
    {
     "data": {
      "text/html": [
       "<div>\n",
       "<style scoped>\n",
       "    .dataframe tbody tr th:only-of-type {\n",
       "        vertical-align: middle;\n",
       "    }\n",
       "\n",
       "    .dataframe tbody tr th {\n",
       "        vertical-align: top;\n",
       "    }\n",
       "\n",
       "    .dataframe thead th {\n",
       "        text-align: right;\n",
       "    }\n",
       "</style>\n",
       "<table border=\"1\" class=\"dataframe\">\n",
       "  <thead>\n",
       "    <tr style=\"text-align: right;\">\n",
       "      <th></th>\n",
       "      <th>hours</th>\n",
       "      <th>mark</th>\n",
       "    </tr>\n",
       "  </thead>\n",
       "  <tbody>\n",
       "    <tr>\n",
       "      <th>0</th>\n",
       "      <td>865</td>\n",
       "      <td>95</td>\n",
       "    </tr>\n",
       "    <tr>\n",
       "      <th>1</th>\n",
       "      <td>4</td>\n",
       "      <td>12</td>\n",
       "    </tr>\n",
       "    <tr>\n",
       "      <th>2</th>\n",
       "      <td>305</td>\n",
       "      <td>35</td>\n",
       "    </tr>\n",
       "    <tr>\n",
       "      <th>3</th>\n",
       "      <td>437</td>\n",
       "      <td>56</td>\n",
       "    </tr>\n",
       "    <tr>\n",
       "      <th>4</th>\n",
       "      <td>682</td>\n",
       "      <td>86</td>\n",
       "    </tr>\n",
       "  </tbody>\n",
       "</table>\n",
       "</div>"
      ],
      "text/plain": [
       "   hours  mark\n",
       "0    865    95\n",
       "1      4    12\n",
       "2    305    35\n",
       "3    437    56\n",
       "4    682    86"
      ]
     },
     "execution_count": 11,
     "metadata": {},
     "output_type": "execute_result"
    }
   ],
   "source": [
    "data.head()"
   ]
  },
  {
   "cell_type": "code",
   "execution_count": 12,
   "metadata": {},
   "outputs": [],
   "source": [
    "data[\"prediction_1\"] = 0.1 * data.hours"
   ]
  },
  {
   "cell_type": "code",
   "execution_count": 24,
   "metadata": {},
   "outputs": [],
   "source": [
    "data[\"prediction_2\"] = 0.09 * data.hours + 5"
   ]
  },
  {
   "cell_type": "code",
   "execution_count": 21,
   "metadata": {},
   "outputs": [],
   "source": [
    "data[\"prediction_3\"] = np.random.uniform(40, 60, size=data.shape[0]).round(2)"
   ]
  },
  {
   "cell_type": "code",
   "execution_count": 22,
   "metadata": {},
   "outputs": [
    {
     "data": {
      "text/html": [
       "<div>\n",
       "<style scoped>\n",
       "    .dataframe tbody tr th:only-of-type {\n",
       "        vertical-align: middle;\n",
       "    }\n",
       "\n",
       "    .dataframe tbody tr th {\n",
       "        vertical-align: top;\n",
       "    }\n",
       "\n",
       "    .dataframe thead th {\n",
       "        text-align: right;\n",
       "    }\n",
       "</style>\n",
       "<table border=\"1\" class=\"dataframe\">\n",
       "  <thead>\n",
       "    <tr style=\"text-align: right;\">\n",
       "      <th></th>\n",
       "      <th>hours</th>\n",
       "      <th>mark</th>\n",
       "      <th>prediction_1</th>\n",
       "      <th>prediction_2</th>\n",
       "      <th>prediction_3</th>\n",
       "    </tr>\n",
       "  </thead>\n",
       "  <tbody>\n",
       "    <tr>\n",
       "      <th>0</th>\n",
       "      <td>865</td>\n",
       "      <td>95</td>\n",
       "      <td>86.5</td>\n",
       "      <td>82.85</td>\n",
       "      <td>45.25</td>\n",
       "    </tr>\n",
       "    <tr>\n",
       "      <th>1</th>\n",
       "      <td>4</td>\n",
       "      <td>12</td>\n",
       "      <td>0.4</td>\n",
       "      <td>5.36</td>\n",
       "      <td>47.15</td>\n",
       "    </tr>\n",
       "    <tr>\n",
       "      <th>2</th>\n",
       "      <td>305</td>\n",
       "      <td>35</td>\n",
       "      <td>30.5</td>\n",
       "      <td>32.45</td>\n",
       "      <td>52.00</td>\n",
       "    </tr>\n",
       "    <tr>\n",
       "      <th>3</th>\n",
       "      <td>437</td>\n",
       "      <td>56</td>\n",
       "      <td>43.7</td>\n",
       "      <td>44.33</td>\n",
       "      <td>46.82</td>\n",
       "    </tr>\n",
       "    <tr>\n",
       "      <th>4</th>\n",
       "      <td>682</td>\n",
       "      <td>86</td>\n",
       "      <td>68.2</td>\n",
       "      <td>66.38</td>\n",
       "      <td>58.86</td>\n",
       "    </tr>\n",
       "    <tr>\n",
       "      <th>5</th>\n",
       "      <td>560</td>\n",
       "      <td>40</td>\n",
       "      <td>56.0</td>\n",
       "      <td>55.40</td>\n",
       "      <td>47.36</td>\n",
       "    </tr>\n",
       "    <tr>\n",
       "      <th>6</th>\n",
       "      <td>367</td>\n",
       "      <td>26</td>\n",
       "      <td>36.7</td>\n",
       "      <td>38.03</td>\n",
       "      <td>55.82</td>\n",
       "    </tr>\n",
       "    <tr>\n",
       "      <th>7</th>\n",
       "      <td>861</td>\n",
       "      <td>73</td>\n",
       "      <td>86.1</td>\n",
       "      <td>82.49</td>\n",
       "      <td>43.34</td>\n",
       "    </tr>\n",
       "    <tr>\n",
       "      <th>8</th>\n",
       "      <td>59</td>\n",
       "      <td>20</td>\n",
       "      <td>5.9</td>\n",
       "      <td>10.31</td>\n",
       "      <td>47.40</td>\n",
       "    </tr>\n",
       "    <tr>\n",
       "      <th>9</th>\n",
       "      <td>514</td>\n",
       "      <td>85</td>\n",
       "      <td>51.4</td>\n",
       "      <td>51.26</td>\n",
       "      <td>58.62</td>\n",
       "    </tr>\n",
       "  </tbody>\n",
       "</table>\n",
       "</div>"
      ],
      "text/plain": [
       "   hours  mark  prediction_1  prediction_2  prediction_3\n",
       "0    865    95          86.5         82.85         45.25\n",
       "1      4    12           0.4          5.36         47.15\n",
       "2    305    35          30.5         32.45         52.00\n",
       "3    437    56          43.7         44.33         46.82\n",
       "4    682    86          68.2         66.38         58.86\n",
       "5    560    40          56.0         55.40         47.36\n",
       "6    367    26          36.7         38.03         55.82\n",
       "7    861    73          86.1         82.49         43.34\n",
       "8     59    20           5.9         10.31         47.40\n",
       "9    514    85          51.4         51.26         58.62"
      ]
     },
     "execution_count": 22,
     "metadata": {},
     "output_type": "execute_result"
    }
   ],
   "source": [
    "data.head(10)"
   ]
  },
  {
   "cell_type": "markdown",
   "metadata": {},
   "source": [
    "Lets measure error of both models"
   ]
  },
  {
   "cell_type": "markdown",
   "metadata": {},
   "source": [
    "Lets compute **Mean absolute error**"
   ]
  },
  {
   "cell_type": "code",
   "execution_count": 27,
   "metadata": {},
   "outputs": [],
   "source": [
    "data['error_1'] = (data.mark - data.prediction_1).abs()"
   ]
  },
  {
   "cell_type": "code",
   "execution_count": 28,
   "metadata": {},
   "outputs": [],
   "source": [
    "data['error_2'] = (data.mark - data.prediction_2).abs()"
   ]
  },
  {
   "cell_type": "code",
   "execution_count": 30,
   "metadata": {},
   "outputs": [],
   "source": [
    "data['error_3'] = (data.mark - data.prediction_3).abs()"
   ]
  },
  {
   "cell_type": "code",
   "execution_count": 31,
   "metadata": {},
   "outputs": [
    {
     "data": {
      "text/html": [
       "<div>\n",
       "<style scoped>\n",
       "    .dataframe tbody tr th:only-of-type {\n",
       "        vertical-align: middle;\n",
       "    }\n",
       "\n",
       "    .dataframe tbody tr th {\n",
       "        vertical-align: top;\n",
       "    }\n",
       "\n",
       "    .dataframe thead th {\n",
       "        text-align: right;\n",
       "    }\n",
       "</style>\n",
       "<table border=\"1\" class=\"dataframe\">\n",
       "  <thead>\n",
       "    <tr style=\"text-align: right;\">\n",
       "      <th></th>\n",
       "      <th>hours</th>\n",
       "      <th>mark</th>\n",
       "      <th>prediction_1</th>\n",
       "      <th>prediction_2</th>\n",
       "      <th>prediction_3</th>\n",
       "      <th>error_1</th>\n",
       "      <th>error_2</th>\n",
       "      <th>error_3</th>\n",
       "    </tr>\n",
       "  </thead>\n",
       "  <tbody>\n",
       "    <tr>\n",
       "      <th>0</th>\n",
       "      <td>865</td>\n",
       "      <td>95</td>\n",
       "      <td>86.5</td>\n",
       "      <td>82.85</td>\n",
       "      <td>45.25</td>\n",
       "      <td>8.5</td>\n",
       "      <td>12.15</td>\n",
       "      <td>49.75</td>\n",
       "    </tr>\n",
       "    <tr>\n",
       "      <th>1</th>\n",
       "      <td>4</td>\n",
       "      <td>12</td>\n",
       "      <td>0.4</td>\n",
       "      <td>5.36</td>\n",
       "      <td>47.15</td>\n",
       "      <td>11.6</td>\n",
       "      <td>6.64</td>\n",
       "      <td>35.15</td>\n",
       "    </tr>\n",
       "    <tr>\n",
       "      <th>2</th>\n",
       "      <td>305</td>\n",
       "      <td>35</td>\n",
       "      <td>30.5</td>\n",
       "      <td>32.45</td>\n",
       "      <td>52.00</td>\n",
       "      <td>4.5</td>\n",
       "      <td>2.55</td>\n",
       "      <td>17.00</td>\n",
       "    </tr>\n",
       "    <tr>\n",
       "      <th>3</th>\n",
       "      <td>437</td>\n",
       "      <td>56</td>\n",
       "      <td>43.7</td>\n",
       "      <td>44.33</td>\n",
       "      <td>46.82</td>\n",
       "      <td>12.3</td>\n",
       "      <td>11.67</td>\n",
       "      <td>9.18</td>\n",
       "    </tr>\n",
       "    <tr>\n",
       "      <th>4</th>\n",
       "      <td>682</td>\n",
       "      <td>86</td>\n",
       "      <td>68.2</td>\n",
       "      <td>66.38</td>\n",
       "      <td>58.86</td>\n",
       "      <td>17.8</td>\n",
       "      <td>19.62</td>\n",
       "      <td>27.14</td>\n",
       "    </tr>\n",
       "    <tr>\n",
       "      <th>5</th>\n",
       "      <td>560</td>\n",
       "      <td>40</td>\n",
       "      <td>56.0</td>\n",
       "      <td>55.40</td>\n",
       "      <td>47.36</td>\n",
       "      <td>16.0</td>\n",
       "      <td>15.40</td>\n",
       "      <td>7.36</td>\n",
       "    </tr>\n",
       "    <tr>\n",
       "      <th>6</th>\n",
       "      <td>367</td>\n",
       "      <td>26</td>\n",
       "      <td>36.7</td>\n",
       "      <td>38.03</td>\n",
       "      <td>55.82</td>\n",
       "      <td>10.7</td>\n",
       "      <td>12.03</td>\n",
       "      <td>29.82</td>\n",
       "    </tr>\n",
       "    <tr>\n",
       "      <th>7</th>\n",
       "      <td>861</td>\n",
       "      <td>73</td>\n",
       "      <td>86.1</td>\n",
       "      <td>82.49</td>\n",
       "      <td>43.34</td>\n",
       "      <td>13.1</td>\n",
       "      <td>9.49</td>\n",
       "      <td>29.66</td>\n",
       "    </tr>\n",
       "    <tr>\n",
       "      <th>8</th>\n",
       "      <td>59</td>\n",
       "      <td>20</td>\n",
       "      <td>5.9</td>\n",
       "      <td>10.31</td>\n",
       "      <td>47.40</td>\n",
       "      <td>14.1</td>\n",
       "      <td>9.69</td>\n",
       "      <td>27.40</td>\n",
       "    </tr>\n",
       "    <tr>\n",
       "      <th>9</th>\n",
       "      <td>514</td>\n",
       "      <td>85</td>\n",
       "      <td>51.4</td>\n",
       "      <td>51.26</td>\n",
       "      <td>58.62</td>\n",
       "      <td>33.6</td>\n",
       "      <td>33.74</td>\n",
       "      <td>26.38</td>\n",
       "    </tr>\n",
       "  </tbody>\n",
       "</table>\n",
       "</div>"
      ],
      "text/plain": [
       "   hours  mark  prediction_1  prediction_2  prediction_3  error_1  error_2  \\\n",
       "0    865    95          86.5         82.85         45.25      8.5    12.15   \n",
       "1      4    12           0.4          5.36         47.15     11.6     6.64   \n",
       "2    305    35          30.5         32.45         52.00      4.5     2.55   \n",
       "3    437    56          43.7         44.33         46.82     12.3    11.67   \n",
       "4    682    86          68.2         66.38         58.86     17.8    19.62   \n",
       "5    560    40          56.0         55.40         47.36     16.0    15.40   \n",
       "6    367    26          36.7         38.03         55.82     10.7    12.03   \n",
       "7    861    73          86.1         82.49         43.34     13.1     9.49   \n",
       "8     59    20           5.9         10.31         47.40     14.1     9.69   \n",
       "9    514    85          51.4         51.26         58.62     33.6    33.74   \n",
       "\n",
       "   error_3  \n",
       "0    49.75  \n",
       "1    35.15  \n",
       "2    17.00  \n",
       "3     9.18  \n",
       "4    27.14  \n",
       "5     7.36  \n",
       "6    29.82  \n",
       "7    29.66  \n",
       "8    27.40  \n",
       "9    26.38  "
      ]
     },
     "execution_count": 31,
     "metadata": {},
     "output_type": "execute_result"
    }
   ],
   "source": [
    "data.head(10)"
   ]
  },
  {
   "cell_type": "code",
   "execution_count": 32,
   "metadata": {},
   "outputs": [
    {
     "data": {
      "text/plain": [
       "12.675999999999998"
      ]
     },
     "execution_count": 32,
     "metadata": {},
     "output_type": "execute_result"
    }
   ],
   "source": [
    "data.error_1.mean()"
   ]
  },
  {
   "cell_type": "code",
   "execution_count": 33,
   "metadata": {},
   "outputs": [
    {
     "data": {
      "text/plain": [
       "12.0476"
      ]
     },
     "execution_count": 33,
     "metadata": {},
     "output_type": "execute_result"
    }
   ],
   "source": [
    "data.error_2.mean()"
   ]
  },
  {
   "cell_type": "markdown",
   "metadata": {},
   "source": [
    "So model 2 performs better!"
   ]
  },
  {
   "cell_type": "markdown",
   "metadata": {},
   "source": [
    "Lets plot our models"
   ]
  },
  {
   "cell_type": "markdown",
   "metadata": {},
   "source": [
    "$$mark = 0.1 * horas$$"
   ]
  },
  {
   "cell_type": "markdown",
   "metadata": {},
   "source": [
    "$$mark_2 =0.09 * horas + 5$$"
   ]
  },
  {
   "cell_type": "code",
   "execution_count": 37,
   "metadata": {},
   "outputs": [
    {
     "data": {
      "text/plain": [
       "<matplotlib.legend.Legend at 0x7fe6295261f0>"
      ]
     },
     "execution_count": 37,
     "metadata": {},
     "output_type": "execute_result"
    },
    {
     "data": {
      "image/png": "[encoded data removed]",
      "text/plain": [
       "<Figure size 432x288 with 1 Axes>"
      ]
     },
     "metadata": {
      "needs_background": "light"
     },
     "output_type": "display_data"
    }
   ],
   "source": [
    "fig, ax = plt.subplots()\n",
    "sns.scatterplot(x=data[\"hours\"], y=data[\"mark\"])\n",
    "\n",
    "plt.plot(data.hours, data.prediction_1, color='r', label='worse')\n",
    "plt.plot(data.hours, data.prediction_2, color='g', label='better')\n",
    "\n",
    "plt.legend()"
   ]
  },
  {
   "cell_type": "markdown",
   "metadata": {},
   "source": [
    "$$mark = m * hours + n$$"
   ]
  },
  {
   "cell_type": "markdown",
   "metadata": {},
   "source": [
    "$$\\text{model_error} = L(m, n)$$"
   ]
  },
  {
   "cell_type": "markdown",
   "metadata": {},
   "source": [
    "$$L(0.1, 0) = 12.7$$"
   ]
  },
  {
   "cell_type": "markdown",
   "metadata": {},
   "source": [
    "$$L(0.09, 5) = 12.04$$"
   ]
  },
  {
   "cell_type": "markdown",
   "metadata": {},
   "source": [
    "## The optimal linear model"
   ]
  },
  {
   "cell_type": "markdown",
   "metadata": {},
   "source": [
    "Can we find the **best**?"
   ]
  },
  {
   "cell_type": "markdown",
   "metadata": {},
   "source": [
    "`scikit-learn` is a Python library for building ML models"
   ]
  },
  {
   "cell_type": "markdown",
   "metadata": {},
   "source": [
    "Linear regression is now called a ML algorithm (years ago it was only basic statistical inference... you know, the hype)"
   ]
  },
  {
   "cell_type": "code",
   "execution_count": null,
   "metadata": {},
   "outputs": [],
   "source": [
    "!pip install scikit-learn"
   ]
  },
  {
   "cell_type": "code",
   "execution_count": 46,
   "metadata": {},
   "outputs": [],
   "source": [
    "from sklearn.linear_model import LinearRegression"
   ]
  },
  {
   "cell_type": "code",
   "execution_count": 47,
   "metadata": {},
   "outputs": [],
   "source": [
    "lr = LinearRegression()"
   ]
  },
  {
   "cell_type": "code",
   "execution_count": 48,
   "metadata": {},
   "outputs": [
    {
     "data": {
      "text/plain": [
       "sklearn.linear_model._base.LinearRegression"
      ]
     },
     "execution_count": 48,
     "metadata": {},
     "output_type": "execute_result"
    }
   ],
   "source": [
    "type(lr)"
   ]
  },
  {
   "cell_type": "code",
   "execution_count": 49,
   "metadata": {},
   "outputs": [
    {
     "data": {
      "text/html": [
       "<div>\n",
       "<style scoped>\n",
       "    .dataframe tbody tr th:only-of-type {\n",
       "        vertical-align: middle;\n",
       "    }\n",
       "\n",
       "    .dataframe tbody tr th {\n",
       "        vertical-align: top;\n",
       "    }\n",
       "\n",
       "    .dataframe thead th {\n",
       "        text-align: right;\n",
       "    }\n",
       "</style>\n",
       "<table border=\"1\" class=\"dataframe\">\n",
       "  <thead>\n",
       "    <tr style=\"text-align: right;\">\n",
       "      <th></th>\n",
       "      <th>hours</th>\n",
       "      <th>mark</th>\n",
       "      <th>prediction_1</th>\n",
       "      <th>prediction_2</th>\n",
       "      <th>prediction_3</th>\n",
       "      <th>error_1</th>\n",
       "      <th>error_2</th>\n",
       "      <th>error_3</th>\n",
       "    </tr>\n",
       "  </thead>\n",
       "  <tbody>\n",
       "    <tr>\n",
       "      <th>0</th>\n",
       "      <td>865</td>\n",
       "      <td>95</td>\n",
       "      <td>86.5</td>\n",
       "      <td>82.85</td>\n",
       "      <td>45.25</td>\n",
       "      <td>8.5</td>\n",
       "      <td>12.15</td>\n",
       "      <td>49.75</td>\n",
       "    </tr>\n",
       "    <tr>\n",
       "      <th>1</th>\n",
       "      <td>4</td>\n",
       "      <td>12</td>\n",
       "      <td>0.4</td>\n",
       "      <td>5.36</td>\n",
       "      <td>47.15</td>\n",
       "      <td>11.6</td>\n",
       "      <td>6.64</td>\n",
       "      <td>35.15</td>\n",
       "    </tr>\n",
       "    <tr>\n",
       "      <th>2</th>\n",
       "      <td>305</td>\n",
       "      <td>35</td>\n",
       "      <td>30.5</td>\n",
       "      <td>32.45</td>\n",
       "      <td>52.00</td>\n",
       "      <td>4.5</td>\n",
       "      <td>2.55</td>\n",
       "      <td>17.00</td>\n",
       "    </tr>\n",
       "    <tr>\n",
       "      <th>3</th>\n",
       "      <td>437</td>\n",
       "      <td>56</td>\n",
       "      <td>43.7</td>\n",
       "      <td>44.33</td>\n",
       "      <td>46.82</td>\n",
       "      <td>12.3</td>\n",
       "      <td>11.67</td>\n",
       "      <td>9.18</td>\n",
       "    </tr>\n",
       "    <tr>\n",
       "      <th>4</th>\n",
       "      <td>682</td>\n",
       "      <td>86</td>\n",
       "      <td>68.2</td>\n",
       "      <td>66.38</td>\n",
       "      <td>58.86</td>\n",
       "      <td>17.8</td>\n",
       "      <td>19.62</td>\n",
       "      <td>27.14</td>\n",
       "    </tr>\n",
       "  </tbody>\n",
       "</table>\n",
       "</div>"
      ],
      "text/plain": [
       "   hours  mark  prediction_1  prediction_2  prediction_3  error_1  error_2  \\\n",
       "0    865    95          86.5         82.85         45.25      8.5    12.15   \n",
       "1      4    12           0.4          5.36         47.15     11.6     6.64   \n",
       "2    305    35          30.5         32.45         52.00      4.5     2.55   \n",
       "3    437    56          43.7         44.33         46.82     12.3    11.67   \n",
       "4    682    86          68.2         66.38         58.86     17.8    19.62   \n",
       "\n",
       "   error_3  \n",
       "0    49.75  \n",
       "1    35.15  \n",
       "2    17.00  \n",
       "3     9.18  \n",
       "4    27.14  "
      ]
     },
     "execution_count": 49,
     "metadata": {},
     "output_type": "execute_result"
    }
   ],
   "source": [
    "data.head()"
   ]
  },
  {
   "cell_type": "code",
   "execution_count": 54,
   "metadata": {},
   "outputs": [
    {
     "data": {
      "text/plain": [
       "LinearRegression()"
      ]
     },
     "execution_count": 54,
     "metadata": {},
     "output_type": "execute_result"
    }
   ],
   "source": [
    "# train the model\n",
    "# X predictors: 1 or more columns\n",
    "# y target: 1 column\n",
    "\n",
    "lr.fit(\n",
    "    # X = data[[\"hours\", \"age\", \"n_bedrooms\"]],\n",
    "    X = data[[\"hours\"]],\n",
    "    y = data.mark\n",
    ")"
   ]
  },
  {
   "cell_type": "markdown",
   "metadata": {},
   "source": [
    "$$mark = m * hours + n$$"
   ]
  },
  {
   "cell_type": "code",
   "execution_count": 55,
   "metadata": {},
   "outputs": [
    {
     "data": {
      "text/plain": [
       "array([0.08437787])"
      ]
     },
     "execution_count": 55,
     "metadata": {},
     "output_type": "execute_result"
    }
   ],
   "source": [
    "lr.coef_"
   ]
  },
  {
   "cell_type": "code",
   "execution_count": 56,
   "metadata": {},
   "outputs": [],
   "source": [
    "optimal_m = lr.coef_[0]"
   ]
  },
  {
   "cell_type": "code",
   "execution_count": 58,
   "metadata": {},
   "outputs": [
    {
     "data": {
      "text/plain": [
       "0.08437787096170372"
      ]
     },
     "execution_count": 58,
     "metadata": {},
     "output_type": "execute_result"
    }
   ],
   "source": [
    "optimal_m"
   ]
  },
  {
   "cell_type": "code",
   "execution_count": 59,
   "metadata": {},
   "outputs": [],
   "source": [
    "optimal_n = lr.intercept_"
   ]
  },
  {
   "cell_type": "code",
   "execution_count": 60,
   "metadata": {},
   "outputs": [
    {
     "data": {
      "text/plain": [
       "11.78070717807148"
      ]
     },
     "execution_count": 60,
     "metadata": {},
     "output_type": "execute_result"
    }
   ],
   "source": [
    "optimal_n"
   ]
  },
  {
   "cell_type": "markdown",
   "metadata": {},
   "source": [
    "$$mark = 0.084 * hours + 11.78$$"
   ]
  },
  {
   "cell_type": "code",
   "execution_count": 63,
   "metadata": {},
   "outputs": [
    {
     "data": {
      "text/html": [
       "<div>\n",
       "<style scoped>\n",
       "    .dataframe tbody tr th:only-of-type {\n",
       "        vertical-align: middle;\n",
       "    }\n",
       "\n",
       "    .dataframe tbody tr th {\n",
       "        vertical-align: top;\n",
       "    }\n",
       "\n",
       "    .dataframe thead th {\n",
       "        text-align: right;\n",
       "    }\n",
       "</style>\n",
       "<table border=\"1\" class=\"dataframe\">\n",
       "  <thead>\n",
       "    <tr style=\"text-align: right;\">\n",
       "      <th></th>\n",
       "      <th>hours</th>\n",
       "      <th>mark</th>\n",
       "      <th>prediction_1</th>\n",
       "      <th>prediction_2</th>\n",
       "      <th>prediction_3</th>\n",
       "      <th>error_1</th>\n",
       "      <th>error_2</th>\n",
       "      <th>error_3</th>\n",
       "    </tr>\n",
       "  </thead>\n",
       "  <tbody>\n",
       "    <tr>\n",
       "      <th>0</th>\n",
       "      <td>865</td>\n",
       "      <td>95</td>\n",
       "      <td>86.5</td>\n",
       "      <td>82.85</td>\n",
       "      <td>45.25</td>\n",
       "      <td>8.5</td>\n",
       "      <td>12.15</td>\n",
       "      <td>49.75</td>\n",
       "    </tr>\n",
       "    <tr>\n",
       "      <th>1</th>\n",
       "      <td>4</td>\n",
       "      <td>12</td>\n",
       "      <td>0.4</td>\n",
       "      <td>5.36</td>\n",
       "      <td>47.15</td>\n",
       "      <td>11.6</td>\n",
       "      <td>6.64</td>\n",
       "      <td>35.15</td>\n",
       "    </tr>\n",
       "    <tr>\n",
       "      <th>2</th>\n",
       "      <td>305</td>\n",
       "      <td>35</td>\n",
       "      <td>30.5</td>\n",
       "      <td>32.45</td>\n",
       "      <td>52.00</td>\n",
       "      <td>4.5</td>\n",
       "      <td>2.55</td>\n",
       "      <td>17.00</td>\n",
       "    </tr>\n",
       "    <tr>\n",
       "      <th>3</th>\n",
       "      <td>437</td>\n",
       "      <td>56</td>\n",
       "      <td>43.7</td>\n",
       "      <td>44.33</td>\n",
       "      <td>46.82</td>\n",
       "      <td>12.3</td>\n",
       "      <td>11.67</td>\n",
       "      <td>9.18</td>\n",
       "    </tr>\n",
       "    <tr>\n",
       "      <th>4</th>\n",
       "      <td>682</td>\n",
       "      <td>86</td>\n",
       "      <td>68.2</td>\n",
       "      <td>66.38</td>\n",
       "      <td>58.86</td>\n",
       "      <td>17.8</td>\n",
       "      <td>19.62</td>\n",
       "      <td>27.14</td>\n",
       "    </tr>\n",
       "  </tbody>\n",
       "</table>\n",
       "</div>"
      ],
      "text/plain": [
       "   hours  mark  prediction_1  prediction_2  prediction_3  error_1  error_2  \\\n",
       "0    865    95          86.5         82.85         45.25      8.5    12.15   \n",
       "1      4    12           0.4          5.36         47.15     11.6     6.64   \n",
       "2    305    35          30.5         32.45         52.00      4.5     2.55   \n",
       "3    437    56          43.7         44.33         46.82     12.3    11.67   \n",
       "4    682    86          68.2         66.38         58.86     17.8    19.62   \n",
       "\n",
       "   error_3  \n",
       "0    49.75  \n",
       "1    35.15  \n",
       "2    17.00  \n",
       "3     9.18  \n",
       "4    27.14  "
      ]
     },
     "execution_count": 63,
     "metadata": {},
     "output_type": "execute_result"
    }
   ],
   "source": [
    "data.head()"
   ]
  },
  {
   "cell_type": "code",
   "execution_count": 68,
   "metadata": {},
   "outputs": [],
   "source": [
    "data[\"best_prediction\"] = (data.hours * optimal_m + optimal_n).round(2)"
   ]
  },
  {
   "cell_type": "code",
   "execution_count": 69,
   "metadata": {},
   "outputs": [],
   "source": [
    "data[\"best_prediction_error\"] = (data.best_prediction - data.mark).abs()"
   ]
  },
  {
   "cell_type": "code",
   "execution_count": 73,
   "metadata": {},
   "outputs": [
    {
     "data": {
      "text/plain": [
       "(100, 10)"
      ]
     },
     "execution_count": 73,
     "metadata": {},
     "output_type": "execute_result"
    }
   ],
   "source": [
    "data.shape"
   ]
  },
  {
   "cell_type": "code",
   "execution_count": 70,
   "metadata": {},
   "outputs": [
    {
     "data": {
      "text/html": [
       "<div>\n",
       "<style scoped>\n",
       "    .dataframe tbody tr th:only-of-type {\n",
       "        vertical-align: middle;\n",
       "    }\n",
       "\n",
       "    .dataframe tbody tr th {\n",
       "        vertical-align: top;\n",
       "    }\n",
       "\n",
       "    .dataframe thead th {\n",
       "        text-align: right;\n",
       "    }\n",
       "</style>\n",
       "<table border=\"1\" class=\"dataframe\">\n",
       "  <thead>\n",
       "    <tr style=\"text-align: right;\">\n",
       "      <th></th>\n",
       "      <th>hours</th>\n",
       "      <th>mark</th>\n",
       "      <th>prediction_1</th>\n",
       "      <th>prediction_2</th>\n",
       "      <th>prediction_3</th>\n",
       "      <th>error_1</th>\n",
       "      <th>error_2</th>\n",
       "      <th>error_3</th>\n",
       "      <th>best_prediction</th>\n",
       "      <th>best_prediction_error</th>\n",
       "    </tr>\n",
       "  </thead>\n",
       "  <tbody>\n",
       "    <tr>\n",
       "      <th>0</th>\n",
       "      <td>865</td>\n",
       "      <td>95</td>\n",
       "      <td>86.5</td>\n",
       "      <td>82.85</td>\n",
       "      <td>45.25</td>\n",
       "      <td>8.5</td>\n",
       "      <td>12.15</td>\n",
       "      <td>49.75</td>\n",
       "      <td>84.77</td>\n",
       "      <td>10.23</td>\n",
       "    </tr>\n",
       "    <tr>\n",
       "      <th>1</th>\n",
       "      <td>4</td>\n",
       "      <td>12</td>\n",
       "      <td>0.4</td>\n",
       "      <td>5.36</td>\n",
       "      <td>47.15</td>\n",
       "      <td>11.6</td>\n",
       "      <td>6.64</td>\n",
       "      <td>35.15</td>\n",
       "      <td>12.12</td>\n",
       "      <td>0.12</td>\n",
       "    </tr>\n",
       "    <tr>\n",
       "      <th>2</th>\n",
       "      <td>305</td>\n",
       "      <td>35</td>\n",
       "      <td>30.5</td>\n",
       "      <td>32.45</td>\n",
       "      <td>52.00</td>\n",
       "      <td>4.5</td>\n",
       "      <td>2.55</td>\n",
       "      <td>17.00</td>\n",
       "      <td>37.52</td>\n",
       "      <td>2.52</td>\n",
       "    </tr>\n",
       "    <tr>\n",
       "      <th>3</th>\n",
       "      <td>437</td>\n",
       "      <td>56</td>\n",
       "      <td>43.7</td>\n",
       "      <td>44.33</td>\n",
       "      <td>46.82</td>\n",
       "      <td>12.3</td>\n",
       "      <td>11.67</td>\n",
       "      <td>9.18</td>\n",
       "      <td>48.65</td>\n",
       "      <td>7.35</td>\n",
       "    </tr>\n",
       "    <tr>\n",
       "      <th>4</th>\n",
       "      <td>682</td>\n",
       "      <td>86</td>\n",
       "      <td>68.2</td>\n",
       "      <td>66.38</td>\n",
       "      <td>58.86</td>\n",
       "      <td>17.8</td>\n",
       "      <td>19.62</td>\n",
       "      <td>27.14</td>\n",
       "      <td>69.33</td>\n",
       "      <td>16.67</td>\n",
       "    </tr>\n",
       "  </tbody>\n",
       "</table>\n",
       "</div>"
      ],
      "text/plain": [
       "   hours  mark  prediction_1  prediction_2  prediction_3  error_1  error_2  \\\n",
       "0    865    95          86.5         82.85         45.25      8.5    12.15   \n",
       "1      4    12           0.4          5.36         47.15     11.6     6.64   \n",
       "2    305    35          30.5         32.45         52.00      4.5     2.55   \n",
       "3    437    56          43.7         44.33         46.82     12.3    11.67   \n",
       "4    682    86          68.2         66.38         58.86     17.8    19.62   \n",
       "\n",
       "   error_3  best_prediction  best_prediction_error  \n",
       "0    49.75            84.77                  10.23  \n",
       "1    35.15            12.12                   0.12  \n",
       "2    17.00            37.52                   2.52  \n",
       "3     9.18            48.65                   7.35  \n",
       "4    27.14            69.33                  16.67  "
      ]
     },
     "execution_count": 70,
     "metadata": {},
     "output_type": "execute_result"
    }
   ],
   "source": [
    "data.head()"
   ]
  },
  {
   "cell_type": "code",
   "execution_count": 72,
   "metadata": {},
   "outputs": [
    {
     "data": {
      "text/plain": [
       "11.4026"
      ]
     },
     "execution_count": 72,
     "metadata": {},
     "output_type": "execute_result"
    }
   ],
   "source": [
    "data.best_prediction_error.mean()"
   ]
  },
  {
   "cell_type": "code",
   "execution_count": 75,
   "metadata": {},
   "outputs": [
    {
     "data": {
      "text/plain": [
       "<matplotlib.legend.Legend at 0x7fe641943970>"
      ]
     },
     "execution_count": 75,
     "metadata": {},
     "output_type": "execute_result"
    },
    {
     "data": {
      "image/png": "[encoded data removed]",
      "text/plain": [
       "<Figure size 432x288 with 1 Axes>"
      ]
     },
     "metadata": {
      "needs_background": "light"
     },
     "output_type": "display_data"
    }
   ],
   "source": [
    "fig, ax = plt.subplots()\n",
    "sns.scatterplot(x=data[\"hours\"], y=data[\"mark\"])\n",
    "\n",
    "plt.plot(data.hours, data.prediction_1, color='r', label='worse')\n",
    "plt.plot(data.hours, data.prediction_2, color='g', label='better')\n",
    "plt.plot(data.hours, data.best_prediction, color='y', label='best')\n",
    "\n",
    "plt.legend()"
   ]
  },
  {
   "cell_type": "code",
   "execution_count": null,
   "metadata": {},
   "outputs": [],
   "source": []
  },
  {
   "cell_type": "code",
   "execution_count": null,
   "metadata": {},
   "outputs": [],
   "source": []
  },
  {
   "cell_type": "markdown",
   "metadata": {},
   "source": [
    "Discussion around non-symmetric metric"
   ]
  },
  {
   "cell_type": "code",
   "execution_count": 83,
   "metadata": {},
   "outputs": [],
   "source": [
    "data2 = pd.DataFrame({\"boxes\": [100, 150, 160, 90, 220], \"pred_1\": [105, 153, 172, 93, 244], \"pred_2\": [98, 146, 166, 88, 214]})"
   ]
  },
  {
   "cell_type": "code",
   "execution_count": 84,
   "metadata": {},
   "outputs": [
    {
     "data": {
      "text/html": [
       "<div>\n",
       "<style scoped>\n",
       "    .dataframe tbody tr th:only-of-type {\n",
       "        vertical-align: middle;\n",
       "    }\n",
       "\n",
       "    .dataframe tbody tr th {\n",
       "        vertical-align: top;\n",
       "    }\n",
       "\n",
       "    .dataframe thead th {\n",
       "        text-align: right;\n",
       "    }\n",
       "</style>\n",
       "<table border=\"1\" class=\"dataframe\">\n",
       "  <thead>\n",
       "    <tr style=\"text-align: right;\">\n",
       "      <th></th>\n",
       "      <th>boxes</th>\n",
       "      <th>pred_1</th>\n",
       "      <th>pred_2</th>\n",
       "    </tr>\n",
       "  </thead>\n",
       "  <tbody>\n",
       "    <tr>\n",
       "      <th>0</th>\n",
       "      <td>100</td>\n",
       "      <td>105</td>\n",
       "      <td>98</td>\n",
       "    </tr>\n",
       "    <tr>\n",
       "      <th>1</th>\n",
       "      <td>150</td>\n",
       "      <td>153</td>\n",
       "      <td>146</td>\n",
       "    </tr>\n",
       "    <tr>\n",
       "      <th>2</th>\n",
       "      <td>160</td>\n",
       "      <td>172</td>\n",
       "      <td>166</td>\n",
       "    </tr>\n",
       "    <tr>\n",
       "      <th>3</th>\n",
       "      <td>90</td>\n",
       "      <td>93</td>\n",
       "      <td>88</td>\n",
       "    </tr>\n",
       "    <tr>\n",
       "      <th>4</th>\n",
       "      <td>220</td>\n",
       "      <td>244</td>\n",
       "      <td>214</td>\n",
       "    </tr>\n",
       "  </tbody>\n",
       "</table>\n",
       "</div>"
      ],
      "text/plain": [
       "   boxes  pred_1  pred_2\n",
       "0    100     105      98\n",
       "1    150     153     146\n",
       "2    160     172     166\n",
       "3     90      93      88\n",
       "4    220     244     214"
      ]
     },
     "execution_count": 84,
     "metadata": {},
     "output_type": "execute_result"
    }
   ],
   "source": [
    "data2"
   ]
  },
  {
   "cell_type": "code",
   "execution_count": 86,
   "metadata": {},
   "outputs": [],
   "source": [
    "data2[\"error_1\"] = (data2.boxes - data2.pred_1).abs()\n",
    "data2[\"error_2\"] = (data2.boxes - data2.pred_2).abs()"
   ]
  },
  {
   "cell_type": "code",
   "execution_count": 87,
   "metadata": {},
   "outputs": [
    {
     "data": {
      "text/html": [
       "<div>\n",
       "<style scoped>\n",
       "    .dataframe tbody tr th:only-of-type {\n",
       "        vertical-align: middle;\n",
       "    }\n",
       "\n",
       "    .dataframe tbody tr th {\n",
       "        vertical-align: top;\n",
       "    }\n",
       "\n",
       "    .dataframe thead th {\n",
       "        text-align: right;\n",
       "    }\n",
       "</style>\n",
       "<table border=\"1\" class=\"dataframe\">\n",
       "  <thead>\n",
       "    <tr style=\"text-align: right;\">\n",
       "      <th></th>\n",
       "      <th>boxes</th>\n",
       "      <th>pred_1</th>\n",
       "      <th>pred_2</th>\n",
       "      <th>error_1</th>\n",
       "      <th>error_2</th>\n",
       "    </tr>\n",
       "  </thead>\n",
       "  <tbody>\n",
       "    <tr>\n",
       "      <th>0</th>\n",
       "      <td>100</td>\n",
       "      <td>105</td>\n",
       "      <td>98</td>\n",
       "      <td>5</td>\n",
       "      <td>2</td>\n",
       "    </tr>\n",
       "    <tr>\n",
       "      <th>1</th>\n",
       "      <td>150</td>\n",
       "      <td>153</td>\n",
       "      <td>146</td>\n",
       "      <td>3</td>\n",
       "      <td>4</td>\n",
       "    </tr>\n",
       "    <tr>\n",
       "      <th>2</th>\n",
       "      <td>160</td>\n",
       "      <td>172</td>\n",
       "      <td>166</td>\n",
       "      <td>12</td>\n",
       "      <td>6</td>\n",
       "    </tr>\n",
       "    <tr>\n",
       "      <th>3</th>\n",
       "      <td>90</td>\n",
       "      <td>93</td>\n",
       "      <td>88</td>\n",
       "      <td>3</td>\n",
       "      <td>2</td>\n",
       "    </tr>\n",
       "    <tr>\n",
       "      <th>4</th>\n",
       "      <td>220</td>\n",
       "      <td>244</td>\n",
       "      <td>214</td>\n",
       "      <td>24</td>\n",
       "      <td>6</td>\n",
       "    </tr>\n",
       "  </tbody>\n",
       "</table>\n",
       "</div>"
      ],
      "text/plain": [
       "   boxes  pred_1  pred_2  error_1  error_2\n",
       "0    100     105      98        5        2\n",
       "1    150     153     146        3        4\n",
       "2    160     172     166       12        6\n",
       "3     90      93      88        3        2\n",
       "4    220     244     214       24        6"
      ]
     },
     "execution_count": 87,
     "metadata": {},
     "output_type": "execute_result"
    }
   ],
   "source": [
    "data2"
   ]
  },
  {
   "cell_type": "code",
   "execution_count": 88,
   "metadata": {},
   "outputs": [
    {
     "data": {
      "text/plain": [
       "9.4"
      ]
     },
     "execution_count": 88,
     "metadata": {},
     "output_type": "execute_result"
    }
   ],
   "source": [
    "data2.error_1.mean()"
   ]
  },
  {
   "cell_type": "code",
   "execution_count": 89,
   "metadata": {},
   "outputs": [
    {
     "data": {
      "text/plain": [
       "4.0"
      ]
     },
     "execution_count": 89,
     "metadata": {},
     "output_type": "execute_result"
    }
   ],
   "source": [
    "data2.error_2.mean()"
   ]
  }
 ],
 "metadata": {
  "kernelspec": {
   "display_name": "Python 3",
   "language": "python",
   "name": "python3"
  },
  "language_info": {
   "codemirror_mode": {
    "name": "ipython",
    "version": 3
   },
   "file_extension": ".py",
   "mimetype": "text/x-python",
   "name": "python",
   "nbconvert_exporter": "python",
   "pygments_lexer": "ipython3",
   "version": "3.8.5"
  },
  "toc": {
   "base_numbering": 1,
   "nav_menu": {},
   "number_sections": true,
   "sideBar": true,
   "skip_h1_title": true,
   "title_cell": "Table of Contents",
   "title_sidebar": "Contents",
   "toc_cell": true,
   "toc_position": {},
   "toc_section_display": true,
   "toc_window_display": true
  },
  "varInspector": {
   "cols": {
    "lenName": 16,
    "lenType": 16,
    "lenVar": 40
   },
   "kernels_config": {
    "python": {
     "delete_cmd_postfix": "",
     "delete_cmd_prefix": "del ",
     "library": "var_list.py",
     "varRefreshCmd": "print(var_dic_list())"
    },
    "r": {
     "delete_cmd_postfix": ") ",
     "delete_cmd_prefix": "rm(",
     "library": "var_list.r",
     "varRefreshCmd": "cat(var_dic_list()) "
    }
   },
   "types_to_exclude": [
    "module",
    "function",
    "builtin_function_or_method",
    "instance",
    "_Feature"
   ],
   "window_display": false
  }
 },
 "nbformat": 4,
 "nbformat_minor": 2
}
