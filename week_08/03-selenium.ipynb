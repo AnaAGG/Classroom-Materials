{
 "cells": [
  {
   "cell_type": "markdown",
   "metadata": {},
   "source": [
    "# Selenium"
   ]
  },
  {
   "cell_type": "markdown",
   "metadata": {
    "toc": true
   },
   "source": [
    "<h1>Table of Contents<span class=\"tocSkip\"></span></h1>\n",
    "<div class=\"toc\"><ul class=\"toc-item\"><li><span><a href=\"#Webdriver\" data-toc-modified-id=\"Webdriver-1\"><span class=\"toc-item-num\">1&nbsp;&nbsp;</span>Webdriver</a></span></li><li><span><a href=\"#The-use-case\" data-toc-modified-id=\"The-use-case-2\"><span class=\"toc-item-num\">2&nbsp;&nbsp;</span>The use case</a></span><ul class=\"toc-item\"><li><span><a href=\"#Access-application-form\" data-toc-modified-id=\"Access-application-form-2.1\"><span class=\"toc-item-num\">2.1&nbsp;&nbsp;</span>Access application form</a></span></li><li><span><a href=\"#Fill-in-the-fields\" data-toc-modified-id=\"Fill-in-the-fields-2.2\"><span class=\"toc-item-num\">2.2&nbsp;&nbsp;</span>Fill in the fields</a></span></li><li><span><a href=\"#Solve-captcha\" data-toc-modified-id=\"Solve-captcha-2.3\"><span class=\"toc-item-num\">2.3&nbsp;&nbsp;</span>Solve captcha</a></span></li><li><span><a href=\"#Choose-option\" data-toc-modified-id=\"Choose-option-2.4\"><span class=\"toc-item-num\">2.4&nbsp;&nbsp;</span>Choose option</a></span></li></ul></li><li><span><a href=\"#Modularization:-create-a-class-with-methods\" data-toc-modified-id=\"Modularization:-create-a-class-with-methods-3\"><span class=\"toc-item-num\">3&nbsp;&nbsp;</span>Modularization: create a class with methods</a></span></li></ul></div>"
   ]
  },
  {
   "cell_type": "markdown",
   "metadata": {},
   "source": [
    "`selenium` is a Python library that lets me surf the Internet automatically"
   ]
  },
  {
   "cell_type": "code",
   "execution_count": null,
   "metadata": {},
   "outputs": [],
   "source": [
    "!pip install selenium"
   ]
  },
  {
   "cell_type": "code",
   "execution_count": 1,
   "metadata": {},
   "outputs": [],
   "source": [
    "from selenium import webdriver"
   ]
  },
  {
   "cell_type": "markdown",
   "metadata": {},
   "source": [
    "A robot is veeeery fast. We need to calm him down, because the Internet has not infinite velocity"
   ]
  },
  {
   "cell_type": "code",
   "execution_count": 3,
   "metadata": {},
   "outputs": [],
   "source": [
    "from time import sleep"
   ]
  },
  {
   "cell_type": "code",
   "execution_count": 5,
   "metadata": {},
   "outputs": [
    {
     "name": "stdout",
     "output_type": "stream",
     "text": [
      "hola\n",
      "adios\n"
     ]
    }
   ],
   "source": [
    "print(\"hola\")\n",
    "sleep(3)\n",
    "print(\"adios\")"
   ]
  },
  {
   "cell_type": "markdown",
   "metadata": {},
   "source": [
    "## Webdriver"
   ]
  },
  {
   "cell_type": "markdown",
   "metadata": {},
   "source": [
    "I need a Chrome **webdriver** to let Python use Chrome browser: [Link](https://chromedriver.chromium.org/downloads)"
   ]
  },
  {
   "cell_type": "markdown",
   "metadata": {},
   "source": [
    "Lets initialize the robot and play with it"
   ]
  },
  {
   "cell_type": "code",
   "execution_count": 107,
   "metadata": {},
   "outputs": [],
   "source": [
    "driver = webdriver.Chrome(\"./chromedriver\")"
   ]
  },
  {
   "cell_type": "code",
   "execution_count": 108,
   "metadata": {},
   "outputs": [],
   "source": [
    "driver.get(\"https://www.elpais.es\")\n",
    "sleep(4)\n",
    "driver.find_element_by_id(\"didomi-notice-agree-button\").click()"
   ]
  },
  {
   "cell_type": "markdown",
   "metadata": {},
   "source": [
    "Click on some article"
   ]
  },
  {
   "cell_type": "code",
   "execution_count": 10,
   "metadata": {},
   "outputs": [],
   "source": [
    "some_article = driver.find_elements_by_css_selector(\"h2 a\")[0]"
   ]
  },
  {
   "cell_type": "code",
   "execution_count": 11,
   "metadata": {},
   "outputs": [
    {
     "data": {
      "text/plain": [
       "<selenium.webdriver.remote.webelement.WebElement (session=\"269df46ecb77f464f07df19739bb16dc\", element=\"e2eebaee-dce0-4d5f-9399-6698128f8eef\")>"
      ]
     },
     "execution_count": 11,
     "metadata": {},
     "output_type": "execute_result"
    }
   ],
   "source": [
    "some_article"
   ]
  },
  {
   "cell_type": "code",
   "execution_count": 12,
   "metadata": {},
   "outputs": [],
   "source": [
    "some_article.click()"
   ]
  },
  {
   "cell_type": "markdown",
   "metadata": {},
   "source": [
    "Find something on google"
   ]
  },
  {
   "cell_type": "code",
   "execution_count": 21,
   "metadata": {},
   "outputs": [],
   "source": [
    "driver.get(\"https://www.google.com\")"
   ]
  },
  {
   "cell_type": "markdown",
   "metadata": {},
   "source": [
    "To find by tag and class, we use syntax \"tag.class\". If class name has spaces, change them by \".\""
   ]
  },
  {
   "cell_type": "code",
   "execution_count": 22,
   "metadata": {},
   "outputs": [],
   "source": [
    "buscador = driver.find_element_by_css_selector(\"input.gLFyf.gsfi\")"
   ]
  },
  {
   "cell_type": "code",
   "execution_count": 23,
   "metadata": {},
   "outputs": [],
   "source": [
    "buscador.click()"
   ]
  },
  {
   "cell_type": "code",
   "execution_count": 24,
   "metadata": {},
   "outputs": [],
   "source": [
    "buscador.send_keys(\"ironhack\")"
   ]
  },
  {
   "cell_type": "code",
   "execution_count": 26,
   "metadata": {},
   "outputs": [],
   "source": [
    "buscador.send_keys(Keys.ENTER)"
   ]
  },
  {
   "cell_type": "markdown",
   "metadata": {},
   "source": [
    "## The use case"
   ]
  },
  {
   "cell_type": "markdown",
   "metadata": {},
   "source": [
    "I need an appointment at Seguridad Social"
   ]
  },
  {
   "cell_type": "code",
   "execution_count": 29,
   "metadata": {},
   "outputs": [],
   "source": [
    "url = \"https://w6.seg-social.es/ProsaInternetAnonimo/OnlineAccess?ARQ.SPM.ACTION=LOGIN&ARQ.SPM.APPTYPE=SERVICE&ARQ.IDAPP=XV106001\""
   ]
  },
  {
   "cell_type": "markdown",
   "metadata": {},
   "source": [
    "### Access application form"
   ]
  },
  {
   "cell_type": "code",
   "execution_count": 110,
   "metadata": {},
   "outputs": [],
   "source": [
    "driver.get(url)"
   ]
  },
  {
   "cell_type": "code",
   "execution_count": 111,
   "metadata": {},
   "outputs": [],
   "source": [
    "driver.find_element_by_xpath('//*[@id=\"SELECCIONAR1\"]').click()"
   ]
  },
  {
   "cell_type": "markdown",
   "metadata": {},
   "source": [
    " * Web scraping lets us access the static HTML of the webpage\n",
    " * Web **crawling** lets us interact dinamycally with the browser!"
   ]
  },
  {
   "cell_type": "markdown",
   "metadata": {},
   "source": [
    "### Fill in the fields"
   ]
  },
  {
   "cell_type": "markdown",
   "metadata": {},
   "source": [
    "Exploring..."
   ]
  },
  {
   "cell_type": "code",
   "execution_count": 112,
   "metadata": {},
   "outputs": [],
   "source": [
    "user_data = {\n",
    "    \"name\": \"Francisco Lopez\",\n",
    "    \"NIF\": \"12345678Z\",\n",
    "    \"telf\": \"666555888\",\n",
    "    \"mail\": \"pacolopez99@gmail.com\"\n",
    "}"
   ]
  },
  {
   "cell_type": "markdown",
   "metadata": {},
   "source": [
    "Fill it with your information using `.send_keys()`"
   ]
  },
  {
   "cell_type": "code",
   "execution_count": 113,
   "metadata": {},
   "outputs": [],
   "source": [
    "driver.find_element_by_name(\"nombreApellidos\").send_keys(user_data.get(\"name\"))\n",
    "\n",
    "driver.find_element_by_name(\"tipo\").send_keys(\"N\")\n",
    "\n",
    "driver.find_element_by_name(\"numeroDocumento\").send_keys(user_data.get(\"NIF\"))\n",
    "driver.find_element_by_name(\"telefono\").send_keys(user_data.get(\"telf\"))\n",
    "driver.find_element_by_name(\"eMail\").send_keys(user_data.get(\"mail\"))\n",
    "\n",
    "driver.find_element_by_id(\"radioProvincia\").click()\n",
    "driver.find_element_by_name(\"provincia\").send_keys(\"m\")"
   ]
  },
  {
   "cell_type": "markdown",
   "metadata": {},
   "source": [
    "### Solve captcha"
   ]
  },
  {
   "cell_type": "code",
   "execution_count": 114,
   "metadata": {},
   "outputs": [],
   "source": [
    "import random"
   ]
  },
  {
   "cell_type": "markdown",
   "metadata": {},
   "source": [
    "`.text` is used to access a tag's textual content"
   ]
  },
  {
   "cell_type": "code",
   "execution_count": 64,
   "metadata": {},
   "outputs": [],
   "source": [
    "words = driver.find_element_by_css_selector(\"p.p0\").text.split(\": \")[:-1]"
   ]
  },
  {
   "cell_type": "code",
   "execution_count": 65,
   "metadata": {},
   "outputs": [
    {
     "data": {
      "text/plain": [
       "['Cerdo', 'Abuelo', 'Desván', 'Flauta', 'Madrastra']"
      ]
     },
     "execution_count": 65,
     "metadata": {},
     "output_type": "execute_result"
    }
   ],
   "source": [
    "words"
   ]
  },
  {
   "cell_type": "code",
   "execution_count": 78,
   "metadata": {},
   "outputs": [],
   "source": [
    "our_choice = random.choice(words)"
   ]
  },
  {
   "cell_type": "code",
   "execution_count": 79,
   "metadata": {},
   "outputs": [
    {
     "data": {
      "text/plain": [
       "'Abuelo'"
      ]
     },
     "execution_count": 79,
     "metadata": {},
     "output_type": "execute_result"
    }
   ],
   "source": [
    "our_choice"
   ]
  },
  {
   "cell_type": "code",
   "execution_count": 82,
   "metadata": {},
   "outputs": [],
   "source": [
    "driver.find_element_by_id(\"ARQ.CAPTCHA\").send_keys(our_choice)"
   ]
  },
  {
   "cell_type": "code",
   "execution_count": 83,
   "metadata": {},
   "outputs": [],
   "source": [
    "# pulsar Siguiente\n",
    "driver.find_element_by_id(\"SPM.ACC.SIGUIENTE\").click()"
   ]
  },
  {
   "cell_type": "markdown",
   "metadata": {},
   "source": [
    "Build while loop until passed"
   ]
  },
  {
   "cell_type": "code",
   "execution_count": 98,
   "metadata": {},
   "outputs": [],
   "source": [
    "def we_passed():\n",
    "    try:\n",
    "        driver.find_element_by_css_selector(\"li.mensajeError\")\n",
    "        return False\n",
    "    except:\n",
    "        return True"
   ]
  },
  {
   "cell_type": "code",
   "execution_count": 115,
   "metadata": {},
   "outputs": [
    {
     "name": "stdout",
     "output_type": "stream",
     "text": [
      "failed\n",
      "failed\n",
      "failed\n",
      "failed\n",
      "failed\n",
      "failed\n",
      "failed\n",
      "passed\n"
     ]
    }
   ],
   "source": [
    "while True: \n",
    "    sleep(1)\n",
    "    words = driver.find_element_by_css_selector(\"p.p0\").text.split(\": \")[:-1]\n",
    "    our_choice = random.choice(words)\n",
    "    driver.find_element_by_id(\"ARQ.CAPTCHA\").send_keys(our_choice)\n",
    "    # pulsar Siguiente\n",
    "    driver.find_element_by_id(\"SPM.ACC.SIGUIENTE\").click()\n",
    "    sleep(1)\n",
    "    if we_passed():\n",
    "        print(\"passed\")\n",
    "        break\n",
    "    else:\n",
    "        print(\"failed\")"
   ]
  },
  {
   "cell_type": "markdown",
   "metadata": {},
   "source": [
    "### Choose option"
   ]
  },
  {
   "cell_type": "code",
   "execution_count": 116,
   "metadata": {},
   "outputs": [],
   "source": [
    "driver.find_element_by_id(\"335\").click()\n",
    "\n",
    "driver.find_element_by_id(\"SPM.ACC.CONTINUAR_TRAS_SELECCIONAR_SERVICIO\").click()"
   ]
  },
  {
   "cell_type": "markdown",
   "metadata": {},
   "source": [
    "Build while loop until passed"
   ]
  },
  {
   "cell_type": "code",
   "execution_count": 118,
   "metadata": {},
   "outputs": [],
   "source": [
    "def we_passed_second_step():\n",
    "    try:\n",
    "        driver.find_element_by_css_selector(\"li.mensajeCpmsTam2\")\n",
    "        return False\n",
    "    except:\n",
    "        return True"
   ]
  },
  {
   "cell_type": "code",
   "execution_count": null,
   "metadata": {},
   "outputs": [],
   "source": [
    "while True:\n",
    "    sleep(2)\n",
    "    driver.find_element_by_id(\"335\").click()\n",
    "    driver.find_element_by_id(\"SPM.ACC.CONTINUAR_TRAS_SELECCIONAR_SERVICIO\").click()\n",
    "    \n",
    "    if we_passed_second_step():\n",
    "        break"
   ]
  },
  {
   "cell_type": "markdown",
   "metadata": {},
   "source": [
    "## Modularization: create a class with methods"
   ]
  },
  {
   "cell_type": "code",
   "execution_count": 143,
   "metadata": {},
   "outputs": [],
   "source": [
    "class SSocialCrawler:\n",
    "    # class variable (vs instance variable)\n",
    "    url = \"https://w6.seg-social.es/ProsaInternetAnonimo/OnlineAccess?ARQ.SPM.ACTION=LOGIN&ARQ.SPM.APPTYPE=SERVICE&ARQ.IDAPP=XV106001\"\n",
    "    \n",
    "    def __init__(self, chromedriver, user_data):\n",
    "        self.driver = chromedriver\n",
    "        self.user_data = user_data\n",
    "        \n",
    "    def access_form(self):\n",
    "        self.driver.get(self.url)\n",
    "        self.driver.find_element_by_xpath('//*[@id=\"SELECCIONAR1\"]').click()\n",
    "        \n",
    "    def fill_fields(self):\n",
    "        self.driver.find_element_by_name(\"nombreApellidos\").send_keys(self.user_data.get(\"name\"))\n",
    "        self.driver.find_element_by_name(\"tipo\").send_keys(\"N\")\n",
    "\n",
    "        self.driver.find_element_by_name(\"numeroDocumento\").send_keys(self.user_data.get(\"NIF\"))\n",
    "        self.driver.find_element_by_name(\"telefono\").send_keys(self.user_data.get(\"telf\"))\n",
    "        self.driver.find_element_by_name(\"eMail\").send_keys(self.user_data.get(\"mail\"))\n",
    "\n",
    "        self.driver.find_element_by_id(\"radioProvincia\").click()\n",
    "        self.driver.find_element_by_name(\"provincia\").send_keys(\"m\")\n",
    "\n",
    "    def solve_captcha(self):\n",
    "        while True: \n",
    "            sleep(1)\n",
    "            words = self.driver.find_element_by_css_selector(\"p.p0\").text.split(\": \")[:-1]\n",
    "            our_choice = random.choice(words)\n",
    "            self.driver.find_element_by_id(\"ARQ.CAPTCHA\").send_keys(our_choice)\n",
    "            # pulsar Siguiente\n",
    "            self.driver.find_element_by_id(\"SPM.ACC.SIGUIENTE\").click()\n",
    "            sleep(1)\n",
    "            if we_passed():\n",
    "                print(\"passed\")\n",
    "                break\n",
    "            else:\n",
    "                print(\"failed\")\n",
    "    \n",
    "    def choose_option(self):\n",
    "        self.driver.find_element_by_id(\"335\").click()\n",
    "        self.driver.find_element_by_id(\"SPM.ACC.CONTINUAR_TRAS_SELECCIONAR_SERVICIO\").click()\n",
    "    \n",
    "        while True:\n",
    "            sleep(10)\n",
    "            self.driver.find_element_by_id(\"335\").click()\n",
    "            self.driver.find_element_by_id(\"SPM.ACC.CONTINUAR_TRAS_SELECCIONAR_SERVICIO\").click()\n",
    "\n",
    "            if we_passed_second_step():\n",
    "                break"
   ]
  },
  {
   "cell_type": "code",
   "execution_count": 144,
   "metadata": {},
   "outputs": [],
   "source": [
    "driver = webdriver.Chrome(\"./chromedriver\")"
   ]
  },
  {
   "cell_type": "code",
   "execution_count": 125,
   "metadata": {},
   "outputs": [
    {
     "data": {
      "text/plain": [
       "{'name': 'Francisco Lopez',\n",
       " 'NIF': '12345678Z',\n",
       " 'telf': '666555888',\n",
       " 'mail': 'pacolopez99@gmail.com'}"
      ]
     },
     "execution_count": 125,
     "metadata": {},
     "output_type": "execute_result"
    }
   ],
   "source": [
    "user_data"
   ]
  },
  {
   "cell_type": "code",
   "execution_count": 141,
   "metadata": {},
   "outputs": [],
   "source": [
    "ss = SSocialCrawler(driver, user_data)"
   ]
  },
  {
   "cell_type": "code",
   "execution_count": 142,
   "metadata": {},
   "outputs": [
    {
     "name": "stdout",
     "output_type": "stream",
     "text": [
      "form done\n",
      "fields filled\n",
      "failed\n",
      "failed\n",
      "failed\n",
      "passed\n",
      "captcha done\n"
     ]
    },
    {
     "ename": "KeyboardInterrupt",
     "evalue": "",
     "output_type": "error",
     "traceback": [
      "\u001b[0;31m---------------------------------------------------------------------------\u001b[0m",
      "\u001b[0;31mKeyboardInterrupt\u001b[0m                         Traceback (most recent call last)",
      "\u001b[0;32m<ipython-input-142-487d70a679cd>\u001b[0m in \u001b[0;36m<module>\u001b[0;34m\u001b[0m\n\u001b[1;32m      8\u001b[0m \u001b[0msleep\u001b[0m\u001b[0;34m(\u001b[0m\u001b[0;36m1\u001b[0m\u001b[0;34m)\u001b[0m\u001b[0;34m\u001b[0m\u001b[0;34m\u001b[0m\u001b[0m\n\u001b[1;32m      9\u001b[0m \u001b[0mprint\u001b[0m\u001b[0;34m(\u001b[0m\u001b[0;34m\"captcha done\"\u001b[0m\u001b[0;34m)\u001b[0m\u001b[0;34m\u001b[0m\u001b[0;34m\u001b[0m\u001b[0m\n\u001b[0;32m---> 10\u001b[0;31m \u001b[0mss\u001b[0m\u001b[0;34m.\u001b[0m\u001b[0mchoose_option\u001b[0m\u001b[0;34m(\u001b[0m\u001b[0;34m)\u001b[0m\u001b[0;34m\u001b[0m\u001b[0;34m\u001b[0m\u001b[0m\n\u001b[0m\u001b[1;32m     11\u001b[0m \u001b[0msleep\u001b[0m\u001b[0;34m(\u001b[0m\u001b[0;36m1\u001b[0m\u001b[0;34m)\u001b[0m\u001b[0;34m\u001b[0m\u001b[0;34m\u001b[0m\u001b[0m\n",
      "\u001b[0;32m<ipython-input-137-28a26a235294>\u001b[0m in \u001b[0;36mchoose_option\u001b[0;34m(self)\u001b[0m\n\u001b[1;32m     42\u001b[0m \u001b[0;34m\u001b[0m\u001b[0m\n\u001b[1;32m     43\u001b[0m         \u001b[0;32mwhile\u001b[0m \u001b[0;32mTrue\u001b[0m\u001b[0;34m:\u001b[0m\u001b[0;34m\u001b[0m\u001b[0;34m\u001b[0m\u001b[0m\n\u001b[0;32m---> 44\u001b[0;31m             \u001b[0msleep\u001b[0m\u001b[0;34m(\u001b[0m\u001b[0;36m2\u001b[0m\u001b[0;34m)\u001b[0m\u001b[0;34m\u001b[0m\u001b[0;34m\u001b[0m\u001b[0m\n\u001b[0m\u001b[1;32m     45\u001b[0m             \u001b[0mself\u001b[0m\u001b[0;34m.\u001b[0m\u001b[0mdriver\u001b[0m\u001b[0;34m.\u001b[0m\u001b[0mfind_element_by_id\u001b[0m\u001b[0;34m(\u001b[0m\u001b[0;34m\"335\"\u001b[0m\u001b[0;34m)\u001b[0m\u001b[0;34m.\u001b[0m\u001b[0mclick\u001b[0m\u001b[0;34m(\u001b[0m\u001b[0;34m)\u001b[0m\u001b[0;34m\u001b[0m\u001b[0;34m\u001b[0m\u001b[0m\n\u001b[1;32m     46\u001b[0m             \u001b[0mself\u001b[0m\u001b[0;34m.\u001b[0m\u001b[0mdriver\u001b[0m\u001b[0;34m.\u001b[0m\u001b[0mfind_element_by_id\u001b[0m\u001b[0;34m(\u001b[0m\u001b[0;34m\"SPM.ACC.CONTINUAR_TRAS_SELECCIONAR_SERVICIO\"\u001b[0m\u001b[0;34m)\u001b[0m\u001b[0;34m.\u001b[0m\u001b[0mclick\u001b[0m\u001b[0;34m(\u001b[0m\u001b[0;34m)\u001b[0m\u001b[0;34m\u001b[0m\u001b[0;34m\u001b[0m\u001b[0m\n",
      "\u001b[0;31mKeyboardInterrupt\u001b[0m: "
     ]
    }
   ],
   "source": [
    "ss.access_form()\n",
    "sleep(1)\n",
    "print(\"form done\")\n",
    "ss.fill_fields()\n",
    "sleep(1)\n",
    "print(\"fields filled\")\n",
    "ss.solve_captcha()\n",
    "sleep(1)\n",
    "print(\"captcha done\")\n",
    "ss.choose_option()\n",
    "sleep(1)"
   ]
  },
  {
   "cell_type": "markdown",
   "metadata": {},
   "source": [
    "You can setup an alarm when process is finished, using library pygame"
   ]
  },
  {
   "cell_type": "code",
   "execution_count": 148,
   "metadata": {},
   "outputs": [],
   "source": [
    "import pygame"
   ]
  },
  {
   "cell_type": "code",
   "execution_count": 150,
   "metadata": {},
   "outputs": [],
   "source": [
    "pygame.mixer.init()\n",
    "pygame.mixer.music.load(\"./beep.wav\")\n",
    "for _ in range(20):\n",
    "    pygame.mixer.music.play()"
   ]
  }
 ],
 "metadata": {
  "kernelspec": {
   "display_name": "Python 3",
   "language": "python",
   "name": "python3"
  },
  "language_info": {
   "codemirror_mode": {
    "name": "ipython",
    "version": 3
   },
   "file_extension": ".py",
   "mimetype": "text/x-python",
   "name": "python",
   "nbconvert_exporter": "python",
   "pygments_lexer": "ipython3",
   "version": "3.8.5"
  },
  "toc": {
   "base_numbering": 1,
   "nav_menu": {},
   "number_sections": true,
   "sideBar": false,
   "skip_h1_title": true,
   "title_cell": "Table of Contents",
   "title_sidebar": "Contents",
   "toc_cell": true,
   "toc_position": {
    "height": "629.19px",
    "left": "31px",
    "top": "110.8px",
    "width": "213.026px"
   },
   "toc_section_display": true,
   "toc_window_display": false
  },
  "varInspector": {
   "cols": {
    "lenName": 16,
    "lenType": 16,
    "lenVar": 40
   },
   "kernels_config": {
    "python": {
     "delete_cmd_postfix": "",
     "delete_cmd_prefix": "del ",
     "library": "var_list.py",
     "varRefreshCmd": "print(var_dic_list())"
    },
    "r": {
     "delete_cmd_postfix": ") ",
     "delete_cmd_prefix": "rm(",
     "library": "var_list.r",
     "varRefreshCmd": "cat(var_dic_list()) "
    }
   },
   "types_to_exclude": [
    "module",
    "function",
    "builtin_function_or_method",
    "instance",
    "_Feature"
   ],
   "window_display": false
  }
 },
 "nbformat": 4,
 "nbformat_minor": 2
}
