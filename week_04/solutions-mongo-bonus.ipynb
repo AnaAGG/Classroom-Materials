{
 "cells": [
  {
   "cell_type": "code",
   "execution_count": 1,
   "metadata": {},
   "outputs": [],
   "source": [
    "from pymongo import MongoClient"
   ]
  },
  {
   "cell_type": "code",
   "execution_count": 2,
   "metadata": {},
   "outputs": [],
   "source": [
    "client = MongoClient()"
   ]
  },
  {
   "cell_type": "code",
   "execution_count": 3,
   "metadata": {},
   "outputs": [],
   "source": [
    "coll = client.companies.companies"
   ]
  },
  {
   "cell_type": "code",
   "execution_count": 4,
   "metadata": {},
   "outputs": [
    {
     "data": {
      "text/plain": [
       "Collection(Database(MongoClient(host=['localhost:27017'], document_class=dict, tz_aware=False, connect=True), 'companies'), 'companies')"
      ]
     },
     "execution_count": 4,
     "metadata": {},
     "output_type": "execute_result"
    }
   ],
   "source": [
    "coll"
   ]
  },
  {
   "cell_type": "markdown",
   "metadata": {},
   "source": [
    "## Ex. 20: Get all the companies that were deadpooled after the 3rd year.\n",
    "\n",
    "### Aggregation\n",
    "\n",
    "We can use an aggregation query to `project` (show, represent, \"create\" a new value, that subtracts the  founding year from the deadpooling year.\n",
    "\n",
    "We can also `match` or filter only those where the newly created column \"deadpool\" is larger than 3."
   ]
  },
  {
   "cell_type": "code",
   "execution_count": 5,
   "metadata": {},
   "outputs": [],
   "source": [
    "res = coll.aggregate(\n",
    "    [\n",
    "        {\"$project\":{\"name\":1, \"founded_year\":1, \"deadpooled_year\":1, \n",
    "                     \"deadpool\":{\"$subtract\":[\"$deadpooled_year\",\"$founded_year\"]}}},\n",
    "        {\"$match\":{\"deadpool\":{\"$gt\":3}}}\n",
    "    ]\n",
    ")"
   ]
  },
  {
   "cell_type": "code",
   "execution_count": 6,
   "metadata": {},
   "outputs": [
    {
     "data": {
      "text/plain": [
       "[{'_id': ObjectId('52cdef7c4bab8bd675297da0'),\n",
       "  'name': 'Babelgum',\n",
       "  'founded_year': 2007,\n",
       "  'deadpooled_year': 2013,\n",
       "  'deadpool': 6},\n",
       " {'_id': ObjectId('52cdef7c4bab8bd675297dae'),\n",
       "  'name': 'Thoof',\n",
       "  'founded_year': 2006,\n",
       "  'deadpooled_year': 2013,\n",
       "  'deadpool': 7},\n",
       " {'_id': ObjectId('52cdef7c4bab8bd675297db6'),\n",
       "  'name': 'Wesabe',\n",
       "  'founded_year': 2005,\n",
       "  'deadpooled_year': 2010,\n",
       "  'deadpool': 5}]"
      ]
     },
     "execution_count": 6,
     "metadata": {},
     "output_type": "execute_result"
    }
   ],
   "source": [
    "res=list(res)\n",
    "res[:3]"
   ]
  },
  {
   "cell_type": "markdown",
   "metadata": {},
   "source": [
    "### \\$where\n",
    "\n",
    "Alternatively, we can use the `$where` operator, which allows us to pass a JavaScript expression or operation to it. \n",
    "\n",
    "- `Note:`  We use `this` to refer to the `self` of the document. This way we can access all of their attributes."
   ]
  },
  {
   "cell_type": "code",
   "execution_count": 7,
   "metadata": {},
   "outputs": [],
   "source": [
    "res = coll.find(\n",
    "    {\n",
    "        \"$where\":\n",
    "        \"(this.deadpooled_year - this.founded_year > 3)&(this.founded_year !== null)\"\n",
    "        # Checking that is was deadpooled after 3 years and that there are no null founded years.\n",
    "    },  # The filter\n",
    "    {\"name\":1,\"founded_year\":1,\"deadpooled_year\":1} # The project\n",
    ")"
   ]
  },
  {
   "cell_type": "code",
   "execution_count": 8,
   "metadata": {},
   "outputs": [
    {
     "data": {
      "text/plain": [
       "[{'_id': ObjectId('52cdef7c4bab8bd675297da0'),\n",
       "  'name': 'Babelgum',\n",
       "  'founded_year': 2007,\n",
       "  'deadpooled_year': 2013},\n",
       " {'_id': ObjectId('52cdef7c4bab8bd675297dae'),\n",
       "  'name': 'Thoof',\n",
       "  'founded_year': 2006,\n",
       "  'deadpooled_year': 2013},\n",
       " {'_id': ObjectId('52cdef7c4bab8bd675297db6'),\n",
       "  'name': 'Wesabe',\n",
       "  'founded_year': 2005,\n",
       "  'deadpooled_year': 2010}]"
      ]
     },
     "execution_count": 8,
     "metadata": {},
     "output_type": "execute_result"
    }
   ],
   "source": [
    "res = list(res)\n",
    "res[:3]"
   ]
  }
 ],
 "metadata": {
  "kernelspec": {
   "display_name": "Python 3",
   "language": "python",
   "name": "python3"
  },
  "language_info": {
   "codemirror_mode": {
    "name": "ipython",
    "version": 3
   },
   "file_extension": ".py",
   "mimetype": "text/x-python",
   "name": "python",
   "nbconvert_exporter": "python",
   "pygments_lexer": "ipython3",
   "version": "3.8.6"
  },
  "toc": {
   "base_numbering": 1,
   "nav_menu": {},
   "number_sections": true,
   "sideBar": true,
   "skip_h1_title": false,
   "title_cell": "Table of Contents",
   "title_sidebar": "Contents",
   "toc_cell": false,
   "toc_position": {},
   "toc_section_display": true,
   "toc_window_display": false
  }
 },
 "nbformat": 4,
 "nbformat_minor": 4
}
