{
 "cells": [
  {
   "cell_type": "markdown",
   "metadata": {
    "toc": true
   },
   "source": [
    "<h1>Table of Contents<span class=\"tocSkip\"></span></h1>\n",
    "<div class=\"toc\"><ul class=\"toc-item\"><li><span><a href=\"#MongoClient\" data-toc-modified-id=\"MongoClient-1\"><span class=\"toc-item-num\">1&nbsp;&nbsp;</span>MongoClient</a></span></li><li><span><a href=\"#Reading-data\" data-toc-modified-id=\"Reading-data-2\"><span class=\"toc-item-num\">2&nbsp;&nbsp;</span>Reading data</a></span></li><li><span><a href=\"#Querying-MongoDB\" data-toc-modified-id=\"Querying-MongoDB-3\"><span class=\"toc-item-num\">3&nbsp;&nbsp;</span>Querying MongoDB</a></span></li><li><span><a href=\"#Bonus\" data-toc-modified-id=\"Bonus-4\"><span class=\"toc-item-num\">4&nbsp;&nbsp;</span>Bonus</a></span></li></ul></div>"
   ]
  },
  {
   "cell_type": "markdown",
   "metadata": {},
   "source": [
    "# Mongo Through Python"
   ]
  },
  {
   "cell_type": "code",
   "execution_count": null,
   "metadata": {},
   "outputs": [],
   "source": [
    "from pymongo import MongoClient"
   ]
  },
  {
   "cell_type": "markdown",
   "metadata": {},
   "source": [
    "## MongoClient\n",
    "In order to communicate with mongo, we need a `client`. \n",
    "\n",
    "The client is what allows us to communicate with the server."
   ]
  },
  {
   "cell_type": "code",
   "execution_count": 55,
   "metadata": {},
   "outputs": [],
   "source": [
    "# For localhost connection, no arguments needed\n",
    "client = MongoClient()"
   ]
  },
  {
   "cell_type": "markdown",
   "metadata": {},
   "source": [
    "We are already connected to our MongoDB server. "
   ]
  },
  {
   "cell_type": "code",
   "execution_count": 56,
   "metadata": {},
   "outputs": [
    {
     "data": {
      "text/plain": [
       "MongoClient(host=['localhost:27017'], document_class=dict, tz_aware=False, connect=True)"
      ]
     },
     "execution_count": 56,
     "metadata": {},
     "output_type": "execute_result"
    }
   ],
   "source": [
    "client"
   ]
  },
  {
   "cell_type": "markdown",
   "metadata": {},
   "source": [
    "This connection is with the whole of our server, we can select a database from it, by simply getting an attribute of our client with the name of the database.\n",
    "\n",
    "`client.database`"
   ]
  },
  {
   "cell_type": "code",
   "execution_count": 57,
   "metadata": {},
   "outputs": [
    {
     "data": {
      "text/plain": [
       "Database(MongoClient(host=['localhost:27017'], document_class=dict, tz_aware=False, connect=True), 'datamad0121')"
      ]
     },
     "execution_count": 57,
     "metadata": {},
     "output_type": "execute_result"
    }
   ],
   "source": [
    "client.datamad0121"
   ]
  },
  {
   "cell_type": "markdown",
   "metadata": {},
   "source": [
    "For easy keeping and better readability of the code, we don't have to keep refering to the database with `client.database`, we can store it in a variable so it more convenient."
   ]
  },
  {
   "cell_type": "code",
   "execution_count": 26,
   "metadata": {},
   "outputs": [],
   "source": [
    "db = client.datamad0121"
   ]
  },
  {
   "cell_type": "markdown",
   "metadata": {},
   "source": [
    "And the same applies to the collections, just use an attribute of the database with the collection name.\n",
    "\n",
    "`database.collection`\n",
    "\n",
    "`client.database.collection`"
   ]
  },
  {
   "cell_type": "code",
   "execution_count": null,
   "metadata": {},
   "outputs": [],
   "source": [
    "db.students"
   ]
  },
  {
   "cell_type": "markdown",
   "metadata": {},
   "source": [
    "## Reading data\n",
    "Having the collection, it is very easy to read data from our collection. \n",
    "\n",
    "We must use the `.find` method and pass a mongo query as argument."
   ]
  },
  {
   "cell_type": "code",
   "execution_count": 29,
   "metadata": {},
   "outputs": [
    {
     "data": {
      "text/plain": [
       "<pymongo.cursor.Cursor at 0x109749e20>"
      ]
     },
     "execution_count": 29,
     "metadata": {},
     "output_type": "execute_result"
    }
   ],
   "source": [
    "db.students.find({\"nickname\":\"Pepe\"})"
   ]
  },
  {
   "cell_type": "markdown",
   "metadata": {},
   "source": [
    "This method returns a cursor object as output. \n",
    "\n",
    "Cursors are iterable, meaning that we can use the  `next()` function with it to get the results one by one, we can iterate through it with a for loop and we can convert them to a list."
   ]
  },
  {
   "cell_type": "code",
   "execution_count": 31,
   "metadata": {},
   "outputs": [
    {
     "data": {
      "text/plain": [
       "[{'_id': ObjectId('601a84641c1cb76202b22d53'),\n",
       "  'name': 'Jose',\n",
       "  'last_name': 'Lopez',\n",
       "  'nickname': 'Pepe',\n",
       "  'age': 32}]"
      ]
     },
     "execution_count": 31,
     "metadata": {},
     "output_type": "execute_result"
    }
   ],
   "source": [
    "results = list(db.students.find({\"nickname\":\"Pepe\"}))\n",
    "results"
   ]
  },
  {
   "cell_type": "markdown",
   "metadata": {},
   "source": [
    "And the elements of these results will be dictionaries. "
   ]
  },
  {
   "cell_type": "code",
   "execution_count": 32,
   "metadata": {},
   "outputs": [
    {
     "data": {
      "text/plain": [
       "list"
      ]
     },
     "execution_count": 32,
     "metadata": {},
     "output_type": "execute_result"
    }
   ],
   "source": [
    "type(results)"
   ]
  },
  {
   "cell_type": "code",
   "execution_count": 33,
   "metadata": {},
   "outputs": [
    {
     "data": {
      "text/plain": [
       "{'_id': ObjectId('601a84641c1cb76202b22d53'),\n",
       " 'name': 'Jose',\n",
       " 'last_name': 'Lopez',\n",
       " 'nickname': 'Pepe',\n",
       " 'age': 32}"
      ]
     },
     "execution_count": 33,
     "metadata": {},
     "output_type": "execute_result"
    }
   ],
   "source": [
    "results[0]"
   ]
  },
  {
   "cell_type": "code",
   "execution_count": 34,
   "metadata": {},
   "outputs": [
    {
     "data": {
      "text/plain": [
       "dict"
      ]
     },
     "execution_count": 34,
     "metadata": {},
     "output_type": "execute_result"
    }
   ],
   "source": [
    "type(results[0])"
   ]
  },
  {
   "cell_type": "code",
   "execution_count": 35,
   "metadata": {},
   "outputs": [
    {
     "data": {
      "text/plain": [
       "'Pepe'"
      ]
     },
     "execution_count": 35,
     "metadata": {},
     "output_type": "execute_result"
    }
   ],
   "source": [
    "results[0][\"nickname\"]"
   ]
  },
  {
   "cell_type": "markdown",
   "metadata": {},
   "source": [
    "# We can even call on databases and collections that do not exist and they will be created!!!\n",
    "\n",
    "No need for creating databases previously or setting attributes as in mySQL, just treat it as if it already existed and it will be as it it did. "
   ]
  },
  {
   "cell_type": "code",
   "execution_count": 36,
   "metadata": {},
   "outputs": [],
   "source": [
    "obj = {\"Hello\":\"World\"}"
   ]
  },
  {
   "cell_type": "code",
   "execution_count": 38,
   "metadata": {},
   "outputs": [
    {
     "data": {
      "text/plain": [
       "<pymongo.results.InsertOneResult at 0x10a46da40>"
      ]
     },
     "execution_count": 38,
     "metadata": {},
     "output_type": "execute_result"
    }
   ],
   "source": [
    "db.test.insert_one(obj)"
   ]
  },
  {
   "cell_type": "markdown",
   "metadata": {},
   "source": [
    "## Querying MongoDB\n",
    "As on the GUI MongoCompass, we can have the 4 parts of our query when using pymongo.\n",
    "\n",
    "- `filter` and `project` are arguments to the `.find` method.\n",
    "\n",
    "- `skip` and `filter` are methods of their own."
   ]
  },
  {
   "cell_type": "code",
   "execution_count": 44,
   "metadata": {},
   "outputs": [
    {
     "data": {
      "text/plain": [
       "<pymongo.cursor.Cursor at 0x10a85dee0>"
      ]
     },
     "execution_count": 44,
     "metadata": {},
     "output_type": "execute_result"
    }
   ],
   "source": [
    "filt = {\"year\":{\"$gt\":1989,\"$lte\":2000}}\n",
    "project = {\"title\":1} \n",
    "results = movies.find(filt,project)#.skip(1).limit(1)\n",
    "results"
   ]
  },
  {
   "cell_type": "code",
   "execution_count": 45,
   "metadata": {},
   "outputs": [
    {
     "data": {
      "text/plain": [
       "[{'_id': ObjectId('601a87e037473c88e7f25c49'),\n",
       "  'title': 'The Adventures of Ford Fairlane'},\n",
       " {'_id': ObjectId('601a87e037473c88e7f25c4a'),\n",
       "  'title': 'After Dark, My Sweet'},\n",
       " {'_id': ObjectId('601a87e037473c88e7f25c4b'), 'title': 'Air America'},\n",
       " {'_id': ObjectId('601a87e037473c88e7f25c4c'), 'title': 'Alice'},\n",
       " {'_id': ObjectId('601a87e037473c88e7f25c4d'), 'title': 'Almost an Angel'}]"
      ]
     },
     "execution_count": 45,
     "metadata": {},
     "output_type": "execute_result"
    }
   ],
   "source": [
    "results = list(results)\n",
    "results[:5]"
   ]
  },
  {
   "cell_type": "markdown",
   "metadata": {},
   "source": [
    "## Bonus\n",
    "\n",
    "Let's do a comparison between making a Mongo query to our local server and requesting an API for data."
   ]
  },
  {
   "cell_type": "code",
   "execution_count": 47,
   "metadata": {},
   "outputs": [],
   "source": [
    "import requests "
   ]
  },
  {
   "cell_type": "code",
   "execution_count": 46,
   "metadata": {},
   "outputs": [
    {
     "name": "stdout",
     "output_type": "stream",
     "text": [
      "3.13 µs ± 50.3 ns per loop (mean ± std. dev. of 7 runs, 100000 loops each)\n"
     ]
    }
   ],
   "source": [
    "%%timeit\n",
    "filt = {\"year\":{\"$gt\":1989,\"$lte\":2000}}\n",
    "project = {\"title\":1} \n",
    "results = movies.find(filt,project)#.skip(1).limit(1)\n",
    "results"
   ]
  },
  {
   "cell_type": "code",
   "execution_count": 48,
   "metadata": {},
   "outputs": [
    {
     "name": "stdout",
     "output_type": "stream",
     "text": [
      "69.9 ms ± 6.54 ms per loop (mean ± std. dev. of 7 runs, 10 loops each)\n"
     ]
    }
   ],
   "source": [
    "%%timeit\n",
    "requests.get(\"https://pokeapi.co/api/v2/pokemon/pikachu\")"
   ]
  },
  {
   "cell_type": "markdown",
   "metadata": {},
   "source": [
    "As we can see, there is a significant difference in time!\n",
    "\n",
    "And, even though the poke API is free, there are many API's which are not and that may limit the number of requests we do. \n",
    "\n",
    "In this case, it is not a bad idea to store the precious data we gather from the API locally. This way we avoid loosing all information if the API blocks us or our quota of requests ends.\n",
    "\n",
    "Our program, even if limited, will still work.\n",
    "\n",
    "To do this we need to check if the information we want `is` on our database before going after it with the API.\n",
    "\n",
    "First of all, let's add some data to a new mongo collection. This is something that can be done beforehand or not. It doesn't really matter since Mongo allows us to treat non existing databases and collections as if they existed."
   ]
  },
  {
   "cell_type": "code",
   "execution_count": 58,
   "metadata": {},
   "outputs": [],
   "source": [
    "poke_nums = range(1,152)"
   ]
  },
  {
   "cell_type": "code",
   "execution_count": 59,
   "metadata": {},
   "outputs": [],
   "source": [
    "coll = client.poke_data.pokemons\n",
    "for num in poke_nums:\n",
    "    res = list(coll.find({\"#\":num}))\n",
    "    if res: \n",
    "        continue\n",
    "    data = requests.get(f\"https://pokeapi.co/api/v2/pokemon/{num}\").json()\n",
    "    coll.insert_one({**data,\"#\":num})"
   ]
  },
  {
   "cell_type": "markdown",
   "metadata": {},
   "source": [
    "Finally, when we are acctually working on our data, we first look for it on the database."
   ]
  },
  {
   "cell_type": "code",
   "execution_count": 60,
   "metadata": {},
   "outputs": [
    {
     "name": "stdout",
     "output_type": "stream",
     "text": [
      "https://raw.githubusercontent.com/PokeAPI/sprites/master/sprites/pokemon/55.png\n",
      "https://raw.githubusercontent.com/PokeAPI/sprites/master/sprites/pokemon/200.png\n",
      "Not found... Requesting api\n",
      "https://raw.githubusercontent.com/PokeAPI/sprites/master/sprites/pokemon/451.png\n"
     ]
    }
   ],
   "source": [
    "for num in [55, 200, 451]:\n",
    "    res = list(coll.find({\"#\":num}))\n",
    "    # If any of this pokemon is not on our database, res will be an empty list\n",
    "    if not res: \n",
    "        print(\"Not found... Requesting api\")\n",
    "        # In such event, we request the api for that information\n",
    "        data = requests.get(f\"https://pokeapi.co/api/v2/pokemon/{num}\").json()\n",
    "        # And imediately insert it on the database\n",
    "        coll.insert_one({**data,\"#\":num})\n",
    "    else:\n",
    "        # If we do have the data we queried, we just have to take it out of the list\n",
    "        # Keep in mind that this list may contain more than one element.\n",
    "        # In this case it shouldn't happen because there are no two pokemons with the same number, so \n",
    "        # we can just take element 0.\n",
    "        data = res[0]\n",
    "    print(data[\"sprites\"][\"front_default\"])"
   ]
  },
  {
   "cell_type": "code",
   "execution_count": 61,
   "metadata": {},
   "outputs": [
    {
     "name": "stdout",
     "output_type": "stream",
     "text": [
      "https://raw.githubusercontent.com/PokeAPI/sprites/master/sprites/pokemon/451.png\n",
      "Not found... Requesting api\n",
      "https://raw.githubusercontent.com/PokeAPI/sprites/master/sprites/pokemon/440.png\n",
      "https://raw.githubusercontent.com/PokeAPI/sprites/master/sprites/pokemon/151.png\n"
     ]
    }
   ],
   "source": [
    "# When repeating the trial, pokemons we just added to the ddbb will no longer be requested to the api.\n",
    "for num in [451,440, 151]:\n",
    "    res = list(coll.find({\"#\":num}))\n",
    "    if not res: \n",
    "        print(\"Not found... Requesting api\")\n",
    "        data = requests.get(f\"https://pokeapi.co/api/v2/pokemon/{num}\").json()\n",
    "        coll.insert_one({**data,\"#\":num})\n",
    "    else:\n",
    "        data = res[0]\n",
    "    print(data[\"sprites\"][\"front_default\"])"
   ]
  }
 ],
 "metadata": {
  "kernelspec": {
   "display_name": "Python 3",
   "language": "python",
   "name": "python3"
  },
  "language_info": {
   "codemirror_mode": {
    "name": "ipython",
    "version": 3
   },
   "file_extension": ".py",
   "mimetype": "text/x-python",
   "name": "python",
   "nbconvert_exporter": "python",
   "pygments_lexer": "ipython3",
   "version": "3.8.6"
  },
  "toc": {
   "base_numbering": 1,
   "nav_menu": {},
   "number_sections": true,
   "sideBar": true,
   "skip_h1_title": true,
   "title_cell": "Table of Contents",
   "title_sidebar": "Contents",
   "toc_cell": true,
   "toc_position": {},
   "toc_section_display": true,
   "toc_window_display": true
  }
 },
 "nbformat": 4,
 "nbformat_minor": 4
}
