{
 "cells": [
  {
   "cell_type": "markdown",
   "metadata": {
    "toc": true
   },
   "source": [
    "<h1>Table of Contents<span class=\"tocSkip\"></span></h1>\n",
    "<div class=\"toc\"><ul class=\"toc-item\"><li><span><a href=\"#Prerequisites\" data-toc-modified-id=\"Prerequisites-1\"><span class=\"toc-item-num\">1&nbsp;&nbsp;</span>Prerequisites</a></span></li><li><span><a href=\"#Aggregations\" data-toc-modified-id=\"Aggregations-2\"><span class=\"toc-item-num\">2&nbsp;&nbsp;</span>Aggregations</a></span><ul class=\"toc-item\"><li><span><a href=\"#unwind\" data-toc-modified-id=\"unwind-2.1\"><span class=\"toc-item-num\">2.1&nbsp;&nbsp;</span><code>unwind</code></a></span><ul class=\"toc-item\"><li><span><a href=\"#Trying-with-a-single-document\" data-toc-modified-id=\"Trying-with-a-single-document-2.1.1\"><span class=\"toc-item-num\">2.1.1&nbsp;&nbsp;</span>Trying with a single document</a></span></li><li><span><a href=\"#Scale-it-up\" data-toc-modified-id=\"Scale-it-up-2.1.2\"><span class=\"toc-item-num\">2.1.2&nbsp;&nbsp;</span>Scale it up</a></span></li></ul></li></ul></li><li><span><a href=\"#GeoJSON\" data-toc-modified-id=\"GeoJSON-3\"><span class=\"toc-item-num\">3&nbsp;&nbsp;</span>GeoJSON</a></span></li><li><span><a href=\"#Index\" data-toc-modified-id=\"Index-4\"><span class=\"toc-item-num\">4&nbsp;&nbsp;</span>Index</a></span></li><li><span><a href=\"#Geospatial-Queries\" data-toc-modified-id=\"Geospatial-Queries-5\"><span class=\"toc-item-num\">5&nbsp;&nbsp;</span>Geospatial Queries</a></span><ul class=\"toc-item\"><li><span><a href=\"#near\" data-toc-modified-id=\"near-5.1\"><span class=\"toc-item-num\">5.1&nbsp;&nbsp;</span><code>near</code></a></span></li><li><span><a href=\"#geoWithin\" data-toc-modified-id=\"geoWithin-5.2\"><span class=\"toc-item-num\">5.2&nbsp;&nbsp;</span><code>geoWithin</code></a></span></li></ul></li><li><span><a href=\"#Further-resources\" data-toc-modified-id=\"Further-resources-6\"><span class=\"toc-item-num\">6&nbsp;&nbsp;</span>Further resources</a></span></li></ul></div>"
   ]
  },
  {
   "cell_type": "markdown",
   "metadata": {},
   "source": [
    "# Geoqueries\n",
    "\n",
    "Our object is to be able to query our documents geospatially.\n",
    "That is, if there is geographical data, such as latitude and longitude, we can look for documents nearby a certain point (e.g.: `Companies near Dallas...`) or, if we have access to polygon data, to see if there are documents inside an area (e.g.: `Power stations within the area of a thunderstorm`). \n",
    "\n",
    "## Prerequisites\n",
    "\n",
    "In order to work with geographical data in mongo, we must make sure the data is stored on a proper format and that it is indexed. Indexes are what allow for the efficient execution of queries in mongoDB.\n",
    "\n",
    "Since a lot of geometrical calculations must be done to query geospatially, and the more documents we have, the more complex, it is needed."
   ]
  },
  {
   "cell_type": "code",
   "execution_count": 1,
   "metadata": {},
   "outputs": [],
   "source": [
    "from pymongo import MongoClient"
   ]
  },
  {
   "cell_type": "code",
   "execution_count": 2,
   "metadata": {},
   "outputs": [],
   "source": [
    "client = MongoClient()"
   ]
  },
  {
   "cell_type": "code",
   "execution_count": 3,
   "metadata": {},
   "outputs": [],
   "source": [
    "companies = client.companies.companies\n",
    "offices = client.companies.offices"
   ]
  },
  {
   "cell_type": "markdown",
   "metadata": {},
   "source": [
    "## Aggregations\n",
    "\n",
    "[Aggregations](https://docs.mongodb.com/manual/reference/operator/aggregation-pipeline/) are a special kind of query in mongoDB. It allows for a `pipeline` of processes to be performed onto the documents. We can perform calculations, generate new values, unwind and also filter."
   ]
  },
  {
   "cell_type": "markdown",
   "metadata": {},
   "source": [
    "### `unwind`\n",
    "\n",
    "First, however, we must check that our data is properly stored for indexing. \n",
    "\n",
    "Our documents have the offices (where the geodata is stored) as an array, because some companies have more than one office, in different locations.\n",
    "\n",
    "The ideal for us here is to separate each office into it's own document, so we treat them individually.\n",
    "\n",
    "That's where the [`$unwind`](https://docs.mongodb.com/manual/reference/operator/aggregation/unwind/) operator comes in."
   ]
  },
  {
   "cell_type": "markdown",
   "metadata": {},
   "source": [
    "#### Trying with a single document"
   ]
  },
  {
   "cell_type": "code",
   "execution_count": 4,
   "metadata": {},
   "outputs": [
    {
     "data": {
      "text/plain": [
       "1"
      ]
     },
     "execution_count": 4,
     "metadata": {},
     "output_type": "execute_result"
    }
   ],
   "source": [
    "res = companies.find({\"name\":\"Facebook\"})\n",
    "res = list(res)\n",
    "#res[0][\"offices\"]\n",
    "len(res)"
   ]
  },
  {
   "cell_type": "code",
   "execution_count": 5,
   "metadata": {},
   "outputs": [
    {
     "data": {
      "text/plain": [
       "3"
      ]
     },
     "execution_count": 5,
     "metadata": {},
     "output_type": "execute_result"
    }
   ],
   "source": [
    "res = companies.aggregate(\n",
    "    [\n",
    "        {\"$match\":{\"name\":\"Facebook\"}}, # Select only those who match {name:\"Facebook\"}\n",
    "        {\"$unwind\":\"$offices\"}, # Separate into different documents based on the values on column \"offices\"\n",
    "        {\"$project\":{\"name\":1,\"offices\":1}} # Choose which attributes we want on the final output\n",
    "    ]\n",
    ")\n",
    "res = list(res)\n",
    "len(res)"
   ]
  },
  {
   "cell_type": "code",
   "execution_count": 6,
   "metadata": {},
   "outputs": [
    {
     "data": {
      "text/plain": [
       "[{'_id': ObjectId('52cdef7c4bab8bd675297d8e'),\n",
       "  'name': 'Facebook',\n",
       "  'offices': {'description': 'Headquarters',\n",
       "   'address1': '1601 Willow Road',\n",
       "   'address2': '',\n",
       "   'zip_code': '94025',\n",
       "   'city': 'Menlo Park',\n",
       "   'state_code': 'CA',\n",
       "   'country_code': 'USA',\n",
       "   'latitude': 37.41605,\n",
       "   'longitude': -122.151801}},\n",
       " {'_id': ObjectId('52cdef7c4bab8bd675297d8e'),\n",
       "  'name': 'Facebook',\n",
       "  'offices': {'description': 'Europe HQ',\n",
       "   'address1': '',\n",
       "   'address2': '',\n",
       "   'zip_code': '',\n",
       "   'city': 'Dublin',\n",
       "   'state_code': None,\n",
       "   'country_code': 'IRL',\n",
       "   'latitude': 53.344104,\n",
       "   'longitude': -6.267494}},\n",
       " {'_id': ObjectId('52cdef7c4bab8bd675297d8e'),\n",
       "  'name': 'Facebook',\n",
       "  'offices': {'description': 'New York',\n",
       "   'address1': '340 Madison Ave',\n",
       "   'address2': '',\n",
       "   'zip_code': '10017',\n",
       "   'city': 'New York',\n",
       "   'state_code': 'NY',\n",
       "   'country_code': 'USA',\n",
       "   'latitude': 40.7557162,\n",
       "   'longitude': -73.9792469}}]"
      ]
     },
     "execution_count": 6,
     "metadata": {},
     "output_type": "execute_result"
    }
   ],
   "source": [
    "# One document turned into 3\n",
    "res"
   ]
  },
  {
   "cell_type": "markdown",
   "metadata": {},
   "source": [
    "#### Scale it up\n",
    "\n",
    "Now that we've seen and got used to it with a single element, we can do the same for the whole of the collection.\n",
    "\n",
    "- `Warning!⚠️:` Objects unwinded keep the same object id, in order to insert them into a new database, we must omit the id so new Object ids are created"
   ]
  },
  {
   "cell_type": "code",
   "execution_count": 7,
   "metadata": {},
   "outputs": [],
   "source": [
    "res = companies.aggregate([{\"$unwind\":\"$offices\"},{\"$project\":{\"_id\":0}}])"
   ]
  },
  {
   "cell_type": "code",
   "execution_count": 8,
   "metadata": {},
   "outputs": [
    {
     "data": {
      "text/plain": [
       "<pymongo.results.InsertManyResult at 0x15520eb80>"
      ]
     },
     "execution_count": 8,
     "metadata": {},
     "output_type": "execute_result"
    }
   ],
   "source": [
    "offices.insert_many(res)"
   ]
  },
  {
   "cell_type": "markdown",
   "metadata": {},
   "source": [
    "As we can see, the process was successful, but there is another obstacle. There can't be null values for latitude or longitude.\n",
    "\n",
    "We must remove  those documents so we can create the index. Luckly, it can all be done on the same aggregation."
   ]
  },
  {
   "cell_type": "code",
   "execution_count": 9,
   "metadata": {},
   "outputs": [],
   "source": [
    "res = companies.aggregate([\n",
    "    {\"$unwind\":\"$offices\"},\n",
    "    {\"$match\":{\"offices.latitude\":{\"$ne\":None}, \"offices.longitude\":{\"$ne\":None}}},\n",
    "    {\"$project\":{\"_id\":0}}])"
   ]
  },
  {
   "cell_type": "code",
   "execution_count": 10,
   "metadata": {},
   "outputs": [
    {
     "data": {
      "text/plain": [
       "<pymongo.results.InsertManyResult at 0x137ef8dc0>"
      ]
     },
     "execution_count": 10,
     "metadata": {},
     "output_type": "execute_result"
    }
   ],
   "source": [
    "offices.drop()  # Delelting previously inserted data with nulls.\n",
    "offices.insert_many(res)"
   ]
  },
  {
   "cell_type": "markdown",
   "metadata": {},
   "source": [
    "## GeoJSON\n",
    "\n",
    "Now that we have our data properly cleaned, we must make sure it is on a proper format.\n",
    "\n",
    "There are many standards for coordinate data, but we will use GeoJSON.\n",
    "\n",
    "GeoJSONs are basically dictionaries, with a key `type` indicating whether it is a `Point`, `Polygon` or `Multipolygon`. And another `coordinates` that contains an array of points or a single point.\n",
    "\n",
    "- `NOTE 🌍:` On geoJSON, the longitude must come before the longitude.\n",
    "\n",
    "```js\n",
    "{\n",
    "    \"type\": \"Point\",\n",
    "    \"coordinates\": [125.6, 10.1]\n",
    "  }\n",
    "```\n",
    "\n",
    "The excerpt above is only the `geometry` part of a geoJSON (the other being the properties), but is all we need."
   ]
  },
  {
   "cell_type": "code",
   "execution_count": 11,
   "metadata": {},
   "outputs": [],
   "source": [
    "res = offices.find({},{\"offices\":1})"
   ]
  },
  {
   "cell_type": "code",
   "execution_count": 12,
   "metadata": {},
   "outputs": [],
   "source": [
    "for comp in res:\n",
    "    geojson = {\n",
    "        \"type\":\"Point\",\n",
    "        \"coordinates\":[comp[\"offices\"][\"longitude\"], comp[\"offices\"][\"latitude\"]]\n",
    "    } \n",
    "    offices.update_one(comp, {\"$set\":{\"geojson\":geojson}})  # We update all of the elements with the new value."
   ]
  },
  {
   "cell_type": "markdown",
   "metadata": {},
   "source": [
    "## Index\n",
    "\n",
    "The coordinates are now ready. We just have to convert them into a index, a 2dsphere index.\n",
    "\n",
    "This can be acomplished through pymongo;"
   ]
  },
  {
   "cell_type": "code",
   "execution_count": 13,
   "metadata": {},
   "outputs": [
    {
     "data": {
      "text/plain": [
       "'geojson_2dsphere'"
      ]
     },
     "execution_count": 13,
     "metadata": {},
     "output_type": "execute_result"
    }
   ],
   "source": [
    "offices.create_index([(\"geojson\", \"2dsphere\")])"
   ]
  },
  {
   "cell_type": "markdown",
   "metadata": {},
   "source": [
    "Or through mongoCompass:\n",
    "\n",
    "![](images/index_menu.png)\n",
    "\n",
    "![](images/index_create.png)"
   ]
  },
  {
   "cell_type": "markdown",
   "metadata": {},
   "source": [
    "## Geospatial Queries\n",
    "\n",
    "Now that we have it all set, we can begin filtering our documents with this data. \n",
    "For an example, we can find the points closest and fartherst to ironhack.\n",
    "\n",
    "### `near`\n",
    "\n",
    "The operator near can be used to see if a document is close or far from a given point. You can also define a `$minDistance` and `$maxDistance`.\n",
    "\n",
    "- `Note:` The results will be sorted from closest to furtherst\n"
   ]
  },
  {
   "cell_type": "code",
   "execution_count": 14,
   "metadata": {},
   "outputs": [],
   "source": [
    "ironhack = {\n",
    "        \"type\":\"Point\",\n",
    "        \"coordinates\":[-3.6982891786021477,40.39256209165716,]\n",
    "    }"
   ]
  },
  {
   "cell_type": "code",
   "execution_count": 15,
   "metadata": {},
   "outputs": [],
   "source": [
    "res = offices.find({\"geojson\":{\"$near\":ironhack,\"$maxDistance\":10000}}, {\"name\":1,\"offices\":1})"
   ]
  },
  {
   "cell_type": "code",
   "execution_count": 16,
   "metadata": {},
   "outputs": [],
   "source": [
    "res = list(res)"
   ]
  },
  {
   "cell_type": "code",
   "execution_count": 17,
   "metadata": {},
   "outputs": [
    {
     "data": {
      "text/plain": [
       "[{'_id': ObjectId('601be1de944ade9fc75061b7'),\n",
       "  'name': 'Daily Flat Rental',\n",
       "  'offices': {'description': 'Central Office',\n",
       "   'address1': 'Lavapies 26 1A',\n",
       "   'address2': '',\n",
       "   'zip_code': '28012',\n",
       "   'city': 'Madrid',\n",
       "   'state_code': None,\n",
       "   'country_code': 'ESP',\n",
       "   'latitude': 40.412323,\n",
       "   'longitude': -3.703248}}]"
      ]
     },
     "execution_count": 17,
     "metadata": {},
     "output_type": "execute_result"
    }
   ],
   "source": [
    "res[:1]"
   ]
  },
  {
   "cell_type": "markdown",
   "metadata": {},
   "source": [
    "### `geoWithin`\n",
    "\n",
    "You can also use this data to see which points are within a given area. \n",
    "\n",
    "We will however, need the coordinates for the polygons (the perimeter of the areas)"
   ]
  },
  {
   "cell_type": "code",
   "execution_count": 18,
   "metadata": {},
   "outputs": [],
   "source": [
    "import json\n",
    "\n",
    "with open(\"../datasets/spain-communities.geojson\") as file: # Opening some geodata for spanish communities\n",
    "    ca = json.load(file)"
   ]
  },
  {
   "cell_type": "code",
   "execution_count": 19,
   "metadata": {},
   "outputs": [
    {
     "data": {
      "text/plain": [
       "dict_keys(['type', 'features'])"
      ]
     },
     "execution_count": 19,
     "metadata": {},
     "output_type": "execute_result"
    }
   ],
   "source": [
    "ca.keys() # It is a Json file, a single dictionary."
   ]
  },
  {
   "cell_type": "markdown",
   "metadata": {},
   "source": [
    "Since this json is of the type `Feature Collection`, each of the elements on the `features` array will represent an entity."
   ]
  },
  {
   "cell_type": "code",
   "execution_count": 20,
   "metadata": {},
   "outputs": [
    {
     "data": {
      "text/plain": [
       "dict_keys(['type', 'geometry', 'properties'])"
      ]
     },
     "execution_count": 20,
     "metadata": {},
     "output_type": "execute_result"
    }
   ],
   "source": [
    "ca[\"features\"][0].keys()"
   ]
  },
  {
   "cell_type": "code",
   "execution_count": 21,
   "metadata": {},
   "outputs": [
    {
     "data": {
      "text/plain": [
       "{'cod_ccaa': '07',\n",
       " 'noml_ccaa': 'COMUNIDAD DE CASTILLA Y LEON',\n",
       " 'name': 'Castilla-Leon',\n",
       " 'cartodb_id': 7,\n",
       " 'created_at': '2014-09-30T00:00:00Z',\n",
       " 'updated_at': '2014-12-25T02:07:41Z'}"
      ]
     },
     "execution_count": 21,
     "metadata": {},
     "output_type": "execute_result"
    }
   ],
   "source": [
    "ca[\"features\"][0][\"properties\"]"
   ]
  },
  {
   "cell_type": "code",
   "execution_count": 22,
   "metadata": {},
   "outputs": [],
   "source": [
    "spain = [{\"name\":com[\"properties\"][\"name\"],**com} for com in ca[\"features\"]]\n",
    "# We do a list comprehension in order to add the name of each Community on a \n",
    "# more visible place instead of into the `properties`"
   ]
  },
  {
   "cell_type": "code",
   "execution_count": 23,
   "metadata": {},
   "outputs": [
    {
     "data": {
      "text/plain": [
       "['Castilla-Leon',\n",
       " 'Cataluña',\n",
       " 'Ceuta',\n",
       " 'Murcia',\n",
       " 'La Rioja',\n",
       " 'Baleares',\n",
       " 'Canarias',\n",
       " 'Cantabria',\n",
       " 'Andalucia',\n",
       " 'Asturias',\n",
       " 'Valencia',\n",
       " 'Melilla',\n",
       " 'Navarra',\n",
       " 'Galicia',\n",
       " 'Aragon',\n",
       " 'Madrid',\n",
       " 'Extremadura',\n",
       " 'Castilla-La Mancha',\n",
       " 'Pais Vasco']"
      ]
     },
     "execution_count": 23,
     "metadata": {},
     "output_type": "execute_result"
    }
   ],
   "source": [
    "[ca[\"name\"] for ca in spain]"
   ]
  },
  {
   "cell_type": "markdown",
   "metadata": {},
   "source": [
    "We add this data onto a new collection for easily selecting each of the communities."
   ]
  },
  {
   "cell_type": "code",
   "execution_count": 24,
   "metadata": {},
   "outputs": [
    {
     "data": {
      "text/plain": [
       "<pymongo.results.InsertManyResult at 0x1127ade80>"
      ]
     },
     "execution_count": 24,
     "metadata": {},
     "output_type": "execute_result"
    }
   ],
   "source": [
    "client.companies.spain.insert_many(spain)"
   ]
  },
  {
   "cell_type": "markdown",
   "metadata": {},
   "source": [
    "Whenever we want the data for a community, we simply query for it. "
   ]
  },
  {
   "cell_type": "code",
   "execution_count": 25,
   "metadata": {},
   "outputs": [],
   "source": [
    "res = client.companies.spain.find({\"name\":\"Murcia\"})"
   ]
  },
  {
   "cell_type": "code",
   "execution_count": 26,
   "metadata": {},
   "outputs": [],
   "source": [
    "murcia = next(res)"
   ]
  },
  {
   "cell_type": "markdown",
   "metadata": {},
   "source": [
    "When we want to check which documents are within a perimeter:\n",
    "```js \n",
    "   <collection>.find( { <attribute> : { \"$geoWithin\" : { \"$geometry\" :  <geojson> } } )\n",
    "```\n",
    "- `collection` : Where the documents are\n",
    "- `attribute` : the name of the attribute that contains the geometry data on the documents of collection.\n",
    "- `$geometry` : this operator must be use to indicate we are passing a polygon\n",
    "- `geojson` : The data of the polygon."
   ]
  },
  {
   "cell_type": "code",
   "execution_count": 27,
   "metadata": {},
   "outputs": [],
   "source": [
    "res = offices.find({\"geojson\":{\"$geoWithin\":{\"$geometry\":murcia[\"geometry\"]}}}, {\"name\":1,\"offices\":1})\n",
    "res = list(res)"
   ]
  },
  {
   "cell_type": "code",
   "execution_count": 28,
   "metadata": {},
   "outputs": [
    {
     "data": {
      "text/plain": [
       "[{'_id': ObjectId('601be1de944ade9fc75074d9'),\n",
       "  'name': 'Cokidoo',\n",
       "  'offices': {'description': 'Murcia Office',\n",
       "   'address1': '',\n",
       "   'address2': '',\n",
       "   'zip_code': '30008',\n",
       "   'city': 'Murcia',\n",
       "   'state_code': None,\n",
       "   'country_code': 'ESP',\n",
       "   'latitude': 37.9928939,\n",
       "   'longitude': -1.1317041}}]"
      ]
     },
     "execution_count": 28,
     "metadata": {},
     "output_type": "execute_result"
    }
   ],
   "source": [
    "res"
   ]
  },
  {
   "cell_type": "markdown",
   "metadata": {},
   "source": [
    "## Further resources\n",
    "\n",
    "- [Lots of geojson files](https://github.com/codeforamerica/click_that_hood/tree/master/public/data)"
   ]
  }
 ],
 "metadata": {
  "kernelspec": {
   "display_name": "Python 3",
   "language": "python",
   "name": "python3"
  },
  "language_info": {
   "codemirror_mode": {
    "name": "ipython",
    "version": 3
   },
   "file_extension": ".py",
   "mimetype": "text/x-python",
   "name": "python",
   "nbconvert_exporter": "python",
   "pygments_lexer": "ipython3",
   "version": "3.8.6"
  },
  "toc": {
   "base_numbering": 1,
   "nav_menu": {},
   "number_sections": true,
   "sideBar": true,
   "skip_h1_title": true,
   "title_cell": "Table of Contents",
   "title_sidebar": "Contents",
   "toc_cell": true,
   "toc_position": {
    "height": "calc(100% - 180px)",
    "left": "10px",
    "top": "150px",
    "width": "253px"
   },
   "toc_section_display": true,
   "toc_window_display": true
  }
 },
 "nbformat": 4,
 "nbformat_minor": 4
}
