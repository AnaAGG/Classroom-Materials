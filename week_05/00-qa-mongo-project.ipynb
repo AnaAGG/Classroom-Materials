{
 "cells": [
  {
   "cell_type": "markdown",
   "metadata": {},
   "source": [
    "## Creating the 2dsphere index"
   ]
  },
  {
   "cell_type": "code",
   "execution_count": 9,
   "metadata": {},
   "outputs": [],
   "source": [
    "from pymongo import MongoClient\n",
    "client = MongoClient()\n",
    "companies = client.companies.companies\n",
    "offices = client.companies.offices"
   ]
  },
  {
   "cell_type": "code",
   "execution_count": 10,
   "metadata": {},
   "outputs": [],
   "source": [
    "# To create the geo index, we must first prepare our data.\n",
    "\n",
    "## Separate different offices into different documents\n",
    "unwind = {'$unwind': {\n",
    "            'path': '$offices'}}\n",
    "## Remove documents with null values for either latitude or longitude\n",
    "dropnull = {'$match': {\n",
    "            'offices.latitude': {\n",
    "                '$ne': None}, \n",
    "            'offices.longitude': {\n",
    "                '$ne': None}}}\n",
    "## Create new attribute in geoJSON format\n",
    "geojson = {'$set': {\n",
    "            'geo_coord': {\n",
    "                'type': 'Point', \n",
    "                'coordinates': [\n",
    "                '$offices.longitude', '$offices.latitude']}\n",
    "                    }}\n",
    "## Remove the _id\n",
    "### If we try to insert the documents as is, we will have a problem, since\n",
    "### we would be inserting some documents with duplicated _id.\n",
    "remove_id = {'$project': {'_id': 0}}\n",
    "## This is a pipeline, all the stages will be executed one after the other.\n",
    "\n",
    "pipeline = [unwind, dropnull, geojson, remove_id]"
   ]
  },
  {
   "cell_type": "code",
   "execution_count": 11,
   "metadata": {},
   "outputs": [
    {
     "data": {
      "text/plain": [
       "<pymongo.command_cursor.CommandCursor at 0x100d65550>"
      ]
     },
     "execution_count": 11,
     "metadata": {},
     "output_type": "execute_result"
    }
   ],
   "source": [
    "## We use this pipeline in an aggregation\n",
    "result = companies.aggregate(pipeline)\n",
    "result"
   ]
  },
  {
   "cell_type": "code",
   "execution_count": 12,
   "metadata": {},
   "outputs": [],
   "source": [
    "res = offices.insert_many(result)"
   ]
  },
  {
   "cell_type": "code",
   "execution_count": 13,
   "metadata": {},
   "outputs": [
    {
     "data": {
      "text/plain": [
       "[ObjectId('60211110a1919d6139ffe75f'),\n",
       " ObjectId('60211110a1919d6139ffe760'),\n",
       " ObjectId('60211110a1919d6139ffe761')]"
      ]
     },
     "execution_count": 13,
     "metadata": {},
     "output_type": "execute_result"
    }
   ],
   "source": [
    "res.inserted_ids[:3]"
   ]
  },
  {
   "cell_type": "code",
   "execution_count": 14,
   "metadata": {},
   "outputs": [
    {
     "data": {
      "text/plain": [
       "0"
      ]
     },
     "execution_count": 14,
     "metadata": {},
     "output_type": "execute_result"
    }
   ],
   "source": [
    "len(list(result))"
   ]
  },
  {
   "cell_type": "markdown",
   "metadata": {},
   "source": [
    "### Create 2dsphere index"
   ]
  },
  {
   "cell_type": "code",
   "execution_count": 15,
   "metadata": {},
   "outputs": [
    {
     "data": {
      "text/plain": [
       "'geo_coord_2dsphere'"
      ]
     },
     "execution_count": 15,
     "metadata": {},
     "output_type": "execute_result"
    }
   ],
   "source": [
    "offices.create_index([(\"geo_coord\",\"2dsphere\")])"
   ]
  },
  {
   "cell_type": "markdown",
   "metadata": {},
   "source": [
    "### Adding more operations to pipeline"
   ]
  },
  {
   "cell_type": "code",
   "execution_count": 16,
   "metadata": {},
   "outputs": [],
   "source": [
    "# To create the geo index, we must first prepare our data.\n",
    "\n",
    "## Separate different offices into different documents\n",
    "unwind = {'$unwind': {\n",
    "            'path': '$offices'}}\n",
    "## Remove documents with null values for either latitude or longitude\n",
    "dropnull = {'$match': {\n",
    "            'offices.latitude': {\n",
    "                '$ne': None}, \n",
    "            'offices.longitude': {\n",
    "                '$ne': None}}}\n",
    "## Create new attribute in geoJSON format\n",
    "geojson = {'$set': {\n",
    "            'geo_coord': {\n",
    "                'type': 'Point', \n",
    "                'coordinates': [\n",
    "                '$offices.longitude', '$offices.latitude']}\n",
    "                    }}\n",
    "## Remove the _id\n",
    "### If we try to insert the documents as is, we will have a problem, since\n",
    "### we would be inserting some documents with duplicated _id.\n",
    "remove_id = {'$project': {'_id': 0}}\n",
    "## filter\n",
    "filt_design = {\"$match\":\n",
    "                  {\"tag_list\":{\"$regex\":\".*[Dd]esign.*\"}}\n",
    "              }\n",
    "## This is a pipeline, all the stages will be executed one after the other.\n",
    "\n",
    "pipeline = [unwind, dropnull, geojson, remove_id, filt_design]"
   ]
  },
  {
   "cell_type": "code",
   "execution_count": 17,
   "metadata": {},
   "outputs": [],
   "source": [
    "result = companies.aggregate(pipeline)"
   ]
  },
  {
   "cell_type": "code",
   "execution_count": 18,
   "metadata": {},
   "outputs": [
    {
     "data": {
      "text/plain": [
       "461"
      ]
     },
     "execution_count": 18,
     "metadata": {},
     "output_type": "execute_result"
    }
   ],
   "source": [
    "data = list(result)\n",
    "len(data)"
   ]
  },
  {
   "cell_type": "code",
   "execution_count": 19,
   "metadata": {},
   "outputs": [
    {
     "data": {
      "text/plain": [
       "'community, social, news, bookmark, digg, technology, design'"
      ]
     },
     "execution_count": 19,
     "metadata": {},
     "output_type": "execute_result"
    }
   ],
   "source": [
    "data[0][\"tag_list\"]"
   ]
  },
  {
   "cell_type": "markdown",
   "metadata": {},
   "source": [
    "## Querying\n",
    "Once we have a new collection with the data prepared, we can started  querying"
   ]
  },
  {
   "cell_type": "code",
   "execution_count": 20,
   "metadata": {},
   "outputs": [],
   "source": [
    "design = offices.find({\"tag_list\":{\"$regex\":\".*[Dd]esign.*\"}})"
   ]
  },
  {
   "cell_type": "code",
   "execution_count": 21,
   "metadata": {},
   "outputs": [
    {
     "data": {
      "text/plain": [
       "461"
      ]
     },
     "execution_count": 21,
     "metadata": {},
     "output_type": "execute_result"
    }
   ],
   "source": [
    "len(list(design))"
   ]
  },
  {
   "cell_type": "markdown",
   "metadata": {},
   "source": [
    "### near or geoNear operators\n",
    "These are the query operators.\n",
    "\n",
    "Not to be confused with the aggregator `$geoNear`"
   ]
  },
  {
   "cell_type": "code",
   "execution_count": 22,
   "metadata": {},
   "outputs": [],
   "source": [
    "eiffel_tower = {\"type\":\"Point\", \"coordinates\":[2.2945,48.8584]}\n",
    "query = {\"geo_coord\":\n",
    "         {\"$near\": eiffel_tower, \n",
    "          # Optionally, we can set one or both maxDistance, minDistance (in meters)\n",
    "          \"$maxDistance\":3000, \"$minDistance\":2000 }}\n",
    "paris = offices.find(query)"
   ]
  },
  {
   "cell_type": "code",
   "execution_count": 23,
   "metadata": {},
   "outputs": [
    {
     "data": {
      "text/plain": [
       "20"
      ]
     },
     "execution_count": 23,
     "metadata": {},
     "output_type": "execute_result"
    }
   ],
   "source": [
    "paris = list(paris)\n",
    "len(paris)"
   ]
  },
  {
   "cell_type": "markdown",
   "metadata": {},
   "source": [
    "### Calculating Distances\n",
    "\n",
    "#### Euclidean Distance\n",
    "$A = x_A, y_A$\n",
    "\n",
    "$B = x_B, y_B$\n",
    "\n",
    "$dist_{AB} = \\sqrt{(x_A-x_B)^2 + (y_A-y_B)^2}$"
   ]
  },
  {
   "cell_type": "code",
   "execution_count": 24,
   "metadata": {},
   "outputs": [],
   "source": [
    "# Distance between points\n",
    "def dist(pointA, pointB=(0,0)):\n",
    "    dist = 0\n",
    "    for i in range(len(pointA)):\n",
    "        dist += (pointA[i] - pointB[i])**2\n",
    "    return dist **.5"
   ]
  },
  {
   "cell_type": "code",
   "execution_count": 25,
   "metadata": {},
   "outputs": [
    {
     "data": {
      "text/plain": [
       "10.63014581273465"
      ]
     },
     "execution_count": 25,
     "metadata": {},
     "output_type": "execute_result"
    }
   ],
   "source": [
    "dist([7,8])"
   ]
  },
  {
   "cell_type": "code",
   "execution_count": 26,
   "metadata": {},
   "outputs": [],
   "source": [
    "distances = []\n",
    "for comp in paris:\n",
    "    distances.append(dist(comp[\"geo_coord\"][\"coordinates\"], eiffel_tower[\"coordinates\"]))"
   ]
  },
  {
   "cell_type": "code",
   "execution_count": 27,
   "metadata": {},
   "outputs": [
    {
     "data": {
      "text/plain": [
       "[0.027390855476418334,\n",
       " 0.022701592527842505,\n",
       " 0.023700403118931342,\n",
       " 0.029152472365138238,\n",
       " 0.029152472365138238,\n",
       " 0.026771368063660744,\n",
       " 0.026771368063660744,\n",
       " 0.030529760943869808,\n",
       " 0.030529760943869808,\n",
       " 0.03218738299396029,\n",
       " 0.028415663091507348,\n",
       " 0.027476849200733577,\n",
       " 0.03185180456944362,\n",
       " 0.031119813555031114,\n",
       " 0.024167320517591843,\n",
       " 0.032385631813039994,\n",
       " 0.03698658077262518,\n",
       " 0.029769268013341586,\n",
       " 0.03655933706319018,\n",
       " 0.03193368166998561]"
      ]
     },
     "execution_count": 27,
     "metadata": {},
     "output_type": "execute_result"
    }
   ],
   "source": [
    "# Distance in Degrees\n",
    "distances"
   ]
  },
  {
   "cell_type": "code",
   "execution_count": 28,
   "metadata": {},
   "outputs": [
    {
     "data": {
      "text/plain": [
       "[3040.384957882435,\n",
       " 2519.876770590518,\n",
       " 2630.744746201379,\n",
       " 3235.9244325303443,\n",
       " 3235.9244325303443,\n",
       " 2971.6218550663425,\n",
       " 2971.6218550663425,\n",
       " 3388.8034647695486,\n",
       " 3388.8034647695486,\n",
       " 3572.7995123295923,\n",
       " 3154.1386031573156,\n",
       " 3049.930261281427,\n",
       " 3535.550307208242,\n",
       " 3454.299304608454,\n",
       " 2682.5725774526945,\n",
       " 3594.8051312474395,\n",
       " 4105.510465761395,\n",
       " 3304.388749480916,\n",
       " 4058.08641401411,\n",
       " 3544.6386653684026]"
      ]
     },
     "execution_count": 28,
     "metadata": {},
     "output_type": "execute_result"
    }
   ],
   "source": [
    "# Approximation to meters\n",
    "# 1º ~ 111km (equator)\n",
    "## This results in values that are outside our range, because the approximation\n",
    "## is not good enough\n",
    "[d*111000 for d in distances]"
   ]
  },
  {
   "cell_type": "markdown",
   "metadata": {},
   "source": [
    "#### Haversine"
   ]
  },
  {
   "cell_type": "code",
   "execution_count": 29,
   "metadata": {},
   "outputs": [],
   "source": [
    "from haversine import haversine"
   ]
  },
  {
   "cell_type": "code",
   "execution_count": 30,
   "metadata": {},
   "outputs": [],
   "source": [
    "distances = []\n",
    "for comp in paris:\n",
    "    distances.append(\n",
    "        haversine(comp[\"geo_coord\"][\"coordinates\"][::-1], \n",
    "                  eiffel_tower[\"coordinates\"][::-1]))"
   ]
  },
  {
   "cell_type": "markdown",
   "metadata": {},
   "source": [
    "`NOTE: When using haversine, we must always pass LATITUDE, LONGITUDE in this order.`"
   ]
  },
  {
   "cell_type": "code",
   "execution_count": 31,
   "metadata": {},
   "outputs": [
    {
     "data": {
      "text/plain": [
       "[2.0293801160751523,\n",
       " 2.140384455030728,\n",
       " 2.141014432265475,\n",
       " 2.346288905121962,\n",
       " 2.346288905121962,\n",
       " 2.3823983619347975,\n",
       " 2.3823983619347975,\n",
       " 2.508083572808068,\n",
       " 2.508083572808068,\n",
       " 2.525561886851476,\n",
       " 2.526874801632946,\n",
       " 2.545316677795391,\n",
       " 2.637376149745737,\n",
       " 2.6497406932746252,\n",
       " 2.678886539715555,\n",
       " 2.71932026117995,\n",
       " 2.7467492001750426,\n",
       " 2.802389089446785,\n",
       " 2.9149462188668926,\n",
       " 2.9781518244257503]"
      ]
     },
     "execution_count": 31,
     "metadata": {},
     "output_type": "execute_result"
    }
   ],
   "source": [
    "distances # in km"
   ]
  },
  {
   "cell_type": "markdown",
   "metadata": {},
   "source": [
    "#### $geoNear Aggregation"
   ]
  },
  {
   "cell_type": "code",
   "execution_count": 32,
   "metadata": {},
   "outputs": [],
   "source": [
    "geoagg = {\"$geoNear\":{\"near\":{\"type\":\"Point\", \n",
    "                      \"coordinates\":[2.2945,48.8584] }, \n",
    "                      \"distanceField\":\"dist\",\n",
    "                      \"minDistance\":2000,\n",
    "                      \"maxDistance\":3000}}"
   ]
  },
  {
   "cell_type": "code",
   "execution_count": 33,
   "metadata": {},
   "outputs": [],
   "source": [
    "result = offices.aggregate([geoagg])"
   ]
  },
  {
   "cell_type": "code",
   "execution_count": 34,
   "metadata": {},
   "outputs": [],
   "source": [
    "data = list(result)"
   ]
  },
  {
   "cell_type": "code",
   "execution_count": 35,
   "metadata": {},
   "outputs": [
    {
     "data": {
      "text/plain": [
       "20"
      ]
     },
     "execution_count": 35,
     "metadata": {},
     "output_type": "execute_result"
    }
   ],
   "source": [
    "len(data)"
   ]
  },
  {
   "cell_type": "code",
   "execution_count": 36,
   "metadata": {},
   "outputs": [
    {
     "data": {
      "text/plain": [
       "2031.6389012581994"
      ]
     },
     "execution_count": 36,
     "metadata": {},
     "output_type": "execute_result"
    }
   ],
   "source": [
    "data[0][\"dist\"]"
   ]
  },
  {
   "cell_type": "markdown",
   "metadata": {},
   "source": [
    "## Bonus - Progress Bar\n",
    "- [Tutorial on Towards Data Science](https://towardsdatascience.com/ever-wanted-progress-bars-in-jupyter-bdb3988d9cfc)\n",
    "- [tqdm Docs](https://github.com/tqdm/tqdm#manual)"
   ]
  },
  {
   "cell_type": "code",
   "execution_count": 37,
   "metadata": {},
   "outputs": [],
   "source": [
    "from tqdm import tqdm"
   ]
  },
  {
   "cell_type": "code",
   "execution_count": 41,
   "metadata": {},
   "outputs": [],
   "source": [
    "def calculate_distances(collection,point):\n",
    "    dist = []\n",
    "    for office in tqdm(collection, total=10834):\n",
    "        dist.append(\n",
    "            haversine(office[\"geo_coord\"][\"coordinates\"][::-1],\n",
    "                      point[\"coordinates\"][::-1])\n",
    "        )\n",
    "    return dist"
   ]
  },
  {
   "cell_type": "code",
   "execution_count": 42,
   "metadata": {},
   "outputs": [],
   "source": [
    "off = offices.find({})"
   ]
  },
  {
   "cell_type": "code",
   "execution_count": 43,
   "metadata": {
    "scrolled": true
   },
   "outputs": [
    {
     "name": "stderr",
     "output_type": "stream",
     "text": [
      "100%|██████████| 10834/10834 [00:02<00:00, 4089.98it/s]\n"
     ]
    }
   ],
   "source": [
    "dist = calculate_distances(off,eiffel_tower)"
   ]
  }
 ],
 "metadata": {
  "kernelspec": {
   "display_name": "Python 3",
   "language": "python",
   "name": "python3"
  },
  "language_info": {
   "codemirror_mode": {
    "name": "ipython",
    "version": 3
   },
   "file_extension": ".py",
   "mimetype": "text/x-python",
   "name": "python",
   "nbconvert_exporter": "python",
   "pygments_lexer": "ipython3",
   "version": "3.8.6"
  },
  "toc": {
   "base_numbering": 1,
   "nav_menu": {},
   "number_sections": true,
   "sideBar": true,
   "skip_h1_title": false,
   "title_cell": "Table of Contents",
   "title_sidebar": "Contents",
   "toc_cell": false,
   "toc_position": {},
   "toc_section_display": true,
   "toc_window_display": false
  }
 },
 "nbformat": 4,
 "nbformat_minor": 4
}
