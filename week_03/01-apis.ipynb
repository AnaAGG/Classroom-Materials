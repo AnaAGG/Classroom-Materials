{
 "cells": [
  {
   "cell_type": "markdown",
   "metadata": {
    "toc": true
   },
   "source": [
    "<h1>Table of Contents<span class=\"tocSkip\"></span></h1>\n",
    "<div class=\"toc\"><ul class=\"toc-item\"><li><span><a href=\"#Internet,-DNS,-IPs\" data-toc-modified-id=\"Internet,-DNS,-IPs-1\"><span class=\"toc-item-num\">1&nbsp;&nbsp;</span>Internet, DNS, IPs</a></span></li><li><span><a href=\"#HTTP\" data-toc-modified-id=\"HTTP-2\"><span class=\"toc-item-num\">2&nbsp;&nbsp;</span>HTTP</a></span><ul class=\"toc-item\"><li><span><a href=\"#URL\" data-toc-modified-id=\"URL-2.1\"><span class=\"toc-item-num\">2.1&nbsp;&nbsp;</span>URL</a></span></li><li><span><a href=\"#HTTP-vs-HTTPS\" data-toc-modified-id=\"HTTP-vs-HTTPS-2.2\"><span class=\"toc-item-num\">2.2&nbsp;&nbsp;</span>HTTP vs HTTPS</a></span></li><li><span><a href=\"#Requests\" data-toc-modified-id=\"Requests-2.3\"><span class=\"toc-item-num\">2.3&nbsp;&nbsp;</span>Requests</a></span></li><li><span><a href=\"#Response\" data-toc-modified-id=\"Response-2.4\"><span class=\"toc-item-num\">2.4&nbsp;&nbsp;</span>Response</a></span></li><li><span><a href=\"#HTML-response\" data-toc-modified-id=\"HTML-response-2.5\"><span class=\"toc-item-num\">2.5&nbsp;&nbsp;</span>HTML response</a></span></li><li><span><a href=\"#JSON-response\" data-toc-modified-id=\"JSON-response-2.6\"><span class=\"toc-item-num\">2.6&nbsp;&nbsp;</span>JSON response</a></span></li></ul></li><li><span><a href=\"#API\" data-toc-modified-id=\"API-3\"><span class=\"toc-item-num\">3&nbsp;&nbsp;</span>API</a></span><ul class=\"toc-item\"><li><span><a href=\"#RESTful-APIs\" data-toc-modified-id=\"RESTful-APIs-3.1\"><span class=\"toc-item-num\">3.1&nbsp;&nbsp;</span>RESTful APIs</a></span></li></ul></li><li><span><a href=\"#Requests-in-Python\" data-toc-modified-id=\"Requests-in-Python-4\"><span class=\"toc-item-num\">4&nbsp;&nbsp;</span>Requests in Python</a></span><ul class=\"toc-item\"><li><span><a href=\"#GET\" data-toc-modified-id=\"GET-4.1\"><span class=\"toc-item-num\">4.1&nbsp;&nbsp;</span>GET</a></span></li><li><span><a href=\"#Parameters\" data-toc-modified-id=\"Parameters-4.2\"><span class=\"toc-item-num\">4.2&nbsp;&nbsp;</span>Parameters</a></span></li><li><span><a href=\"#News-API\" data-toc-modified-id=\"News-API-4.3\"><span class=\"toc-item-num\">4.3&nbsp;&nbsp;</span>News API</a></span></li></ul></li><li><span><a href=\"#Another-example-API:-Jokes-API\" data-toc-modified-id=\"Another-example-API:-Jokes-API-5\"><span class=\"toc-item-num\">5&nbsp;&nbsp;</span>Another example API: Jokes API</a></span></li><li><span><a href=\"#API-keys\" data-toc-modified-id=\"API-keys-6\"><span class=\"toc-item-num\">6&nbsp;&nbsp;</span>API keys</a></span></li><li><span><a href=\"#Headers\" data-toc-modified-id=\"Headers-7\"><span class=\"toc-item-num\">7&nbsp;&nbsp;</span>Headers</a></span></li><li><span><a href=\"#NewsAPI-endpoints-playground\" data-toc-modified-id=\"NewsAPI-endpoints-playground-8\"><span class=\"toc-item-num\">8&nbsp;&nbsp;</span>NewsAPI endpoints playground</a></span></li><li><span><a href=\"#Summary\" data-toc-modified-id=\"Summary-9\"><span class=\"toc-item-num\">9&nbsp;&nbsp;</span>Summary</a></span></li><li><span><a href=\"#Further-materials\" data-toc-modified-id=\"Further-materials-10\"><span class=\"toc-item-num\">10&nbsp;&nbsp;</span>Further materials</a></span></li></ul></div>"
   ]
  },
  {
   "cell_type": "markdown",
   "metadata": {},
   "source": [
    "## Internet, DNS, IPs"
   ]
  },
  {
   "cell_type": "markdown",
   "metadata": {},
   "source": [
    "[How do we connect to www.google.com?](https://www.youtube.com/watch?v=sUhEqT_HSBI&ab_channel=ProfeSang)"
   ]
  },
  {
   "cell_type": "markdown",
   "metadata": {},
   "source": [
    " * DNS (domain name server): maps internet address www.google.com to server IP: 216.58.222.196\n",
    " * IP: server identification. |code that allow information to be sent and received by the correct parties"
   ]
  },
  {
   "cell_type": "markdown",
   "metadata": {},
   "source": [
    " * Domain providers: they sell and buy internet domains"
   ]
  },
  {
   "cell_type": "markdown",
   "metadata": {},
   "source": [
    "## HTTP"
   ]
  },
  {
   "cell_type": "markdown",
   "metadata": {},
   "source": [
    "**H**yper **T**ext **T**ransfer **P**rotocol"
   ]
  },
  {
   "cell_type": "markdown",
   "metadata": {},
   "source": [
    "HTTP is a communications protocol that provides a structure for requests between client and server in a network. "
   ]
  },
  {
   "cell_type": "markdown",
   "metadata": {},
   "source": [
    "For example, the Web browser in the user's computer (the client) employs the HTTP protocol to request information from a website on a server. "
   ]
  },
  {
   "cell_type": "markdown",
   "metadata": {},
   "source": [
    "### URL"
   ]
  },
  {
   "cell_type": "markdown",
   "metadata": {},
   "source": [
    "Contains information of which resource whe are asking the SERVER for."
   ]
  },
  {
   "cell_type": "markdown",
   "metadata": {},
   "source": [
    "Examples:\n",
    "\n",
    "- https://www.google.com/webhp?authuser=2\n",
    "- https://www.towardsdatascience.com"
   ]
  },
  {
   "cell_type": "markdown",
   "metadata": {},
   "source": [
    "### HTTP vs HTTPS\n",
    "\n",
    "- HTTP transfers data in plain text while HTTPS transfers data in cipher text (encrypt text). \n",
    "- HTTP is fast as compared to HTTPS because HTTPS consumes computation power to encrypt the communication channel."
   ]
  },
  {
   "cell_type": "markdown",
   "metadata": {},
   "source": [
    "### Requests"
   ]
  },
  {
   "cell_type": "markdown",
   "metadata": {},
   "source": [
    "**Requests** are questions we formulate to a SERVER in order to receive a piece of information (a **response**). "
   ]
  },
  {
   "cell_type": "markdown",
   "metadata": {},
   "source": [
    "Type of requests:\n",
    " * GET: read information from resource, and not to modify it in any way. Webpage access from browser **gets** info.\n",
    " * POST\n",
    " * PUT\n",
    " * DELETE\n",
    " * PATCH\n",
    " * ..."
   ]
  },
  {
   "cell_type": "markdown",
   "metadata": {},
   "source": [
    "### Response"
   ]
  },
  {
   "cell_type": "markdown",
   "metadata": {},
   "source": [
    "Responses can be of several types:\n",
    " * a JSON (similar to Python dictionary)\n",
    " * an image\n",
    " * a video\n",
    " * a HTML page\n",
    " * a PDF file\n",
    " * ..."
   ]
  },
  {
   "cell_type": "markdown",
   "metadata": {},
   "source": [
    "Responses follow the following structure. They have:\n",
    " * a HEADER section: contains metadata about the behaviour of the server\n",
    " * a BODY: contains the desired piece of information"
   ]
  },
  {
   "cell_type": "markdown",
   "metadata": {},
   "source": [
    "One important part of the HEADER is the **status code**. This code is a numerical code indicating the result of the server. There are different status codes depending if the server succedded to perform the REQUEST or didn't manage to do anything at all. This are some groups of status codes:\n",
    "\n",
    "- **2xx** successful__: the request was successfully received, understood and accepted\n",
    "- **3xx** redirection__: further action needs to be taken in order to complete the request\n",
    "- **4xx** client error__: the request contains bad syntax or cannot be fulfilled\n",
    "- **5xx** server error__: the server failed to fulfill an apparently valid request\n",
    "\n",
    "Complete list:\n",
    "https://en.wikipedia.org/wiki/List_of_HTTP_status_codes"
   ]
  },
  {
   "cell_type": "code",
   "execution_count": 1,
   "metadata": {},
   "outputs": [],
   "source": [
    "import requests"
   ]
  },
  {
   "cell_type": "markdown",
   "metadata": {},
   "source": [
    "### HTML response"
   ]
  },
  {
   "cell_type": "code",
   "execution_count": 2,
   "metadata": {},
   "outputs": [],
   "source": [
    "response = requests.get(\"https://www.elpais.com\")"
   ]
  },
  {
   "cell_type": "code",
   "execution_count": 6,
   "metadata": {},
   "outputs": [
    {
     "data": {
      "text/plain": [
       "200"
      ]
     },
     "execution_count": 6,
     "metadata": {},
     "output_type": "execute_result"
    }
   ],
   "source": [
    "response.status_code"
   ]
  },
  {
   "cell_type": "code",
   "execution_count": 5,
   "metadata": {},
   "outputs": [
    {
     "data": {
      "text/plain": [
       "{'Content-Type': 'text/html; charset=utf-8', 'Server': 'openresty', 'x-aws-lambda-call-status': '200', 'Content-Encoding': 'gzip', 'ETag': 'W/\"1022af-Cxx4E45LAVt7XBgcyXZESDNn2+0\"', 'Last-Modified': 'Tue, 26 Jan 2021 09:38:24 GMT', 'Vary': 'Accept-Encoding', 'X-Akamai-Transformed': '9 - 0 pmb=mRUM,2', 'Cache-Control': 'private, max-age=60', 'Expires': 'Tue, 26 Jan 2021 09:40:26 GMT', 'Date': 'Tue, 26 Jan 2021 09:39:26 GMT', 'Transfer-Encoding': 'chunked', 'Connection': 'keep-alive, Transfer-Encoding', 'Set-Cookie': 'arc-geo={\"georegion\":\"200\",\"countrycode\":\"ES\",\"regioncode\":\"\",\"timezone\":\"GMT+1\",\"continent\":\"EU\"}; expires=Tue, 26-Jan-2021 09:54:26 GMT; path=/', 'Server-Timing': 'cdn-cache; desc=HIT, edge; dur=1'}"
      ]
     },
     "execution_count": 5,
     "metadata": {},
     "output_type": "execute_result"
    }
   ],
   "source": [
    "response.headers"
   ]
  },
  {
   "cell_type": "code",
   "execution_count": 19,
   "metadata": {},
   "outputs": [
    {
     "data": {
      "text/plain": [
       "True"
      ]
     },
     "execution_count": 19,
     "metadata": {},
     "output_type": "execute_result"
    }
   ],
   "source": [
    "\"Francia\" in str(response.content)"
   ]
  },
  {
   "cell_type": "markdown",
   "metadata": {},
   "source": [
    "### JSON response"
   ]
  },
  {
   "cell_type": "markdown",
   "metadata": {},
   "source": [
    "JSON: Java Script Object Notation"
   ]
  },
  {
   "cell_type": "code",
   "execution_count": 21,
   "metadata": {},
   "outputs": [],
   "source": [
    "response = requests.get(\"https://api.wheretheiss.at/v1/satellites\")"
   ]
  },
  {
   "cell_type": "code",
   "execution_count": 22,
   "metadata": {},
   "outputs": [
    {
     "data": {
      "text/plain": [
       "200"
      ]
     },
     "execution_count": 22,
     "metadata": {},
     "output_type": "execute_result"
    }
   ],
   "source": [
    "response.status_code"
   ]
  },
  {
   "cell_type": "code",
   "execution_count": 23,
   "metadata": {},
   "outputs": [
    {
     "data": {
      "text/plain": [
       "{'Date': 'Tue, 26 Jan 2021 09:52:42 GMT', 'Server': 'Apache/2.2.22 (Ubuntu)', 'X-Powered-By': 'PHP/5.3.10-1ubuntu3.26', 'X-Rate-Limit-Limit': '350', 'X-Rate-Limit-Remaining': '348', 'X-Rate-Limit-Interval': '5 minutes', 'Access-Control-Allow-Origin': '*', 'X-Apache-Time': 'D=18480', 'Cache-Control': 'max-age=0, no-cache', 'Content-Length': '27', 'Keep-Alive': 'timeout=15, max=100', 'Connection': 'Keep-Alive', 'Content-Type': 'application/json'}"
      ]
     },
     "execution_count": 23,
     "metadata": {},
     "output_type": "execute_result"
    }
   ],
   "source": [
    "response.headers"
   ]
  },
  {
   "cell_type": "markdown",
   "metadata": {},
   "source": [
    "If response Content-Type is json, we can access it with `.json()`"
   ]
  },
  {
   "cell_type": "code",
   "execution_count": 25,
   "metadata": {},
   "outputs": [],
   "source": [
    "info = response.json()"
   ]
  },
  {
   "cell_type": "code",
   "execution_count": 26,
   "metadata": {},
   "outputs": [
    {
     "data": {
      "text/plain": [
       "[{'name': 'iss', 'id': 25544}]"
      ]
     },
     "execution_count": 26,
     "metadata": {},
     "output_type": "execute_result"
    }
   ],
   "source": [
    "info"
   ]
  },
  {
   "cell_type": "code",
   "execution_count": 27,
   "metadata": {},
   "outputs": [
    {
     "data": {
      "text/plain": [
       "list"
      ]
     },
     "execution_count": 27,
     "metadata": {},
     "output_type": "execute_result"
    }
   ],
   "source": [
    "type(info)"
   ]
  },
  {
   "cell_type": "markdown",
   "metadata": {},
   "source": [
    "## API"
   ]
  },
  {
   "cell_type": "markdown",
   "metadata": {},
   "source": [
    "**A**pplication **P**rogramming **I**nterface"
   ]
  },
  {
   "cell_type": "markdown",
   "metadata": {},
   "source": [
    "* Cloud era, softwares need to communicate through internet.\n",
    "* Inside a project, backend might want to share with frontend information without ddbb access.\n",
    "* It is a contract between software products. \n",
    "* It is an instruction manual to use some software.\n",
    "* Client calls server through an API, server responds."
   ]
  },
  {
   "cell_type": "markdown",
   "metadata": {},
   "source": [
    "### RESTful APIs"
   ]
  },
  {
   "cell_type": "markdown",
   "metadata": {},
   "source": [
    "Most interactive APIs follow REST logic, a series of rules"
   ]
  },
  {
   "cell_type": "markdown",
   "metadata": {},
   "source": [
    "[Guiding Principles of REST](https://restfulapi.net/)"
   ]
  },
  {
   "cell_type": "markdown",
   "metadata": {},
   "source": [
    "[What is a RESTful API (Video)](https://www.youtube.com/watch?v=JD6VNRdGl98&ab_channel=LeonardoKuffo)"
   ]
  },
  {
   "cell_type": "markdown",
   "metadata": {},
   "source": [
    "Who does what:  \n",
    " * we (client) send a request\n",
    " * they (server) send back a response, generally in JSON format"
   ]
  },
  {
   "cell_type": "markdown",
   "metadata": {},
   "source": [
    "APIs always have to offer documentation of their different services: **endpoints**  \n",
    "Each endpoint is a different URL"
   ]
  },
  {
   "cell_type": "markdown",
   "metadata": {},
   "source": [
    "## Requests in Python"
   ]
  },
  {
   "cell_type": "markdown",
   "metadata": {},
   "source": [
    "`requests`: Python library for doing requests to APIs"
   ]
  },
  {
   "cell_type": "code",
   "execution_count": null,
   "metadata": {},
   "outputs": [],
   "source": [
    "!pip install requests"
   ]
  },
  {
   "cell_type": "code",
   "execution_count": null,
   "metadata": {},
   "outputs": [],
   "source": [
    "import requests"
   ]
  },
  {
   "cell_type": "markdown",
   "metadata": {},
   "source": [
    "We will only perform **GET** requests"
   ]
  },
  {
   "cell_type": "markdown",
   "metadata": {},
   "source": [
    "`requests` turns responses from JSON into a python object"
   ]
  },
  {
   "cell_type": "markdown",
   "metadata": {},
   "source": [
    "### GET"
   ]
  },
  {
   "cell_type": "markdown",
   "metadata": {},
   "source": [
    "Let's get information from ISS (international space station)!"
   ]
  },
  {
   "cell_type": "markdown",
   "metadata": {},
   "source": [
    "[ISS API documentation](https://wheretheiss.at/w/developer)"
   ]
  },
  {
   "cell_type": "code",
   "execution_count": 28,
   "metadata": {},
   "outputs": [],
   "source": [
    "url = \"https://api.wheretheiss.at/v1/satellites\""
   ]
  },
  {
   "cell_type": "code",
   "execution_count": 29,
   "metadata": {},
   "outputs": [],
   "source": [
    "response = requests.get(url)"
   ]
  },
  {
   "cell_type": "code",
   "execution_count": 30,
   "metadata": {},
   "outputs": [
    {
     "data": {
      "text/plain": [
       "requests.models.Response"
      ]
     },
     "execution_count": 30,
     "metadata": {},
     "output_type": "execute_result"
    }
   ],
   "source": [
    "type(response)"
   ]
  },
  {
   "cell_type": "code",
   "execution_count": 31,
   "metadata": {},
   "outputs": [
    {
     "data": {
      "text/plain": [
       "200"
      ]
     },
     "execution_count": 31,
     "metadata": {},
     "output_type": "execute_result"
    }
   ],
   "source": [
    "response.status_code"
   ]
  },
  {
   "cell_type": "code",
   "execution_count": 34,
   "metadata": {},
   "outputs": [],
   "source": [
    "info = response.json()"
   ]
  },
  {
   "cell_type": "code",
   "execution_count": 35,
   "metadata": {},
   "outputs": [
    {
     "data": {
      "text/plain": [
       "[{'name': 'iss', 'id': 25544}]"
      ]
     },
     "execution_count": 35,
     "metadata": {},
     "output_type": "execute_result"
    }
   ],
   "source": [
    "info"
   ]
  },
  {
   "cell_type": "code",
   "execution_count": 36,
   "metadata": {},
   "outputs": [
    {
     "data": {
      "text/plain": [
       "list"
      ]
     },
     "execution_count": 36,
     "metadata": {},
     "output_type": "execute_result"
    }
   ],
   "source": [
    "type(info)"
   ]
  },
  {
   "cell_type": "code",
   "execution_count": 38,
   "metadata": {},
   "outputs": [
    {
     "data": {
      "text/plain": [
       "25544"
      ]
     },
     "execution_count": 38,
     "metadata": {},
     "output_type": "execute_result"
    }
   ],
   "source": [
    "info[0][\"id\"]"
   ]
  },
  {
   "cell_type": "code",
   "execution_count": 41,
   "metadata": {},
   "outputs": [],
   "source": [
    "url_iss_position = \"https://api.wheretheiss.at/v1/satellites/25544\""
   ]
  },
  {
   "cell_type": "code",
   "execution_count": 42,
   "metadata": {},
   "outputs": [],
   "source": [
    "response = requests.get(url_iss_position)"
   ]
  },
  {
   "cell_type": "code",
   "execution_count": 43,
   "metadata": {},
   "outputs": [
    {
     "data": {
      "text/plain": [
       "200"
      ]
     },
     "execution_count": 43,
     "metadata": {},
     "output_type": "execute_result"
    }
   ],
   "source": [
    "response.status_code"
   ]
  },
  {
   "cell_type": "code",
   "execution_count": 44,
   "metadata": {},
   "outputs": [
    {
     "data": {
      "text/plain": [
       "{'Date': 'Tue, 26 Jan 2021 10:40:05 GMT', 'Server': 'Apache/2.2.22 (Ubuntu)', 'X-Powered-By': 'PHP/5.3.10-1ubuntu3.26', 'X-Rate-Limit-Limit': '350', 'X-Rate-Limit-Remaining': '348', 'X-Rate-Limit-Interval': '5 minutes', 'Access-Control-Allow-Origin': '*', 'X-Apache-Time': 'D=17128', 'Cache-Control': 'max-age=0, no-cache', 'Content-Length': '314', 'Keep-Alive': 'timeout=15, max=100', 'Connection': 'Keep-Alive', 'Content-Type': 'application/json'}"
      ]
     },
     "execution_count": 44,
     "metadata": {},
     "output_type": "execute_result"
    }
   ],
   "source": [
    "response.headers"
   ]
  },
  {
   "cell_type": "code",
   "execution_count": 45,
   "metadata": {},
   "outputs": [
    {
     "data": {
      "text/plain": [
       "{'name': 'iss',\n",
       " 'id': 25544,\n",
       " 'latitude': -27.245863854586,\n",
       " 'longitude': -118.27333553809,\n",
       " 'altitude': 427.57203085825,\n",
       " 'velocity': 27558.464340538,\n",
       " 'visibility': 'eclipsed',\n",
       " 'footprint': 4545.7876652845,\n",
       " 'timestamp': 1611657605,\n",
       " 'daynum': 2459240.9445023,\n",
       " 'solar_lat': -18.595255477651,\n",
       " 'solar_lon': 23.126284520021,\n",
       " 'units': 'kilometers'}"
      ]
     },
     "execution_count": 45,
     "metadata": {},
     "output_type": "execute_result"
    }
   ],
   "source": [
    "response.json()"
   ]
  },
  {
   "cell_type": "code",
   "execution_count": 46,
   "metadata": {},
   "outputs": [],
   "source": [
    "import time"
   ]
  },
  {
   "cell_type": "code",
   "execution_count": 47,
   "metadata": {},
   "outputs": [
    {
     "name": "stdout",
     "output_type": "stream",
     "text": [
      "0\n",
      "1\n",
      "2\n",
      "3\n",
      "4\n",
      "5\n",
      "6\n",
      "7\n",
      "8\n",
      "9\n"
     ]
    }
   ],
   "source": [
    "positions = []\n",
    "\n",
    "for i in range(10):\n",
    "    print(i)\n",
    "    response = requests.get(url_iss_position)\n",
    "    data = response.json()\n",
    "    \n",
    "    positions.append(data)\n",
    "    time.sleep(0.5)"
   ]
  },
  {
   "cell_type": "code",
   "execution_count": 48,
   "metadata": {},
   "outputs": [
    {
     "data": {
      "text/plain": [
       "list"
      ]
     },
     "execution_count": 48,
     "metadata": {},
     "output_type": "execute_result"
    }
   ],
   "source": [
    "type(positions)"
   ]
  },
  {
   "cell_type": "code",
   "execution_count": 49,
   "metadata": {},
   "outputs": [
    {
     "data": {
      "text/plain": [
       "10"
      ]
     },
     "execution_count": 49,
     "metadata": {},
     "output_type": "execute_result"
    }
   ],
   "source": [
    "len(positions)"
   ]
  },
  {
   "cell_type": "code",
   "execution_count": 50,
   "metadata": {},
   "outputs": [
    {
     "data": {
      "text/plain": [
       "{'name': 'iss',\n",
       " 'id': 25544,\n",
       " 'latitude': -35.202747847703,\n",
       " 'longitude': -109.214798897,\n",
       " 'altitude': 430.38308281325,\n",
       " 'velocity': 27552.860877709,\n",
       " 'visibility': 'daylight',\n",
       " 'footprint': 4559.9151425355,\n",
       " 'timestamp': 1611657784,\n",
       " 'daynum': 2459240.9465741,\n",
       " 'solar_lat': -18.594727247761,\n",
       " 'solar_lon': 22.380560128226,\n",
       " 'units': 'kilometers'}"
      ]
     },
     "execution_count": 50,
     "metadata": {},
     "output_type": "execute_result"
    }
   ],
   "source": [
    "positions[0]"
   ]
  },
  {
   "cell_type": "code",
   "execution_count": 51,
   "metadata": {},
   "outputs": [
    {
     "data": {
      "text/plain": [
       "{'name': 'iss',\n",
       " 'id': 25544,\n",
       " 'latitude': -35.706443180789,\n",
       " 'longitude': -108.54441751547,\n",
       " 'altitude': 430.56805212051,\n",
       " 'velocity': 27552.503312279,\n",
       " 'visibility': 'daylight',\n",
       " 'footprint': 4560.8428639134,\n",
       " 'timestamp': 1611657796,\n",
       " 'daynum': 2459240.946713,\n",
       " 'solar_lat': -18.594691834911,\n",
       " 'solar_lon': 22.330567533119,\n",
       " 'units': 'kilometers'}"
      ]
     },
     "execution_count": 51,
     "metadata": {},
     "output_type": "execute_result"
    }
   ],
   "source": [
    "positions[9]"
   ]
  },
  {
   "cell_type": "markdown",
   "metadata": {},
   "source": [
    "Extract 10 latitudes from the 10 dictionaries in the list"
   ]
  },
  {
   "cell_type": "code",
   "execution_count": 53,
   "metadata": {},
   "outputs": [],
   "source": [
    "latitudes = [round(p[\"latitude\"], 2) for p in positions]"
   ]
  },
  {
   "cell_type": "code",
   "execution_count": 54,
   "metadata": {},
   "outputs": [
    {
     "data": {
      "text/plain": [
       "[-35.2, -35.24, -35.29, -35.37, -35.41, -35.5, -35.54, -35.62, -35.66, -35.71]"
      ]
     },
     "execution_count": 54,
     "metadata": {},
     "output_type": "execute_result"
    }
   ],
   "source": [
    "latitudes"
   ]
  },
  {
   "cell_type": "code",
   "execution_count": 56,
   "metadata": {},
   "outputs": [],
   "source": [
    "import pandas as pd"
   ]
  },
  {
   "cell_type": "code",
   "execution_count": 57,
   "metadata": {},
   "outputs": [
    {
     "data": {
      "text/plain": [
       "list"
      ]
     },
     "execution_count": 57,
     "metadata": {},
     "output_type": "execute_result"
    }
   ],
   "source": [
    "type(positions)"
   ]
  },
  {
   "cell_type": "code",
   "execution_count": 58,
   "metadata": {},
   "outputs": [
    {
     "data": {
      "text/plain": [
       "dict"
      ]
     },
     "execution_count": 58,
     "metadata": {},
     "output_type": "execute_result"
    }
   ],
   "source": [
    "type(positions[0])"
   ]
  },
  {
   "cell_type": "code",
   "execution_count": 59,
   "metadata": {},
   "outputs": [
    {
     "data": {
      "text/html": [
       "<div>\n",
       "<style scoped>\n",
       "    .dataframe tbody tr th:only-of-type {\n",
       "        vertical-align: middle;\n",
       "    }\n",
       "\n",
       "    .dataframe tbody tr th {\n",
       "        vertical-align: top;\n",
       "    }\n",
       "\n",
       "    .dataframe thead th {\n",
       "        text-align: right;\n",
       "    }\n",
       "</style>\n",
       "<table border=\"1\" class=\"dataframe\">\n",
       "  <thead>\n",
       "    <tr style=\"text-align: right;\">\n",
       "      <th></th>\n",
       "      <th>name</th>\n",
       "      <th>id</th>\n",
       "      <th>latitude</th>\n",
       "      <th>longitude</th>\n",
       "      <th>altitude</th>\n",
       "      <th>velocity</th>\n",
       "      <th>visibility</th>\n",
       "      <th>footprint</th>\n",
       "      <th>timestamp</th>\n",
       "      <th>daynum</th>\n",
       "      <th>solar_lat</th>\n",
       "      <th>solar_lon</th>\n",
       "      <th>units</th>\n",
       "    </tr>\n",
       "  </thead>\n",
       "  <tbody>\n",
       "    <tr>\n",
       "      <th>0</th>\n",
       "      <td>iss</td>\n",
       "      <td>25544</td>\n",
       "      <td>-35.202748</td>\n",
       "      <td>-109.214799</td>\n",
       "      <td>430.383083</td>\n",
       "      <td>27552.860878</td>\n",
       "      <td>daylight</td>\n",
       "      <td>4559.915143</td>\n",
       "      <td>1611657784</td>\n",
       "      <td>2.459241e+06</td>\n",
       "      <td>-18.594727</td>\n",
       "      <td>22.380560</td>\n",
       "      <td>kilometers</td>\n",
       "    </tr>\n",
       "    <tr>\n",
       "      <th>1</th>\n",
       "      <td>iss</td>\n",
       "      <td>25544</td>\n",
       "      <td>-35.244888</td>\n",
       "      <td>-109.159275</td>\n",
       "      <td>430.398536</td>\n",
       "      <td>27552.830958</td>\n",
       "      <td>daylight</td>\n",
       "      <td>4559.992657</td>\n",
       "      <td>1611657785</td>\n",
       "      <td>2.459241e+06</td>\n",
       "      <td>-18.594724</td>\n",
       "      <td>22.376394</td>\n",
       "      <td>kilometers</td>\n",
       "    </tr>\n",
       "    <tr>\n",
       "      <th>2</th>\n",
       "      <td>iss</td>\n",
       "      <td>25544</td>\n",
       "      <td>-35.286998</td>\n",
       "      <td>-109.103689</td>\n",
       "      <td>430.413982</td>\n",
       "      <td>27552.801061</td>\n",
       "      <td>daylight</td>\n",
       "      <td>4560.070135</td>\n",
       "      <td>1611657786</td>\n",
       "      <td>2.459241e+06</td>\n",
       "      <td>-18.594721</td>\n",
       "      <td>22.372228</td>\n",
       "      <td>kilometers</td>\n",
       "    </tr>\n",
       "    <tr>\n",
       "      <th>3</th>\n",
       "      <td>iss</td>\n",
       "      <td>25544</td>\n",
       "      <td>-35.371128</td>\n",
       "      <td>-108.992332</td>\n",
       "      <td>430.444854</td>\n",
       "      <td>27552.741332</td>\n",
       "      <td>daylight</td>\n",
       "      <td>4560.224982</td>\n",
       "      <td>1611657788</td>\n",
       "      <td>2.459241e+06</td>\n",
       "      <td>-18.594715</td>\n",
       "      <td>22.363896</td>\n",
       "      <td>kilometers</td>\n",
       "    </tr>\n",
       "    <tr>\n",
       "      <th>4</th>\n",
       "      <td>iss</td>\n",
       "      <td>25544</td>\n",
       "      <td>-35.413148</td>\n",
       "      <td>-108.936561</td>\n",
       "      <td>430.460279</td>\n",
       "      <td>27552.711501</td>\n",
       "      <td>daylight</td>\n",
       "      <td>4560.302350</td>\n",
       "      <td>1611657789</td>\n",
       "      <td>2.459241e+06</td>\n",
       "      <td>-18.594712</td>\n",
       "      <td>22.359730</td>\n",
       "      <td>kilometers</td>\n",
       "    </tr>\n",
       "    <tr>\n",
       "      <th>5</th>\n",
       "      <td>iss</td>\n",
       "      <td>25544</td>\n",
       "      <td>-35.497100</td>\n",
       "      <td>-108.824830</td>\n",
       "      <td>430.491108</td>\n",
       "      <td>27552.651904</td>\n",
       "      <td>daylight</td>\n",
       "      <td>4560.456977</td>\n",
       "      <td>1611657791</td>\n",
       "      <td>2.459241e+06</td>\n",
       "      <td>-18.594707</td>\n",
       "      <td>22.351398</td>\n",
       "      <td>kilometers</td>\n",
       "    </tr>\n",
       "    <tr>\n",
       "      <th>6</th>\n",
       "      <td>iss</td>\n",
       "      <td>25544</td>\n",
       "      <td>-35.539029</td>\n",
       "      <td>-108.768872</td>\n",
       "      <td>430.506512</td>\n",
       "      <td>27552.622140</td>\n",
       "      <td>daylight</td>\n",
       "      <td>4560.534232</td>\n",
       "      <td>1611657792</td>\n",
       "      <td>2.459241e+06</td>\n",
       "      <td>-18.594704</td>\n",
       "      <td>22.347232</td>\n",
       "      <td>kilometers</td>\n",
       "    </tr>\n",
       "    <tr>\n",
       "      <th>7</th>\n",
       "      <td>iss</td>\n",
       "      <td>25544</td>\n",
       "      <td>-35.622797</td>\n",
       "      <td>-108.656770</td>\n",
       "      <td>430.537297</td>\n",
       "      <td>27552.562681</td>\n",
       "      <td>daylight</td>\n",
       "      <td>4560.688626</td>\n",
       "      <td>1611657794</td>\n",
       "      <td>2.459241e+06</td>\n",
       "      <td>-18.594698</td>\n",
       "      <td>22.338900</td>\n",
       "      <td>kilometers</td>\n",
       "    </tr>\n",
       "    <tr>\n",
       "      <th>8</th>\n",
       "      <td>iss</td>\n",
       "      <td>25544</td>\n",
       "      <td>-35.664636</td>\n",
       "      <td>-108.600625</td>\n",
       "      <td>430.552678</td>\n",
       "      <td>27552.532985</td>\n",
       "      <td>daylight</td>\n",
       "      <td>4560.765765</td>\n",
       "      <td>1611657795</td>\n",
       "      <td>2.459241e+06</td>\n",
       "      <td>-18.594695</td>\n",
       "      <td>22.334734</td>\n",
       "      <td>kilometers</td>\n",
       "    </tr>\n",
       "    <tr>\n",
       "      <th>9</th>\n",
       "      <td>iss</td>\n",
       "      <td>25544</td>\n",
       "      <td>-35.706443</td>\n",
       "      <td>-108.544418</td>\n",
       "      <td>430.568052</td>\n",
       "      <td>27552.503312</td>\n",
       "      <td>daylight</td>\n",
       "      <td>4560.842864</td>\n",
       "      <td>1611657796</td>\n",
       "      <td>2.459241e+06</td>\n",
       "      <td>-18.594692</td>\n",
       "      <td>22.330568</td>\n",
       "      <td>kilometers</td>\n",
       "    </tr>\n",
       "  </tbody>\n",
       "</table>\n",
       "</div>"
      ],
      "text/plain": [
       "  name     id   latitude   longitude    altitude      velocity visibility  \\\n",
       "0  iss  25544 -35.202748 -109.214799  430.383083  27552.860878   daylight   \n",
       "1  iss  25544 -35.244888 -109.159275  430.398536  27552.830958   daylight   \n",
       "2  iss  25544 -35.286998 -109.103689  430.413982  27552.801061   daylight   \n",
       "3  iss  25544 -35.371128 -108.992332  430.444854  27552.741332   daylight   \n",
       "4  iss  25544 -35.413148 -108.936561  430.460279  27552.711501   daylight   \n",
       "5  iss  25544 -35.497100 -108.824830  430.491108  27552.651904   daylight   \n",
       "6  iss  25544 -35.539029 -108.768872  430.506512  27552.622140   daylight   \n",
       "7  iss  25544 -35.622797 -108.656770  430.537297  27552.562681   daylight   \n",
       "8  iss  25544 -35.664636 -108.600625  430.552678  27552.532985   daylight   \n",
       "9  iss  25544 -35.706443 -108.544418  430.568052  27552.503312   daylight   \n",
       "\n",
       "     footprint   timestamp        daynum  solar_lat  solar_lon       units  \n",
       "0  4559.915143  1611657784  2.459241e+06 -18.594727  22.380560  kilometers  \n",
       "1  4559.992657  1611657785  2.459241e+06 -18.594724  22.376394  kilometers  \n",
       "2  4560.070135  1611657786  2.459241e+06 -18.594721  22.372228  kilometers  \n",
       "3  4560.224982  1611657788  2.459241e+06 -18.594715  22.363896  kilometers  \n",
       "4  4560.302350  1611657789  2.459241e+06 -18.594712  22.359730  kilometers  \n",
       "5  4560.456977  1611657791  2.459241e+06 -18.594707  22.351398  kilometers  \n",
       "6  4560.534232  1611657792  2.459241e+06 -18.594704  22.347232  kilometers  \n",
       "7  4560.688626  1611657794  2.459241e+06 -18.594698  22.338900  kilometers  \n",
       "8  4560.765765  1611657795  2.459241e+06 -18.594695  22.334734  kilometers  \n",
       "9  4560.842864  1611657796  2.459241e+06 -18.594692  22.330568  kilometers  "
      ]
     },
     "execution_count": 59,
     "metadata": {},
     "output_type": "execute_result"
    }
   ],
   "source": [
    "pd.DataFrame(positions)"
   ]
  },
  {
   "cell_type": "markdown",
   "metadata": {},
   "source": [
    "### Parameters"
   ]
  },
  {
   "cell_type": "markdown",
   "metadata": {},
   "source": [
    "We sometimes want to pass some parameters to an API endpoint.\n",
    "\n",
    "Similar to python functions receiving parameters for a different behavior"
   ]
  },
  {
   "cell_type": "code",
   "execution_count": 60,
   "metadata": {},
   "outputs": [
    {
     "data": {
      "text/plain": [
       "'https://api.wheretheiss.at/v1/satellites/25544'"
      ]
     },
     "execution_count": 60,
     "metadata": {},
     "output_type": "execute_result"
    }
   ],
   "source": [
    "url_iss_position"
   ]
  },
  {
   "cell_type": "markdown",
   "metadata": {},
   "source": [
    "Parameters are passed with `?param1=value1&param2=value2...` at the end or the URL"
   ]
  },
  {
   "cell_type": "code",
   "execution_count": 61,
   "metadata": {},
   "outputs": [],
   "source": [
    "url_iss_position2 = 'https://api.wheretheiss.at/v1/satellites/25544?units=miles'"
   ]
  },
  {
   "cell_type": "code",
   "execution_count": 62,
   "metadata": {},
   "outputs": [],
   "source": [
    "response = requests.get(url_iss_position2)"
   ]
  },
  {
   "cell_type": "code",
   "execution_count": 64,
   "metadata": {},
   "outputs": [
    {
     "data": {
      "text/plain": [
       "200"
      ]
     },
     "execution_count": 64,
     "metadata": {},
     "output_type": "execute_result"
    }
   ],
   "source": [
    "response.status_code"
   ]
  },
  {
   "cell_type": "code",
   "execution_count": 65,
   "metadata": {},
   "outputs": [
    {
     "data": {
      "text/plain": [
       "{'name': 'iss',\n",
       " 'id': 25544,\n",
       " 'latitude': -51.436061961655,\n",
       " 'longitude': -64.632654115833,\n",
       " 'altitude': 271.08108704374,\n",
       " 'velocity': 17113.933995772,\n",
       " 'visibility': 'daylight',\n",
       " 'footprint': 2851.6536256759,\n",
       " 'timestamp': 1611658360,\n",
       " 'daynum': 2459240.9532407,\n",
       " 'solar_lat': -18.593027305034,\n",
       " 'solar_lon': 19.980910629541,\n",
       " 'units': 'miles'}"
      ]
     },
     "execution_count": 65,
     "metadata": {},
     "output_type": "execute_result"
    }
   ],
   "source": [
    "response.json()"
   ]
  },
  {
   "cell_type": "markdown",
   "metadata": {},
   "source": [
    "`requests` let us pass parameters as a dictionary:"
   ]
  },
  {
   "cell_type": "code",
   "execution_count": 66,
   "metadata": {},
   "outputs": [],
   "source": [
    "parameters = {\"units\": \"miles\"}"
   ]
  },
  {
   "cell_type": "code",
   "execution_count": 67,
   "metadata": {},
   "outputs": [
    {
     "data": {
      "text/plain": [
       "'https://api.wheretheiss.at/v1/satellites/25544'"
      ]
     },
     "execution_count": 67,
     "metadata": {},
     "output_type": "execute_result"
    }
   ],
   "source": [
    "url_iss_position"
   ]
  },
  {
   "cell_type": "code",
   "execution_count": 68,
   "metadata": {},
   "outputs": [],
   "source": [
    "response = requests.get(\n",
    "    url=url_iss_position,\n",
    "    params=parameters\n",
    ")"
   ]
  },
  {
   "cell_type": "code",
   "execution_count": 69,
   "metadata": {},
   "outputs": [
    {
     "data": {
      "text/plain": [
       "{'name': 'iss',\n",
       " 'id': 25544,\n",
       " 'latitude': -51.707567105338,\n",
       " 'longitude': -51.237173658979,\n",
       " 'altitude': 271.08703493905,\n",
       " 'velocity': 17114.045330484,\n",
       " 'visibility': 'daylight',\n",
       " 'footprint': 2851.6832272159,\n",
       " 'timestamp': 1611658495,\n",
       " 'daynum': 2459240.9548032,\n",
       " 'solar_lat': -18.592628844672,\n",
       " 'solar_lon': 19.418492597004,\n",
       " 'units': 'miles'}"
      ]
     },
     "execution_count": 69,
     "metadata": {},
     "output_type": "execute_result"
    }
   ],
   "source": [
    "response.json()"
   ]
  },
  {
   "cell_type": "markdown",
   "metadata": {},
   "source": [
    "### News API"
   ]
  },
  {
   "cell_type": "code",
   "execution_count": 76,
   "metadata": {},
   "outputs": [],
   "source": [
    "url = \"http://newsapi.org/v2/top-headlines\""
   ]
  },
  {
   "cell_type": "code",
   "execution_count": 72,
   "metadata": {},
   "outputs": [],
   "source": [
    "response = requests.get(url)"
   ]
  },
  {
   "cell_type": "code",
   "execution_count": 75,
   "metadata": {},
   "outputs": [
    {
     "data": {
      "text/plain": [
       "404"
      ]
     },
     "execution_count": 75,
     "metadata": {},
     "output_type": "execute_result"
    }
   ],
   "source": [
    "response.status_code"
   ]
  },
  {
   "cell_type": "markdown",
   "metadata": {},
   "source": [
    "Meaning something is missing"
   ]
  },
  {
   "cell_type": "code",
   "execution_count": 77,
   "metadata": {},
   "outputs": [],
   "source": [
    "parameters = {\"country\": \"us\"}"
   ]
  },
  {
   "cell_type": "code",
   "execution_count": 78,
   "metadata": {},
   "outputs": [],
   "source": [
    "response = requests.get(url, params=parameters)"
   ]
  },
  {
   "cell_type": "code",
   "execution_count": 79,
   "metadata": {},
   "outputs": [
    {
     "data": {
      "text/plain": [
       "401"
      ]
     },
     "execution_count": 79,
     "metadata": {},
     "output_type": "execute_result"
    }
   ],
   "source": [
    "response.status_code"
   ]
  },
  {
   "cell_type": "code",
   "execution_count": 70,
   "metadata": {},
   "outputs": [],
   "source": [
    "key = \"e25ed9ca506a450fad74d46d37877052\""
   ]
  },
  {
   "cell_type": "code",
   "execution_count": 80,
   "metadata": {},
   "outputs": [],
   "source": [
    "parameters = {\"apiKey\": key, \"country\": \"us\"}"
   ]
  },
  {
   "cell_type": "code",
   "execution_count": 81,
   "metadata": {},
   "outputs": [
    {
     "data": {
      "text/plain": [
       "{'apiKey': 'e25ed9ca506a450fad74d46d37877052', 'country': 'us'}"
      ]
     },
     "execution_count": 81,
     "metadata": {},
     "output_type": "execute_result"
    }
   ],
   "source": [
    "parameters"
   ]
  },
  {
   "cell_type": "code",
   "execution_count": 82,
   "metadata": {},
   "outputs": [],
   "source": [
    "response = requests.get(\n",
    "    url=url,\n",
    "    params=parameters\n",
    ")"
   ]
  },
  {
   "cell_type": "code",
   "execution_count": 83,
   "metadata": {},
   "outputs": [
    {
     "data": {
      "text/plain": [
       "200"
      ]
     },
     "execution_count": 83,
     "metadata": {},
     "output_type": "execute_result"
    }
   ],
   "source": [
    "response.status_code"
   ]
  },
  {
   "cell_type": "code",
   "execution_count": 85,
   "metadata": {},
   "outputs": [],
   "source": [
    "data = response.json()"
   ]
  },
  {
   "cell_type": "code",
   "execution_count": 86,
   "metadata": {},
   "outputs": [
    {
     "data": {
      "text/plain": [
       "{'status': 'ok',\n",
       " 'totalResults': 38,\n",
       " 'articles': [{'source': {'id': 'cnn', 'name': 'CNN'},\n",
       "   'author': 'Clare Foran and Jeremy Herb, CNN',\n",
       "   'title': 'Senators to be sworn in for Trump impeachment trial - CNN',\n",
       "   'description': \"Senators will be formally sworn in as jurors on Tuesday for the second impeachment trial of former President Donald Trump, though the trial won't get into full swing until the week of February 8.\",\n",
       "   'url': 'https://www.cnn.com/2021/01/26/politics/impeachment-trial-latest-senators-sworn-in/index.html',\n",
       "   'urlToImage': 'https://cdn.cnn.com/cnnnext/dam/assets/210122130036-split-mitch-mcconnell-chuck-schumer-super-tease.jpg',\n",
       "   'publishedAt': '2021-01-26T10:00:00Z',\n",
       "   'content': None},\n",
       "  {'source': {'id': None, 'name': 'WBRC'},\n",
       "   'author': 'WBRC Staff',\n",
       "   'title': '‘We do have possible fatalities’: Possible tornado damage in northern Jefferson County - WBRC',\n",
       "   'description': 'There are multiple reports of damage in northern Jefferson County after a possible tornado touched down late Monday night.',\n",
       "   'url': 'https://www.wbrc.com/2021/01/26/possible-tornado-damage-northern-jefferson-county/',\n",
       "   'urlToImage': 'https://www.wbrc.com/resizer/gC1M4EBHi4DydZSk88g9s-CZ-FU=/1200x0/cloudfront-us-east-1.images.arcpublishing.com/raycom/QYNWAPS3M5GKHEJCE5AXWNBIIQ.jpg',\n",
       "   'publishedAt': '2021-01-26T07:41:15Z',\n",
       "   'content': 'JEFFERSON COUNTY, Ala. (WBRC) - Jefferson County Coroner Bill Yates has confirmed a fatality related to the overnight possible tornado in Fultondale.\\r\\nNo additional details are being provided at this… [+2346 chars]'},\n",
       "  {'source': {'id': 'engadget', 'name': 'Engadget'},\n",
       "   'author': '',\n",
       "   'title': 'Google reveals North Korean-backed campaign targeting security researchers - Engadget',\n",
       "   'description': 'Google’s Threat Analysis Group has identified an ongoing campaign that’s been targeting security researchers working on vulnerabilities over the past few months.  The team says “a government-backed entity based in North Korea” is behind the attacks, which typ…',\n",
       "   'url': 'https://www.engadget.com/google-north-korean-campaign-security-researchers-060603985.html',\n",
       "   'urlToImage': 'https://o.aolcdn.com/images/dims?resize=1200%2C630&crop=1200%2C630%2C0%2C0&quality=95&image_uri=https%3A%2F%2Fs.yimg.com%2Fos%2Fcreatr-images%2F2019-06%2Fea58ee80-863b-11e9-b5ff-71b01764a4c6&client=amp-blogside-v2&signature=94170af4e99228d984f5e1d77a0d3d5945454d30',\n",
       "   'publishedAt': '2021-01-26T06:08:50Z',\n",
       "   'content': 'Google’s TAG team said the attackers contacted their intended victims, asking to collaborate on vulnerability research. Aside from Twitter, they also used LinkedIn, Telegram, Discord, Keybase and ema… [+1387 chars]'},\n",
       "  {'source': {'id': 'associated-press', 'name': 'Associated Press'},\n",
       "   'author': 'Sheikh Saaliq',\n",
       "   'title': \"India's Republic Day marked with massive farmer protests - The Associated Press\",\n",
       "   'description': \"NEW DELHI (AP) — Tens of thousands of protesting farmers drove long lines of tractors into India's capital on Tuesday, breaking through police barricades, defying tear gas and storming the...\",\n",
       "   'url': 'https://apnews.com/654ef151a8af6de8c264c29363d0607b',\n",
       "   'urlToImage': 'https://storage.googleapis.com/afs-prod/media/52a319164d054100ac0deed01479dea1/3000.jpeg',\n",
       "   'publishedAt': '2021-01-26T06:04:23Z',\n",
       "   'content': 'NEW DELHI (AP) Tens of thousands of protesting farmers drove long lines of tractors into Indias capital on Tuesday, breaking through police barricades, defying tear gas and storming the historic Red … [+4444 chars]'},\n",
       "  {'source': {'id': 'cnn', 'name': 'CNN'},\n",
       "   'author': 'Analysis by Ronald Brownstein',\n",
       "   'title': 'On immigration, Biden seeks a new approach to an old deadlock - CNN',\n",
       "   'description': \"President Joe Biden's early moves on immigration signal his determination to learn from past efforts to reform the system, but that doesn't mean he won't repeat their legacy of frustration.\",\n",
       "   'url': 'https://www.cnn.com/2021/01/26/politics/biden-immigration-strategy/index.html',\n",
       "   'urlToImage': 'https://cdn.cnn.com/cnnnext/dam/assets/210125165746-biden-immigration-approach-super-tease.jpg',\n",
       "   'publishedAt': '2021-01-26T05:24:00Z',\n",
       "   'content': 'In the past, George W. Bush and Barack Obama sought bipartisan support for comprehensive immigration reform: The problem is it allowed Republicans to demand way too much in the sausage-making and, in… [+127 chars]'},\n",
       "  {'source': {'id': None, 'name': 'KRON4'},\n",
       "   'author': 'Haaziq Madyun',\n",
       "   'title': 'Investigation underway after Bay Area hospital gives teachers COVID vaccine - KRON4',\n",
       "   'description': 'LOS GATOS, Calif. (KRON) – An opportunity for teachers in an affluent South Bay School District to take cuts in line to be vaccinated for COVID-19 has created some outrage from folks in that community. The allegation involves the hospital returning a favor fo…',\n",
       "   'url': 'https://www.kron4.com/news/bay-area/investigation-underway-after-bay-area-hospital-gives-teachers-covid-vaccine/',\n",
       "   'urlToImage': 'https://www.kron4.com/wp-content/uploads/sites/11/2021/01/F222B32476D64C94BE5F0E1E6D10E5DA.jpg?w=1280',\n",
       "   'publishedAt': '2021-01-26T05:19:00Z',\n",
       "   'content': 'LOS GATOS, Calif. (KRON) – An opportunity for teachers in an affluent South Bay School District to take cuts in line to be vaccinated for COVID-19 has created some outrage from folks in that communit… [+2645 chars]'},\n",
       "  {'source': {'id': 'usa-today', 'name': 'USA Today'},\n",
       "   'author': 'Zach Kruse',\n",
       "   'title': 'How 18 missed opportunities cost the Packers a trip to the Super Bowl - Packers Wire',\n",
       "   'description': 'An autopsy of the Packers’ latest disappointment in the NFC Championship Game.',\n",
       "   'url': 'https://packerswire.usatoday.com/lists/how-18-missed-opportunities-cost-the-packers-a-trip-to-the-super-bowl/',\n",
       "   'urlToImage': 'https://packerswire.usatoday.com/wp-content/uploads/sites/57/2021/01/USATSI_15479074.jpg?w=1024&h=576&crop=1',\n",
       "   'publishedAt': '2021-01-26T04:44:43Z',\n",
       "   'content': 'Six years ago, the Green Bay Packers had the Seattle Seahawks staggering around CenturyLink Field in the NFC Championship Game, needing just one final jab to knock out the defending champs and punch … [+11912 chars]'},\n",
       "  {'source': {'id': None, 'name': 'ESPN'},\n",
       "   'author': None,\n",
       "   'title': \"Denver Nuggets' Jamal Murray ejected after hitting Dallas Mavericks' Tim Hardaway Jr. in groin - ESPN\",\n",
       "   'description': \"Nuggets guard Jamal Murray was ejected after hitting the Mavericks' Tim Hardaway Jr. in the groin Monday night.\",\n",
       "   'url': 'https://www.espn.com/nba/story/_/id/30779378/denver-nuggets-jamal-murray-ejected-hitting-dallas-mavericks-tim-hardaway-jr-groin',\n",
       "   'urlToImage': 'https://a.espncdn.com/combiner/i?img=%2Fphoto%2F2021%2F0126%2Fr806591_1296x729_16%2D9.jpg',\n",
       "   'publishedAt': '2021-01-26T04:02:59Z',\n",
       "   'content': \"DALLAS -- Denver Nuggets guard Jamal Murray was ejected after what appeared to be an intentional shot to the groin area of the Dallas Mavericks' Tim Hardaway Jr. in the second half of their game Mond… [+1480 chars]\"},\n",
       "  {'source': {'id': None, 'name': 'BBC News'},\n",
       "   'author': 'https://www.facebook.com/bbcnews',\n",
       "   'title': 'Coronavirus: Seafarers stuck at sea ‘a humanitarian crisis’ - BBC News',\n",
       "   'description': \"Crew are asking to be designated 'key workers' so they can go home without risking public health.\",\n",
       "   'url': 'https://www.bbc.com/news/business-55802514',\n",
       "   'urlToImage': 'https://ichef.bbci.co.uk/news/1024/branded_news/149FC/production/_116667448_maersk-crew.jpg',\n",
       "   'publishedAt': '2021-01-26T03:44:00Z',\n",
       "   'content': 'By Jonathan Josephs &amp; Mary-Ann RussonBusiness reporters, BBC News\\r\\nThe fate of more than 200,000 seafarers who play a crucial role in keeping global trade flowing is being labelled a \"humanitaria… [+3093 chars]'},\n",
       "  {'source': {'id': None, 'name': 'Vox'},\n",
       "   'author': 'Li Zhou',\n",
       "   'title': 'Why Mitch McConnell relented on a Senate filibuster stand-off - Vox.com',\n",
       "   'description': 'Mitch McConnell didn’t get all he’d hoped for in delaying the Senate’s organizing resolution, but got some Democrats to reaffirm their commitment to the filibuster.',\n",
       "   'url': 'https://www.vox.com/2021/1/25/22249786/mitch-mcconnell-filibuster-organizing-resolution',\n",
       "   'urlToImage': 'https://cdn.vox-cdn.com/thumbor/_kFHiEPsJnTCBcawR1ese3b1lf0=/0x0:4361x2283/fit-in/1200x630/cdn.vox-cdn.com/uploads/chorus_asset/file/22259810/1297264903.jpg',\n",
       "   'publishedAt': '2021-01-26T03:40:00Z',\n",
       "   'content': 'Minority Leader Mitch McConnell is no longer holding up the Senate organizing resolution after two Democrats confirmed that they wont be blowing up the legislative filibuster any time soon. \\r\\nIn the … [+5283 chars]'},\n",
       "  {'source': {'id': 'fox-news', 'name': 'Fox News'},\n",
       "   'author': 'Nate Day',\n",
       "   'title': \"Harvey Weinstein's bankruptcy judge confirms sexual misconduct settlement: report - Fox News\",\n",
       "   'description': \"Harvey Weinstein's bankruptcy judge has confirmed a settlement in his sexual misconduct case.\",\n",
       "   'url': 'https://www.foxnews.com/entertainment/harvey-weinsteins-bankruptcy-judge-confirms-sexual-misconduct-settlement-report',\n",
       "   'urlToImage': 'https://static.foxnews.com/foxnews.com/content/uploads/2021/01/Harvey-Weinstein.jpg',\n",
       "   'publishedAt': '2021-01-26T03:27:13Z',\n",
       "   'content': \"Harvey Weinstein's sexual misconduct settlement has reportedly been approved by the judge overseeing his company's bankruptcy proceedings.\\r\\nThe now-confirmed settlement resolves most claims from wome… [+2918 chars]\"},\n",
       "  {'source': {'id': None, 'name': 'BBC News'},\n",
       "   'author': 'https://www.facebook.com/bbcnews',\n",
       "   'title': 'Covid: Quarantine hotel plans set to be announced - BBC News',\n",
       "   'description': 'The new measures are likely to apply to British residents arriving in England from high-risk countries.',\n",
       "   'url': 'https://www.bbc.com/news/uk-politics-55805575',\n",
       "   'urlToImage': 'https://ichef.bbci.co.uk/news/1024/branded_news/119F0/production/_116667127_hi065198826.jpg',\n",
       "   'publishedAt': '2021-01-26T03:26:00Z',\n",
       "   'content': 'The government is expected to announce that some travellers coming to England will have to quarantine in hotels, over concerns about new Covid variants.\\r\\nPrime Minister Boris Johnson will make a deci… [+5200 chars]'},\n",
       "  {'source': {'id': 'the-hill', 'name': 'The Hill'},\n",
       "   'author': 'Marina Pitofsky',\n",
       "   'title': \"Fauci was concerned people would do 'dangerous and foolish' things after Trump suggested injecting disinfectant | TheHill - The Hill\",\n",
       "   'description': 'Anthony Fauci, the director of the National Institute of Allergy and Infectious Disease, said in...',\n",
       "   'url': 'https://thehill.com/homenews/news/535808-fauci-says-he-was-concerned-people-would-do-dangerous-and-foolish-things-after',\n",
       "   'urlToImage': 'https://thehill.com/sites/default/files/faucianthony_01212021getty.jpg',\n",
       "   'publishedAt': '2021-01-26T03:23:11Z',\n",
       "   'content': \"Anthony FauciAnthony FauciFauci was concerned people would do 'dangerous and foolish' things after Trump suggested injecting disinfectantGOP lawmaker wants to ban feds from funding collection of COVI… [+2611 chars]\"},\n",
       "  {'source': {'id': 'cnn', 'name': 'CNN'},\n",
       "   'author': 'By Lilit Marcus, CNN',\n",
       "   'title': 'Disneyland to reimagine Jungle Cruise ride following years of criticism - CNN',\n",
       "   'description': 'Disney has announced that it is rethinking one of its original theme park attractions. The Jungle Cruise was inspired by nature documentaries, but some ot its imagery has been receiving criticism from fans for years.',\n",
       "   'url': 'https://www.cnn.com/travel/article/disneyland-jungle-cruise-ride-trnd/index.html',\n",
       "   'urlToImage': 'https://cdn.cnn.com/cnnnext/dam/assets/210125204532-jungle-cruise-disneyland-super-tease.jpg',\n",
       "   'publishedAt': '2021-01-26T03:17:02Z',\n",
       "   'content': '(CNN) Disney has announced that it is rethinking a classic theme park attraction following years of criticism from fans.\\r\\nThe Jungle Cruise ride, where a wisecracking skipper ferries guests along a w… [+2026 chars]'},\n",
       "  {'source': {'id': 'bloomberg', 'name': 'Bloomberg'},\n",
       "   'author': None,\n",
       "   'title': 'What Leon Black Got for Paying Jeffrey Epstein $158 Million - Bloomberg',\n",
       "   'description': None,\n",
       "   'url': 'https://www.bloomberg.com/tosv2.html?vid=&uuid=47a20000-5fc4-11eb-8a82-4f05d9131dc5&url=L25ld3MvYXJ0aWNsZXMvMjAyMS0wMS0yNi93aGF0LWxlb24tYmxhY2stZ290LWZvci1wYXlpbmctamVmZnJleS1lcHN0ZWluLTE1OC1taWxsaW9u',\n",
       "   'urlToImage': None,\n",
       "   'publishedAt': '2021-01-26T03:11:00Z',\n",
       "   'content': \"To continue, please click the box below to let us know you're not a robot.\"},\n",
       "  {'source': {'id': 'newsweek', 'name': 'Newsweek'},\n",
       "   'author': 'Daniel Villarreal',\n",
       "   'title': 'Joe Biden May Adjust Income Threshold for Third Stimulus Check in $1.9 Tn Relief Proposal - Newsweek',\n",
       "   'description': '\"There is legitimate reason for people to say, \\'Do you have the lines drawn the exact right way? Should it go to anybody making over X number of dollars? I\\'m open to negotiate those things,\\'\" Biden...',\n",
       "   'url': 'https://www.newsweek.com/joe-biden-may-adjust-income-threshold-third-stimulus-check-19-tn-relief-proposal-1564344',\n",
       "   'urlToImage': 'https://d.newsweek.com/en/full/1715989/joe-biden-stimulus-checks-payrments-cut-off-income.jpg',\n",
       "   'publishedAt': '2021-01-26T03:09:52Z',\n",
       "   'content': 'President Joe Biden has expressed willingness to change the income thresholds required for his proposed $1,400 stimulus check so that higher-earning Americans less affected by the economic downturn w… [+2551 chars]'},\n",
       "  {'source': {'id': None, 'name': 'Honolulu Star-Advertiser'},\n",
       "   'author': 'Nina Wu',\n",
       "   'title': 'Hawaii health officials report two cases of new variant of COVID-19 — one on Oahu and one on Maui - Honolulu Star-Advertiser',\n",
       "   'description': 'The state Health Department today confirmed that its Laboratories Division detected two cases of the SARS-CoV-2 variant L452R in Hawaii.',\n",
       "   'url': 'https://www.staradvertiser.com/2021/01/25/breaking-news/health-officials-confirm-denmark-variant-of-covid-19-in-hawaii/',\n",
       "   'urlToImage': 'https://www.staradvertiser.com/wp-content/uploads/2021/01/web1_CTY-covid-kaneohe-6351-300x199.jpg',\n",
       "   'publishedAt': '2021-01-26T03:00:00Z',\n",
       "   'content': 'The state Health Department today confirmed that its Laboratories Division detected two cases of the SARS-CoV-2 variant L452R in Hawaii.\\r\\nOfficials said the coronavirus strain was first detected in D… [+2749 chars]'},\n",
       "  {'source': {'id': None, 'name': 'NPR'},\n",
       "   'author': None,\n",
       "   'title': 'A Coronavirus Variant First Detected In Brazil Has Been Found In Minnesota : Coronavirus Updates - NPR',\n",
       "   'description': 'A Twin Cities resident contracted a new variant of the coronavirus after traveling to Brazil. The new strain is believed to be more transmissible.',\n",
       "   'url': 'https://www.npr.org/sections/coronavirus-live-updates/2021/01/25/960566484/a-more-contagious-coronavirus-variant-from-brazil-is-found-in-minnesota',\n",
       "   'urlToImage': 'https://media.npr.org/assets/img/2021/01/25/gettyimages-1091527814_wide-989cbe4dcefa771a134505abe60872267e358ce7.jpg?s=1400',\n",
       "   'publishedAt': '2021-01-26T02:57:00Z',\n",
       "   'content': 'A new variant of the coronavirus first discovered in Brazil was detected in Minneapolis, Minn. The variant is believed to be more transmissible and could possibly infect those who previously contract… [+1496 chars]'},\n",
       "  {'source': {'id': None, 'name': 'SpaceNews'},\n",
       "   'author': 'Jeff Foust',\n",
       "   'title': 'Bridenstine joins private equity firm - SpaceNews',\n",
       "   'description': 'Less than a week after leaving the agency, former NASA Administrator Jim Bridenstine is joining a private equity firm that invests in aerospace firms.',\n",
       "   'url': 'https://spacenews.com/?p=110438',\n",
       "   'urlToImage': 'https://spacenews.com/wp-content/uploads/2021/01/bridenstine-acorn.jpg',\n",
       "   'publishedAt': '2021-01-26T02:17:25Z',\n",
       "   'content': 'WASHINGTON Less than a week after leaving the agency, former NASA Administrator Jim Bridenstine is joining a private equity firm that invests in the aerospace and defense industries.\\r\\nAcorn Growth Co… [+3311 chars]'},\n",
       "  {'source': {'id': 'the-verge', 'name': 'The Verge'},\n",
       "   'author': 'Mitchell Clark',\n",
       "   'title': 'Facebook users’ phone numbers are for sale through a Telegram bot - The Verge',\n",
       "   'description': '533 million Facebook users had their phone numbers and other data leaked in 2019. Now, someone is selling access to that data using a Telegram bot, and charging $20 per phone number.',\n",
       "   'url': 'https://www.theverge.com/2021/1/25/22249571/facebook-phone-number-hack-telegram-bot',\n",
       "   'urlToImage': 'https://cdn.vox-cdn.com/thumbor/K-OvToBYpeBCJe8zRJcIT88UkVs=/0x146:2040x1214/fit-in/1200x630/cdn.vox-cdn.com/uploads/chorus_asset/file/10626565/acastro_170329_1777_facebook_0001.jpg',\n",
       "   'publishedAt': '2021-01-26T02:06:48Z',\n",
       "   'content': 'Its $20 per number, unless youre buying in bulk\\r\\nIllustration by Alex Castro / The Verge\\r\\nSomeone has gotten their hands on a database full of Facebook users phone numbers, and is now selling that da… [+2307 chars]'}]}"
      ]
     },
     "execution_count": 86,
     "metadata": {},
     "output_type": "execute_result"
    }
   ],
   "source": [
    "data"
   ]
  },
  {
   "cell_type": "code",
   "execution_count": 88,
   "metadata": {},
   "outputs": [
    {
     "data": {
      "text/plain": [
       "dict"
      ]
     },
     "execution_count": 88,
     "metadata": {},
     "output_type": "execute_result"
    }
   ],
   "source": [
    "type(data)"
   ]
  },
  {
   "cell_type": "code",
   "execution_count": 89,
   "metadata": {},
   "outputs": [
    {
     "data": {
      "text/plain": [
       "dict_keys(['status', 'totalResults', 'articles'])"
      ]
     },
     "execution_count": 89,
     "metadata": {},
     "output_type": "execute_result"
    }
   ],
   "source": [
    "data.keys()"
   ]
  },
  {
   "cell_type": "code",
   "execution_count": 90,
   "metadata": {},
   "outputs": [],
   "source": [
    "articles = data[\"articles\"]"
   ]
  },
  {
   "cell_type": "code",
   "execution_count": 91,
   "metadata": {},
   "outputs": [
    {
     "data": {
      "text/plain": [
       "list"
      ]
     },
     "execution_count": 91,
     "metadata": {},
     "output_type": "execute_result"
    }
   ],
   "source": [
    "type(articles)"
   ]
  },
  {
   "cell_type": "code",
   "execution_count": 92,
   "metadata": {},
   "outputs": [
    {
     "data": {
      "text/plain": [
       "20"
      ]
     },
     "execution_count": 92,
     "metadata": {},
     "output_type": "execute_result"
    }
   ],
   "source": [
    "len(articles)"
   ]
  },
  {
   "cell_type": "code",
   "execution_count": 93,
   "metadata": {},
   "outputs": [],
   "source": [
    "a = articles[0]"
   ]
  },
  {
   "cell_type": "code",
   "execution_count": 94,
   "metadata": {},
   "outputs": [
    {
     "data": {
      "text/plain": [
       "{'source': {'id': 'cnn', 'name': 'CNN'},\n",
       " 'author': 'Clare Foran and Jeremy Herb, CNN',\n",
       " 'title': 'Senators to be sworn in for Trump impeachment trial - CNN',\n",
       " 'description': \"Senators will be formally sworn in as jurors on Tuesday for the second impeachment trial of former President Donald Trump, though the trial won't get into full swing until the week of February 8.\",\n",
       " 'url': 'https://www.cnn.com/2021/01/26/politics/impeachment-trial-latest-senators-sworn-in/index.html',\n",
       " 'urlToImage': 'https://cdn.cnn.com/cnnnext/dam/assets/210122130036-split-mitch-mcconnell-chuck-schumer-super-tease.jpg',\n",
       " 'publishedAt': '2021-01-26T10:00:00Z',\n",
       " 'content': None}"
      ]
     },
     "execution_count": 94,
     "metadata": {},
     "output_type": "execute_result"
    }
   ],
   "source": [
    "a"
   ]
  },
  {
   "cell_type": "code",
   "execution_count": 95,
   "metadata": {},
   "outputs": [
    {
     "data": {
      "text/plain": [
       "dict"
      ]
     },
     "execution_count": 95,
     "metadata": {},
     "output_type": "execute_result"
    }
   ],
   "source": [
    "type(a)"
   ]
  },
  {
   "cell_type": "code",
   "execution_count": 96,
   "metadata": {},
   "outputs": [
    {
     "data": {
      "text/plain": [
       "['Senators to be sworn in for Trump impeachment trial - CNN',\n",
       " '‘We do have possible fatalities’: Possible tornado damage in northern Jefferson County - WBRC',\n",
       " 'Google reveals North Korean-backed campaign targeting security researchers - Engadget',\n",
       " \"India's Republic Day marked with massive farmer protests - The Associated Press\",\n",
       " 'On immigration, Biden seeks a new approach to an old deadlock - CNN',\n",
       " 'Investigation underway after Bay Area hospital gives teachers COVID vaccine - KRON4',\n",
       " 'How 18 missed opportunities cost the Packers a trip to the Super Bowl - Packers Wire',\n",
       " \"Denver Nuggets' Jamal Murray ejected after hitting Dallas Mavericks' Tim Hardaway Jr. in groin - ESPN\",\n",
       " 'Coronavirus: Seafarers stuck at sea ‘a humanitarian crisis’ - BBC News',\n",
       " 'Why Mitch McConnell relented on a Senate filibuster stand-off - Vox.com',\n",
       " \"Harvey Weinstein's bankruptcy judge confirms sexual misconduct settlement: report - Fox News\",\n",
       " 'Covid: Quarantine hotel plans set to be announced - BBC News',\n",
       " \"Fauci was concerned people would do 'dangerous and foolish' things after Trump suggested injecting disinfectant | TheHill - The Hill\",\n",
       " 'Disneyland to reimagine Jungle Cruise ride following years of criticism - CNN',\n",
       " 'What Leon Black Got for Paying Jeffrey Epstein $158 Million - Bloomberg',\n",
       " 'Joe Biden May Adjust Income Threshold for Third Stimulus Check in $1.9 Tn Relief Proposal - Newsweek',\n",
       " 'Hawaii health officials report two cases of new variant of COVID-19 — one on Oahu and one on Maui - Honolulu Star-Advertiser',\n",
       " 'A Coronavirus Variant First Detected In Brazil Has Been Found In Minnesota : Coronavirus Updates - NPR',\n",
       " 'Bridenstine joins private equity firm - SpaceNews',\n",
       " 'Facebook users’ phone numbers are for sale through a Telegram bot - The Verge']"
      ]
     },
     "execution_count": 96,
     "metadata": {},
     "output_type": "execute_result"
    }
   ],
   "source": [
    "[art[\"title\"] for art in articles]"
   ]
  },
  {
   "cell_type": "markdown",
   "metadata": {},
   "source": [
    "## Another example API: Jokes API"
   ]
  },
  {
   "cell_type": "code",
   "execution_count": 97,
   "metadata": {},
   "outputs": [],
   "source": [
    "url_random_joke = \"https://official-joke-api.appspot.com/random_joke\""
   ]
  },
  {
   "cell_type": "code",
   "execution_count": 101,
   "metadata": {},
   "outputs": [],
   "source": [
    "response = requests.get(url_random_joke)"
   ]
  },
  {
   "cell_type": "code",
   "execution_count": 102,
   "metadata": {},
   "outputs": [
    {
     "data": {
      "text/plain": [
       "200"
      ]
     },
     "execution_count": 102,
     "metadata": {},
     "output_type": "execute_result"
    }
   ],
   "source": [
    "response.status_code"
   ]
  },
  {
   "cell_type": "code",
   "execution_count": 103,
   "metadata": {},
   "outputs": [
    {
     "data": {
      "text/plain": [
       "{'id': 275,\n",
       " 'type': 'general',\n",
       " 'setup': 'What type of music do balloons hate?',\n",
       " 'punchline': 'Pop music!'}"
      ]
     },
     "execution_count": 103,
     "metadata": {},
     "output_type": "execute_result"
    }
   ],
   "source": [
    "response.json()"
   ]
  },
  {
   "cell_type": "code",
   "execution_count": 112,
   "metadata": {},
   "outputs": [],
   "source": [
    "url_type_joke = \"https://official-joke-api.appspot.com/jokes/programming/random\""
   ]
  },
  {
   "cell_type": "code",
   "execution_count": 113,
   "metadata": {},
   "outputs": [],
   "source": [
    "response = requests.get(url_type_joke)"
   ]
  },
  {
   "cell_type": "code",
   "execution_count": 114,
   "metadata": {},
   "outputs": [
    {
     "data": {
      "text/plain": [
       "200"
      ]
     },
     "execution_count": 114,
     "metadata": {},
     "output_type": "execute_result"
    }
   ],
   "source": [
    "response.status_code"
   ]
  },
  {
   "cell_type": "code",
   "execution_count": 115,
   "metadata": {},
   "outputs": [
    {
     "data": {
      "text/plain": [
       "[{'id': 383,\n",
       "  'type': 'programming',\n",
       "  'setup': 'An IPv6 packet is walking out of the house.',\n",
       "  'punchline': 'He goes nowhere.'}]"
      ]
     },
     "execution_count": 115,
     "metadata": {},
     "output_type": "execute_result"
    }
   ],
   "source": [
    "response.json()"
   ]
  },
  {
   "cell_type": "markdown",
   "metadata": {},
   "source": [
    "## API keys"
   ]
  },
  {
   "cell_type": "markdown",
   "metadata": {},
   "source": [
    "Lets use [NewsAPI](https://newsapi.org/) to find news across several newspapers!"
   ]
  },
  {
   "cell_type": "markdown",
   "metadata": {},
   "source": [
    "We need an API key to authenticate ourselves, we download it and save it into a file..."
   ]
  },
  {
   "cell_type": "code",
   "execution_count": 120,
   "metadata": {},
   "outputs": [],
   "source": [
    "my_key = open(\"./my_news_key.txt\").readlines()[0].rstrip()"
   ]
  },
  {
   "cell_type": "markdown",
   "metadata": {},
   "source": [
    "Lets try with a wrong key"
   ]
  },
  {
   "cell_type": "code",
   "execution_count": 123,
   "metadata": {},
   "outputs": [],
   "source": [
    "url = f\"http://newsapi.org/v2/top-headlines?country=us&apiKey=manolonotienekey\""
   ]
  },
  {
   "cell_type": "code",
   "execution_count": 124,
   "metadata": {},
   "outputs": [
    {
     "data": {
      "text/plain": [
       "'http://newsapi.org/v2/top-headlines?country=us&apiKey=manolonotienekey'"
      ]
     },
     "execution_count": 124,
     "metadata": {},
     "output_type": "execute_result"
    }
   ],
   "source": [
    "url"
   ]
  },
  {
   "cell_type": "code",
   "execution_count": 125,
   "metadata": {},
   "outputs": [],
   "source": [
    "response = requests.get(url)"
   ]
  },
  {
   "cell_type": "code",
   "execution_count": 126,
   "metadata": {},
   "outputs": [
    {
     "data": {
      "text/plain": [
       "401"
      ]
     },
     "execution_count": 126,
     "metadata": {},
     "output_type": "execute_result"
    }
   ],
   "source": [
    "response.status_code"
   ]
  },
  {
   "cell_type": "markdown",
   "metadata": {},
   "source": [
    "**4xx**: client error: our error"
   ]
  },
  {
   "cell_type": "markdown",
   "metadata": {},
   "source": [
    "Lets do it correctly"
   ]
  },
  {
   "cell_type": "code",
   "execution_count": 127,
   "metadata": {},
   "outputs": [],
   "source": [
    "url = f\"http://newsapi.org/v2/top-headlines?country=us&apiKey={my_key}\""
   ]
  },
  {
   "cell_type": "code",
   "execution_count": 128,
   "metadata": {},
   "outputs": [
    {
     "data": {
      "text/plain": [
       "'http://newsapi.org/v2/top-headlines?country=us&apiKey=e25ed9ca506a450fad74d46d37877052'"
      ]
     },
     "execution_count": 128,
     "metadata": {},
     "output_type": "execute_result"
    }
   ],
   "source": [
    "url"
   ]
  },
  {
   "cell_type": "code",
   "execution_count": 129,
   "metadata": {},
   "outputs": [],
   "source": [
    "response = requests.get(url)"
   ]
  },
  {
   "cell_type": "code",
   "execution_count": null,
   "metadata": {},
   "outputs": [],
   "source": [
    "# equiv\n",
    "url = \"http://newsapi.org/v2/top-headlines\"\n",
    "\n",
    "ps = {\"country\": \"us\", \"apiKey\": my_key}\n",
    "\n",
    "response = requests.get(url, params=ps)"
   ]
  },
  {
   "cell_type": "code",
   "execution_count": 130,
   "metadata": {},
   "outputs": [
    {
     "data": {
      "text/plain": [
       "200"
      ]
     },
     "execution_count": 130,
     "metadata": {},
     "output_type": "execute_result"
    }
   ],
   "source": [
    "response.status_code"
   ]
  },
  {
   "cell_type": "code",
   "execution_count": 131,
   "metadata": {},
   "outputs": [
    {
     "data": {
      "text/plain": [
       "{'status': 'ok',\n",
       " 'totalResults': 38,\n",
       " 'articles': [{'source': {'id': 'cnn', 'name': 'CNN'},\n",
       "   'author': 'Clare Foran and Jeremy Herb, CNN',\n",
       "   'title': 'Senators to be sworn in for Trump impeachment trial - CNN',\n",
       "   'description': \"Senators will be formally sworn in as jurors on Tuesday for the second impeachment trial of former President Donald Trump, though the trial won't get into full swing until the week of February 8.\",\n",
       "   'url': 'https://www.cnn.com/2021/01/26/politics/impeachment-trial-latest-senators-sworn-in/index.html',\n",
       "   'urlToImage': 'https://cdn.cnn.com/cnnnext/dam/assets/210122130036-split-mitch-mcconnell-chuck-schumer-super-tease.jpg',\n",
       "   'publishedAt': '2021-01-26T10:00:00Z',\n",
       "   'content': None},\n",
       "  {'source': {'id': None, 'name': 'WBRC'},\n",
       "   'author': 'WBRC Staff',\n",
       "   'title': '‘We do have possible fatalities’: Possible tornado damage in northern Jefferson County - WBRC',\n",
       "   'description': 'There are multiple reports of damage in northern Jefferson County after a possible tornado touched down late Monday night.',\n",
       "   'url': 'https://www.wbrc.com/2021/01/26/possible-tornado-damage-northern-jefferson-county/',\n",
       "   'urlToImage': 'https://www.wbrc.com/resizer/gC1M4EBHi4DydZSk88g9s-CZ-FU=/1200x0/cloudfront-us-east-1.images.arcpublishing.com/raycom/QYNWAPS3M5GKHEJCE5AXWNBIIQ.jpg',\n",
       "   'publishedAt': '2021-01-26T07:41:15Z',\n",
       "   'content': 'JEFFERSON COUNTY, Ala. (WBRC) - Jefferson County Coroner Bill Yates has confirmed a fatality related to the overnight possible tornado in Fultondale.\\r\\nNo additional details are being provided at this… [+2346 chars]'},\n",
       "  {'source': {'id': 'engadget', 'name': 'Engadget'},\n",
       "   'author': '',\n",
       "   'title': 'Google reveals North Korean-backed campaign targeting security researchers - Engadget',\n",
       "   'description': 'Google’s Threat Analysis Group has identified an ongoing campaign that’s been targeting security researchers working on vulnerabilities over the past few months.  The team says “a government-backed entity based in North Korea” is behind the attacks, which typ…',\n",
       "   'url': 'https://www.engadget.com/google-north-korean-campaign-security-researchers-060603985.html',\n",
       "   'urlToImage': 'https://o.aolcdn.com/images/dims?resize=1200%2C630&crop=1200%2C630%2C0%2C0&quality=95&image_uri=https%3A%2F%2Fs.yimg.com%2Fos%2Fcreatr-images%2F2019-06%2Fea58ee80-863b-11e9-b5ff-71b01764a4c6&client=amp-blogside-v2&signature=94170af4e99228d984f5e1d77a0d3d5945454d30',\n",
       "   'publishedAt': '2021-01-26T06:08:50Z',\n",
       "   'content': 'Google’s TAG team said the attackers contacted their intended victims, asking to collaborate on vulnerability research. Aside from Twitter, they also used LinkedIn, Telegram, Discord, Keybase and ema… [+1387 chars]'},\n",
       "  {'source': {'id': 'associated-press', 'name': 'Associated Press'},\n",
       "   'author': 'Sheikh Saaliq',\n",
       "   'title': \"India's Republic Day marked with massive farmer protests - The Associated Press\",\n",
       "   'description': \"NEW DELHI (AP) — Tens of thousands of protesting farmers drove long lines of tractors into India's capital on Tuesday, breaking through police barricades, defying tear gas and storming the...\",\n",
       "   'url': 'https://apnews.com/654ef151a8af6de8c264c29363d0607b',\n",
       "   'urlToImage': 'https://storage.googleapis.com/afs-prod/media/52a319164d054100ac0deed01479dea1/3000.jpeg',\n",
       "   'publishedAt': '2021-01-26T06:04:23Z',\n",
       "   'content': 'NEW DELHI (AP) Tens of thousands of protesting farmers drove long lines of tractors into Indias capital on Tuesday, breaking through police barricades, defying tear gas and storming the historic Red … [+4444 chars]'},\n",
       "  {'source': {'id': 'cnn', 'name': 'CNN'},\n",
       "   'author': 'Analysis by Ronald Brownstein',\n",
       "   'title': 'On immigration, Biden seeks a new approach to an old deadlock - CNN',\n",
       "   'description': \"President Joe Biden's early moves on immigration signal his determination to learn from past efforts to reform the system, but that doesn't mean he won't repeat their legacy of frustration.\",\n",
       "   'url': 'https://www.cnn.com/2021/01/26/politics/biden-immigration-strategy/index.html',\n",
       "   'urlToImage': 'https://cdn.cnn.com/cnnnext/dam/assets/210125165746-biden-immigration-approach-super-tease.jpg',\n",
       "   'publishedAt': '2021-01-26T05:24:00Z',\n",
       "   'content': 'In the past, George W. Bush and Barack Obama sought bipartisan support for comprehensive immigration reform: The problem is it allowed Republicans to demand way too much in the sausage-making and, in… [+127 chars]'},\n",
       "  {'source': {'id': None, 'name': 'KRON4'},\n",
       "   'author': 'Haaziq Madyun',\n",
       "   'title': 'Investigation underway after Bay Area hospital gives teachers COVID vaccine - KRON4',\n",
       "   'description': 'LOS GATOS, Calif. (KRON) – An opportunity for teachers in an affluent South Bay School District to take cuts in line to be vaccinated for COVID-19 has created some outrage from folks in that community. The allegation involves the hospital returning a favor fo…',\n",
       "   'url': 'https://www.kron4.com/news/bay-area/investigation-underway-after-bay-area-hospital-gives-teachers-covid-vaccine/',\n",
       "   'urlToImage': 'https://www.kron4.com/wp-content/uploads/sites/11/2021/01/F222B32476D64C94BE5F0E1E6D10E5DA.jpg?w=1280',\n",
       "   'publishedAt': '2021-01-26T05:19:00Z',\n",
       "   'content': 'LOS GATOS, Calif. (KRON) – An opportunity for teachers in an affluent South Bay School District to take cuts in line to be vaccinated for COVID-19 has created some outrage from folks in that communit… [+2645 chars]'},\n",
       "  {'source': {'id': 'usa-today', 'name': 'USA Today'},\n",
       "   'author': 'Zach Kruse',\n",
       "   'title': 'How 18 missed opportunities cost the Packers a trip to the Super Bowl - Packers Wire',\n",
       "   'description': 'An autopsy of the Packers’ latest disappointment in the NFC Championship Game.',\n",
       "   'url': 'https://packerswire.usatoday.com/lists/how-18-missed-opportunities-cost-the-packers-a-trip-to-the-super-bowl/',\n",
       "   'urlToImage': 'https://packerswire.usatoday.com/wp-content/uploads/sites/57/2021/01/USATSI_15479074.jpg?w=1024&h=576&crop=1',\n",
       "   'publishedAt': '2021-01-26T04:44:43Z',\n",
       "   'content': 'Six years ago, the Green Bay Packers had the Seattle Seahawks staggering around CenturyLink Field in the NFC Championship Game, needing just one final jab to knock out the defending champs and punch … [+11912 chars]'},\n",
       "  {'source': {'id': None, 'name': 'ESPN'},\n",
       "   'author': None,\n",
       "   'title': \"Denver Nuggets' Jamal Murray ejected after hitting Dallas Mavericks' Tim Hardaway Jr. in groin - ESPN\",\n",
       "   'description': \"Nuggets guard Jamal Murray was ejected after hitting the Mavericks' Tim Hardaway Jr. in the groin Monday night.\",\n",
       "   'url': 'https://www.espn.com/nba/story/_/id/30779378/denver-nuggets-jamal-murray-ejected-hitting-dallas-mavericks-tim-hardaway-jr-groin',\n",
       "   'urlToImage': 'https://a.espncdn.com/combiner/i?img=%2Fphoto%2F2021%2F0126%2Fr806591_1296x729_16%2D9.jpg',\n",
       "   'publishedAt': '2021-01-26T04:02:59Z',\n",
       "   'content': \"DALLAS -- Denver Nuggets guard Jamal Murray was ejected after what appeared to be an intentional shot to the groin area of the Dallas Mavericks' Tim Hardaway Jr. in the second half of their game Mond… [+1480 chars]\"},\n",
       "  {'source': {'id': None, 'name': 'BBC News'},\n",
       "   'author': 'https://www.facebook.com/bbcnews',\n",
       "   'title': 'Coronavirus: Seafarers stuck at sea ‘a humanitarian crisis’ - BBC News',\n",
       "   'description': \"Crew are asking to be designated 'key workers' so they can go home without risking public health.\",\n",
       "   'url': 'https://www.bbc.com/news/business-55802514',\n",
       "   'urlToImage': 'https://ichef.bbci.co.uk/news/1024/branded_news/149FC/production/_116667448_maersk-crew.jpg',\n",
       "   'publishedAt': '2021-01-26T03:44:00Z',\n",
       "   'content': 'By Jonathan Josephs &amp; Mary-Ann RussonBusiness reporters, BBC News\\r\\nThe fate of more than 200,000 seafarers who play a crucial role in keeping global trade flowing is being labelled a \"humanitaria… [+3093 chars]'},\n",
       "  {'source': {'id': None, 'name': 'Vox'},\n",
       "   'author': 'Li Zhou',\n",
       "   'title': 'Why Mitch McConnell relented on a Senate filibuster stand-off - Vox.com',\n",
       "   'description': 'Mitch McConnell didn’t get all he’d hoped for in delaying the Senate’s organizing resolution, but got some Democrats to reaffirm their commitment to the filibuster.',\n",
       "   'url': 'https://www.vox.com/2021/1/25/22249786/mitch-mcconnell-filibuster-organizing-resolution',\n",
       "   'urlToImage': 'https://cdn.vox-cdn.com/thumbor/_kFHiEPsJnTCBcawR1ese3b1lf0=/0x0:4361x2283/fit-in/1200x630/cdn.vox-cdn.com/uploads/chorus_asset/file/22259810/1297264903.jpg',\n",
       "   'publishedAt': '2021-01-26T03:40:00Z',\n",
       "   'content': 'Minority Leader Mitch McConnell is no longer holding up the Senate organizing resolution after two Democrats confirmed that they wont be blowing up the legislative filibuster any time soon. \\r\\nIn the … [+5283 chars]'},\n",
       "  {'source': {'id': 'fox-news', 'name': 'Fox News'},\n",
       "   'author': 'Nate Day',\n",
       "   'title': \"Harvey Weinstein's bankruptcy judge confirms sexual misconduct settlement: report - Fox News\",\n",
       "   'description': \"Harvey Weinstein's bankruptcy judge has confirmed a settlement in his sexual misconduct case.\",\n",
       "   'url': 'https://www.foxnews.com/entertainment/harvey-weinsteins-bankruptcy-judge-confirms-sexual-misconduct-settlement-report',\n",
       "   'urlToImage': 'https://static.foxnews.com/foxnews.com/content/uploads/2021/01/Harvey-Weinstein.jpg',\n",
       "   'publishedAt': '2021-01-26T03:27:13Z',\n",
       "   'content': \"Harvey Weinstein's sexual misconduct settlement has reportedly been approved by the judge overseeing his company's bankruptcy proceedings.\\r\\nThe now-confirmed settlement resolves most claims from wome… [+2918 chars]\"},\n",
       "  {'source': {'id': None, 'name': 'BBC News'},\n",
       "   'author': 'https://www.facebook.com/bbcnews',\n",
       "   'title': 'Covid: Quarantine hotel plans set to be announced - BBC News',\n",
       "   'description': 'The new measures are likely to apply to British residents arriving in England from high-risk countries.',\n",
       "   'url': 'https://www.bbc.com/news/uk-politics-55805575',\n",
       "   'urlToImage': 'https://ichef.bbci.co.uk/news/1024/branded_news/119F0/production/_116667127_hi065198826.jpg',\n",
       "   'publishedAt': '2021-01-26T03:26:00Z',\n",
       "   'content': 'The government is expected to announce that some travellers coming to England will have to quarantine in hotels, over concerns about new Covid variants.\\r\\nPrime Minister Boris Johnson will make a deci… [+5200 chars]'},\n",
       "  {'source': {'id': 'the-hill', 'name': 'The Hill'},\n",
       "   'author': 'Marina Pitofsky',\n",
       "   'title': \"Fauci was concerned people would do 'dangerous and foolish' things after Trump suggested injecting disinfectant | TheHill - The Hill\",\n",
       "   'description': 'Anthony Fauci, the director of the National Institute of Allergy and Infectious Disease, said in...',\n",
       "   'url': 'https://thehill.com/homenews/news/535808-fauci-says-he-was-concerned-people-would-do-dangerous-and-foolish-things-after',\n",
       "   'urlToImage': 'https://thehill.com/sites/default/files/faucianthony_01212021getty.jpg',\n",
       "   'publishedAt': '2021-01-26T03:23:11Z',\n",
       "   'content': \"Anthony FauciAnthony FauciFauci was concerned people would do 'dangerous and foolish' things after Trump suggested injecting disinfectantGOP lawmaker wants to ban feds from funding collection of COVI… [+2611 chars]\"},\n",
       "  {'source': {'id': 'cnn', 'name': 'CNN'},\n",
       "   'author': 'By Lilit Marcus, CNN',\n",
       "   'title': 'Disneyland to reimagine Jungle Cruise ride following years of criticism - CNN',\n",
       "   'description': 'Disney has announced that it is rethinking one of its original theme park attractions. The Jungle Cruise was inspired by nature documentaries, but some ot its imagery has been receiving criticism from fans for years.',\n",
       "   'url': 'https://www.cnn.com/travel/article/disneyland-jungle-cruise-ride-trnd/index.html',\n",
       "   'urlToImage': 'https://cdn.cnn.com/cnnnext/dam/assets/210125204532-jungle-cruise-disneyland-super-tease.jpg',\n",
       "   'publishedAt': '2021-01-26T03:17:02Z',\n",
       "   'content': '(CNN) Disney has announced that it is rethinking a classic theme park attraction following years of criticism from fans.\\r\\nThe Jungle Cruise ride, where a wisecracking skipper ferries guests along a w… [+2026 chars]'},\n",
       "  {'source': {'id': 'bloomberg', 'name': 'Bloomberg'},\n",
       "   'author': None,\n",
       "   'title': 'What Leon Black Got for Paying Jeffrey Epstein $158 Million - Bloomberg',\n",
       "   'description': None,\n",
       "   'url': 'https://www.bloomberg.com/tosv2.html?vid=&uuid=47a20000-5fc4-11eb-8a82-4f05d9131dc5&url=L25ld3MvYXJ0aWNsZXMvMjAyMS0wMS0yNi93aGF0LWxlb24tYmxhY2stZ290LWZvci1wYXlpbmctamVmZnJleS1lcHN0ZWluLTE1OC1taWxsaW9u',\n",
       "   'urlToImage': None,\n",
       "   'publishedAt': '2021-01-26T03:11:00Z',\n",
       "   'content': \"To continue, please click the box below to let us know you're not a robot.\"},\n",
       "  {'source': {'id': 'newsweek', 'name': 'Newsweek'},\n",
       "   'author': 'Daniel Villarreal',\n",
       "   'title': 'Joe Biden May Adjust Income Threshold for Third Stimulus Check in $1.9 Tn Relief Proposal - Newsweek',\n",
       "   'description': '\"There is legitimate reason for people to say, \\'Do you have the lines drawn the exact right way? Should it go to anybody making over X number of dollars? I\\'m open to negotiate those things,\\'\" Biden...',\n",
       "   'url': 'https://www.newsweek.com/joe-biden-may-adjust-income-threshold-third-stimulus-check-19-tn-relief-proposal-1564344',\n",
       "   'urlToImage': 'https://d.newsweek.com/en/full/1715989/joe-biden-stimulus-checks-payrments-cut-off-income.jpg',\n",
       "   'publishedAt': '2021-01-26T03:09:52Z',\n",
       "   'content': 'President Joe Biden has expressed willingness to change the income thresholds required for his proposed $1,400 stimulus check so that higher-earning Americans less affected by the economic downturn w… [+2551 chars]'},\n",
       "  {'source': {'id': None, 'name': 'Honolulu Star-Advertiser'},\n",
       "   'author': 'Nina Wu',\n",
       "   'title': 'Hawaii health officials report two cases of new variant of COVID-19 — one on Oahu and one on Maui - Honolulu Star-Advertiser',\n",
       "   'description': 'The state Health Department today confirmed that its Laboratories Division detected two cases of the SARS-CoV-2 variant L452R in Hawaii.',\n",
       "   'url': 'https://www.staradvertiser.com/2021/01/25/breaking-news/health-officials-confirm-denmark-variant-of-covid-19-in-hawaii/',\n",
       "   'urlToImage': 'https://www.staradvertiser.com/wp-content/uploads/2021/01/web1_CTY-covid-kaneohe-6351-300x199.jpg',\n",
       "   'publishedAt': '2021-01-26T03:00:00Z',\n",
       "   'content': 'The state Health Department today confirmed that its Laboratories Division detected two cases of the SARS-CoV-2 variant L452R in Hawaii.\\r\\nOfficials said the coronavirus strain was first detected in D… [+2749 chars]'},\n",
       "  {'source': {'id': None, 'name': 'NPR'},\n",
       "   'author': None,\n",
       "   'title': 'A Coronavirus Variant First Detected In Brazil Has Been Found In Minnesota : Coronavirus Updates - NPR',\n",
       "   'description': 'A Twin Cities resident contracted a new variant of the coronavirus after traveling to Brazil. The new strain is believed to be more transmissible.',\n",
       "   'url': 'https://www.npr.org/sections/coronavirus-live-updates/2021/01/25/960566484/a-more-contagious-coronavirus-variant-from-brazil-is-found-in-minnesota',\n",
       "   'urlToImage': 'https://media.npr.org/assets/img/2021/01/25/gettyimages-1091527814_wide-989cbe4dcefa771a134505abe60872267e358ce7.jpg?s=1400',\n",
       "   'publishedAt': '2021-01-26T02:57:00Z',\n",
       "   'content': 'A new variant of the coronavirus first discovered in Brazil was detected in Minneapolis, Minn. The variant is believed to be more transmissible and could possibly infect those who previously contract… [+1496 chars]'},\n",
       "  {'source': {'id': None, 'name': 'SpaceNews'},\n",
       "   'author': 'Jeff Foust',\n",
       "   'title': 'Bridenstine joins private equity firm - SpaceNews',\n",
       "   'description': 'Less than a week after leaving the agency, former NASA Administrator Jim Bridenstine is joining a private equity firm that invests in aerospace firms.',\n",
       "   'url': 'https://spacenews.com/?p=110438',\n",
       "   'urlToImage': 'https://spacenews.com/wp-content/uploads/2021/01/bridenstine-acorn.jpg',\n",
       "   'publishedAt': '2021-01-26T02:17:25Z',\n",
       "   'content': 'WASHINGTON Less than a week after leaving the agency, former NASA Administrator Jim Bridenstine is joining a private equity firm that invests in the aerospace and defense industries.\\r\\nAcorn Growth Co… [+3311 chars]'},\n",
       "  {'source': {'id': 'the-verge', 'name': 'The Verge'},\n",
       "   'author': 'Mitchell Clark',\n",
       "   'title': 'Facebook users’ phone numbers are for sale through a Telegram bot - The Verge',\n",
       "   'description': '533 million Facebook users had their phone numbers and other data leaked in 2019. Now, someone is selling access to that data using a Telegram bot, and charging $20 per phone number.',\n",
       "   'url': 'https://www.theverge.com/2021/1/25/22249571/facebook-phone-number-hack-telegram-bot',\n",
       "   'urlToImage': 'https://cdn.vox-cdn.com/thumbor/K-OvToBYpeBCJe8zRJcIT88UkVs=/0x146:2040x1214/fit-in/1200x630/cdn.vox-cdn.com/uploads/chorus_asset/file/10626565/acastro_170329_1777_facebook_0001.jpg',\n",
       "   'publishedAt': '2021-01-26T02:06:48Z',\n",
       "   'content': 'Its $20 per number, unless youre buying in bulk\\r\\nIllustration by Alex Castro / The Verge\\r\\nSomeone has gotten their hands on a database full of Facebook users phone numbers, and is now selling that da… [+2307 chars]'}]}"
      ]
     },
     "execution_count": 131,
     "metadata": {},
     "output_type": "execute_result"
    }
   ],
   "source": [
    "response.json()"
   ]
  },
  {
   "cell_type": "markdown",
   "metadata": {},
   "source": [
    "## Headers"
   ]
  },
  {
   "cell_type": "markdown",
   "metadata": {},
   "source": [
    "HTTP Headers are an important part of the API request and response as they represent the meta-data associated with the API request and response. Headers carry information for:\n",
    "\n",
    "* Request and Response Body\n",
    "* Request Authorization\n",
    "* Response Caching \n",
    "* Response Cookies"
   ]
  },
  {
   "cell_type": "markdown",
   "metadata": {},
   "source": [
    "[NewsAPI documentation](https://newsapi.org/docs/authentication) states, regarding authentication:\n",
    "\n",
    "Authentication is handled with a simple API key.\n",
    "\n",
    "You can attach your API key to a request in one of three ways:\n",
    "\n",
    "* Via the apiKey querystring parameter.\n",
    "* Via the X-Api-Key HTTP header.\n",
    "* Via the Authorization HTTP header. Bearer optional, do not base 64 encode.\n",
    "\n",
    "We strongly recommend the either of latter 2 so that your API key isn't visible to others in logs or request sniffing."
   ]
  },
  {
   "cell_type": "markdown",
   "metadata": {},
   "source": [
    "This enters apiKey as a parameter (BAD, VISIBLE)"
   ]
  },
  {
   "cell_type": "code",
   "execution_count": 132,
   "metadata": {},
   "outputs": [],
   "source": [
    "my_key = key"
   ]
  },
  {
   "cell_type": "code",
   "execution_count": 133,
   "metadata": {},
   "outputs": [],
   "source": [
    "url = f\"http://newsapi.org/v2/top-headlines?country=us&apiKey={my_key}\""
   ]
  },
  {
   "cell_type": "code",
   "execution_count": 134,
   "metadata": {},
   "outputs": [
    {
     "data": {
      "text/plain": [
       "'http://newsapi.org/v2/top-headlines?country=us&apiKey=e25ed9ca506a450fad74d46d37877052'"
      ]
     },
     "execution_count": 134,
     "metadata": {},
     "output_type": "execute_result"
    }
   ],
   "source": [
    "url"
   ]
  },
  {
   "cell_type": "markdown",
   "metadata": {},
   "source": [
    "This alternative passes apiKey as a header (GOOD, INVISIBLE)"
   ]
  },
  {
   "cell_type": "code",
   "execution_count": 135,
   "metadata": {},
   "outputs": [],
   "source": [
    "url = \"http://newsapi.org/v2/top-headlines\""
   ]
  },
  {
   "cell_type": "code",
   "execution_count": 137,
   "metadata": {},
   "outputs": [],
   "source": [
    "response = requests.get(\n",
    "    url=url,\n",
    "    params = {\"country\": \"us\"},\n",
    "    headers={\"X-Api-Key\": my_key}\n",
    ")"
   ]
  },
  {
   "cell_type": "code",
   "execution_count": 138,
   "metadata": {},
   "outputs": [
    {
     "data": {
      "text/plain": [
       "200"
      ]
     },
     "execution_count": 138,
     "metadata": {},
     "output_type": "execute_result"
    }
   ],
   "source": [
    "response.status_code"
   ]
  },
  {
   "cell_type": "code",
   "execution_count": 139,
   "metadata": {},
   "outputs": [
    {
     "data": {
      "text/plain": [
       "{'status': 'ok',\n",
       " 'totalResults': 38,\n",
       " 'articles': [{'source': {'id': 'cnn', 'name': 'CNN'},\n",
       "   'author': 'Clare Foran and Jeremy Herb, CNN',\n",
       "   'title': 'Senators to be sworn in for Trump impeachment trial - CNN',\n",
       "   'description': \"Senators will be formally sworn in as jurors on Tuesday for the second impeachment trial of former President Donald Trump, though the trial won't get into full swing until the week of February 8.\",\n",
       "   'url': 'https://www.cnn.com/2021/01/26/politics/impeachment-trial-latest-senators-sworn-in/index.html',\n",
       "   'urlToImage': 'https://cdn.cnn.com/cnnnext/dam/assets/210122130036-split-mitch-mcconnell-chuck-schumer-super-tease.jpg',\n",
       "   'publishedAt': '2021-01-26T10:00:00Z',\n",
       "   'content': None},\n",
       "  {'source': {'id': None, 'name': 'WBRC'},\n",
       "   'author': 'WBRC Staff',\n",
       "   'title': '‘We do have possible fatalities’: Possible tornado damage in northern Jefferson County - WBRC',\n",
       "   'description': 'There are multiple reports of damage in northern Jefferson County after a possible tornado touched down late Monday night.',\n",
       "   'url': 'https://www.wbrc.com/2021/01/26/possible-tornado-damage-northern-jefferson-county/',\n",
       "   'urlToImage': 'https://www.wbrc.com/resizer/gC1M4EBHi4DydZSk88g9s-CZ-FU=/1200x0/cloudfront-us-east-1.images.arcpublishing.com/raycom/QYNWAPS3M5GKHEJCE5AXWNBIIQ.jpg',\n",
       "   'publishedAt': '2021-01-26T07:41:15Z',\n",
       "   'content': 'JEFFERSON COUNTY, Ala. (WBRC) - Jefferson County Coroner Bill Yates has confirmed a fatality related to the overnight possible tornado in Fultondale.\\r\\nNo additional details are being provided at this… [+2346 chars]'},\n",
       "  {'source': {'id': 'engadget', 'name': 'Engadget'},\n",
       "   'author': '',\n",
       "   'title': 'Google reveals North Korean-backed campaign targeting security researchers - Engadget',\n",
       "   'description': 'Google’s Threat Analysis Group has identified an ongoing campaign that’s been targeting security researchers working on vulnerabilities over the past few months.  The team says “a government-backed entity based in North Korea” is behind the attacks, which typ…',\n",
       "   'url': 'https://www.engadget.com/google-north-korean-campaign-security-researchers-060603985.html',\n",
       "   'urlToImage': 'https://o.aolcdn.com/images/dims?resize=1200%2C630&crop=1200%2C630%2C0%2C0&quality=95&image_uri=https%3A%2F%2Fs.yimg.com%2Fos%2Fcreatr-images%2F2019-06%2Fea58ee80-863b-11e9-b5ff-71b01764a4c6&client=amp-blogside-v2&signature=94170af4e99228d984f5e1d77a0d3d5945454d30',\n",
       "   'publishedAt': '2021-01-26T06:08:50Z',\n",
       "   'content': 'Google’s TAG team said the attackers contacted their intended victims, asking to collaborate on vulnerability research. Aside from Twitter, they also used LinkedIn, Telegram, Discord, Keybase and ema… [+1387 chars]'},\n",
       "  {'source': {'id': 'associated-press', 'name': 'Associated Press'},\n",
       "   'author': 'Sheikh Saaliq',\n",
       "   'title': \"India's Republic Day marked with massive farmer protests - The Associated Press\",\n",
       "   'description': \"NEW DELHI (AP) — Tens of thousands of protesting farmers drove long lines of tractors into India's capital on Tuesday, breaking through police barricades, defying tear gas and storming the...\",\n",
       "   'url': 'https://apnews.com/654ef151a8af6de8c264c29363d0607b',\n",
       "   'urlToImage': 'https://storage.googleapis.com/afs-prod/media/52a319164d054100ac0deed01479dea1/3000.jpeg',\n",
       "   'publishedAt': '2021-01-26T06:04:23Z',\n",
       "   'content': 'NEW DELHI (AP) Tens of thousands of protesting farmers drove long lines of tractors into Indias capital on Tuesday, breaking through police barricades, defying tear gas and storming the historic Red … [+4444 chars]'},\n",
       "  {'source': {'id': 'cnn', 'name': 'CNN'},\n",
       "   'author': 'Analysis by Ronald Brownstein',\n",
       "   'title': 'On immigration, Biden seeks a new approach to an old deadlock - CNN',\n",
       "   'description': \"President Joe Biden's early moves on immigration signal his determination to learn from past efforts to reform the system, but that doesn't mean he won't repeat their legacy of frustration.\",\n",
       "   'url': 'https://www.cnn.com/2021/01/26/politics/biden-immigration-strategy/index.html',\n",
       "   'urlToImage': 'https://cdn.cnn.com/cnnnext/dam/assets/210125165746-biden-immigration-approach-super-tease.jpg',\n",
       "   'publishedAt': '2021-01-26T05:24:00Z',\n",
       "   'content': 'In the past, George W. Bush and Barack Obama sought bipartisan support for comprehensive immigration reform: The problem is it allowed Republicans to demand way too much in the sausage-making and, in… [+127 chars]'},\n",
       "  {'source': {'id': None, 'name': 'KRON4'},\n",
       "   'author': 'Haaziq Madyun',\n",
       "   'title': 'Investigation underway after Bay Area hospital gives teachers COVID vaccine - KRON4',\n",
       "   'description': 'LOS GATOS, Calif. (KRON) – An opportunity for teachers in an affluent South Bay School District to take cuts in line to be vaccinated for COVID-19 has created some outrage from folks in that community. The allegation involves the hospital returning a favor fo…',\n",
       "   'url': 'https://www.kron4.com/news/bay-area/investigation-underway-after-bay-area-hospital-gives-teachers-covid-vaccine/',\n",
       "   'urlToImage': 'https://www.kron4.com/wp-content/uploads/sites/11/2021/01/F222B32476D64C94BE5F0E1E6D10E5DA.jpg?w=1280',\n",
       "   'publishedAt': '2021-01-26T05:19:00Z',\n",
       "   'content': 'LOS GATOS, Calif. (KRON) – An opportunity for teachers in an affluent South Bay School District to take cuts in line to be vaccinated for COVID-19 has created some outrage from folks in that communit… [+2645 chars]'},\n",
       "  {'source': {'id': 'usa-today', 'name': 'USA Today'},\n",
       "   'author': 'Zach Kruse',\n",
       "   'title': 'How 18 missed opportunities cost the Packers a trip to the Super Bowl - Packers Wire',\n",
       "   'description': 'An autopsy of the Packers’ latest disappointment in the NFC Championship Game.',\n",
       "   'url': 'https://packerswire.usatoday.com/lists/how-18-missed-opportunities-cost-the-packers-a-trip-to-the-super-bowl/',\n",
       "   'urlToImage': 'https://packerswire.usatoday.com/wp-content/uploads/sites/57/2021/01/USATSI_15479074.jpg?w=1024&h=576&crop=1',\n",
       "   'publishedAt': '2021-01-26T04:44:43Z',\n",
       "   'content': 'Six years ago, the Green Bay Packers had the Seattle Seahawks staggering around CenturyLink Field in the NFC Championship Game, needing just one final jab to knock out the defending champs and punch … [+11912 chars]'},\n",
       "  {'source': {'id': None, 'name': 'ESPN'},\n",
       "   'author': None,\n",
       "   'title': \"Denver Nuggets' Jamal Murray ejected after hitting Dallas Mavericks' Tim Hardaway Jr. in groin - ESPN\",\n",
       "   'description': \"Nuggets guard Jamal Murray was ejected after hitting the Mavericks' Tim Hardaway Jr. in the groin Monday night.\",\n",
       "   'url': 'https://www.espn.com/nba/story/_/id/30779378/denver-nuggets-jamal-murray-ejected-hitting-dallas-mavericks-tim-hardaway-jr-groin',\n",
       "   'urlToImage': 'https://a.espncdn.com/combiner/i?img=%2Fphoto%2F2021%2F0126%2Fr806591_1296x729_16%2D9.jpg',\n",
       "   'publishedAt': '2021-01-26T04:02:59Z',\n",
       "   'content': \"DALLAS -- Denver Nuggets guard Jamal Murray was ejected after what appeared to be an intentional shot to the groin area of the Dallas Mavericks' Tim Hardaway Jr. in the second half of their game Mond… [+1480 chars]\"},\n",
       "  {'source': {'id': None, 'name': 'BBC News'},\n",
       "   'author': 'https://www.facebook.com/bbcnews',\n",
       "   'title': 'Coronavirus: Seafarers stuck at sea ‘a humanitarian crisis’ - BBC News',\n",
       "   'description': \"Crew are asking to be designated 'key workers' so they can go home without risking public health.\",\n",
       "   'url': 'https://www.bbc.com/news/business-55802514',\n",
       "   'urlToImage': 'https://ichef.bbci.co.uk/news/1024/branded_news/149FC/production/_116667448_maersk-crew.jpg',\n",
       "   'publishedAt': '2021-01-26T03:44:00Z',\n",
       "   'content': 'By Jonathan Josephs &amp; Mary-Ann RussonBusiness reporters, BBC News\\r\\nThe fate of more than 200,000 seafarers who play a crucial role in keeping global trade flowing is being labelled a \"humanitaria… [+3093 chars]'},\n",
       "  {'source': {'id': None, 'name': 'Vox'},\n",
       "   'author': 'Li Zhou',\n",
       "   'title': 'Why Mitch McConnell relented on a Senate filibuster stand-off - Vox.com',\n",
       "   'description': 'Mitch McConnell didn’t get all he’d hoped for in delaying the Senate’s organizing resolution, but got some Democrats to reaffirm their commitment to the filibuster.',\n",
       "   'url': 'https://www.vox.com/2021/1/25/22249786/mitch-mcconnell-filibuster-organizing-resolution',\n",
       "   'urlToImage': 'https://cdn.vox-cdn.com/thumbor/_kFHiEPsJnTCBcawR1ese3b1lf0=/0x0:4361x2283/fit-in/1200x630/cdn.vox-cdn.com/uploads/chorus_asset/file/22259810/1297264903.jpg',\n",
       "   'publishedAt': '2021-01-26T03:40:00Z',\n",
       "   'content': 'Minority Leader Mitch McConnell is no longer holding up the Senate organizing resolution after two Democrats confirmed that they wont be blowing up the legislative filibuster any time soon. \\r\\nIn the … [+5283 chars]'},\n",
       "  {'source': {'id': 'fox-news', 'name': 'Fox News'},\n",
       "   'author': 'Nate Day',\n",
       "   'title': \"Harvey Weinstein's bankruptcy judge confirms sexual misconduct settlement: report - Fox News\",\n",
       "   'description': \"Harvey Weinstein's bankruptcy judge has confirmed a settlement in his sexual misconduct case.\",\n",
       "   'url': 'https://www.foxnews.com/entertainment/harvey-weinsteins-bankruptcy-judge-confirms-sexual-misconduct-settlement-report',\n",
       "   'urlToImage': 'https://static.foxnews.com/foxnews.com/content/uploads/2021/01/Harvey-Weinstein.jpg',\n",
       "   'publishedAt': '2021-01-26T03:27:13Z',\n",
       "   'content': \"Harvey Weinstein's sexual misconduct settlement has reportedly been approved by the judge overseeing his company's bankruptcy proceedings.\\r\\nThe now-confirmed settlement resolves most claims from wome… [+2918 chars]\"},\n",
       "  {'source': {'id': None, 'name': 'BBC News'},\n",
       "   'author': 'https://www.facebook.com/bbcnews',\n",
       "   'title': 'Covid: Quarantine hotel plans set to be announced - BBC News',\n",
       "   'description': 'The new measures are likely to apply to British residents arriving in England from high-risk countries.',\n",
       "   'url': 'https://www.bbc.com/news/uk-politics-55805575',\n",
       "   'urlToImage': 'https://ichef.bbci.co.uk/news/1024/branded_news/119F0/production/_116667127_hi065198826.jpg',\n",
       "   'publishedAt': '2021-01-26T03:26:00Z',\n",
       "   'content': 'The government is expected to announce that some travellers coming to England will have to quarantine in hotels, over concerns about new Covid variants.\\r\\nPrime Minister Boris Johnson will make a deci… [+5200 chars]'},\n",
       "  {'source': {'id': 'the-hill', 'name': 'The Hill'},\n",
       "   'author': 'Marina Pitofsky',\n",
       "   'title': \"Fauci was concerned people would do 'dangerous and foolish' things after Trump suggested injecting disinfectant | TheHill - The Hill\",\n",
       "   'description': 'Anthony Fauci, the director of the National Institute of Allergy and Infectious Disease, said in...',\n",
       "   'url': 'https://thehill.com/homenews/news/535808-fauci-says-he-was-concerned-people-would-do-dangerous-and-foolish-things-after',\n",
       "   'urlToImage': 'https://thehill.com/sites/default/files/faucianthony_01212021getty.jpg',\n",
       "   'publishedAt': '2021-01-26T03:23:11Z',\n",
       "   'content': \"Anthony FauciAnthony FauciFauci was concerned people would do 'dangerous and foolish' things after Trump suggested injecting disinfectantGOP lawmaker wants to ban feds from funding collection of COVI… [+2611 chars]\"},\n",
       "  {'source': {'id': 'cnn', 'name': 'CNN'},\n",
       "   'author': 'By Lilit Marcus, CNN',\n",
       "   'title': 'Disneyland to reimagine Jungle Cruise ride following years of criticism - CNN',\n",
       "   'description': 'Disney has announced that it is rethinking one of its original theme park attractions. The Jungle Cruise was inspired by nature documentaries, but some ot its imagery has been receiving criticism from fans for years.',\n",
       "   'url': 'https://www.cnn.com/travel/article/disneyland-jungle-cruise-ride-trnd/index.html',\n",
       "   'urlToImage': 'https://cdn.cnn.com/cnnnext/dam/assets/210125204532-jungle-cruise-disneyland-super-tease.jpg',\n",
       "   'publishedAt': '2021-01-26T03:17:02Z',\n",
       "   'content': '(CNN) Disney has announced that it is rethinking a classic theme park attraction following years of criticism from fans.\\r\\nThe Jungle Cruise ride, where a wisecracking skipper ferries guests along a w… [+2026 chars]'},\n",
       "  {'source': {'id': 'bloomberg', 'name': 'Bloomberg'},\n",
       "   'author': None,\n",
       "   'title': 'What Leon Black Got for Paying Jeffrey Epstein $158 Million - Bloomberg',\n",
       "   'description': None,\n",
       "   'url': 'https://www.bloomberg.com/tosv2.html?vid=&uuid=47a20000-5fc4-11eb-8a82-4f05d9131dc5&url=L25ld3MvYXJ0aWNsZXMvMjAyMS0wMS0yNi93aGF0LWxlb24tYmxhY2stZ290LWZvci1wYXlpbmctamVmZnJleS1lcHN0ZWluLTE1OC1taWxsaW9u',\n",
       "   'urlToImage': None,\n",
       "   'publishedAt': '2021-01-26T03:11:00Z',\n",
       "   'content': \"To continue, please click the box below to let us know you're not a robot.\"},\n",
       "  {'source': {'id': 'newsweek', 'name': 'Newsweek'},\n",
       "   'author': 'Daniel Villarreal',\n",
       "   'title': 'Joe Biden May Adjust Income Threshold for Third Stimulus Check in $1.9 Tn Relief Proposal - Newsweek',\n",
       "   'description': '\"There is legitimate reason for people to say, \\'Do you have the lines drawn the exact right way? Should it go to anybody making over X number of dollars? I\\'m open to negotiate those things,\\'\" Biden...',\n",
       "   'url': 'https://www.newsweek.com/joe-biden-may-adjust-income-threshold-third-stimulus-check-19-tn-relief-proposal-1564344',\n",
       "   'urlToImage': 'https://d.newsweek.com/en/full/1715989/joe-biden-stimulus-checks-payrments-cut-off-income.jpg',\n",
       "   'publishedAt': '2021-01-26T03:09:52Z',\n",
       "   'content': 'President Joe Biden has expressed willingness to change the income thresholds required for his proposed $1,400 stimulus check so that higher-earning Americans less affected by the economic downturn w… [+2551 chars]'},\n",
       "  {'source': {'id': None, 'name': 'Honolulu Star-Advertiser'},\n",
       "   'author': 'Nina Wu',\n",
       "   'title': 'Hawaii health officials report two cases of new variant of COVID-19 — one on Oahu and one on Maui - Honolulu Star-Advertiser',\n",
       "   'description': 'The state Health Department today confirmed that its Laboratories Division detected two cases of the SARS-CoV-2 variant L452R in Hawaii.',\n",
       "   'url': 'https://www.staradvertiser.com/2021/01/25/breaking-news/health-officials-confirm-denmark-variant-of-covid-19-in-hawaii/',\n",
       "   'urlToImage': 'https://www.staradvertiser.com/wp-content/uploads/2021/01/web1_CTY-covid-kaneohe-6351-300x199.jpg',\n",
       "   'publishedAt': '2021-01-26T03:00:00Z',\n",
       "   'content': 'The state Health Department today confirmed that its Laboratories Division detected two cases of the SARS-CoV-2 variant L452R in Hawaii.\\r\\nOfficials said the coronavirus strain was first detected in D… [+2749 chars]'},\n",
       "  {'source': {'id': None, 'name': 'NPR'},\n",
       "   'author': None,\n",
       "   'title': 'A Coronavirus Variant First Detected In Brazil Has Been Found In Minnesota : Coronavirus Updates - NPR',\n",
       "   'description': 'A Twin Cities resident contracted a new variant of the coronavirus after traveling to Brazil. The new strain is believed to be more transmissible.',\n",
       "   'url': 'https://www.npr.org/sections/coronavirus-live-updates/2021/01/25/960566484/a-more-contagious-coronavirus-variant-from-brazil-is-found-in-minnesota',\n",
       "   'urlToImage': 'https://media.npr.org/assets/img/2021/01/25/gettyimages-1091527814_wide-989cbe4dcefa771a134505abe60872267e358ce7.jpg?s=1400',\n",
       "   'publishedAt': '2021-01-26T02:57:00Z',\n",
       "   'content': 'A new variant of the coronavirus first discovered in Brazil was detected in Minneapolis, Minn. The variant is believed to be more transmissible and could possibly infect those who previously contract… [+1496 chars]'},\n",
       "  {'source': {'id': None, 'name': 'SpaceNews'},\n",
       "   'author': 'Jeff Foust',\n",
       "   'title': 'Bridenstine joins private equity firm - SpaceNews',\n",
       "   'description': 'Less than a week after leaving the agency, former NASA Administrator Jim Bridenstine is joining a private equity firm that invests in aerospace firms.',\n",
       "   'url': 'https://spacenews.com/?p=110438',\n",
       "   'urlToImage': 'https://spacenews.com/wp-content/uploads/2021/01/bridenstine-acorn.jpg',\n",
       "   'publishedAt': '2021-01-26T02:17:25Z',\n",
       "   'content': 'WASHINGTON Less than a week after leaving the agency, former NASA Administrator Jim Bridenstine is joining a private equity firm that invests in the aerospace and defense industries.\\r\\nAcorn Growth Co… [+3311 chars]'},\n",
       "  {'source': {'id': 'the-verge', 'name': 'The Verge'},\n",
       "   'author': 'Mitchell Clark',\n",
       "   'title': 'Facebook users’ phone numbers are for sale through a Telegram bot - The Verge',\n",
       "   'description': '533 million Facebook users had their phone numbers and other data leaked in 2019. Now, someone is selling access to that data using a Telegram bot, and charging $20 per phone number.',\n",
       "   'url': 'https://www.theverge.com/2021/1/25/22249571/facebook-phone-number-hack-telegram-bot',\n",
       "   'urlToImage': 'https://cdn.vox-cdn.com/thumbor/K-OvToBYpeBCJe8zRJcIT88UkVs=/0x146:2040x1214/fit-in/1200x630/cdn.vox-cdn.com/uploads/chorus_asset/file/10626565/acastro_170329_1777_facebook_0001.jpg',\n",
       "   'publishedAt': '2021-01-26T02:06:48Z',\n",
       "   'content': 'Its $20 per number, unless youre buying in bulk\\r\\nIllustration by Alex Castro / The Verge\\r\\nSomeone has gotten their hands on a database full of Facebook users phone numbers, and is now selling that da… [+2307 chars]'}]}"
      ]
     },
     "execution_count": 139,
     "metadata": {},
     "output_type": "execute_result"
    }
   ],
   "source": [
    "response.json()"
   ]
  },
  {
   "cell_type": "markdown",
   "metadata": {},
   "source": [
    "## NewsAPI endpoints playground"
   ]
  },
  {
   "cell_type": "markdown",
   "metadata": {},
   "source": [
    "[NewsAPI endpoints](https://newsapi.org/docs/endpoints)"
   ]
  },
  {
   "cell_type": "markdown",
   "metadata": {},
   "source": [
    "We shall look at each endpoint documentation to see what **parameters** they accept!"
   ]
  },
  {
   "cell_type": "code",
   "execution_count": 141,
   "metadata": {},
   "outputs": [
    {
     "data": {
      "text/plain": [
       "'http://newsapi.org/v2/top-headlines'"
      ]
     },
     "execution_count": 141,
     "metadata": {},
     "output_type": "execute_result"
    }
   ],
   "source": [
    "url"
   ]
  },
  {
   "cell_type": "code",
   "execution_count": 142,
   "metadata": {},
   "outputs": [],
   "source": [
    "url_top_headlines = \"http://newsapi.org/v2/top-headlines\""
   ]
  },
  {
   "cell_type": "code",
   "execution_count": 149,
   "metadata": {},
   "outputs": [],
   "source": [
    "parameters = {\"country\": \"mx\", \"category\": \"science\"}"
   ]
  },
  {
   "cell_type": "code",
   "execution_count": 150,
   "metadata": {},
   "outputs": [],
   "source": [
    "headers = {\"X-Api-Key\": my_key}"
   ]
  },
  {
   "cell_type": "code",
   "execution_count": 151,
   "metadata": {},
   "outputs": [],
   "source": [
    "response = requests.get(\n",
    "    url=url_top_headlines, \n",
    "    params=parameters, \n",
    "    headers=headers\n",
    ")"
   ]
  },
  {
   "cell_type": "code",
   "execution_count": 152,
   "metadata": {},
   "outputs": [
    {
     "data": {
      "text/plain": [
       "200"
      ]
     },
     "execution_count": 152,
     "metadata": {},
     "output_type": "execute_result"
    }
   ],
   "source": [
    "response.status_code"
   ]
  },
  {
   "cell_type": "code",
   "execution_count": 153,
   "metadata": {},
   "outputs": [],
   "source": [
    "data = response.json()"
   ]
  },
  {
   "cell_type": "code",
   "execution_count": 154,
   "metadata": {},
   "outputs": [
    {
     "data": {
      "text/plain": [
       "{'status': 'ok',\n",
       " 'totalResults': 70,\n",
       " 'articles': [{'source': {'id': None, 'name': 'Elconfidencial.com'},\n",
       "   'author': 'Berta Tena',\n",
       "   'title': 'Un fármaco español de Pharmamar elimina casi al 100% la carga viral de SARS-Cov-2 - El Confidencial',\n",
       "   'description': 'Los autores han determinado que \"la actividad antiviral de la plitidepsina contra el SARS-CoV-2 se produce mediante la inhibición de una conocida diana (la eEF1A)\"',\n",
       "   'url': 'https://www.elconfidencial.com/tecnologia/ciencia/2021-01-26/un-farmaco-espanol-de-pharmamar-elimina-casi-al-100-la-carga-viral-de-sars-cov-2_2922627/',\n",
       "   'urlToImage': 'https://www.ecestaticos.com/imagestatic/clipping/6fe/db9/6fedb9663582e641f2521d6df1b785f2.jpg',\n",
       "   'publishedAt': '2021-01-26T09:43:00Z',\n",
       "   'content': 'Un fármaco antiviral (la plitidepsna) producido por la empresa española Pharmamar y probado en laboratorios experimentales de Francia y Estados Unidos ha demostrado una disminución del 99 por ciento … [+3950 chars]'},\n",
       "  {'source': {'id': 'rt', 'name': 'RT'},\n",
       "   'author': 'RT en Español',\n",
       "   'title': 'Plantean la existencia de una nueva categoría de inmensos agujeros negros - RT en Español',\n",
       "   'description': 'La hipótesis prevé masas 100.000 millones de veces mayores que la del Sol.',\n",
       "   'url': 'https://actualidad.rt.com/actualidad/381404-existencia-categoria-agujeros-negros-grandes',\n",
       "   'urlToImage': 'https://cdni.rt.com/actualidad/public_images/2021.01/article/600f82a8e9ff717d1952595c.jpg',\n",
       "   'publishedAt': '2021-01-26T04:15:00Z',\n",
       "   'content': 'Los agujeros negros\\xa0pueden ser incluso más gigantescos de lo que se ha imaginado hasta ahora,\\xa0sugiere\\xa0una investigación\\xa0publicada\\xa0en Monthly Notices of the Royal Astronomical Society. El tamaño de ci… [+1616 chars]'},\n",
       "  {'source': {'id': None, 'name': 'BBC News'},\n",
       "   'author': 'https://www.facebook.com/bbcnews',\n",
       "   'title': 'Qué es la androginia cerebral y qué beneficios podría tener - BBC News Mundo',\n",
       "   'description': 'Según un estudio de imágenes cerebrales publicado en la revista Cerebral Cortex, el 50% de los cerebros se ubicaron en un espectro por el que podían calificarse como \"andróginos\". ¿Qué significa esto para las personas con esta característica?',\n",
       "   'url': 'https://www.bbc.com/mundo/noticias-55803424',\n",
       "   'urlToImage': 'https://ichef.bbci.co.uk/news/1024/branded_mundo/152EE/production/_116666768_brain.jpg',\n",
       "   'publishedAt': '2021-01-26T01:50:33Z',\n",
       "   'content': '<ul><li>Barbara Jacquelyn Sahakian &amp; Christelle Langley &amp; Qiang Luo &amp; Yi Zhang</li><li>The Conversation*</li></ul>\\r\\nFuente de la imagen, Getty Images\\r\\nPie de foto, ¿En qué espectro de and… [+7311 chars]'},\n",
       "  {'source': {'id': None, 'name': 'Sinembargo.mx'},\n",
       "   'author': 'Europa Press',\n",
       "   'title': '“Sabíamos que era diferente” dijeron científicos hace 35 años durante la primera visita a Urano - SinEmbargo',\n",
       "   'description': 'Los científicos determinaron que la atmósfera de Urano es 85 por ciento de hidrógeno y 15 por ciento helio. También hubo pruebas de un océano hirviente a 800 kilómetros por debajo de las nubes.',\n",
       "   'url': 'https://www.sinembargo.mx/25-01-2021/3929459',\n",
       "   'urlToImage': 'https://i0.wp.com/sinembargo.mx/wp-content/uploads/2021/01/se-2501-4.jpg',\n",
       "   'publishedAt': '2021-01-26T00:23:00Z',\n",
       "   'content': 'Urano es considerado como el planeta más frío conocido en el sistema solar, pese a que no es el más alejado del Sol. Además, los científicos hallaron que tiene un campo magnético diferente a cualquie… [+3467 chars]'},\n",
       "  {'source': {'id': None, 'name': 'Am.com.mx'},\n",
       "   'author': 'Periódico AM',\n",
       "   'title': 'Científicos descubren otra forma en que COVID ingresa a los pulmones - Periódico AM',\n",
       "   'description': 'El descubrimiento de otras formas posibles de penetración del Covid-19 ayudará a crear\\xa0combinaciones más efectivas de medicamentos que también funcionarán contra nuevas cepas de coronavirus.',\n",
       "   'url': 'https://www.am.com.mx/coronavirus/Cientificos-descubren-otra-forma-en-que-COVID-ingresa-a-los-pulmones-20210125-0032.html',\n",
       "   'urlToImage': 'https://www.am.com.mx/__export/1611618165336/sites/am/img/2021/01/25/5e69ed45bf68b.jpeg_673822677.jpeg',\n",
       "   'publishedAt': '2021-01-25T23:43:40Z',\n",
       "   'content': '<ul><li>Científicos descubren que la\\xa0AXL puede ser otra \"puerta de entrada\" al Covid-19.\\r\\n</li><li>El estudio fue publicado en\\xa0la revista Cell Research.\\r\\n</li><li>Este descubrimiento\\xa0ayudará a crear\\xa0… [+1797 chars]'},\n",
       "  {'source': {'id': 'rt', 'name': 'RT'},\n",
       "   'author': 'RT en Español',\n",
       "   'title': 'Una científica argentina encabeza la investigación que logra describir cómo ingresa el coronavirus a las... - RT en Español',\n",
       "   'description': 'El descubrimiento podría servir para el desarrollo de nuevos tratamientos contra el covid-19, o la utilización de fármacos preexistentes.',\n",
       "   'url': 'https://actualidad.rt.com/actualidad/381365-cientifica-argentina-encabezar-investigacion-detectar-coronavirus-celulas',\n",
       "   'urlToImage': 'https://cdni.rt.com/actualidad/public_images/2021.01/article/600f041ae9ff717dd0099444.jpg',\n",
       "   'publishedAt': '2021-01-25T23:42:00Z',\n",
       "   'content': 'Un grupo de investigadores liderado por una científica argentina logró identificar ciertos mecanismos de ingreso del nuevo coronavirus a las células, descubrimiento que podría aportar al desarrollo d… [+2616 chars]'},\n",
       "  {'source': {'id': None, 'name': 'Unotv.com'},\n",
       "   'author': None,\n",
       "   'title': '¿Qué hace un biólogo? Este 25 de enero se celebra su día - Uno TV Noticias',\n",
       "   'description': 'Este 25 de enero se celebra el Día del Biólogo, porque en 1961 se creó el Colegio de Biólogos de México por científicos del Instituto Politécnico Nacional.',\n",
       "   'url': 'https://www.unotv.com/nacional/dia-del-biologo-que-hace-y-cual-es-su-trabajo/',\n",
       "   'urlToImage': 'https://www.unotv.com/uploads/2021/01/bio-170717.jpg',\n",
       "   'publishedAt': '2021-01-25T23:38:00Z',\n",
       "   'content': 'La biología estudia la vida en todas sus formas. Foto: Gettyimages / Archivo \\r\\nEste 25 de enero se celebra el Día del Biólogo en México, la festividad se celebra cada año luego de que 1961 se creó el… [+2122 chars]'},\n",
       "  {'source': {'id': 'rt', 'name': 'RT'},\n",
       "   'author': 'RT en Español',\n",
       "   'title': 'Observan un sistema con seis exoplanetas que orbitan su estrella a un ritmo muy preciso - RT en Español',\n",
       "   'description': 'Los investigadores creen que este sistema desafía lo que sabemos sobre la formación y evolución de los sistemas planetarios.',\n",
       "   'url': 'https://actualidad.rt.com/actualidad/381374-observar-sistema-seis-exoplanetas-resonancia',\n",
       "   'urlToImage': 'https://cdni.rt.com/actualidad/public_images/2021.01/article/600f1b1059bf5b5f3034b72a.jpg',\n",
       "   'publishedAt': '2021-01-25T23:02:00Z',\n",
       "   'content': 'Con el uso de diferentes telescopios, un grupo de astrónomos detectó\\xa0una particular armonía en los movimientos orbitales de los planetas que forman el sistema\\xa0TOI-178, ubicado a unos 200 años luz del… [+3708 chars]'},\n",
       "  {'source': {'id': None, 'name': 'Sinembargo.mx'},\n",
       "   'author': 'EFE',\n",
       "   'title': 'Estudio: Los primeros pobladores de América llegaron desde Siberia acompañados con sus propios perros - SinEmbargo',\n",
       "   'description': 'Los asiáticos que poblaron América llevaron sus propios perros, lo que significa que la domesticación probablemente tuvo lugar en Siberia hace al menos 23 mil años.',\n",
       "   'url': 'https://www.sinembargo.mx/25-01-2021/3929414',\n",
       "   'urlToImage': 'https://i0.wp.com/sinembargo.mx/wp-content/uploads/2021/01/se-2501-1.jpg',\n",
       "   'publishedAt': '2021-01-25T23:02:00Z',\n",
       "   'content': 'Los análisis han servido para arrojar a la luz más datos sobre el origen de estos animales; además, destacan que los perros eran domesticados y probablemente desempeñaban distintas funciones en las s… [+4040 chars]'},\n",
       "  {'source': {'id': None, 'name': 'Depor.com'},\n",
       "   'author': 'Redacción Depor',\n",
       "   'title': '¿Qué es lo primero que ves en la ilustración? Tu respuesta sacará a la luz tus secretos más profundos - Diario Depor',\n",
       "   'description': 'Este reto viral basado en un conocido test psicológico causa furor en las redes sociales ya que te permite acceder a información poco conocida sobre la personalidad. ¿Participas?',\n",
       "   'url': 'https://depor.com/off-side/test-cuentanos-que-es-lo-primero-que-ves-en-la-imagen-y-te-diremos-lo-que-ocultas-celosamente-reto-viral-redes-sociales-facebook-estados-unidos-tendencias-nnda-nnrt-noticia/',\n",
       "   'urlToImage': 'https://depor.com/resizer/1vQlYWR4mHYFzGm7KTZLHivboTI=/980x528/smart/filters:format(jpeg):quality(75)/cloudfront-us-east-1.images.arcpublishing.com/elcomercio/STJQ6XFGURBGPC5X4TII7YJGSE.jpg',\n",
       "   'publishedAt': '2021-01-25T23:02:00Z',\n",
       "   'content': 'Las redes sociales no solo sirven para mantenernos en contacto con nuestros seres queridos, sino que también nos permiten encontrar una gran variedad de publicaciones sobre test psicológicos\\r\\n. Habla… [+1674 chars]'},\n",
       "  {'source': {'id': 'infobae', 'name': 'Infobae'},\n",
       "   'author': 'anónimo',\n",
       "   'title': 'Alerta roja en puerto de Barranquilla y en la costa Caribe por fuertes vientos e intenso oleaje - infobae',\n",
       "   'description': 'El Ideam aseguró que se prevén vientos de hasta 30 nudos con posibilidad de rachas mayores y olas que podrían alcanzar los 4.0 metros de altura.',\n",
       "   'url': 'https://www.infobae.com/america/colombia/2021/01/25/alerta-roja-en-puerto-de-barranquilla-y-en-la-costa-caribe-por-fuertes-vientos-e-intenso-oleaje/',\n",
       "   'urlToImage': 'https://www.infobae.com/new-resizer/MFYELnP0MAzVzzbxFfU6Y9_Qdpw=/1200x628/filters:format(jpg):quality(85)//cloudfront-us-east-1.images.arcpublishing.com/infobae/ELSKT2KQGBGA7BD3CXRTJ26ODE.jpg',\n",
       "   'publishedAt': '2021-01-25T20:28:37Z',\n",
       "   'content': 'Canal de acceso al Puerto de Barranquilla. / Colprensa\\r\\nEl pasado viernes 22 de enero, el Instituto de Hidrología, Meteorología y Estudios Ambientales (Ideam) lanzó la alerta roja en la zona comprend… [+4337 chars]'},\n",
       "  {'source': {'id': None, 'name': 'iprofesional.com'},\n",
       "   'author': 'iProfesional',\n",
       "   'title': 'TEST del COLOR AZUL: descubrí un rasgo oculto de tu personalidad - iprofesional.com',\n",
       "   'description': 'Esta prueba psicológica puede ser muy útil para descubrir algo más acerca de vos mismo y sobre todo lo que esconde tu personalidad',\n",
       "   'url': 'https://www.iprofesional.com/recreo/332077-test-del-color-azul-descubri-un-rasgo-oculto-de-tu-personalidad',\n",
       "   'urlToImage': 'https://resizer.iproimg.com/unsafe/460x/assets.iprofesional.com/assets/png/2021/01/510887.png',\n",
       "   'publishedAt': '2021-01-25T19:20:00Z',\n",
       "   'content': 'Este tipo de tests pueden ser muy útiles para descubrir algunas partes que descansan en tu inconsciente. El azul es un color que refleja seguridad, honestidad y pureza. Su presencia en la naturaleza … [+3305 chars]'},\n",
       "  {'source': {'id': 'cnn', 'name': 'CNN'},\n",
       "   'author': None,\n",
       "   'title': 'El helicóptero Ingenuity intentará sobrevolar Marte - CNN',\n",
       "   'description': 'El helicóptero Ingenuity va junto con la nave espacial Perseverance rumbo a Marte en una misión de la NASA. El helicóptero intentará realizar el primer | Tecnología | CNN',\n",
       "   'url': 'https://cnnespanol.cnn.com/video/helicoptero-marte-mision-primer-vuelo-ingenuity-guillermo-arduino-cnne-clix/',\n",
       "   'urlToImage': 'https://cnnespanol.cnn.com/wp-content/uploads/2021/01/200716153644-01-ingenuity-mars-helicopter-full-169.jpg?quality=100&strip=info',\n",
       "   'publishedAt': '2021-01-25T18:01:00Z',\n",
       "   'content': 'El helicóptero Ingenuity va junto con la nave espacial Perseverance rumbo a Marte en una misión de la NASA. El helicóptero intentará realizar el primer vuelo no tripulado sobre este planeta luego de … [+30 chars]'},\n",
       "  {'source': {'id': None, 'name': 'Unotv.com'},\n",
       "   'author': None,\n",
       "   'title': '¿Cuándo y dónde se formará el próximo supercontinente? - Uno TV Noticias',\n",
       "   'description': 'Un nuevo estudio reveló cuándo y dónde podría formarse el próximo supercontinente en la historia del planeta Tierra, tal como ocurrió con la Pangea.',\n",
       "   'url': 'https://www.unotv.com/ciencia-y-tecnologia/cuando-y-donde-se-formara-el-proximo-supercontinente/',\n",
       "   'urlToImage': 'https://www.unotv.com/uploads/2021/01/still-tierra-pixabay-113036.jpg',\n",
       "   'publishedAt': '2021-01-25T17:46:00Z',\n",
       "   'content': 'El próximo supercontinente se llamará Amasia. | Foto: Internet. \\r\\nUn nuevo estudio reveló cuándo y dónde podría formarse el próximo supercontinente en la historia del planeta Tierra, tal como ocurrió… [+1999 chars]'},\n",
       "  {'source': {'id': None, 'name': 'Milenio'},\n",
       "   'author': 'Milenio Digital',\n",
       "   'title': '¡Medían lo que un perrito! Así eran los tiranosaurios al nacer - Milenio',\n",
       "   'description': 'Según un estudio basado en fósiles embrionarios, los tiranosaurios bebé nacían midiendo lo que un perrito.',\n",
       "   'url': 'https://www.milenio.com/ciencia-y-salud/media-tiranosaurio-bebe-ciencia-responde-incognita',\n",
       "   'urlToImage': 'https://www.milenio.com/uploads/media/2021/01/25/esto-median-los-tiranosaurios-recien.jpg',\n",
       "   'publishedAt': '2021-01-25T17:08:41Z',\n",
       "   'content': 'Investigadores de\\xa0la Royal Society, el Consejo de Investigación de Ciencias Naturales e Ingeniería de Canadá y la National Science Foundation\\xa0dieron a conocer que los tiranosaurios bebés, median apen… [+1974 chars]'},\n",
       "  {'source': {'id': None, 'name': 'Xataka.com'},\n",
       "   'author': 'Víctor Millán',\n",
       "   'title': 'Los avances científico-tecnológicos que nos han llevado a que los pronósticos meteorológicos sean tan tan... - Xataka',\n",
       "   'description': 'Hace 54 años, en enero de 1967, un bigote desapareció de la televisión por culpa de una mala predicción meteorológica. Eugenio Martín Rubio, entonces ‘hombre...',\n",
       "   'url': 'https://www.xataka.com/investigacion/avances-cientifico-tecnologicos-que-nos-han-llevado-a-que-pronosticos-meteorologicos-sean-buenos-a-dia-hoy',\n",
       "   'urlToImage': 'https://i.blogs.es/594939/home_chart/840_560.png',\n",
       "   'publishedAt': '2021-01-25T17:00:00Z',\n",
       "   'content': 'Hace 54 años, en enero de 1967, un bigote desapareció de la televisión por culpa de una mala predicción meteorológica. Eugenio Martín Rubio, entonces hombre del tiempo de Televisión Española, se jugó… [+17600 chars]'},\n",
       "  {'source': {'id': None, 'name': 'Sputnik International'},\n",
       "   'author': None,\n",
       "   'title': 'Descubren la razón detrás de la inclinación de Saturno - Sputnik Mundo',\n",
       "   'description': 'Un grupo de científicos ha logrado descubrir la posible razón detrás de la posición de Saturno. Su investigación demostró la influencia de los satélites naturales del...',\n",
       "   'url': 'https://mundo.sputniknews.com/espacio/202101251094221775-descubren-la-razon-detras-de-la-inclinacion-de-saturno/',\n",
       "   'urlToImage': 'https://cdnmundo4.img.sputniknews.com/sharing_snippet/1094221775.png?10922211371611598663',\n",
       "   'publishedAt': '2021-01-25T15:20:00Z',\n",
       "   'content': None},\n",
       "  {'source': {'id': None, 'name': 'Latamisrael.com'},\n",
       "   'author': None,\n",
       "   'title': 'Científicos descifran cómo se comunican los componentes celulares. - LatamIsrael.com',\n",
       "   'description': 'Científicos descifran cómo se comunican los componentes celulares. - LatamIsrael tecnología israelí. Israel en latam',\n",
       "   'url': 'https://latamisrael.com/cientificos-descifran-como-se-comunican-los-componentes-celulares/',\n",
       "   'urlToImage': 'https://i0.wp.com/latamisrael.com/wp-content/uploads/2021/01/componentes-celulares.jpg?fit=760%2C393&ssl=1',\n",
       "   'publishedAt': '2021-01-25T14:42:00Z',\n",
       "   'content': 'Créditos de las imagenes: Technion Press Room.\\r\\nCientíficos de Israel están descifrando cómo se comunican los componentes celulares. Los científicos están descifrando un mecanismo que integra todas l… [+5856 chars]'},\n",
       "  {'source': {'id': None, 'name': 'Informador.mx'},\n",
       "   'author': 'BBC NewsMundo',\n",
       "   'title': 'Los seis números que definen todo el universo - EL INFORMADOR',\n",
       "   'description': 'En este fragmento editado de \"El pequeño libro de cosmología (The Little Book of Cosmology), el profesor de física Lyman Page nos explica cómo nuestro modelo del universo se basa tan solo en seis parámetros',\n",
       "   'url': 'https://www.informador.mx/tecnologia/Los-seis-numeros-que-definen-todo-el-universo-20210125-0027.html',\n",
       "   'urlToImage': 'https://www.informador.mx/__export/1611585713264/sites/elinformador/img/2021/01/25/_116600192_gettyimages-1211293811_1_crop1611585675770.jpg_2024461655.jpg',\n",
       "   'publishedAt': '2021-01-25T14:41:55Z',\n",
       "   'content': 'En este fragmento editado de \"El pequeño libro de cosmología\" (The Little Book of Cosmology, publicado por Princeton University Press y reproducido aquí con permiso de la editorial), el profesor de f… [+8268 chars]'},\n",
       "  {'source': {'id': None, 'name': 'Milenio'},\n",
       "   'author': 'AFP',\n",
       "   'title': 'Moderna dice que su vacuna contra covid-19 protege de cepas de Reino Unido y Sudáfrica - Milenio',\n",
       "   'description': 'La empresa informó que su dosis brinda seguridad ante las variantes detectadas en Reino Unido y Sudáfrica.',\n",
       "   'url': 'https://www.milenio.com/internacional/moderna-afirma-vacuna-covid-19-protege-cepas',\n",
       "   'urlToImage': 'https://www.milenio.com/uploads/media/2021/01/13/vacuna-contra-covid-de-moderna-1.jpg',\n",
       "   'publishedAt': '2021-01-25T14:33:08Z',\n",
       "   'content': 'La compañía de biotecnología Moderna informó hoy que estudios de laboratorio han demostrado que su vacuna contra el coronavirus brinda protección frente a las variantes del covid-19 identificadas en … [+910 chars]'}]}"
      ]
     },
     "execution_count": 154,
     "metadata": {},
     "output_type": "execute_result"
    }
   ],
   "source": [
    "data"
   ]
  },
  {
   "cell_type": "code",
   "execution_count": 160,
   "metadata": {},
   "outputs": [
    {
     "data": {
      "text/plain": [
       "70"
      ]
     },
     "execution_count": 160,
     "metadata": {},
     "output_type": "execute_result"
    }
   ],
   "source": [
    "data[\"totalResults\"]"
   ]
  },
  {
   "cell_type": "code",
   "execution_count": 162,
   "metadata": {},
   "outputs": [
    {
     "data": {
      "text/plain": [
       "70"
      ]
     },
     "execution_count": 162,
     "metadata": {},
     "output_type": "execute_result"
    }
   ],
   "source": [
    "# equiv\n",
    "data.get(\"totalResults\")"
   ]
  },
  {
   "cell_type": "code",
   "execution_count": 161,
   "metadata": {},
   "outputs": [
    {
     "ename": "KeyError",
     "evalue": "'name'",
     "output_type": "error",
     "traceback": [
      "\u001b[0;31m---------------------------------------------------------------------------\u001b[0m",
      "\u001b[0;31mKeyError\u001b[0m                                  Traceback (most recent call last)",
      "\u001b[0;32m<ipython-input-161-2376e81b83fd>\u001b[0m in \u001b[0;36m<module>\u001b[0;34m\u001b[0m\n\u001b[0;32m----> 1\u001b[0;31m \u001b[0mdata\u001b[0m\u001b[0;34m[\u001b[0m\u001b[0;34m\"name\"\u001b[0m\u001b[0;34m]\u001b[0m\u001b[0;34m\u001b[0m\u001b[0;34m\u001b[0m\u001b[0m\n\u001b[0m",
      "\u001b[0;31mKeyError\u001b[0m: 'name'"
     ]
    }
   ],
   "source": [
    "data[\"name\"]"
   ]
  },
  {
   "cell_type": "code",
   "execution_count": null,
   "metadata": {},
   "outputs": [],
   "source": [
    "data.get(\"name\")"
   ]
  },
  {
   "cell_type": "markdown",
   "metadata": {},
   "source": [
    "`dict[key]` raises error if key does not exits  \n",
    "`dict.get(key)` doesnt raise error if key does not exist"
   ]
  },
  {
   "cell_type": "code",
   "execution_count": 166,
   "metadata": {},
   "outputs": [
    {
     "name": "stdout",
     "output_type": "stream",
     "text": [
      "no existe la key\n"
     ]
    }
   ],
   "source": [
    "# example usage\n",
    "if data.get(\"name\") is not None:\n",
    "    print(\"bien\")\n",
    "else:\n",
    "    print(\"no existe la key\")"
   ]
  },
  {
   "cell_type": "code",
   "execution_count": 155,
   "metadata": {},
   "outputs": [
    {
     "data": {
      "text/plain": [
       "dict"
      ]
     },
     "execution_count": 155,
     "metadata": {},
     "output_type": "execute_result"
    }
   ],
   "source": [
    "type(data)"
   ]
  },
  {
   "cell_type": "code",
   "execution_count": 156,
   "metadata": {},
   "outputs": [
    {
     "data": {
      "text/plain": [
       "dict_keys(['status', 'totalResults', 'articles'])"
      ]
     },
     "execution_count": 156,
     "metadata": {},
     "output_type": "execute_result"
    }
   ],
   "source": [
    "data.keys()"
   ]
  },
  {
   "cell_type": "code",
   "execution_count": 157,
   "metadata": {},
   "outputs": [
    {
     "data": {
      "text/plain": [
       "'ok'"
      ]
     },
     "execution_count": 157,
     "metadata": {},
     "output_type": "execute_result"
    }
   ],
   "source": [
    "data.get(\"status\")"
   ]
  },
  {
   "cell_type": "code",
   "execution_count": null,
   "metadata": {},
   "outputs": [],
   "source": [
    "data.get(\"totalResults\")"
   ]
  },
  {
   "cell_type": "code",
   "execution_count": 167,
   "metadata": {},
   "outputs": [],
   "source": [
    "articles = data.get(\"articles\")"
   ]
  },
  {
   "cell_type": "code",
   "execution_count": 168,
   "metadata": {},
   "outputs": [
    {
     "data": {
      "text/plain": [
       "list"
      ]
     },
     "execution_count": 168,
     "metadata": {},
     "output_type": "execute_result"
    }
   ],
   "source": [
    "type(articles)"
   ]
  },
  {
   "cell_type": "code",
   "execution_count": 169,
   "metadata": {},
   "outputs": [
    {
     "data": {
      "text/plain": [
       "20"
      ]
     },
     "execution_count": 169,
     "metadata": {},
     "output_type": "execute_result"
    }
   ],
   "source": [
    "len(articles)"
   ]
  },
  {
   "cell_type": "code",
   "execution_count": 175,
   "metadata": {},
   "outputs": [
    {
     "data": {
      "text/plain": [
       "{'source': {'id': None, 'name': 'BBC News'},\n",
       " 'author': 'https://www.facebook.com/bbcnews',\n",
       " 'title': 'Qué es la androginia cerebral y qué beneficios podría tener - BBC News Mundo',\n",
       " 'description': 'Según un estudio de imágenes cerebrales publicado en la revista Cerebral Cortex, el 50% de los cerebros se ubicaron en un espectro por el que podían calificarse como \"andróginos\". ¿Qué significa esto para las personas con esta característica?',\n",
       " 'url': 'https://www.bbc.com/mundo/noticias-55803424',\n",
       " 'urlToImage': 'https://ichef.bbci.co.uk/news/1024/branded_mundo/152EE/production/_116666768_brain.jpg',\n",
       " 'publishedAt': '2021-01-26T01:50:33Z',\n",
       " 'content': '<ul><li>Barbara Jacquelyn Sahakian &amp; Christelle Langley &amp; Qiang Luo &amp; Yi Zhang</li><li>The Conversation*</li></ul>\\r\\nFuente de la imagen, Getty Images\\r\\nPie de foto, ¿En qué espectro de and… [+7311 chars]'}"
      ]
     },
     "execution_count": 175,
     "metadata": {},
     "output_type": "execute_result"
    }
   ],
   "source": [
    "articles[2]"
   ]
  },
  {
   "cell_type": "code",
   "execution_count": 176,
   "metadata": {},
   "outputs": [],
   "source": [
    "df = pd.DataFrame(articles)"
   ]
  },
  {
   "cell_type": "code",
   "execution_count": 172,
   "metadata": {
    "scrolled": true
   },
   "outputs": [
    {
     "data": {
      "text/html": [
       "<div>\n",
       "<style scoped>\n",
       "    .dataframe tbody tr th:only-of-type {\n",
       "        vertical-align: middle;\n",
       "    }\n",
       "\n",
       "    .dataframe tbody tr th {\n",
       "        vertical-align: top;\n",
       "    }\n",
       "\n",
       "    .dataframe thead th {\n",
       "        text-align: right;\n",
       "    }\n",
       "</style>\n",
       "<table border=\"1\" class=\"dataframe\">\n",
       "  <thead>\n",
       "    <tr style=\"text-align: right;\">\n",
       "      <th></th>\n",
       "      <th>source</th>\n",
       "      <th>author</th>\n",
       "      <th>title</th>\n",
       "      <th>description</th>\n",
       "      <th>url</th>\n",
       "      <th>urlToImage</th>\n",
       "      <th>publishedAt</th>\n",
       "      <th>content</th>\n",
       "    </tr>\n",
       "  </thead>\n",
       "  <tbody>\n",
       "    <tr>\n",
       "      <th>0</th>\n",
       "      <td>{'id': None, 'name': 'Elconfidencial.com'}</td>\n",
       "      <td>Berta Tena</td>\n",
       "      <td>Un fármaco español de Pharmamar elimina casi a...</td>\n",
       "      <td>Los autores han determinado que \"la actividad ...</td>\n",
       "      <td>https://www.elconfidencial.com/tecnologia/cien...</td>\n",
       "      <td>https://www.ecestaticos.com/imagestatic/clippi...</td>\n",
       "      <td>2021-01-26T09:43:00Z</td>\n",
       "      <td>Un fármaco antiviral (la plitidepsna) producid...</td>\n",
       "    </tr>\n",
       "    <tr>\n",
       "      <th>1</th>\n",
       "      <td>{'id': 'rt', 'name': 'RT'}</td>\n",
       "      <td>RT en Español</td>\n",
       "      <td>Plantean la existencia de una nueva categoría ...</td>\n",
       "      <td>La hipótesis prevé masas 100.000 millones de v...</td>\n",
       "      <td>https://actualidad.rt.com/actualidad/381404-ex...</td>\n",
       "      <td>https://cdni.rt.com/actualidad/public_images/2...</td>\n",
       "      <td>2021-01-26T04:15:00Z</td>\n",
       "      <td>Los agujeros negros pueden ser incluso más gig...</td>\n",
       "    </tr>\n",
       "    <tr>\n",
       "      <th>2</th>\n",
       "      <td>{'id': None, 'name': 'BBC News'}</td>\n",
       "      <td>https://www.facebook.com/bbcnews</td>\n",
       "      <td>Qué es la androginia cerebral y qué beneficios...</td>\n",
       "      <td>Según un estudio de imágenes cerebrales public...</td>\n",
       "      <td>https://www.bbc.com/mundo/noticias-55803424</td>\n",
       "      <td>https://ichef.bbci.co.uk/news/1024/branded_mun...</td>\n",
       "      <td>2021-01-26T01:50:33Z</td>\n",
       "      <td>&lt;ul&gt;&lt;li&gt;Barbara Jacquelyn Sahakian &amp;amp; Chris...</td>\n",
       "    </tr>\n",
       "    <tr>\n",
       "      <th>3</th>\n",
       "      <td>{'id': None, 'name': 'Sinembargo.mx'}</td>\n",
       "      <td>Europa Press</td>\n",
       "      <td>“Sabíamos que era diferente” dijeron científic...</td>\n",
       "      <td>Los científicos determinaron que la atmósfera ...</td>\n",
       "      <td>https://www.sinembargo.mx/25-01-2021/3929459</td>\n",
       "      <td>https://i0.wp.com/sinembargo.mx/wp-content/upl...</td>\n",
       "      <td>2021-01-26T00:23:00Z</td>\n",
       "      <td>Urano es considerado como el planeta más frío ...</td>\n",
       "    </tr>\n",
       "    <tr>\n",
       "      <th>4</th>\n",
       "      <td>{'id': None, 'name': 'Am.com.mx'}</td>\n",
       "      <td>Periódico AM</td>\n",
       "      <td>Científicos descubren otra forma en que COVID ...</td>\n",
       "      <td>El descubrimiento de otras formas posibles de ...</td>\n",
       "      <td>https://www.am.com.mx/coronavirus/Cientificos-...</td>\n",
       "      <td>https://www.am.com.mx/__export/1611618165336/s...</td>\n",
       "      <td>2021-01-25T23:43:40Z</td>\n",
       "      <td>&lt;ul&gt;&lt;li&gt;Científicos descubren que la AXL puede...</td>\n",
       "    </tr>\n",
       "  </tbody>\n",
       "</table>\n",
       "</div>"
      ],
      "text/plain": [
       "                                       source  \\\n",
       "0  {'id': None, 'name': 'Elconfidencial.com'}   \n",
       "1                  {'id': 'rt', 'name': 'RT'}   \n",
       "2            {'id': None, 'name': 'BBC News'}   \n",
       "3       {'id': None, 'name': 'Sinembargo.mx'}   \n",
       "4           {'id': None, 'name': 'Am.com.mx'}   \n",
       "\n",
       "                             author  \\\n",
       "0                        Berta Tena   \n",
       "1                     RT en Español   \n",
       "2  https://www.facebook.com/bbcnews   \n",
       "3                      Europa Press   \n",
       "4                      Periódico AM   \n",
       "\n",
       "                                               title  \\\n",
       "0  Un fármaco español de Pharmamar elimina casi a...   \n",
       "1  Plantean la existencia de una nueva categoría ...   \n",
       "2  Qué es la androginia cerebral y qué beneficios...   \n",
       "3  “Sabíamos que era diferente” dijeron científic...   \n",
       "4  Científicos descubren otra forma en que COVID ...   \n",
       "\n",
       "                                         description  \\\n",
       "0  Los autores han determinado que \"la actividad ...   \n",
       "1  La hipótesis prevé masas 100.000 millones de v...   \n",
       "2  Según un estudio de imágenes cerebrales public...   \n",
       "3  Los científicos determinaron que la atmósfera ...   \n",
       "4  El descubrimiento de otras formas posibles de ...   \n",
       "\n",
       "                                                 url  \\\n",
       "0  https://www.elconfidencial.com/tecnologia/cien...   \n",
       "1  https://actualidad.rt.com/actualidad/381404-ex...   \n",
       "2        https://www.bbc.com/mundo/noticias-55803424   \n",
       "3       https://www.sinembargo.mx/25-01-2021/3929459   \n",
       "4  https://www.am.com.mx/coronavirus/Cientificos-...   \n",
       "\n",
       "                                          urlToImage           publishedAt  \\\n",
       "0  https://www.ecestaticos.com/imagestatic/clippi...  2021-01-26T09:43:00Z   \n",
       "1  https://cdni.rt.com/actualidad/public_images/2...  2021-01-26T04:15:00Z   \n",
       "2  https://ichef.bbci.co.uk/news/1024/branded_mun...  2021-01-26T01:50:33Z   \n",
       "3  https://i0.wp.com/sinembargo.mx/wp-content/upl...  2021-01-26T00:23:00Z   \n",
       "4  https://www.am.com.mx/__export/1611618165336/s...  2021-01-25T23:43:40Z   \n",
       "\n",
       "                                             content  \n",
       "0  Un fármaco antiviral (la plitidepsna) producid...  \n",
       "1  Los agujeros negros pueden ser incluso más gig...  \n",
       "2  <ul><li>Barbara Jacquelyn Sahakian &amp; Chris...  \n",
       "3  Urano es considerado como el planeta más frío ...  \n",
       "4  <ul><li>Científicos descubren que la AXL puede...  "
      ]
     },
     "execution_count": 172,
     "metadata": {},
     "output_type": "execute_result"
    }
   ],
   "source": [
    "df.head()"
   ]
  },
  {
   "cell_type": "code",
   "execution_count": 180,
   "metadata": {},
   "outputs": [
    {
     "data": {
      "text/plain": [
       "{'id': None, 'name': 'Elconfidencial.com'}"
      ]
     },
     "execution_count": 180,
     "metadata": {},
     "output_type": "execute_result"
    }
   ],
   "source": [
    "df.source.iloc[0]"
   ]
  },
  {
   "cell_type": "code",
   "execution_count": 181,
   "metadata": {},
   "outputs": [
    {
     "data": {
      "text/plain": [
       "dict"
      ]
     },
     "execution_count": 181,
     "metadata": {},
     "output_type": "execute_result"
    }
   ],
   "source": [
    "type(df.source.iloc[0])"
   ]
  },
  {
   "cell_type": "code",
   "execution_count": 182,
   "metadata": {},
   "outputs": [
    {
     "data": {
      "text/plain": [
       "'Elconfidencial.com'"
      ]
     },
     "execution_count": 182,
     "metadata": {},
     "output_type": "execute_result"
    }
   ],
   "source": [
    "df.source.iloc[0].get(\"name\")"
   ]
  },
  {
   "cell_type": "code",
   "execution_count": 183,
   "metadata": {},
   "outputs": [],
   "source": [
    "def extrae_nombre(dictionary):\n",
    "    # devuelve el value de la key name del dict\n",
    "    return dictionary.get(\"name\")"
   ]
  },
  {
   "cell_type": "code",
   "execution_count": 184,
   "metadata": {},
   "outputs": [
    {
     "data": {
      "text/plain": [
       "'Elconfidencial.com'"
      ]
     },
     "execution_count": 184,
     "metadata": {},
     "output_type": "execute_result"
    }
   ],
   "source": [
    "extrae_nombre({'id': None, 'name': 'Elconfidencial.com'})"
   ]
  },
  {
   "cell_type": "code",
   "execution_count": 185,
   "metadata": {},
   "outputs": [
    {
     "data": {
      "text/plain": [
       "'Elconfidencial.com'"
      ]
     },
     "execution_count": 185,
     "metadata": {},
     "output_type": "execute_result"
    }
   ],
   "source": [
    "extrae_nombre(df.source.iloc[0])"
   ]
  },
  {
   "cell_type": "code",
   "execution_count": 187,
   "metadata": {},
   "outputs": [],
   "source": [
    "df[\"name\"] = df.source.apply(extrae_nombre)"
   ]
  },
  {
   "cell_type": "code",
   "execution_count": 187,
   "metadata": {},
   "outputs": [],
   "source": [
    "# equiv \n",
    "df[\"name\"] = df.source.apply(lambda d: d.get(\"name\"))"
   ]
  },
  {
   "cell_type": "code",
   "execution_count": 188,
   "metadata": {},
   "outputs": [
    {
     "data": {
      "text/html": [
       "<div>\n",
       "<style scoped>\n",
       "    .dataframe tbody tr th:only-of-type {\n",
       "        vertical-align: middle;\n",
       "    }\n",
       "\n",
       "    .dataframe tbody tr th {\n",
       "        vertical-align: top;\n",
       "    }\n",
       "\n",
       "    .dataframe thead th {\n",
       "        text-align: right;\n",
       "    }\n",
       "</style>\n",
       "<table border=\"1\" class=\"dataframe\">\n",
       "  <thead>\n",
       "    <tr style=\"text-align: right;\">\n",
       "      <th></th>\n",
       "      <th>source</th>\n",
       "      <th>author</th>\n",
       "      <th>title</th>\n",
       "      <th>description</th>\n",
       "      <th>url</th>\n",
       "      <th>urlToImage</th>\n",
       "      <th>publishedAt</th>\n",
       "      <th>content</th>\n",
       "      <th>name</th>\n",
       "    </tr>\n",
       "  </thead>\n",
       "  <tbody>\n",
       "    <tr>\n",
       "      <th>0</th>\n",
       "      <td>{'id': None, 'name': 'Elconfidencial.com'}</td>\n",
       "      <td>Berta Tena</td>\n",
       "      <td>Un fármaco español de Pharmamar elimina casi a...</td>\n",
       "      <td>Los autores han determinado que \"la actividad ...</td>\n",
       "      <td>https://www.elconfidencial.com/tecnologia/cien...</td>\n",
       "      <td>https://www.ecestaticos.com/imagestatic/clippi...</td>\n",
       "      <td>2021-01-26T09:43:00Z</td>\n",
       "      <td>Un fármaco antiviral (la plitidepsna) producid...</td>\n",
       "      <td>Elconfidencial.com</td>\n",
       "    </tr>\n",
       "    <tr>\n",
       "      <th>1</th>\n",
       "      <td>{'id': 'rt', 'name': 'RT'}</td>\n",
       "      <td>RT en Español</td>\n",
       "      <td>Plantean la existencia de una nueva categoría ...</td>\n",
       "      <td>La hipótesis prevé masas 100.000 millones de v...</td>\n",
       "      <td>https://actualidad.rt.com/actualidad/381404-ex...</td>\n",
       "      <td>https://cdni.rt.com/actualidad/public_images/2...</td>\n",
       "      <td>2021-01-26T04:15:00Z</td>\n",
       "      <td>Los agujeros negros pueden ser incluso más gig...</td>\n",
       "      <td>RT</td>\n",
       "    </tr>\n",
       "    <tr>\n",
       "      <th>2</th>\n",
       "      <td>{'id': None, 'name': 'BBC News'}</td>\n",
       "      <td>https://www.facebook.com/bbcnews</td>\n",
       "      <td>Qué es la androginia cerebral y qué beneficios...</td>\n",
       "      <td>Según un estudio de imágenes cerebrales public...</td>\n",
       "      <td>https://www.bbc.com/mundo/noticias-55803424</td>\n",
       "      <td>https://ichef.bbci.co.uk/news/1024/branded_mun...</td>\n",
       "      <td>2021-01-26T01:50:33Z</td>\n",
       "      <td>&lt;ul&gt;&lt;li&gt;Barbara Jacquelyn Sahakian &amp;amp; Chris...</td>\n",
       "      <td>BBC News</td>\n",
       "    </tr>\n",
       "    <tr>\n",
       "      <th>3</th>\n",
       "      <td>{'id': None, 'name': 'Sinembargo.mx'}</td>\n",
       "      <td>Europa Press</td>\n",
       "      <td>“Sabíamos que era diferente” dijeron científic...</td>\n",
       "      <td>Los científicos determinaron que la atmósfera ...</td>\n",
       "      <td>https://www.sinembargo.mx/25-01-2021/3929459</td>\n",
       "      <td>https://i0.wp.com/sinembargo.mx/wp-content/upl...</td>\n",
       "      <td>2021-01-26T00:23:00Z</td>\n",
       "      <td>Urano es considerado como el planeta más frío ...</td>\n",
       "      <td>Sinembargo.mx</td>\n",
       "    </tr>\n",
       "    <tr>\n",
       "      <th>4</th>\n",
       "      <td>{'id': None, 'name': 'Am.com.mx'}</td>\n",
       "      <td>Periódico AM</td>\n",
       "      <td>Científicos descubren otra forma en que COVID ...</td>\n",
       "      <td>El descubrimiento de otras formas posibles de ...</td>\n",
       "      <td>https://www.am.com.mx/coronavirus/Cientificos-...</td>\n",
       "      <td>https://www.am.com.mx/__export/1611618165336/s...</td>\n",
       "      <td>2021-01-25T23:43:40Z</td>\n",
       "      <td>&lt;ul&gt;&lt;li&gt;Científicos descubren que la AXL puede...</td>\n",
       "      <td>Am.com.mx</td>\n",
       "    </tr>\n",
       "  </tbody>\n",
       "</table>\n",
       "</div>"
      ],
      "text/plain": [
       "                                       source  \\\n",
       "0  {'id': None, 'name': 'Elconfidencial.com'}   \n",
       "1                  {'id': 'rt', 'name': 'RT'}   \n",
       "2            {'id': None, 'name': 'BBC News'}   \n",
       "3       {'id': None, 'name': 'Sinembargo.mx'}   \n",
       "4           {'id': None, 'name': 'Am.com.mx'}   \n",
       "\n",
       "                             author  \\\n",
       "0                        Berta Tena   \n",
       "1                     RT en Español   \n",
       "2  https://www.facebook.com/bbcnews   \n",
       "3                      Europa Press   \n",
       "4                      Periódico AM   \n",
       "\n",
       "                                               title  \\\n",
       "0  Un fármaco español de Pharmamar elimina casi a...   \n",
       "1  Plantean la existencia de una nueva categoría ...   \n",
       "2  Qué es la androginia cerebral y qué beneficios...   \n",
       "3  “Sabíamos que era diferente” dijeron científic...   \n",
       "4  Científicos descubren otra forma en que COVID ...   \n",
       "\n",
       "                                         description  \\\n",
       "0  Los autores han determinado que \"la actividad ...   \n",
       "1  La hipótesis prevé masas 100.000 millones de v...   \n",
       "2  Según un estudio de imágenes cerebrales public...   \n",
       "3  Los científicos determinaron que la atmósfera ...   \n",
       "4  El descubrimiento de otras formas posibles de ...   \n",
       "\n",
       "                                                 url  \\\n",
       "0  https://www.elconfidencial.com/tecnologia/cien...   \n",
       "1  https://actualidad.rt.com/actualidad/381404-ex...   \n",
       "2        https://www.bbc.com/mundo/noticias-55803424   \n",
       "3       https://www.sinembargo.mx/25-01-2021/3929459   \n",
       "4  https://www.am.com.mx/coronavirus/Cientificos-...   \n",
       "\n",
       "                                          urlToImage           publishedAt  \\\n",
       "0  https://www.ecestaticos.com/imagestatic/clippi...  2021-01-26T09:43:00Z   \n",
       "1  https://cdni.rt.com/actualidad/public_images/2...  2021-01-26T04:15:00Z   \n",
       "2  https://ichef.bbci.co.uk/news/1024/branded_mun...  2021-01-26T01:50:33Z   \n",
       "3  https://i0.wp.com/sinembargo.mx/wp-content/upl...  2021-01-26T00:23:00Z   \n",
       "4  https://www.am.com.mx/__export/1611618165336/s...  2021-01-25T23:43:40Z   \n",
       "\n",
       "                                             content                name  \n",
       "0  Un fármaco antiviral (la plitidepsna) producid...  Elconfidencial.com  \n",
       "1  Los agujeros negros pueden ser incluso más gig...                  RT  \n",
       "2  <ul><li>Barbara Jacquelyn Sahakian &amp; Chris...            BBC News  \n",
       "3  Urano es considerado como el planeta más frío ...       Sinembargo.mx  \n",
       "4  <ul><li>Científicos descubren que la AXL puede...           Am.com.mx  "
      ]
     },
     "execution_count": 188,
     "metadata": {},
     "output_type": "execute_result"
    }
   ],
   "source": [
    "df.head()"
   ]
  },
  {
   "cell_type": "code",
   "execution_count": 189,
   "metadata": {},
   "outputs": [
    {
     "data": {
      "text/plain": [
       "RT                       3\n",
       "Sinembargo.mx            2\n",
       "Unotv.com                2\n",
       "Milenio                  2\n",
       "Depor.com                1\n",
       "Informador.mx            1\n",
       "Sputnik International    1\n",
       "BBC News                 1\n",
       "Elconfidencial.com       1\n",
       "Infobae                  1\n",
       "Latamisrael.com          1\n",
       "Xataka.com               1\n",
       "Am.com.mx                1\n",
       "iprofesional.com         1\n",
       "CNN                      1\n",
       "Name: name, dtype: int64"
      ]
     },
     "execution_count": 189,
     "metadata": {},
     "output_type": "execute_result"
    }
   ],
   "source": [
    "df.name.value_counts()"
   ]
  },
  {
   "cell_type": "code",
   "execution_count": 177,
   "metadata": {},
   "outputs": [
    {
     "data": {
      "text/plain": [
       "RT en Español                       3\n",
       "Periódico AM                        1\n",
       "anónimo                             1\n",
       "Redacción Depor                     1\n",
       "https://www.facebook.com/bbcnews    1\n",
       "BBC NewsMundo                       1\n",
       "Víctor Millán                       1\n",
       "Berta Tena                          1\n",
       "Milenio Digital                     1\n",
       "AFP                                 1\n",
       "iProfesional                        1\n",
       "EFE                                 1\n",
       "Europa Press                        1\n",
       "Name: author, dtype: int64"
      ]
     },
     "execution_count": 177,
     "metadata": {},
     "output_type": "execute_result"
    }
   ],
   "source": [
    "df.author.value_counts()"
   ]
  },
  {
   "cell_type": "markdown",
   "metadata": {},
   "source": [
    "## Summary"
   ]
  },
  {
   "cell_type": "markdown",
   "metadata": {},
   "source": [
    "* DNS: domain name system.\n",
    "* HTTP: is the protocol used to transfer data over the web.\n",
    "* API: application programming interface.\n",
    "* REST: series of rules, architectural style."
   ]
  },
  {
   "cell_type": "markdown",
   "metadata": {},
   "source": [
    "* `requests`: Python library for interacting with APIs.\n",
    "* URL: server name you want to ask information for.\n",
    "* endpoint: server service you want to ask information for.\n",
    "* parameters: extra parameters to your query.\n",
    "* headers: metadata, invisible information."
   ]
  },
  {
   "cell_type": "markdown",
   "metadata": {},
   "source": [
    "## Further materials"
   ]
  },
  {
   "cell_type": "markdown",
   "metadata": {},
   "source": [
    "[5 Simple-To-Use APIs for Beginners](https://dev.to/alanconstantino/5-simple-to-use-apis-for-beginners-2e0n)"
   ]
  },
  {
   "cell_type": "markdown",
   "metadata": {},
   "source": [
    "[RapidAPI](https://rapidapi.com/category/Sports): access thousands of APIs!!"
   ]
  }
 ],
 "metadata": {
  "kernelspec": {
   "display_name": "Python 3",
   "language": "python",
   "name": "python3"
  },
  "language_info": {
   "codemirror_mode": {
    "name": "ipython",
    "version": 3
   },
   "file_extension": ".py",
   "mimetype": "text/x-python",
   "name": "python",
   "nbconvert_exporter": "python",
   "pygments_lexer": "ipython3",
   "version": "3.8.5"
  },
  "toc": {
   "base_numbering": 1,
   "nav_menu": {},
   "number_sections": true,
   "sideBar": true,
   "skip_h1_title": true,
   "title_cell": "Table of Contents",
   "title_sidebar": "Contents",
   "toc_cell": true,
   "toc_position": {
    "height": "calc(100% - 180px)",
    "left": "10px",
    "top": "150px",
    "width": "336.903px"
   },
   "toc_section_display": true,
   "toc_window_display": true
  },
  "varInspector": {
   "cols": {
    "lenName": 16,
    "lenType": 16,
    "lenVar": 40
   },
   "kernels_config": {
    "python": {
     "delete_cmd_postfix": "",
     "delete_cmd_prefix": "del ",
     "library": "var_list.py",
     "varRefreshCmd": "print(var_dic_list())"
    },
    "r": {
     "delete_cmd_postfix": ") ",
     "delete_cmd_prefix": "rm(",
     "library": "var_list.r",
     "varRefreshCmd": "cat(var_dic_list()) "
    }
   },
   "types_to_exclude": [
    "module",
    "function",
    "builtin_function_or_method",
    "instance",
    "_Feature"
   ],
   "window_display": false
  }
 },
 "nbformat": 4,
 "nbformat_minor": 4
}
